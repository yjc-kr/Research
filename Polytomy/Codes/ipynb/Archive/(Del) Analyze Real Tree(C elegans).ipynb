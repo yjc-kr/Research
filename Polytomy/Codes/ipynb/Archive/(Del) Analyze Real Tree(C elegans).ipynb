{
 "cells": [
  {
   "cell_type": "markdown",
   "id": "5c054a1d",
   "metadata": {},
   "source": [
    "# Related Papers in Jiwon Oh\n",
    "\n",
    "논문에서 데이터 제시하고 있는지, 참고할 논문 있는지 적어두기"
   ]
  },
  {
   "cell_type": "markdown",
   "id": "5ec1360f",
   "metadata": {},
   "source": [
    "## Keywords\n",
    "- Zygotic composition\n",
    "- Embryonic lineage tracing\n",
    "- Cell lineage tracing\n",
    "- Embryogenesis\n",
    "- Asymmetry"
   ]
  },
  {
   "cell_type": "markdown",
   "id": "89a70bf1",
   "metadata": {},
   "source": [
    "## Papers (By Jiwon Oh)\n",
    "- (2025) The somatic mosaicism across human tissue network\n",
    "- (2024) Whole-genome sequences reveal zygotic composition in chimeric twins\n",
    "- (2024) Mitochondrial DNA mosaicism in normal human somatic cells\n",
    "- (2023) Grave-to-cradle: human embryonic lineage tracing from the postmortem body\n",
    "- (2022) Porcine single cell culture methodology for cell lineage tracing by somatic mutation to understand early pig embryogenesis\n",
    "- (2021) Bayesian log-normal deconvolution for enhanced in silico microdissection of bulk gene expression data\n",
    "- (2021) Clonal dynamics in early human embryogenesis inferred from somatic mutation\n",
    "- (2021) Cellular lineage tracing by somatic variations for understanding human early embryogenesis"
   ]
  },
  {
   "cell_type": "markdown",
   "id": "270c52f6",
   "metadata": {},
   "source": [
    "## Papers (By Year, Descending)\n",
    "- (2024) Proteome asymmetry in mouse and human embryos before fate specification\n",
    "- (2024) The first two blastomeres contribute unequally to the human embryo\n",
    "- (2023) Cross-species comparison of mouse and human preimplantation development with an emphasis on lineage specification\n",
    "- (2022) Asymmetric Contribution of Blastomere Lineages of First Division of the Zygote to Entire Human Body Using Post-Zygotic Variants\n",
    "- (2022) Lineage tracing in human tissues\n",
    "- (2022) Single-cell analysis of embryoids reveals lineage diversification roadmaps of early human development\n",
    "- (2021) Early developmental asymmetries in cell lineage trees in living individuals\n",
    "- (2021) Lineage tracing of human development through somatic mutations\n",
    "- (2020) Lineage tracing meets single-cell omics: opportunities and challenges\n",
    "- (2020) Cell Lineage Tracing and Cellular Diversity in Humans\n",
    "- (2020) Comparative analysis of cell lineage differentiation during hepatogenesis in humans and mice at the single-cell transcriptome level\n",
    "- (2019) Tracing the first hematopoietic stem cell generation in human embryo by single-cell RNA sequencing\n",
    "- (2019) DNA barcodes evolve for high-resolution cell lineage tracing\n",
    "- (2019) Molecular recording of mammalian embryogenesis\n",
    "- (2018) Genetic Control of Early Cell Lineages in the Mammalian Embryo\n",
    "- (2018) Tracing the origin of heterogeneity and symmetry breaking in the early mammalian embryo\n",
    "- (2016) Single-Cell Lineage Tracing Reveals that Oriented Cell Division Contributes to Trabecular Morphogenesis and Regional Specification\n",
    "- (2016) Chapter Ten - Concepts of Cell Lineage in Mammalian Embryos\n",
    "- (2016) Cell chirality: its origin and roles in left–right asymmetric development\n",
    "- (2013) Unravelling stem cell dynamics by lineage tracing\n",
    "- (2011) Lineage Tracing Evidence for Transdifferentiation of Acinar to Duct Cells and Plasticity of Human Pancreas\n",
    "- (2011) Genetic lineage tracing, a powerful tool to investigate the embryonic organogenesis and adult organ maintenance of the pancreas\n",
    "- (2009) Blastocyst lineage formation, early embryonic asymmetries and axis patterning in the mouse\n",
    "- (2009) Chiral blastomere arrangement dictates zygotic left–right asymmetry pathway in snails\n",
    "- (2006) Stem cells and lineage development in the mammalian blastocyst\n",
    "- (2005) Cleavage pattern and emerging asymmetry of the mouse embryo\n",
    "- (2005) Embryogenesis of chimeras, twins and anterior midline asymmetries\n",
    "- (2004) Lineage development and polar asymmetries in the peri-implantation mouse blastocyst\n",
    "- (2004) The Embryonic Origins of Left-Right Asymmetry\n",
    "- (2003) Lineage allocation and asymmetries in the early mouse embryo\n",
    "- (2003) Analysis of cell lineage in two- and four-cell mouse embryos\n",
    "- (1999) Axis Development and Early Asymmetry in Mammals"
   ]
  },
  {
   "cell_type": "markdown",
   "id": "051e0789",
   "metadata": {},
   "source": [
    "## Quartet based method (ASTRAL)\n",
    "- (2023) Quartets enable statistically consistent estimation of cell lineage trees under an unbiased error and missingness model"
   ]
  },
  {
   "cell_type": "markdown",
   "id": "b3db5aef",
   "metadata": {},
   "source": [
    "## C. elegans Full Tree\n",
    "- (1983) The Embryonic Cell Lineage of the Nematode Caenorhabditis elegans"
   ]
  },
  {
   "cell_type": "markdown",
   "id": "67c8f1b4",
   "metadata": {},
   "source": []
  },
  {
   "cell_type": "code",
   "execution_count": 8,
   "id": "9ec62711",
   "metadata": {},
   "outputs": [
    {
     "name": "stdout",
     "output_type": "stream",
     "text": [
      "총 시퀀스 수: 7\n",
      "I\n",
      "GCCTAAGCCTAAGCCTAAGCCTAAGCCTAAGCCTAAGCCTAAGCCTAAGC\n",
      "II\n",
      "CCTAAGCCTAAGCCTAAGCCTAAGCCTAAGCCTAAGCCTAAGCCTAAGCC\n",
      "III\n",
      "CCTAAGCCTAAGCCTAAGCCTAAGCCTAAGCCTAAGCCTAAGCCTAAGCC\n"
     ]
    }
   ],
   "source": [
    "from Bio import SeqIO\n",
    "import gzip\n",
    "\n",
    "file_path = \"Polytomy/Codes/Data/c_elegans.PRJNA13758.WS297.genomic.fa.gz\"\n",
    "\n",
    "with gzip.open(file_path, \"rt\") as handle:\n",
    "    records = list(SeqIO.parse(handle, \"fasta\"))\n",
    "\n",
    "print(f\"총 시퀀스 수: {len(records)}\")\n",
    "\n",
    "# 첫 3개 시퀀스 확인\n",
    "for rec in records[:3]:\n",
    "    print(rec.id)\n",
    "    print(rec.seq[:50])  # 처음 50bp만"
   ]
  },
  {
   "cell_type": "markdown",
   "id": "6e9474fc",
   "metadata": {},
   "source": [
    "# C. elegans Lineage data: A lineage-resolved molecular atlas of C. elegans embryogenesis at single-cell resolution\n",
    "\n",
    "https://www.ncbi.nlm.nih.gov/geo/query/acc.cgi?acc=GSE126954\n",
    "\n",
    "Supplementary file -> \"GSE126954_cell_annotation.csv.gz\""
   ]
  },
  {
   "cell_type": "code",
   "execution_count": null,
   "id": "e08671f6",
   "metadata": {},
   "outputs": [
    {
     "name": "stdout",
     "output_type": "stream",
     "text": [
      "dict_keys(['title', 'geo_accession', 'status', 'submission_date', 'last_update_date', 'type', 'channel_count', 'source_name_ch1', 'organism_ch1', 'taxid_ch1', 'characteristics_ch1', 'growth_protocol_ch1', 'molecule_ch1', 'extract_protocol_ch1', 'description', 'data_processing', 'platform_id', 'contact_name', 'contact_laboratory', 'contact_department', 'contact_institute', 'contact_address', 'contact_city', 'contact_state', 'contact_zip/postal_code', 'contact_country', 'instrument_model', 'library_selection', 'library_source', 'library_strategy', 'relation', 'supplementary_file_1', 'series_id', 'data_row_count'])\n"
     ]
    }
   ],
   "source": [
    "import pandas as pd\n",
    "import gzip\n",
    "\n",
    "file_path = \"GSE126954_cell_annotation.csv.gz\"\n",
    "\n",
    "# 1. pandas에서 gzip 바로 읽기\n",
    "cell_anno = pd.read_csv(file_path, compression='gzip')\n",
    "\n",
    "# 2. 첫 5행 확인\n",
    "print(cell_anno.head())"
   ]
  },
  {
   "cell_type": "code",
   "execution_count": 24,
   "id": "63289494",
   "metadata": {},
   "outputs": [
    {
     "name": "stdout",
     "output_type": "stream",
     "text": [
      "                 Unnamed: 0                      cell  n.umi   time.point  \\\n",
      "0  AAACCTGAGACAATAC-300.1.1  AAACCTGAGACAATAC-300.1.1   1630  300_minutes   \n",
      "1  AAACCTGAGGGCTCTC-300.1.1  AAACCTGAGGGCTCTC-300.1.1   2319  300_minutes   \n",
      "2  AAACCTGAGTGCGTGA-300.1.1  AAACCTGAGTGCGTGA-300.1.1   3719  300_minutes   \n",
      "3  AAACCTGAGTTGAGTA-300.1.1  AAACCTGAGTTGAGTA-300.1.1   4251  300_minutes   \n",
      "4  AAACCTGCAAGACGTG-300.1.1  AAACCTGCAAGACGTG-300.1.1   1003  300_minutes   \n",
      "\n",
      "                   batch  Size_Factor               cell.type    cell.subtype  \\\n",
      "0  Waterston_300_minutes     1.023195        Body_wall_muscle  BWM_head_row_1   \n",
      "1  Waterston_300_minutes     1.458210                     NaN             NaN   \n",
      "2  Waterston_300_minutes     2.338283                     NaN             NaN   \n",
      "3  Waterston_300_minutes     2.659051        Body_wall_muscle    BWM_anterior   \n",
      "4  Waterston_300_minutes     0.629610  Ciliated_amphid_neuron             AFD   \n",
      "\n",
      "   plot.cell.type  raw.embryo.time  embryo.time embryo.time.bin  \\\n",
      "0  BWM_head_row_1              360        380.0         330-390   \n",
      "1             NaN              260        220.0         210-270   \n",
      "2             NaN              270        230.0         210-270   \n",
      "3    BWM_anterior              260        280.0         270-330   \n",
      "4             AFD              350        350.0         330-390   \n",
      "\n",
      "  raw.embryo.time.bin                  lineage  \\\n",
      "0             330-390                 MSxpappp   \n",
      "1             210-270                 MSxapaap   \n",
      "2             270-330                      NaN   \n",
      "3             210-270                     Dxap   \n",
      "4             330-390  ABalpppapav/ABpraaaapav   \n",
      "\n",
      "   passed_initial_QC_or_later_whitelisted  \n",
      "0                                    True  \n",
      "1                                    True  \n",
      "2                                    True  \n",
      "3                                    True  \n",
      "4                                    True  \n"
     ]
    }
   ],
   "source": [
    "import pandas as pd\n",
    "import gzip\n",
    "\n",
    "file_path = \"Polytomy/Codes/Data/GSE126954_cell_annotation.csv.gz\"\n",
    "\n",
    "# 1. pandas에서 gzip 바로 읽기\n",
    "cell_anno = pd.read_csv(file_path, compression='gzip')\n",
    "\n",
    "# 2. 첫 5행 확인\n",
    "print(cell_anno.head())"
   ]
  },
  {
   "cell_type": "code",
   "execution_count": 1,
   "id": "c545ad3b",
   "metadata": {},
   "outputs": [
    {
     "ename": "FileNotFoundError",
     "evalue": "[Errno 2] No such file or directory: 'Polytomy/Codes/Data/GSE126954_cell_annotation.csv.gz'",
     "output_type": "error",
     "traceback": [
      "\u001b[0;31m---------------------------------------------------------------------------\u001b[0m",
      "\u001b[0;31mFileNotFoundError\u001b[0m                         Traceback (most recent call last)",
      "Cell \u001b[0;32mIn[1], line 8\u001b[0m\n\u001b[1;32m      5\u001b[0m file_path \u001b[38;5;241m=\u001b[39m \u001b[38;5;124m\"\u001b[39m\u001b[38;5;124mPolytomy/Codes/Data/GSE126954_cell_annotation.csv.gz\u001b[39m\u001b[38;5;124m\"\u001b[39m\n\u001b[1;32m      7\u001b[0m \u001b[38;5;66;03m# 1. 데이터 읽기\u001b[39;00m\n\u001b[0;32m----> 8\u001b[0m df \u001b[38;5;241m=\u001b[39m \u001b[43mpd\u001b[49m\u001b[38;5;241;43m.\u001b[39;49m\u001b[43mread_csv\u001b[49m\u001b[43m(\u001b[49m\u001b[43mfile_path\u001b[49m\u001b[43m,\u001b[49m\u001b[43m \u001b[49m\u001b[43mcompression\u001b[49m\u001b[38;5;241;43m=\u001b[39;49m\u001b[38;5;124;43m\"\u001b[39;49m\u001b[38;5;124;43mgzip\u001b[39;49m\u001b[38;5;124;43m\"\u001b[39;49m\u001b[43m)\u001b[49m\n\u001b[1;32m      9\u001b[0m lineages \u001b[38;5;241m=\u001b[39m df[\u001b[38;5;124m'\u001b[39m\u001b[38;5;124mlineage\u001b[39m\u001b[38;5;124m'\u001b[39m]\u001b[38;5;241m.\u001b[39mdropna()\u001b[38;5;241m.\u001b[39munique()  \u001b[38;5;66;03m# 결측 제외, 고유 lineage\u001b[39;00m\n\u001b[1;32m     11\u001b[0m \u001b[38;5;66;03m# 2. lineage -> Newick tree 변환 (대문자 덩어리, 소문자 개별 노드)\u001b[39;00m\n",
      "File \u001b[0;32m~/Library/Python/3.9/lib/python/site-packages/pandas/io/parsers/readers.py:948\u001b[0m, in \u001b[0;36mread_csv\u001b[0;34m(filepath_or_buffer, sep, delimiter, header, names, index_col, usecols, dtype, engine, converters, true_values, false_values, skipinitialspace, skiprows, skipfooter, nrows, na_values, keep_default_na, na_filter, verbose, skip_blank_lines, parse_dates, infer_datetime_format, keep_date_col, date_parser, date_format, dayfirst, cache_dates, iterator, chunksize, compression, thousands, decimal, lineterminator, quotechar, quoting, doublequote, escapechar, comment, encoding, encoding_errors, dialect, on_bad_lines, delim_whitespace, low_memory, memory_map, float_precision, storage_options, dtype_backend)\u001b[0m\n\u001b[1;32m    935\u001b[0m kwds_defaults \u001b[38;5;241m=\u001b[39m _refine_defaults_read(\n\u001b[1;32m    936\u001b[0m     dialect,\n\u001b[1;32m    937\u001b[0m     delimiter,\n\u001b[0;32m   (...)\u001b[0m\n\u001b[1;32m    944\u001b[0m     dtype_backend\u001b[38;5;241m=\u001b[39mdtype_backend,\n\u001b[1;32m    945\u001b[0m )\n\u001b[1;32m    946\u001b[0m kwds\u001b[38;5;241m.\u001b[39mupdate(kwds_defaults)\n\u001b[0;32m--> 948\u001b[0m \u001b[38;5;28;01mreturn\u001b[39;00m \u001b[43m_read\u001b[49m\u001b[43m(\u001b[49m\u001b[43mfilepath_or_buffer\u001b[49m\u001b[43m,\u001b[49m\u001b[43m \u001b[49m\u001b[43mkwds\u001b[49m\u001b[43m)\u001b[49m\n",
      "File \u001b[0;32m~/Library/Python/3.9/lib/python/site-packages/pandas/io/parsers/readers.py:611\u001b[0m, in \u001b[0;36m_read\u001b[0;34m(filepath_or_buffer, kwds)\u001b[0m\n\u001b[1;32m    608\u001b[0m _validate_names(kwds\u001b[38;5;241m.\u001b[39mget(\u001b[38;5;124m\"\u001b[39m\u001b[38;5;124mnames\u001b[39m\u001b[38;5;124m\"\u001b[39m, \u001b[38;5;28;01mNone\u001b[39;00m))\n\u001b[1;32m    610\u001b[0m \u001b[38;5;66;03m# Create the parser.\u001b[39;00m\n\u001b[0;32m--> 611\u001b[0m parser \u001b[38;5;241m=\u001b[39m \u001b[43mTextFileReader\u001b[49m\u001b[43m(\u001b[49m\u001b[43mfilepath_or_buffer\u001b[49m\u001b[43m,\u001b[49m\u001b[43m \u001b[49m\u001b[38;5;241;43m*\u001b[39;49m\u001b[38;5;241;43m*\u001b[39;49m\u001b[43mkwds\u001b[49m\u001b[43m)\u001b[49m\n\u001b[1;32m    613\u001b[0m \u001b[38;5;28;01mif\u001b[39;00m chunksize \u001b[38;5;129;01mor\u001b[39;00m iterator:\n\u001b[1;32m    614\u001b[0m     \u001b[38;5;28;01mreturn\u001b[39;00m parser\n",
      "File \u001b[0;32m~/Library/Python/3.9/lib/python/site-packages/pandas/io/parsers/readers.py:1448\u001b[0m, in \u001b[0;36mTextFileReader.__init__\u001b[0;34m(self, f, engine, **kwds)\u001b[0m\n\u001b[1;32m   1445\u001b[0m     \u001b[38;5;28mself\u001b[39m\u001b[38;5;241m.\u001b[39moptions[\u001b[38;5;124m\"\u001b[39m\u001b[38;5;124mhas_index_names\u001b[39m\u001b[38;5;124m\"\u001b[39m] \u001b[38;5;241m=\u001b[39m kwds[\u001b[38;5;124m\"\u001b[39m\u001b[38;5;124mhas_index_names\u001b[39m\u001b[38;5;124m\"\u001b[39m]\n\u001b[1;32m   1447\u001b[0m \u001b[38;5;28mself\u001b[39m\u001b[38;5;241m.\u001b[39mhandles: IOHandles \u001b[38;5;241m|\u001b[39m \u001b[38;5;28;01mNone\u001b[39;00m \u001b[38;5;241m=\u001b[39m \u001b[38;5;28;01mNone\u001b[39;00m\n\u001b[0;32m-> 1448\u001b[0m \u001b[38;5;28mself\u001b[39m\u001b[38;5;241m.\u001b[39m_engine \u001b[38;5;241m=\u001b[39m \u001b[38;5;28;43mself\u001b[39;49m\u001b[38;5;241;43m.\u001b[39;49m\u001b[43m_make_engine\u001b[49m\u001b[43m(\u001b[49m\u001b[43mf\u001b[49m\u001b[43m,\u001b[49m\u001b[43m \u001b[49m\u001b[38;5;28;43mself\u001b[39;49m\u001b[38;5;241;43m.\u001b[39;49m\u001b[43mengine\u001b[49m\u001b[43m)\u001b[49m\n",
      "File \u001b[0;32m~/Library/Python/3.9/lib/python/site-packages/pandas/io/parsers/readers.py:1705\u001b[0m, in \u001b[0;36mTextFileReader._make_engine\u001b[0;34m(self, f, engine)\u001b[0m\n\u001b[1;32m   1703\u001b[0m     \u001b[38;5;28;01mif\u001b[39;00m \u001b[38;5;124m\"\u001b[39m\u001b[38;5;124mb\u001b[39m\u001b[38;5;124m\"\u001b[39m \u001b[38;5;129;01mnot\u001b[39;00m \u001b[38;5;129;01min\u001b[39;00m mode:\n\u001b[1;32m   1704\u001b[0m         mode \u001b[38;5;241m+\u001b[39m\u001b[38;5;241m=\u001b[39m \u001b[38;5;124m\"\u001b[39m\u001b[38;5;124mb\u001b[39m\u001b[38;5;124m\"\u001b[39m\n\u001b[0;32m-> 1705\u001b[0m \u001b[38;5;28mself\u001b[39m\u001b[38;5;241m.\u001b[39mhandles \u001b[38;5;241m=\u001b[39m \u001b[43mget_handle\u001b[49m\u001b[43m(\u001b[49m\n\u001b[1;32m   1706\u001b[0m \u001b[43m    \u001b[49m\u001b[43mf\u001b[49m\u001b[43m,\u001b[49m\n\u001b[1;32m   1707\u001b[0m \u001b[43m    \u001b[49m\u001b[43mmode\u001b[49m\u001b[43m,\u001b[49m\n\u001b[1;32m   1708\u001b[0m \u001b[43m    \u001b[49m\u001b[43mencoding\u001b[49m\u001b[38;5;241;43m=\u001b[39;49m\u001b[38;5;28;43mself\u001b[39;49m\u001b[38;5;241;43m.\u001b[39;49m\u001b[43moptions\u001b[49m\u001b[38;5;241;43m.\u001b[39;49m\u001b[43mget\u001b[49m\u001b[43m(\u001b[49m\u001b[38;5;124;43m\"\u001b[39;49m\u001b[38;5;124;43mencoding\u001b[39;49m\u001b[38;5;124;43m\"\u001b[39;49m\u001b[43m,\u001b[49m\u001b[43m \u001b[49m\u001b[38;5;28;43;01mNone\u001b[39;49;00m\u001b[43m)\u001b[49m\u001b[43m,\u001b[49m\n\u001b[1;32m   1709\u001b[0m \u001b[43m    \u001b[49m\u001b[43mcompression\u001b[49m\u001b[38;5;241;43m=\u001b[39;49m\u001b[38;5;28;43mself\u001b[39;49m\u001b[38;5;241;43m.\u001b[39;49m\u001b[43moptions\u001b[49m\u001b[38;5;241;43m.\u001b[39;49m\u001b[43mget\u001b[49m\u001b[43m(\u001b[49m\u001b[38;5;124;43m\"\u001b[39;49m\u001b[38;5;124;43mcompression\u001b[39;49m\u001b[38;5;124;43m\"\u001b[39;49m\u001b[43m,\u001b[49m\u001b[43m \u001b[49m\u001b[38;5;28;43;01mNone\u001b[39;49;00m\u001b[43m)\u001b[49m\u001b[43m,\u001b[49m\n\u001b[1;32m   1710\u001b[0m \u001b[43m    \u001b[49m\u001b[43mmemory_map\u001b[49m\u001b[38;5;241;43m=\u001b[39;49m\u001b[38;5;28;43mself\u001b[39;49m\u001b[38;5;241;43m.\u001b[39;49m\u001b[43moptions\u001b[49m\u001b[38;5;241;43m.\u001b[39;49m\u001b[43mget\u001b[49m\u001b[43m(\u001b[49m\u001b[38;5;124;43m\"\u001b[39;49m\u001b[38;5;124;43mmemory_map\u001b[39;49m\u001b[38;5;124;43m\"\u001b[39;49m\u001b[43m,\u001b[49m\u001b[43m \u001b[49m\u001b[38;5;28;43;01mFalse\u001b[39;49;00m\u001b[43m)\u001b[49m\u001b[43m,\u001b[49m\n\u001b[1;32m   1711\u001b[0m \u001b[43m    \u001b[49m\u001b[43mis_text\u001b[49m\u001b[38;5;241;43m=\u001b[39;49m\u001b[43mis_text\u001b[49m\u001b[43m,\u001b[49m\n\u001b[1;32m   1712\u001b[0m \u001b[43m    \u001b[49m\u001b[43merrors\u001b[49m\u001b[38;5;241;43m=\u001b[39;49m\u001b[38;5;28;43mself\u001b[39;49m\u001b[38;5;241;43m.\u001b[39;49m\u001b[43moptions\u001b[49m\u001b[38;5;241;43m.\u001b[39;49m\u001b[43mget\u001b[49m\u001b[43m(\u001b[49m\u001b[38;5;124;43m\"\u001b[39;49m\u001b[38;5;124;43mencoding_errors\u001b[39;49m\u001b[38;5;124;43m\"\u001b[39;49m\u001b[43m,\u001b[49m\u001b[43m \u001b[49m\u001b[38;5;124;43m\"\u001b[39;49m\u001b[38;5;124;43mstrict\u001b[39;49m\u001b[38;5;124;43m\"\u001b[39;49m\u001b[43m)\u001b[49m\u001b[43m,\u001b[49m\n\u001b[1;32m   1713\u001b[0m \u001b[43m    \u001b[49m\u001b[43mstorage_options\u001b[49m\u001b[38;5;241;43m=\u001b[39;49m\u001b[38;5;28;43mself\u001b[39;49m\u001b[38;5;241;43m.\u001b[39;49m\u001b[43moptions\u001b[49m\u001b[38;5;241;43m.\u001b[39;49m\u001b[43mget\u001b[49m\u001b[43m(\u001b[49m\u001b[38;5;124;43m\"\u001b[39;49m\u001b[38;5;124;43mstorage_options\u001b[39;49m\u001b[38;5;124;43m\"\u001b[39;49m\u001b[43m,\u001b[49m\u001b[43m \u001b[49m\u001b[38;5;28;43;01mNone\u001b[39;49;00m\u001b[43m)\u001b[49m\u001b[43m,\u001b[49m\n\u001b[1;32m   1714\u001b[0m \u001b[43m\u001b[49m\u001b[43m)\u001b[49m\n\u001b[1;32m   1715\u001b[0m \u001b[38;5;28;01massert\u001b[39;00m \u001b[38;5;28mself\u001b[39m\u001b[38;5;241m.\u001b[39mhandles \u001b[38;5;129;01mis\u001b[39;00m \u001b[38;5;129;01mnot\u001b[39;00m \u001b[38;5;28;01mNone\u001b[39;00m\n\u001b[1;32m   1716\u001b[0m f \u001b[38;5;241m=\u001b[39m \u001b[38;5;28mself\u001b[39m\u001b[38;5;241m.\u001b[39mhandles\u001b[38;5;241m.\u001b[39mhandle\n",
      "File \u001b[0;32m~/Library/Python/3.9/lib/python/site-packages/pandas/io/common.py:755\u001b[0m, in \u001b[0;36mget_handle\u001b[0;34m(path_or_buf, mode, encoding, compression, memory_map, is_text, errors, storage_options)\u001b[0m\n\u001b[1;32m    751\u001b[0m \u001b[38;5;28;01mif\u001b[39;00m compression \u001b[38;5;241m==\u001b[39m \u001b[38;5;124m\"\u001b[39m\u001b[38;5;124mgzip\u001b[39m\u001b[38;5;124m\"\u001b[39m:\n\u001b[1;32m    752\u001b[0m     \u001b[38;5;28;01mif\u001b[39;00m \u001b[38;5;28misinstance\u001b[39m(handle, \u001b[38;5;28mstr\u001b[39m):\n\u001b[1;32m    753\u001b[0m         \u001b[38;5;66;03m# error: Incompatible types in assignment (expression has type\u001b[39;00m\n\u001b[1;32m    754\u001b[0m         \u001b[38;5;66;03m# \"GzipFile\", variable has type \"Union[str, BaseBuffer]\")\u001b[39;00m\n\u001b[0;32m--> 755\u001b[0m         handle \u001b[38;5;241m=\u001b[39m \u001b[43mgzip\u001b[49m\u001b[38;5;241;43m.\u001b[39;49m\u001b[43mGzipFile\u001b[49m\u001b[43m(\u001b[49m\u001b[43m  \u001b[49m\u001b[38;5;66;43;03m# type: ignore[assignment]\u001b[39;49;00m\n\u001b[1;32m    756\u001b[0m \u001b[43m            \u001b[49m\u001b[43mfilename\u001b[49m\u001b[38;5;241;43m=\u001b[39;49m\u001b[43mhandle\u001b[49m\u001b[43m,\u001b[49m\n\u001b[1;32m    757\u001b[0m \u001b[43m            \u001b[49m\u001b[43mmode\u001b[49m\u001b[38;5;241;43m=\u001b[39;49m\u001b[43mioargs\u001b[49m\u001b[38;5;241;43m.\u001b[39;49m\u001b[43mmode\u001b[49m\u001b[43m,\u001b[49m\n\u001b[1;32m    758\u001b[0m \u001b[43m            \u001b[49m\u001b[38;5;241;43m*\u001b[39;49m\u001b[38;5;241;43m*\u001b[39;49m\u001b[43mcompression_args\u001b[49m\u001b[43m,\u001b[49m\n\u001b[1;32m    759\u001b[0m \u001b[43m        \u001b[49m\u001b[43m)\u001b[49m\n\u001b[1;32m    760\u001b[0m     \u001b[38;5;28;01melse\u001b[39;00m:\n\u001b[1;32m    761\u001b[0m         handle \u001b[38;5;241m=\u001b[39m gzip\u001b[38;5;241m.\u001b[39mGzipFile(\n\u001b[1;32m    762\u001b[0m             \u001b[38;5;66;03m# No overload variant of \"GzipFile\" matches argument types\u001b[39;00m\n\u001b[1;32m    763\u001b[0m             \u001b[38;5;66;03m# \"Union[str, BaseBuffer]\", \"str\", \"Dict[str, Any]\"\u001b[39;00m\n\u001b[0;32m   (...)\u001b[0m\n\u001b[1;32m    766\u001b[0m             \u001b[38;5;241m*\u001b[39m\u001b[38;5;241m*\u001b[39mcompression_args,\n\u001b[1;32m    767\u001b[0m         )\n",
      "File \u001b[0;32m/Library/Developer/CommandLineTools/Library/Frameworks/Python3.framework/Versions/3.9/lib/python3.9/gzip.py:173\u001b[0m, in \u001b[0;36mGzipFile.__init__\u001b[0;34m(self, filename, mode, compresslevel, fileobj, mtime)\u001b[0m\n\u001b[1;32m    171\u001b[0m     mode \u001b[38;5;241m+\u001b[39m\u001b[38;5;241m=\u001b[39m \u001b[38;5;124m'\u001b[39m\u001b[38;5;124mb\u001b[39m\u001b[38;5;124m'\u001b[39m\n\u001b[1;32m    172\u001b[0m \u001b[38;5;28;01mif\u001b[39;00m fileobj \u001b[38;5;129;01mis\u001b[39;00m \u001b[38;5;28;01mNone\u001b[39;00m:\n\u001b[0;32m--> 173\u001b[0m     fileobj \u001b[38;5;241m=\u001b[39m \u001b[38;5;28mself\u001b[39m\u001b[38;5;241m.\u001b[39mmyfileobj \u001b[38;5;241m=\u001b[39m \u001b[43mbuiltins\u001b[49m\u001b[38;5;241;43m.\u001b[39;49m\u001b[43mopen\u001b[49m\u001b[43m(\u001b[49m\u001b[43mfilename\u001b[49m\u001b[43m,\u001b[49m\u001b[43m \u001b[49m\u001b[43mmode\u001b[49m\u001b[43m \u001b[49m\u001b[38;5;129;43;01mor\u001b[39;49;00m\u001b[43m \u001b[49m\u001b[38;5;124;43m'\u001b[39;49m\u001b[38;5;124;43mrb\u001b[39;49m\u001b[38;5;124;43m'\u001b[39;49m\u001b[43m)\u001b[49m\n\u001b[1;32m    174\u001b[0m \u001b[38;5;28;01mif\u001b[39;00m filename \u001b[38;5;129;01mis\u001b[39;00m \u001b[38;5;28;01mNone\u001b[39;00m:\n\u001b[1;32m    175\u001b[0m     filename \u001b[38;5;241m=\u001b[39m \u001b[38;5;28mgetattr\u001b[39m(fileobj, \u001b[38;5;124m'\u001b[39m\u001b[38;5;124mname\u001b[39m\u001b[38;5;124m'\u001b[39m, \u001b[38;5;124m'\u001b[39m\u001b[38;5;124m'\u001b[39m)\n",
      "\u001b[0;31mFileNotFoundError\u001b[0m: [Errno 2] No such file or directory: 'Polytomy/Codes/Data/GSE126954_cell_annotation.csv.gz'"
     ]
    }
   ],
   "source": [
    "import pandas as pd\n",
    "from ete3 import Tree\n",
    "\n",
    "# 0. 파일 경로\n",
    "file_path = \"Polytomy/Codes/Data/GSE126954_cell_annotation.csv.gz\"\n",
    "\n",
    "# 1. 데이터 읽기\n",
    "df = pd.read_csv(file_path, compression=\"gzip\")\n",
    "lineages = df['lineage'].dropna().unique()  # 결측 제외, 고유 lineage\n",
    "\n",
    "# 2. lineage -> Newick tree 변환 (대문자 덩어리, 소문자 개별 노드)\n",
    "def lineage_to_newick(lineages):\n",
    "    root = Tree(name=\"zygote\")\n",
    "    \n",
    "    for lin in lineages:\n",
    "        # '/'가 있으면 여러 경로로 분리\n",
    "        paths = lin.split('/')\n",
    "        for p in paths:\n",
    "            node = root\n",
    "            i = 0\n",
    "            while i < len(p):\n",
    "                # 대문자인 경우: 연속 대문자 덩어리 추출\n",
    "                if p[i].isupper():\n",
    "                    j = i + 1\n",
    "                    while j < len(p) and p[j].isupper():\n",
    "                        j += 1\n",
    "                    chunk = p[i:j]  # 대문자 덩어리\n",
    "                    i = j\n",
    "                    # 자식 존재 여부 확인 후 생성\n",
    "                    existing_child = next((c for c in node.children if c.name == chunk), None)\n",
    "                    if existing_child:\n",
    "                        node = existing_child\n",
    "                    else:\n",
    "                        node = node.add_child(name=chunk)\n",
    "                else:\n",
    "                    # 소문자는 글자 하나씩 노드 생성\n",
    "                    chunk = p[i]\n",
    "                    i += 1\n",
    "                    existing_child = next((c for c in node.children if c.name == chunk), None)\n",
    "                    if existing_child:\n",
    "                        node = existing_child\n",
    "                    else:\n",
    "                        node = node.add_child(name=chunk)\n",
    "    return root\n",
    "\n",
    "tree = lineage_to_newick(lineages)\n",
    "\n",
    "# 3. Newick 파일로 저장\n",
    "output_path = \"Polytomy/Codes/nwk/c_elegans_lineage_tree_resolved.nwk\"\n",
    "tree.write(format=1, outfile=output_path)\n",
    "\n",
    "print(f\"트리 생성 완료. 저장 위치: {output_path}\")"
   ]
  },
  {
   "cell_type": "code",
   "execution_count": 33,
   "id": "f8e3dbf1",
   "metadata": {},
   "outputs": [
    {
     "name": "stdout",
     "output_type": "stream",
     "text": [
      "   Height  Colless  Sackin  Polytomy_count  \\\n",
      "0      19       33    3044              21   \n",
      "\n",
      "                                    Polytomy_degrees  \n",
      "0  [7, 3, 3, 3, 3, 3, 3, 3, 3, 3, 3, 3, 3, 3, 3, ...  \n"
     ]
    }
   ],
   "source": [
    "import dendropy\n",
    "import pandas as pd\n",
    "\n",
    "# -----------------------------\n",
    "# Tree 불러오기 (중복 leaf 이름 허용)\n",
    "file_path = \"Polytomy/Codes/nwk/c_elegans_lineage_tree.nwk\"\n",
    "tree = dendropy.Tree.get(\n",
    "    path=file_path,\n",
    "    schema=\"newick\",\n",
    "    rooting=\"force-rooted\",\n",
    "    suppress_internal_node_taxa=True,\n",
    "    suppress_leaf_node_taxa=True\n",
    ")\n",
    "\n",
    "# -----------------------------\n",
    "# Tree Height (edge 기준)\n",
    "def height_in_edges(tree):\n",
    "    max_depth = 0\n",
    "    def dfs(node, depth):\n",
    "        nonlocal max_depth\n",
    "        if node.is_leaf():\n",
    "            max_depth = max(max_depth, depth)\n",
    "        for c in node.child_nodes():\n",
    "            dfs(c, depth + 1)\n",
    "    dfs(tree.seed_node, 0)\n",
    "    return max_depth\n",
    "\n",
    "# -----------------------------\n",
    "# Colless Index\n",
    "def colless_index(tree):\n",
    "    def count_leaves(node):\n",
    "        if node.is_leaf():\n",
    "            return 1\n",
    "        return sum(count_leaves(c) for c in node.child_nodes())\n",
    "\n",
    "    def colless_node(node):\n",
    "        if node.is_leaf() or len(node.child_nodes()) < 2:\n",
    "            return 0\n",
    "        children = node.child_nodes()\n",
    "        nl = count_leaves(children[0])\n",
    "        nr = count_leaves(children[1])\n",
    "        return abs(nl - nr) + colless_node(children[0]) + colless_node(children[1])\n",
    "\n",
    "    return colless_node(tree.seed_node)\n",
    "\n",
    "# -----------------------------\n",
    "# Sackin Index\n",
    "def sackin_index(tree):\n",
    "    def leaf_depth_sum(node, depth=0):\n",
    "        if node.is_leaf():\n",
    "            return depth\n",
    "        return sum(leaf_depth_sum(c, depth + 1) for c in node.child_nodes())\n",
    "    return leaf_depth_sum(tree.seed_node)\n",
    "\n",
    "# -----------------------------\n",
    "# Polytomy Info\n",
    "def polytomy_info(tree):\n",
    "    poly_count = 0\n",
    "    degrees = []\n",
    "    for node in tree.preorder_node_iter():\n",
    "        deg = len(node.child_nodes())\n",
    "        if deg > 2:\n",
    "            poly_count += 1\n",
    "            degrees.append(deg)\n",
    "    return poly_count, degrees\n",
    "\n",
    "# -----------------------------\n",
    "# 통계 계산\n",
    "height = height_in_edges(tree)\n",
    "colless = colless_index(tree)\n",
    "sackin = sackin_index(tree)\n",
    "poly_count, degrees = polytomy_info(tree)\n",
    "\n",
    "# -----------------------------\n",
    "# DataFrame 정리\n",
    "tree_stats = pd.DataFrame({\n",
    "    \"Height\": [height],\n",
    "    \"Colless\": [colless],\n",
    "    \"Sackin\": [sackin],\n",
    "    \"Polytomy_count\": [poly_count],\n",
    "    \"Polytomy_degrees\": [str(degrees)]\n",
    "})\n",
    "\n",
    "# -----------------------------\n",
    "# 결과 출력\n",
    "print(tree_stats)"
   ]
  },
  {
   "cell_type": "code",
   "execution_count": 35,
   "id": "2ccdfd4c",
   "metadata": {},
   "outputs": [
    {
     "name": "stdout",
     "output_type": "stream",
     "text": [
      "[7, 3, 3, 3, 3, 3, 3, 3, 3, 3, 3, 3, 3, 3, 3, 3, 3, 3, 3, 3, 3]\n"
     ]
    }
   ],
   "source": [
    "for poly_deg in tree_stats[\"Polytomy_degrees\"]:\n",
    "    print(poly_deg)"
   ]
  },
  {
   "cell_type": "code",
   "execution_count": null,
   "id": "89a545ff",
   "metadata": {},
   "outputs": [],
   "source": []
  }
 ],
 "metadata": {
  "kernelspec": {
   "display_name": "Python 3",
   "language": "python",
   "name": "python3"
  },
  "language_info": {
   "codemirror_mode": {
    "name": "ipython",
    "version": 3
   },
   "file_extension": ".py",
   "mimetype": "text/x-python",
   "name": "python",
   "nbconvert_exporter": "python",
   "pygments_lexer": "ipython3",
   "version": "3.9.6"
  }
 },
 "nbformat": 4,
 "nbformat_minor": 5
}
