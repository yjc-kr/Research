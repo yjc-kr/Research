{
 "cells": [
  {
   "cell_type": "markdown",
   "id": "5c612d5e",
   "metadata": {},
   "source": [
    "1. Generate n by n symmetric matrix, where each non diagonal element follow Poisson distribution and diagonal element is 0.\n",
    "2. "
   ]
  },
  {
   "cell_type": "code",
   "execution_count": 10,
   "id": "75e4bc43",
   "metadata": {},
   "outputs": [],
   "source": [
    "# Package\n",
    "import numpy as np\n",
    "from itertools import permutations"
   ]
  },
  {
   "cell_type": "code",
   "execution_count": 7,
   "id": "ac6add88",
   "metadata": {},
   "outputs": [],
   "source": [
    "# Parameters\n",
    "n = 8\n",
    "lam = 2"
   ]
  },
  {
   "cell_type": "code",
   "execution_count": null,
   "id": "1a96059a",
   "metadata": {},
   "outputs": [],
   "source": [
    "# Functions\n",
    "\n",
    "## Generate Matrix\n",
    "def get_mat(size, pois_lambda):\n",
    "    dist_mat = np.zeros(shape = (size,size))\n",
    "    for i in range(size):\n",
    "        for j in range(i+1, size):\n",
    "            dist_mat[i,j] = np.random.poisson(pois_lambda)\n",
    "            dist_mat[j,i] = dist_mat[i,j]\n",
    "    return dist_mat\n",
    "\n",
    "## 4-points condition check function\n",
    "def four_points_cond(mat):\n",
    "    perm_lists = permutations(range(n), r = 4)\n",
    "    for p in perm_lists:\n",
    "        xy = mat[p[0], p[1]]\n",
    "        zt = mat[p[2], p[3]]\n",
    "        \n",
    "        xz = mat[p[0], p[2]]\n",
    "        yt = mat[p[1], p[2]]\n",
    "\n",
    "        xt = mat[p[0], p[3]]\n",
    "        yz = mat[p[1], p[2]]\n",
    "\n",
    "        if xy+zt > max(xz+yt, xt+yz):\n",
    "            return False\n",
    "    return True"
   ]
  },
  {
   "cell_type": "code",
   "execution_count": 32,
   "id": "9b0ecde4",
   "metadata": {},
   "outputs": [
    {
     "name": "stdout",
     "output_type": "stream",
     "text": [
      "Can't Generate!!\n"
     ]
    }
   ],
   "source": [
    "mat = get_mat(size = n, pois_lambda = lam)\n",
    "it_max = pow(10, 6)\n",
    "\n",
    "for it in range(it_max):\n",
    "    if four_points_cond(mat) == False:\n",
    "        mat = get_mat(size = n, pois_lambda = lam)\n",
    "    else:\n",
    "        break\n",
    "    if it == it_max - 1:\n",
    "        print(\"Can't Generate!!\")\n",
    "\n"
   ]
  },
  {
   "cell_type": "code",
   "execution_count": 33,
   "id": "3812220c",
   "metadata": {},
   "outputs": [
    {
     "name": "stdout",
     "output_type": "stream",
     "text": [
      "[[0. 4. 2. 6. 1. 1. 3. 1.]\n",
      " [4. 0. 1. 3. 0. 1. 1. 3.]\n",
      " [2. 1. 0. 3. 4. 2. 3. 2.]\n",
      " [6. 3. 3. 0. 1. 1. 2. 2.]\n",
      " [1. 0. 4. 1. 0. 1. 5. 1.]\n",
      " [1. 1. 2. 1. 1. 0. 1. 4.]\n",
      " [3. 1. 3. 2. 5. 1. 0. 1.]\n",
      " [1. 3. 2. 2. 1. 4. 1. 0.]] False\n"
     ]
    }
   ],
   "source": [
    "print(mat, four_points_cond(mat))"
   ]
  },
  {
   "cell_type": "code",
   "execution_count": 35,
   "id": "38bed94d",
   "metadata": {},
   "outputs": [
    {
     "name": "stdout",
     "output_type": "stream",
     "text": [
      "0.0\n"
     ]
    }
   ],
   "source": [
    "it_max = pow(10, 7)\n",
    "cnt = 0\n",
    "for it in range(it_max):\n",
    "    mat = get_mat(size = n, pois_lambda = lam)\n",
    "    if four_points_cond(mat) == True:\n",
    "        cnt = cnt + 1\n",
    "    \n",
    "print(cnt / it_max)\n"
   ]
  },
  {
   "cell_type": "code",
   "execution_count": null,
   "id": "254fbe1a",
   "metadata": {},
   "outputs": [],
   "source": []
  }
 ],
 "metadata": {
  "kernelspec": {
   "display_name": "Python 3",
   "language": "python",
   "name": "python3"
  },
  "language_info": {
   "codemirror_mode": {
    "name": "ipython",
    "version": 3
   },
   "file_extension": ".py",
   "mimetype": "text/x-python",
   "name": "python",
   "nbconvert_exporter": "python",
   "pygments_lexer": "ipython3",
   "version": "3.9.6"
  }
 },
 "nbformat": 4,
 "nbformat_minor": 5
}
