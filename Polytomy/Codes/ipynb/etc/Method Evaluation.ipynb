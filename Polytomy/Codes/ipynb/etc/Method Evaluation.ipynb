{
 "cells": [
  {
   "cell_type": "markdown",
   "id": "549bca48",
   "metadata": {},
   "source": [
    "# Analyze the distribution and statistics of size ($N \\le 100$) tree generated with distribution\n",
    "1. Data point generation by distribution \n",
    "   - The # of mutationable gene site is $L$. ($L = 8, 16, 32, 64$)\n",
    "   - Each mutation notation is 0 or 1, where the 1 is chosen with substitution probability.\n",
    "     - Can change base-substitution model: JC69, F81, K2P, HKY85, K3ST, TN93, SYM, GTR\n",
    "2. Generate distance matrix from data points\n",
    "3. Tree distance diagram & Tree distribution\n",
    "   - Tree visualization : `ete2`?\n",
    "4. Calculate statistics"
   ]
  },
  {
   "cell_type": "code",
   "execution_count": 54,
   "id": "bf94f00c",
   "metadata": {},
   "outputs": [
    {
     "data": {
      "image/png": "[encoded data removed]",
      "text/plain": [
       "<Figure size 640x480 with 1 Axes>"
      ]
     },
     "metadata": {},
     "output_type": "display_data"
    }
   ],
   "source": [
    "# Import packages\n",
    "import numpy as np\n",
    "import random as rand\n",
    "import matplotlib.pyplot as plt\n",
    "\n",
    "# Data point generation (JC69)\n",
    "L = 100\n",
    "N = 16\n",
    "Bases = ['A', 'T', 'G', 'C']\n",
    "\n",
    "sub_prob = 0.01\n",
    "\n",
    "mut_seqs = []\n",
    "\n",
    "for i in range(N):\n",
    "    mut_seq = []\n",
    "    for j in range(L):\n",
    "        mut_seq.append(rand.choice(Bases))\n",
    "    mut_seqs.append(mut_seq)\n",
    "\n",
    "# Generate distance matrix\n",
    "dist_matrix = np.zeros(shape = (N, N))\n",
    "for i in range(N):\n",
    "    for j in range(N):\n",
    "        dist_matrix[i][j] = 0\n",
    "        for k in range(L):\n",
    "            if mut_seqs[i][k] != mut_seqs[j][k]: #(Hamming Distance)\n",
    "                dist_matrix[i][j] += 1\n",
    "\n",
    "lower_dist_matrix = []\n",
    "for i in range(N):\n",
    "    lower_dist_matrix.append(dist_matrix[i][:i+1])\n",
    "\n",
    "lower_dist_matrix\n",
    "\n",
    "lower = [list(map(float, row)) for row in lower_dist_matrix]\n",
    "\n",
    "# Generate tree\n",
    "from Bio.Phylo.TreeConstruction import DistanceMatrix, DistanceTreeConstructor\n",
    "from Bio import Phylo\n",
    "from io import StringIO\n",
    "\n",
    "labels = ['#' + str(i+1) for i in range(N)]\n",
    "\n",
    "# Build tree from distance matrix\n",
    "dm = DistanceMatrix(labels, lower)\n",
    "constructor = DistanceTreeConstructor()\n",
    "tree_nj = constructor.nj(dm)\n",
    "\n",
    "# Unrooted to rooted\n",
    "tree_nj.root_at_midpoint()\n",
    "\n",
    "\n",
    "# Remove branch length & inner node name\n",
    "for clade in tree_nj.find_clades():\n",
    "    clade.branch_length = None\n",
    "    if not clade.is_terminal():\n",
    "        clade.name = None\n",
    "\n",
    "\n",
    "\n",
    "# Visualize tree in image (with no name in inner branch)\n",
    "Phylo.draw(tree_nj, label_func=lambda x: x.name)\n",
    "\n",
    "# Visualize tree in ascii\n",
    "# Phylo.draw_ascii(tree_nj)\n",
    "\n",
    "# Change tree into newick format\n",
    "# handle = StringIO()\n",
    "# Phylo.write(tree_nj, handle, \"newick\")\n",
    "# newick_str = handle.getvalue()\n",
    "\n",
    "# Change newick distances to 1 decimal point \n",
    "# import re\n",
    "# newick_str = re.sub(r\"(\\d+\\.\\d+)\", lambda m: f\"{float(m.group()):.1f}\", newick_str)\n",
    "\n",
    "# Print Newick \n",
    "# print(newick_str)"
   ]
  },
  {
   "cell_type": "code",
   "execution_count": null,
   "id": "3d6737b2",
   "metadata": {},
   "outputs": [
    {
     "name": "stdout",
     "output_type": "stream",
     "text": [
      "Collecting ete3\n",
      "  Downloading ete3-3.1.3.tar.gz (4.8 MB)\n",
      "\u001b[2K     \u001b[90m━━━━━━━━━━━━━━━━━━━━━━━━━━━━━━━━━━━━━━━━\u001b[0m \u001b[32m4.8/4.8 MB\u001b[0m \u001b[31m7.7 MB/s\u001b[0m  \u001b[33m0:00:00\u001b[0mm0:00:01\u001b[0m00:01\u001b[0m\n",
      "\u001b[?25h  Installing build dependencies ... \u001b[?25ldone\n",
      "\u001b[?25h  Getting requirements to build wheel ... \u001b[?25ldone\n",
      "\u001b[?25h  Preparing metadata (pyproject.toml) ... \u001b[?25ldone\n",
      "\u001b[?25hBuilding wheels for collected packages: ete3\n",
      "  Building wheel for ete3 (pyproject.toml) ... \u001b[?25ldone\n",
      "\u001b[?25h  Created wheel for ete3: filename=ete3-3.1.3-py3-none-any.whl size=2273900 sha256=a02cdcc8a74a66a0bb3857f66178bd2c9aa3b7ea56c506692dd648c63a851f17\n",
      "  Stored in directory: /Users/yongjunchoi/Library/Caches/pip/wheels/88/cc/c1/0e0d50d8a29caccf5d482d883af1bc9d9af5b043ea108008c8\n",
      "Successfully built ete3\n",
      "Installing collected packages: ete3\n",
      "\u001b[33m  WARNING: The script ete3 is installed in '/Library/Frameworks/Python.framework/Versions/3.13/bin' which is not on PATH.\n",
      "  Consider adding this directory to PATH or, if you prefer to suppress this warning, use --no-warn-script-location.\u001b[0m\u001b[33m\n",
      "\u001b[0mSuccessfully installed ete3-3.1.3\n",
      "Note: you may need to restart the kernel to use updated packages.\n"
     ]
    }
   ],
   "source": []
  },
  {
   "cell_type": "code",
   "execution_count": null,
   "id": "4b488292",
   "metadata": {},
   "outputs": [],
   "source": []
  }
 ],
 "metadata": {
  "kernelspec": {
   "display_name": "Python 3",
   "language": "python",
   "name": "python3"
  },
  "language_info": {
   "codemirror_mode": {
    "name": "ipython",
    "version": 3
   },
   "file_extension": ".py",
   "mimetype": "text/x-python",
   "name": "python",
   "nbconvert_exporter": "python",
   "pygments_lexer": "ipython3",
   "version": "3.13.7"
  }
 },
 "nbformat": 4,
 "nbformat_minor": 5
}
