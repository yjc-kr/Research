{
 "cells": [
  {
   "cell_type": "markdown",
   "id": "864d9670",
   "metadata": {},
   "source": [
    "C. elegans Lineage Data\n",
    "- Title:    A lineage-resolved molecular atlas of C. elegans embryogenesis at single-cell resolution\n",
    "- Author:   Packer et al.\n",
    "- Year:     2019\n",
    "- doi:      https://doi.org/10.1126/science.aax1971\n",
    "- GEO:      https://www.ncbi.nlm.nih.gov/geo/query/acc.cgi?acc=GSE126954\n",
    "- file:\n",
    "  - `.csv`: Supplementary file -> `cell_annotation.csv.gz` -> Column: `lineage`;\n",
    "  - ~~`.h5ad`: https://zenodo.org/records/15236812~~\n",
    "\n",
    "Worm Atlas Complete Cell List\n",
    "- url:      https://www.wormatlas.org/celllistsulston.html\n",
    "- ref:      Sulston, JE and White, JG (1988), \"Parts list\", in \"The Nematode Caenorhabditis elegans, eds WB Wood et al, Cold Spring Harbor Laboratory Press, Cold Spring Harbor, New York, USA, pp 415 - 431.\n",
    "  - Title:  The embryonic cell lineage of the nematode Caenorhabditis elegans\n",
    "  - Author: J.E. Sulston, E. Schierenberg, J.G. White, J.N. Thomson\n",
    "  - Year:   1983\n",
    "  - doi:    https://doi.org/10.1016/0012-1606(83)90201-4\n",
    "\n",
    "Method\n",
    "1. Generate Tree.\n",
    "2. a"
   ]
  },
  {
   "cell_type": "code",
   "execution_count": 1,
   "id": "f1972847",
   "metadata": {},
   "outputs": [],
   "source": [
    "import os\n",
    "os.chdir('/Users/yongjunchoi/Documents/GitHub/Research/Research')"
   ]
  },
  {
   "cell_type": "markdown",
   "id": "2dff1ce5",
   "metadata": {},
   "source": [
    "# Packer et al., (2019)"
   ]
  },
  {
   "cell_type": "markdown",
   "id": "8be00e58",
   "metadata": {},
   "source": [
    "## 0. Read `.gz` -> `.nwk` Tree"
   ]
  },
  {
   "cell_type": "code",
   "execution_count": 32,
   "id": "1581bd99",
   "metadata": {},
   "outputs": [
    {
     "name": "stdout",
     "output_type": "stream",
     "text": [
      "저장 완료: Polytomy/Codes/Data/lineages.csv\n"
     ]
    }
   ],
   "source": [
    "import pandas as pd\n",
    "import gzip\n",
    "\n",
    "file_path = \"Polytomy/Codes/Data/GSE126954_cell_annotation.csv.gz\"\n",
    "output_path = \"Polytomy/Codes/Data/lineages.csv\"\n",
    "\n",
    "# 1. 데이터 읽기\n",
    "df = pd.read_csv(file_path, compression=\"gzip\")\n",
    "\n",
    "# 2. lineage 컬럼 가져오기, 결측 제외\n",
    "lineages = df['lineage'].dropna()\n",
    "\n",
    "processed = []\n",
    "\n",
    "for lineage in lineages:\n",
    "    # ':' 뒤 제거\n",
    "    lineage = lineage.split(':')[0]\n",
    "    # '/' 기준으로 분리\n",
    "    parts = lineage.split('/')\n",
    "    processed.extend(parts)\n",
    "\n",
    "processed_unique_sorted = sorted(set(processed))\n",
    "\n",
    "# 3. 결과를 DataFrame으로 만들어 csv로 저장\n",
    "processed_df = pd.DataFrame(processed_unique_sorted, columns=['lineage'])\n",
    "processed_df.to_csv(output_path, index=False)\n",
    "\n",
    "print(f\"저장 완료: {output_path}\")"
   ]
  },
  {
   "cell_type": "markdown",
   "id": "c03dbee6",
   "metadata": {},
   "source": []
  },
  {
   "cell_type": "markdown",
   "id": "509e4d5f",
   "metadata": {},
   "source": []
  },
  {
   "cell_type": "code",
   "execution_count": null,
   "id": "070300c0",
   "metadata": {},
   "outputs": [],
   "source": [
    "import pandas as pd\n",
    "import gzip\n",
    "\n",
    "file_path = \"Polytomy/Codes/Data/GSE126954_cell_annotation.csv.gz\"\n",
    "\n",
    "# 0. pandas에서 gzip 바로 읽기\n",
    "cell_anno = pd.read_csv(file_path, compression='gzip')\n",
    "\n",
    "# 1. 데이터 읽기\n",
    "df = pd.read_csv(file_path, compression=\"gzip\")\n",
    "lineages = df['lineage'].dropna().unique()  # 결측 제외, 고유 lineage\n",
    "\n",
    "# 2. lineage -> Newick tree 변환 (대문자 덩어리, 소문자 개별 노드)\n",
    "def lineage_to_newick(lineages):\n",
    "    root = Tree(name=\"zygote\")\n",
    "    \n",
    "    for lin in lineages:\n",
    "        # '/'가 있으면 여러 경로로 분리\n",
    "        paths = lin.split('/')\n",
    "        for p in paths:\n",
    "            node = root\n",
    "            i = 0\n",
    "            while i < len(p):\n",
    "                # 대문자인 경우: 연속 대문자 덩어리 추출\n",
    "                if p[i].isupper():\n",
    "                    j = i + 1\n",
    "                    while j < len(p) and p[j].isupper():\n",
    "                        j += 1\n",
    "                    chunk = p[i:j]  # 대문자 덩어리\n",
    "                    i = j\n",
    "                    # 자식 존재 여부 확인 후 생성\n",
    "                    existing_child = next((c for c in node.children if c.name == chunk), None)\n",
    "                    if existing_child:\n",
    "                        node = existing_child\n",
    "                    else:\n",
    "                        node = node.add_child(name=chunk)\n",
    "                else:\n",
    "                    # 소문자는 글자 하나씩 노드 생성\n",
    "                    chunk = p[i]\n",
    "                    i += 1\n",
    "                    existing_child = next((c for c in node.children if c.name == chunk), None)\n",
    "                    if existing_child:\n",
    "                        node = existing_child\n",
    "                    else:\n",
    "                        node = node.add_child(name=chunk)\n",
    "    return root\n",
    "\n",
    "tree = lineage_to_newick(lineages)\n",
    "\n",
    "# 3. Newick 파일로 저장\n",
    "output_path = \"Polytomy/Codes/nwk/c_elegans_lineage_tree_resolved.nwk\"\n",
    "tree.write(format=1, outfile=output_path)\n",
    "\n",
    "print(f\"트리 생성 완료. 저장 위치: {output_path}\")"
   ]
  },
  {
   "cell_type": "code",
   "execution_count": null,
   "id": "e0f25305",
   "metadata": {},
   "outputs": [],
   "source": []
  },
  {
   "cell_type": "markdown",
   "id": "53141461",
   "metadata": {},
   "source": [
    "## 1.Read Raw data -> `.nwk` Tree"
   ]
  },
  {
   "cell_type": "code",
   "execution_count": 4,
   "id": "4b652ab8",
   "metadata": {},
   "outputs": [],
   "source": [
    "import os\n",
    "os.getcwd()\n",
    "os.chdir('/Users/yongjunchoi/Documents/GitHub/Research/Research')"
   ]
  },
  {
   "cell_type": "code",
   "execution_count": 5,
   "id": "8a98311d",
   "metadata": {},
   "outputs": [
    {
     "name": "stdout",
     "output_type": "stream",
     "text": [
      "트리 생성 완료. 저장 위치: Polytomy/Codes/nwk/c_elegans_lineage_tree.nwk\n"
     ]
    }
   ],
   "source": [
    "import pandas as pd\n",
    "from ete3 import Tree\n",
    "\n",
    "# 0. 파일 경로\n",
    "file_path = \"Polytomy/Codes/Data/GSE126954_cell_annotation.csv.gz\"\n",
    "\n",
    "# 1. 데이터 읽기\n",
    "df = pd.read_csv(file_path, compression=\"gzip\")\n",
    "lineages = df['lineage'].dropna().unique()  # 결측 제외, 고유 lineage\n",
    "\n",
    "# 2. lineage -> Newick tree 변환 (대문자 덩어리, 소문자 개별 노드)\n",
    "def lineage_to_newick(lineages):\n",
    "    root = Tree(name=\"zygote\")\n",
    "    \n",
    "    for lin in lineages:\n",
    "        # '/'가 있으면 여러 경로로 분리\n",
    "        paths = lin.split('/')\n",
    "        for p in paths:\n",
    "            node = root\n",
    "            i = 0\n",
    "            while i < len(p):\n",
    "                # 대문자인 경우: 연속 대문자 덩어리 추출\n",
    "                if p[i].isupper():\n",
    "                    j = i + 1\n",
    "                    while j < len(p) and p[j].isupper():\n",
    "                        j += 1\n",
    "                    chunk = p[i:j]  # 대문자 덩어리\n",
    "                    i = j\n",
    "                    # 자식 존재 여부 확인 후 생성\n",
    "                    existing_child = next((c for c in node.children if c.name == chunk), None)\n",
    "                    if existing_child:\n",
    "                        node = existing_child\n",
    "                    else:\n",
    "                        node = node.add_child(name=chunk)\n",
    "                else:\n",
    "                    # 소문자는 글자 하나씩 노드 생성\n",
    "                    chunk = p[i]\n",
    "                    i += 1\n",
    "                    existing_child = next((c for c in node.children if c.name == chunk), None)\n",
    "                    if existing_child:\n",
    "                        node = existing_child\n",
    "                    else:\n",
    "                        node = node.add_child(name=chunk)\n",
    "    return root\n",
    "\n",
    "tree = lineage_to_newick(lineages)\n",
    "\n",
    "# 3. Newick 파일로 저장\n",
    "output_path = \"Polytomy/Codes/nwk/c_elegans_lineage_tree.nwk\"\n",
    "tree.write(format=1, outfile=output_path)\n",
    "\n",
    "print(f\"트리 생성 완료. 저장 위치: {output_path}\")"
   ]
  },
  {
   "cell_type": "code",
   "execution_count": 6,
   "id": "dd07b0f5",
   "metadata": {},
   "outputs": [],
   "source": [
    "from ete3 import Tree, TreeStyle\n",
    "\n",
    "# 1. 저장된 Newick 파일 불러오기\n",
    "tree = Tree(\"Polytomy/Codes/nwk/c_elegans_lineage_tree.nwk\", format=1)\n",
    "\n",
    "# 2. TreeStyle 설정\n",
    "ts = TreeStyle()\n",
    "ts.show_leaf_name = True       # 리프 노드 이름 표시\n",
    "ts.show_branch_length = False  # branch length 표시 여부\n",
    "ts.show_branch_support = False # branch support 표시 여부\n",
    "ts.mode = \"r\"                  # 'c' = circular, 'r' = rectangular (default)\n",
    "ts.scale = 20                  # 노드 간 간격 조정\n",
    "\n",
    "# 3. 트리 시각화\n",
    "tree.show(tree_style=ts)"
   ]
  },
  {
   "cell_type": "markdown",
   "id": "d532ea24",
   "metadata": {},
   "source": [
    "## 1.2. `.nwk` Tree -> Polytomy\n",
    "\n",
    "1. Among leaves, select `n` leaves for polytomy. \n",
    "2. Polytomy leaves의 MRCA 확인.\n",
    "3. Polytomy leaves를 일단 제거.\n",
    "4. Polytomy leaves MRCA에 polytomy 추가"
   ]
  },
  {
   "cell_type": "markdown",
   "id": "9cf311e9",
   "metadata": {},
   "source": [
    "### 전처리: Polytomy 제거"
   ]
  },
  {
   "cell_type": "code",
   "execution_count": 18,
   "id": "3faafd9f",
   "metadata": {},
   "outputs": [
    {
     "name": "stdout",
     "output_type": "stream",
     "text": [
      "Root 아래 자식 노드들:\n",
      "- MS\n",
      "- D\n",
      "- AB\n",
      "- E\n",
      "- C\n",
      "- Z\n",
      "- 2\n"
     ]
    }
   ],
   "source": [
    "from ete3 import Tree\n",
    "\n",
    "# 트리 불러오기\n",
    "tree = Tree(\"Polytomy/Codes/nwk/c_elegans_lineage_tree.nwk\", format=1)\n",
    "\n",
    "# root 바로 아래 자식 노드 이름 출력\n",
    "print(\"Root 아래 자식 노드들:\")\n",
    "for child in tree.children:\n",
    "    print(f\"- {child.name if child.name else '(internal node)'}\")"
   ]
  },
  {
   "cell_type": "code",
   "execution_count": 7,
   "id": "8ad2cb39",
   "metadata": {},
   "outputs": [
    {
     "name": "stdout",
     "output_type": "stream",
     "text": [
      "Polytomy-removed tree saved to Polytomy/Codes/nwk/c_elegans_lineage_tree_polytomy_removed.nwk\n"
     ]
    }
   ],
   "source": [
    "from ete3 import Tree\n",
    "\n",
    "# ----------------------------\n",
    "# 1. Newick 파일 불러오기\n",
    "# ----------------------------\n",
    "tree = Tree(\"Polytomy/Codes/nwk/c_elegans_lineage_tree.nwk\", format=1)\n",
    "\n",
    "# ----------------------------\n",
    "# 2. Polytomy 제거 함수\n",
    "# ----------------------------\n",
    "def remove_polytomy(node):\n",
    "    # Post-order traversal\n",
    "    for child in list(node.children):\n",
    "        remove_polytomy(child)\n",
    "\n",
    "    # Polytomy 제거 (child >= 3)\n",
    "    if len(node.children) >= 3:\n",
    "        for child in list(node.children):\n",
    "            node.remove_child(child)\n",
    "\n",
    "# ----------------------------\n",
    "# 3. 트리 처리 실행\n",
    "# ----------------------------\n",
    "remove_polytomy(tree)\n",
    "\n",
    "# ----------------------------\n",
    "# 4. 최종 Newick 출력 및 파일 저장\n",
    "# ----------------------------\n",
    "output_file = \"Polytomy/Codes/nwk/c_elegans_lineage_tree_polytomy_removed.nwk\"\n",
    "tree.write(outfile=output_file)\n",
    "print(f\"Polytomy-removed tree saved to {output_file}\")"
   ]
  },
  {
   "cell_type": "code",
   "execution_count": null,
   "id": "5bdd3078",
   "metadata": {},
   "outputs": [],
   "source": []
  },
  {
   "cell_type": "markdown",
   "id": "673157c5",
   "metadata": {},
   "source": [
    "# Worm atlas\n",
    "- url:  https://www.wormatlas.org/celllistsulston.htm\n",
    "- Wormatlas -> Resource -> Cell Lists -> C. elegans Cell List\n",
    "- ref:  JE and White, JG (1988), \"Parts list\", in \"The Nematode Caenorhabditis elegans, eds WB Wood et al, Cold Spring Harbor Laboratory Press, Cold Spring Harbor, New York, USA, pp 415 - 431"
   ]
  },
  {
   "cell_type": "markdown",
   "id": "52798616",
   "metadata": {},
   "source": [
    "## 0. 데이터 전처리\n",
    "- `.`와 ` ` 동일시 (code)\n",
    "- `,`가 있을 경우 밑에 추가 (code)\n",
    "- `/`가 있을 경우 밑에 추가 (code)\n",
    "- `l/r`가 있을 경우 `*l*`, `*r*`로 분리 (manually; #: 1359 -> 1369)\n",
    "  - `Complete_cell_list.csv` -> `Complete_cell_list_LR.csv`\n",
    "- Cell 이 `Z`에서 안오면 제거 (code; #: 1369 -> 1264)\n",
    "- 중복 제거 (code; #: 1264 -> 1229)\n",
    "  - `Complete_cell_list_LR.csv` -> `Complete_cell_list_preprocessed.csv`"
   ]
  },
  {
   "cell_type": "code",
   "execution_count": 3,
   "id": "9e65a6c0",
   "metadata": {},
   "outputs": [],
   "source": [
    "import pandas as pd\n",
    "\n",
    "# CSV 불러오기\n",
    "complete_cell_data = pd.read_csv(\"Polytomy/Codes/Data/Complete_cell_list_LR.csv\", quotechar='\"')\n",
    "\n",
    "# '.'을 공백으로 대체\n",
    "complete_cell_data['Lineage Name'] = complete_cell_data['Lineage Name'].str.replace('.', ' ', regex=False)\n",
    "\n",
    "# ','와 '/' 기준으로 분리 후 공백 제거하고 explode\n",
    "complete_cell_data_expanded = complete_cell_data.assign(\n",
    "    **{\n",
    "        'Lineage Name': complete_cell_data['Lineage Name']\n",
    "        .apply(lambda x: [s.strip() for part in x.split(',') for s in part.split('/')])\n",
    "    }\n",
    ").explode('Lineage Name').reset_index(drop=True)\n",
    "\n",
    "# Cell 이름 집합\n",
    "cell_names = set(complete_cell_data_expanded['Cell'].dropna())\n",
    "\n",
    "# lineage_maps 생성: Cell -> list of Lineages\n",
    "from collections import defaultdict\n",
    "\n",
    "lineage_maps = defaultdict(list)\n",
    "for _, row in complete_cell_data_expanded.iterrows():\n",
    "    lineage_maps[row['Cell']].append(row['Lineage Name'])\n",
    "\n",
    "# 재귀적으로 prefix 교체 및 code 합치기\n",
    "def resolve_lineage(lineage):\n",
    "    parts = lineage.split(' ')\n",
    "    prefix = parts[0]\n",
    "    codes = ''.join(parts[1:])\n",
    "    \n",
    "    if prefix not in lineage_maps:\n",
    "        return prefix, codes\n",
    "    else:\n",
    "        # 첫 번째 Lineage만 재귀 적용\n",
    "        resolved_prefix, resolved_codes = resolve_lineage(lineage_maps[prefix][0])\n",
    "        return resolved_prefix, resolved_codes + codes\n",
    "\n",
    "# 결과 저장\n",
    "resolved_data = []\n",
    "for _, row in complete_cell_data_expanded.iterrows():\n",
    "    cell = row['Cell']\n",
    "    lineage = row['Lineage Name']\n",
    "    prefix, codes = resolve_lineage(lineage)\n",
    "    resolved_data.append({\n",
    "        'Cell': cell,\n",
    "        'Prefix': prefix,\n",
    "        'Code': codes\n",
    "    })\n",
    "\n",
    "resolved_df = pd.DataFrame(resolved_data)\n",
    "\n",
    "# Prefix가 'Z'인 행만 선택\n",
    "z_only_df = resolved_df[resolved_df['Prefix'] == 'Z'].reset_index(drop=True)\n",
    "\n",
    "# 'Cell', 'Prefix', 'Code'가 모두 같은 행 제거\n",
    "z_only_df_unique = z_only_df.drop_duplicates(subset=['Cell', 'Prefix', 'Code']).reset_index(drop=True)\n",
    "\n",
    "# Prefix와 Code 합치기\n",
    "z_only_df_unique['Lineage Name'] = z_only_df_unique['Prefix'] + z_only_df_unique['Code']\n",
    "\n",
    "# 필요한 열만 선택\n",
    "z_only_df_unique = z_only_df_unique[['Cell', 'Lineage Name']]\n",
    "\n",
    "# 중복 이름 처리\n",
    "name_count = {}\n",
    "def make_unique_name(name):\n",
    "    if name not in name_count:\n",
    "        name_count[name] = 1\n",
    "        return name\n",
    "    else:\n",
    "        name_count[name] += 1\n",
    "        return f\"{name}_{name_count[name]}\"\n",
    "\n",
    "# Cell 컬럼에 적용\n",
    "z_only_df_unique['Cell'] = z_only_df_unique['Cell'].apply(make_unique_name)\n",
    "\n",
    "# CSV로 저장\n",
    "preprocessed_output_path = \"Polytomy/Codes/Data/Complete_cell_list_preprocessed.csv\"\n",
    "z_only_df_unique.to_csv(preprocessed_output_path, index=False)"
   ]
  },
  {
   "cell_type": "markdown",
   "id": "6343b221",
   "metadata": {},
   "source": [
    "## 1. `.csv` to From-To Data"
   ]
  },
  {
   "cell_type": "code",
   "execution_count": 70,
   "id": "f5e870b1",
   "metadata": {},
   "outputs": [
    {
     "name": "stdout",
     "output_type": "stream",
     "text": [
      ".csv to edge tree : Total daughters:  1099\n",
      "0 daughters: 1099 nodes, 1 daughters: 170 nodes, 2 daughters: 1066 nodes, 3 daughters: 1 nodes, 4 daughters: 10 nodes\n",
      "\n",
      "Removing existing polytomy nodes...\n",
      "\n",
      ".csv to edge tree : Total daughters:  984\n",
      "0 daughters: 984 nodes, 1 daughters: 164 nodes, 2 daughters: 983 nodes\n"
     ]
    }
   ],
   "source": [
    "# csv to edge\n",
    "import pandas as pd\n",
    "from collections import Counter\n",
    "from Bio import Phylo\n",
    "from collections import defaultdict\n",
    "\n",
    "df = pd.read_csv(\"Polytomy/Codes/Data/Complete_cell_list_preprocessed.csv\")\n",
    "\n",
    "edges = []\n",
    "\n",
    "for idx, row in df.iterrows():\n",
    "    lineage = row['Lineage Name']\n",
    "    for i in range(1, len(lineage)):\n",
    "        parent = lineage[:i]       # 부모 코드\n",
    "        child  = lineage[:i+1]     # 자식 코드\n",
    "        edges.append({'from': parent, 'to': child})\n",
    "\n",
    "edges_df = pd.DataFrame(edges).drop_duplicates().reset_index(drop=True)\n",
    "\n",
    "edges_output_path = \"Polytomy/Codes/Data/edges_list_all.csv\"\n",
    "edges_df.to_csv(edges_output_path, index=False)\n",
    "\n",
    "\n",
    "# edge to nwk\n",
    "edges_df = pd.read_csv(\"Polytomy/Codes/Data/edges_list_all.csv\")\n",
    "\n",
    "tree_dict = defaultdict(list)\n",
    "for _, row in edges_df.iterrows():\n",
    "    tree_dict[row['from']].append(row['to'])\n",
    "\n",
    "def build_newick(node):\n",
    "    if node not in tree_dict or len(tree_dict[node]) == 0:\n",
    "        return node\n",
    "    else:\n",
    "        children_newick = [build_newick(child) for child in tree_dict[node]]\n",
    "        return \"(\" + \",\".join(children_newick) + \")\" + node\n",
    "\n",
    "root = 'Z'\n",
    "newick_str = build_newick(root) + \";\"\n",
    "\n",
    "newick_path = \"Polytomy/Codes/nwk/Polytomy_Test/tree_all_mapped.nwk\"\n",
    "with open(newick_path, \"w\") as f:\n",
    "    f.write(newick_str)\n",
    "\n",
    "# Remove polytomy in nwk\n",
    "from Bio import Phylo\n",
    "\n",
    "newick_path = \"Polytomy/Codes/nwk/Polytomy_Test/tree_all_mapped.nwk\"\n",
    "tree = Phylo.read(newick_path, \"newick\")\n",
    "\n",
    "print(\".csv to edge tree : Total daughters: \", len(tree.get_terminals()))\n",
    "print(*[f\"{k} daughters: {v} nodes\" \n",
    "        for k, v in sorted(Counter(len(c.clades) for c in tree.find_clades()).items())], \n",
    "      sep=\", \")\n",
    "\n",
    "def num_daughters(clade):\n",
    "    return len(clade.clades)\n",
    "\n",
    "def remove_nodes(clade):\n",
    "    clade.clades = [child for child in clade.clades if num_daughters(child) < 3]\n",
    "    for child in clade.clades:\n",
    "        remove_nodes(child)\n",
    "    return None\n",
    "\n",
    "print(\"\\nRemoving existing polytomy nodes...\\n\")\n",
    "remove_nodes(tree.root)\n",
    "\n",
    "output_path = \"Polytomy/Codes/nwk/Polytomy_Test/tree_pruned.nwk\"\n",
    "Phylo.write(tree, output_path, \"newick\")\n",
    "\n",
    "tree = Phylo.read(output_path, \"newick\")\n",
    "print(\".csv to edge tree : Total daughters: \", len(tree.get_terminals()))\n",
    "print(*[f\"{k} daughters: {v} nodes\" \n",
    "        for k, v in sorted(Counter(len(c.clades) for c in tree.find_clades()).items())], \n",
    "      sep=\", \")"
   ]
  },
  {
   "cell_type": "markdown",
   "id": "5a143e6c",
   "metadata": {},
   "source": [
    "## 2. Generate Artificial Polytomy"
   ]
  },
  {
   "cell_type": "markdown",
   "id": "e2094b2c",
   "metadata": {},
   "source": [
    "### Method 1: Pick n among leaves -> Remove leaves -> Add Polytomy"
   ]
  },
  {
   "cell_type": "code",
   "execution_count": 71,
   "id": "17ab77c1",
   "metadata": {},
   "outputs": [
    {
     "name": "stdout",
     "output_type": "stream",
     "text": [
      "Before pruning: Total daughters:  984\n",
      "0 daughters: 984 nodes, 1 daughters: 164 nodes, 2 daughters: 983 nodes\n",
      "\n",
      "Randomly selecting 16 leaves to prune...\n",
      "\n",
      "After pruning: Total daughters:  968\n",
      "0 daughters: 968 nodes, 1 daughters: 179 nodes, 2 daughters: 967 nodes\n",
      "\n",
      "Adding polytomy...\n",
      "\n",
      "After polytomizing MRCA: Total daughters:  984\n",
      "0 daughters: 984 nodes, 1 daughters: 179 nodes, 2 daughters: 966 nodes, 18 daughters: 1 nodes\n"
     ]
    }
   ],
   "source": [
    "import random\n",
    "from Bio import Phylo\n",
    "from Bio.Phylo.Newick import Clade\n",
    "from copy import deepcopy\n",
    "from collections import Counter\n",
    "\n",
    "tree_path = \"Polytomy/Codes/nwk/Polytomy_Test/tree_pruned.nwk\"\n",
    "tree = Phylo.read(tree_path, \"newick\")\n",
    "\n",
    "print(\"Before pruning: Total daughters: \", len(tree.get_terminals()))\n",
    "print(*[f\"{k} daughters: {v} nodes\" \n",
    "        for k, v in sorted(Counter(len(c.clades) for c in tree.find_clades()).items())], \n",
    "      sep=\", \")\n",
    "\n",
    "all_leaves = [leaf.name for leaf in tree.get_terminals()]\n",
    "polytomy_size = 16\n",
    "\n",
    "print(f\"\\nRandomly selecting {polytomy_size} leaves to prune...\\n\")\n",
    "\n",
    "selected_leaves = random.sample(all_leaves, polytomy_size)\n",
    "mrca = tree.common_ancestor(selected_leaves)\n",
    "allowed_leaves = [leaf for leaf in all_leaves if leaf not in selected_leaves] + [mrca.name]\n",
    "\n",
    "def prune(clade, allowed_leaves):\n",
    "    for child in list(clade.clades):\n",
    "        prune(child, allowed_leaves)\n",
    "        if child.is_terminal() and child.name not in allowed_leaves:\n",
    "            clade.clades.remove(child)\n",
    "\n",
    "prune(mrca, allowed_leaves)\n",
    "\n",
    "print(\"After pruning: Total daughters: \", len(tree.get_terminals()))\n",
    "print(*[f\"{k} daughters: {v} nodes\" \n",
    "        for k, v in sorted(Counter(len(c.clades) for c in tree.find_clades()).items())], \n",
    "      sep=\", \")\n",
    "\n",
    "print(f\"\\nAdding polytomy...\\n\")\n",
    "\n",
    "def add_polytomy(clade, new_children):\n",
    "    clade.clades.extend(new_children)\n",
    "\n",
    "add_polytomy(mrca, [Clade(name=leaf) for leaf in selected_leaves])\n",
    "\n",
    "print(\"After polytomizing MRCA: Total daughters: \", len(tree.get_terminals()))\n",
    "print(*[f\"{k} daughters: {v} nodes\" \n",
    "        for k, v in sorted(Counter(len(c.clades) for c in tree.find_clades()).items())], \n",
    "      sep=\", \")"
   ]
  },
  {
   "cell_type": "markdown",
   "id": "03c485ea",
   "metadata": {},
   "source": [
    "- 2개씩 큰게 추가됨.\n",
    "- MRCA에서 Polytomy인 트리 + Polytomy 아닌 트리가 분기되게 해야하나?\n",
    "  - 그러면 트리가 모양이 너무 바뀌지 않나?"
   ]
  },
  {
   "cell_type": "markdown",
   "id": "ffd5f4cf",
   "metadata": {},
   "source": [
    "### Method 2: Pick among n-leaved subtree -> Polytomize"
   ]
  },
  {
   "cell_type": "code",
   "execution_count": 72,
   "id": "6fba41bb",
   "metadata": {},
   "outputs": [
    {
     "name": "stdout",
     "output_type": "stream",
     "text": [
      "Before polytomizing: Total daughters:  984\n",
      "0 daughters: 984 nodes, 1 daughters: 164 nodes, 2 daughters: 983 nodes\n",
      "\n",
      "Polytomizing one of the subtree among 141 trees...\n",
      "\n",
      "After polytomizing: Total daughters:  984\n",
      "0 daughters: 984 nodes, 1 daughters: 161 nodes, 2 daughters: 980 nodes, 4 daughters: 1 nodes\n"
     ]
    }
   ],
   "source": [
    "from Bio import Phylo\n",
    "import random\n",
    "from collections import Counter\n",
    "from Bio.Phylo.Newick import Clade\n",
    "\n",
    "tree_path = \"Polytomy/Codes/nwk/Polytomy_Test/tree_pruned.nwk\"\n",
    "tree = Phylo.read(tree_path, \"newick\")\n",
    "\n",
    "print(\"Before polytomizing: Total daughters: \", len(tree.get_terminals()))\n",
    "print(*[f\"{k} daughters: {v} nodes\" \n",
    "        for k, v in sorted(Counter(len(c.clades) for c in tree.find_clades()).items())], \n",
    "      sep=\", \")\n",
    "\n",
    "def find_nodes_with_m_leaves(clade, m):\n",
    "    nodes = []\n",
    "    def helper(node):\n",
    "        if node.is_terminal():\n",
    "            return 1\n",
    "        leaf_count = sum(helper(c) for c in node.clades)\n",
    "        if leaf_count == m:\n",
    "            nodes.append(node)\n",
    "        return leaf_count\n",
    "    helper(clade)\n",
    "    return nodes\n",
    "\n",
    "polytomy_size = 4\n",
    "nodes_with_m_leaves = find_nodes_with_m_leaves(tree.root, polytomy_size)\n",
    "\n",
    "if len(nodes_with_m_leaves) == 0:\n",
    "    print(\"\\nUnable to polytomize!\")\n",
    "else:\n",
    "    print(\"\\nPolytomizing one of the subtree among {} trees...\\n\".format(len(nodes_with_m_leaves)))\n",
    "\n",
    "    def count_children(node):\n",
    "        counts = Counter()\n",
    "        child_count = len(node.clades)\n",
    "        counts[child_count] += 1\n",
    "        \n",
    "        for child in node.clades:\n",
    "            counts.update(count_children(child))\n",
    "        return counts\n",
    "\n",
    "    child_counter = count_children(tree.root)\n",
    "\n",
    "    picked_node = random.choice(nodes_with_m_leaves)\n",
    "\n",
    "    def polytomize_node(node):\n",
    "        leaves = node.get_terminals()\n",
    "        node.clades = leaves\n",
    "\n",
    "    polytomize_node(picked_node)\n",
    "    print(\"After polytomizing: Total daughters: \", len(tree.get_terminals()))\n",
    "    print(*[f\"{k} daughters: {v} nodes\" \n",
    "        for k, v in sorted(Counter(len(c.clades) for c in tree.find_clades()).items())], \n",
    "      sep=\", \")\n",
    "    "
   ]
  },
  {
   "cell_type": "markdown",
   "id": "399b0bff",
   "metadata": {},
   "source": [
    "## 2. Randomly Generate Resolved Polytomy"
   ]
  },
  {
   "cell_type": "markdown",
   "id": "dc3cf45d",
   "metadata": {},
   "source": [
    "### Method 1: BD Model"
   ]
  },
  {
   "cell_type": "code",
   "execution_count": null,
   "id": "a23d8ebe",
   "metadata": {},
   "outputs": [],
   "source": []
  },
  {
   "cell_type": "markdown",
   "id": "b9e0d3af",
   "metadata": {},
   "source": [
    "### Method 2: Beta Splitting Model"
   ]
  },
  {
   "cell_type": "code",
   "execution_count": null,
   "id": "615e08da",
   "metadata": {},
   "outputs": [],
   "source": []
  },
  {
   "cell_type": "markdown",
   "id": "965f1a5f",
   "metadata": {},
   "source": [
    "### Method 3: Kingman Coalescent Model"
   ]
  },
  {
   "cell_type": "code",
   "execution_count": null,
   "id": "88203775",
   "metadata": {},
   "outputs": [],
   "source": []
  },
  {
   "cell_type": "markdown",
   "id": "70e564c4",
   "metadata": {},
   "source": [
    "### Method 4: Yule Model"
   ]
  },
  {
   "cell_type": "code",
   "execution_count": null,
   "id": "72cdf61c",
   "metadata": {},
   "outputs": [],
   "source": []
  }
 ],
 "metadata": {
  "kernelspec": {
   "display_name": "Python 3",
   "language": "python",
   "name": "python3"
  },
  "language_info": {
   "codemirror_mode": {
    "name": "ipython",
    "version": 3
   },
   "file_extension": ".py",
   "mimetype": "text/x-python",
   "name": "python",
   "nbconvert_exporter": "python",
   "pygments_lexer": "ipython3",
   "version": "3.9.6"
  }
 },
 "nbformat": 4,
 "nbformat_minor": 5
}
