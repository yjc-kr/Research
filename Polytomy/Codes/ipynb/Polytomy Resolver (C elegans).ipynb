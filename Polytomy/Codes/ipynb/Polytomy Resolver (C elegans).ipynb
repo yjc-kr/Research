{
 "cells": [
  {
   "cell_type": "markdown",
   "id": "864d9670",
   "metadata": {},
   "source": [
    "C. elegans Lineage Data\n",
    "- Title:    A lineage-resolved molecular atlas of C. elegans embryogenesis at single-cell resolution\n",
    "- Author:   Packer et al.\n",
    "- Year:     2019\n",
    "- doi:      https://doi.org/10.1126/science.aax1971\n",
    "- GEO:      https://www.ncbi.nlm.nih.gov/geo/query/acc.cgi?acc=GSE126954\n",
    "- file:\n",
    "  - `.csv`: Supplementary file -> `cell_annotation.csv.gz` -> Column: `lineage`;\n",
    "  - ~~`.h5ad`: https://zenodo.org/records/15236812~~\n",
    "\n",
    "Worm Atlas Complete Cell List\n",
    "- url:      https://www.wormatlas.org/celllistsulston.html\n",
    "- ref:      Sulston, JE and White, JG (1988), \"Parts list\", in \"The Nematode Caenorhabditis elegans, eds WB Wood et al, Cold Spring Harbor Laboratory Press, Cold Spring Harbor, New York, USA, pp 415 - 431.\n",
    "  - Title:  The embryonic cell lineage of the nematode Caenorhabditis elegans\n",
    "  - Author: J.E. Sulston, E. Schierenberg, J.G. White, J.N. Thomson\n",
    "  - Year:   1983\n",
    "  - doi:    https://doi.org/10.1016/0012-1606(83)90201-4\n",
    "\n",
    "Method\n",
    "1. Generate Tree.\n",
    "2. a"
   ]
  },
  {
   "cell_type": "code",
   "execution_count": 26,
   "id": "f1972847",
   "metadata": {},
   "outputs": [],
   "source": [
    "import os\n",
    "os.chdir('/Users/yongjunchoi/Documents/GitHub/Research/Research')"
   ]
  },
  {
   "cell_type": "markdown",
   "id": "2dff1ce5",
   "metadata": {},
   "source": [
    "# Packer et al., (2019)"
   ]
  },
  {
   "cell_type": "markdown",
   "id": "8be00e58",
   "metadata": {},
   "source": [
    "## 0. Read `.gz` -> `.nwk` Tree"
   ]
  },
  {
   "cell_type": "code",
   "execution_count": 32,
   "id": "1581bd99",
   "metadata": {},
   "outputs": [
    {
     "name": "stdout",
     "output_type": "stream",
     "text": [
      "저장 완료: Polytomy/Codes/Data/lineages.csv\n"
     ]
    }
   ],
   "source": [
    "import pandas as pd\n",
    "import gzip\n",
    "\n",
    "file_path = \"Polytomy/Codes/Data/GSE126954_cell_annotation.csv.gz\"\n",
    "output_path = \"Polytomy/Codes/Data/lineages.csv\"\n",
    "\n",
    "# 1. 데이터 읽기\n",
    "df = pd.read_csv(file_path, compression=\"gzip\")\n",
    "\n",
    "# 2. lineage 컬럼 가져오기, 결측 제외\n",
    "lineages = df['lineage'].dropna()\n",
    "\n",
    "processed = []\n",
    "\n",
    "for lineage in lineages:\n",
    "    # ':' 뒤 제거\n",
    "    lineage = lineage.split(':')[0]\n",
    "    # '/' 기준으로 분리\n",
    "    parts = lineage.split('/')\n",
    "    processed.extend(parts)\n",
    "\n",
    "processed_unique_sorted = sorted(set(processed))\n",
    "\n",
    "# 3. 결과를 DataFrame으로 만들어 csv로 저장\n",
    "processed_df = pd.DataFrame(processed_unique_sorted, columns=['lineage'])\n",
    "processed_df.to_csv(output_path, index=False)\n",
    "\n",
    "print(f\"저장 완료: {output_path}\")"
   ]
  },
  {
   "cell_type": "markdown",
   "id": "c03dbee6",
   "metadata": {},
   "source": []
  },
  {
   "cell_type": "markdown",
   "id": "509e4d5f",
   "metadata": {},
   "source": []
  },
  {
   "cell_type": "code",
   "execution_count": null,
   "id": "070300c0",
   "metadata": {},
   "outputs": [],
   "source": [
    "import pandas as pd\n",
    "import gzip\n",
    "\n",
    "file_path = \"Polytomy/Codes/Data/GSE126954_cell_annotation.csv.gz\"\n",
    "\n",
    "# 0. pandas에서 gzip 바로 읽기\n",
    "cell_anno = pd.read_csv(file_path, compression='gzip')\n",
    "\n",
    "# 1. 데이터 읽기\n",
    "df = pd.read_csv(file_path, compression=\"gzip\")\n",
    "lineages = df['lineage'].dropna().unique()  # 결측 제외, 고유 lineage\n",
    "\n",
    "# 2. lineage -> Newick tree 변환 (대문자 덩어리, 소문자 개별 노드)\n",
    "def lineage_to_newick(lineages):\n",
    "    root = Tree(name=\"zygote\")\n",
    "    \n",
    "    for lin in lineages:\n",
    "        # '/'가 있으면 여러 경로로 분리\n",
    "        paths = lin.split('/')\n",
    "        for p in paths:\n",
    "            node = root\n",
    "            i = 0\n",
    "            while i < len(p):\n",
    "                # 대문자인 경우: 연속 대문자 덩어리 추출\n",
    "                if p[i].isupper():\n",
    "                    j = i + 1\n",
    "                    while j < len(p) and p[j].isupper():\n",
    "                        j += 1\n",
    "                    chunk = p[i:j]  # 대문자 덩어리\n",
    "                    i = j\n",
    "                    # 자식 존재 여부 확인 후 생성\n",
    "                    existing_child = next((c for c in node.children if c.name == chunk), None)\n",
    "                    if existing_child:\n",
    "                        node = existing_child\n",
    "                    else:\n",
    "                        node = node.add_child(name=chunk)\n",
    "                else:\n",
    "                    # 소문자는 글자 하나씩 노드 생성\n",
    "                    chunk = p[i]\n",
    "                    i += 1\n",
    "                    existing_child = next((c for c in node.children if c.name == chunk), None)\n",
    "                    if existing_child:\n",
    "                        node = existing_child\n",
    "                    else:\n",
    "                        node = node.add_child(name=chunk)\n",
    "    return root\n",
    "\n",
    "tree = lineage_to_newick(lineages)\n",
    "\n",
    "# 3. Newick 파일로 저장\n",
    "output_path = \"Polytomy/Codes/nwk/c_elegans_lineage_tree_resolved.nwk\"\n",
    "tree.write(format=1, outfile=output_path)\n",
    "\n",
    "print(f\"트리 생성 완료. 저장 위치: {output_path}\")"
   ]
  },
  {
   "cell_type": "code",
   "execution_count": null,
   "id": "e0f25305",
   "metadata": {},
   "outputs": [],
   "source": []
  },
  {
   "cell_type": "markdown",
   "id": "53141461",
   "metadata": {},
   "source": [
    "## 1.Read Raw data -> `.nwk` Tree"
   ]
  },
  {
   "cell_type": "code",
   "execution_count": 4,
   "id": "4b652ab8",
   "metadata": {},
   "outputs": [],
   "source": [
    "import os\n",
    "os.getcwd()\n",
    "os.chdir('/Users/yongjunchoi/Documents/GitHub/Research/Research')"
   ]
  },
  {
   "cell_type": "code",
   "execution_count": 5,
   "id": "8a98311d",
   "metadata": {},
   "outputs": [
    {
     "name": "stdout",
     "output_type": "stream",
     "text": [
      "트리 생성 완료. 저장 위치: Polytomy/Codes/nwk/c_elegans_lineage_tree.nwk\n"
     ]
    }
   ],
   "source": [
    "import pandas as pd\n",
    "from ete3 import Tree\n",
    "\n",
    "# 0. 파일 경로\n",
    "file_path = \"Polytomy/Codes/Data/GSE126954_cell_annotation.csv.gz\"\n",
    "\n",
    "# 1. 데이터 읽기\n",
    "df = pd.read_csv(file_path, compression=\"gzip\")\n",
    "lineages = df['lineage'].dropna().unique()  # 결측 제외, 고유 lineage\n",
    "\n",
    "# 2. lineage -> Newick tree 변환 (대문자 덩어리, 소문자 개별 노드)\n",
    "def lineage_to_newick(lineages):\n",
    "    root = Tree(name=\"zygote\")\n",
    "    \n",
    "    for lin in lineages:\n",
    "        # '/'가 있으면 여러 경로로 분리\n",
    "        paths = lin.split('/')\n",
    "        for p in paths:\n",
    "            node = root\n",
    "            i = 0\n",
    "            while i < len(p):\n",
    "                # 대문자인 경우: 연속 대문자 덩어리 추출\n",
    "                if p[i].isupper():\n",
    "                    j = i + 1\n",
    "                    while j < len(p) and p[j].isupper():\n",
    "                        j += 1\n",
    "                    chunk = p[i:j]  # 대문자 덩어리\n",
    "                    i = j\n",
    "                    # 자식 존재 여부 확인 후 생성\n",
    "                    existing_child = next((c for c in node.children if c.name == chunk), None)\n",
    "                    if existing_child:\n",
    "                        node = existing_child\n",
    "                    else:\n",
    "                        node = node.add_child(name=chunk)\n",
    "                else:\n",
    "                    # 소문자는 글자 하나씩 노드 생성\n",
    "                    chunk = p[i]\n",
    "                    i += 1\n",
    "                    existing_child = next((c for c in node.children if c.name == chunk), None)\n",
    "                    if existing_child:\n",
    "                        node = existing_child\n",
    "                    else:\n",
    "                        node = node.add_child(name=chunk)\n",
    "    return root\n",
    "\n",
    "tree = lineage_to_newick(lineages)\n",
    "\n",
    "# 3. Newick 파일로 저장\n",
    "output_path = \"Polytomy/Codes/nwk/c_elegans_lineage_tree.nwk\"\n",
    "tree.write(format=1, outfile=output_path)\n",
    "\n",
    "print(f\"트리 생성 완료. 저장 위치: {output_path}\")"
   ]
  },
  {
   "cell_type": "code",
   "execution_count": 6,
   "id": "dd07b0f5",
   "metadata": {},
   "outputs": [],
   "source": [
    "from ete3 import Tree, TreeStyle\n",
    "\n",
    "# 1. 저장된 Newick 파일 불러오기\n",
    "tree = Tree(\"Polytomy/Codes/nwk/c_elegans_lineage_tree.nwk\", format=1)\n",
    "\n",
    "# 2. TreeStyle 설정\n",
    "ts = TreeStyle()\n",
    "ts.show_leaf_name = True       # 리프 노드 이름 표시\n",
    "ts.show_branch_length = False  # branch length 표시 여부\n",
    "ts.show_branch_support = False # branch support 표시 여부\n",
    "ts.mode = \"r\"                  # 'c' = circular, 'r' = rectangular (default)\n",
    "ts.scale = 20                  # 노드 간 간격 조정\n",
    "\n",
    "# 3. 트리 시각화\n",
    "tree.show(tree_style=ts)"
   ]
  },
  {
   "cell_type": "markdown",
   "id": "d532ea24",
   "metadata": {},
   "source": [
    "## 1.2. `.nwk` Tree -> Polytomy\n",
    "\n",
    "1. Among leaves, select `n` leaves for polytomy. \n",
    "2. Polytomy leaves의 MRCA 확인.\n",
    "3. Polytomy leaves를 일단 제거.\n",
    "4. Polytomy leaves MRCA에 polytomy 추가"
   ]
  },
  {
   "cell_type": "markdown",
   "id": "9cf311e9",
   "metadata": {},
   "source": [
    "### 전처리: Polytomy 제거"
   ]
  },
  {
   "cell_type": "code",
   "execution_count": 18,
   "id": "3faafd9f",
   "metadata": {},
   "outputs": [
    {
     "name": "stdout",
     "output_type": "stream",
     "text": [
      "Root 아래 자식 노드들:\n",
      "- MS\n",
      "- D\n",
      "- AB\n",
      "- E\n",
      "- C\n",
      "- Z\n",
      "- 2\n"
     ]
    }
   ],
   "source": [
    "from ete3 import Tree\n",
    "\n",
    "# 트리 불러오기\n",
    "tree = Tree(\"Polytomy/Codes/nwk/c_elegans_lineage_tree.nwk\", format=1)\n",
    "\n",
    "# root 바로 아래 자식 노드 이름 출력\n",
    "print(\"Root 아래 자식 노드들:\")\n",
    "for child in tree.children:\n",
    "    print(f\"- {child.name if child.name else '(internal node)'}\")"
   ]
  },
  {
   "cell_type": "code",
   "execution_count": 7,
   "id": "8ad2cb39",
   "metadata": {},
   "outputs": [
    {
     "name": "stdout",
     "output_type": "stream",
     "text": [
      "Polytomy-removed tree saved to Polytomy/Codes/nwk/c_elegans_lineage_tree_polytomy_removed.nwk\n"
     ]
    }
   ],
   "source": [
    "from ete3 import Tree\n",
    "\n",
    "# ----------------------------\n",
    "# 1. Newick 파일 불러오기\n",
    "# ----------------------------\n",
    "tree = Tree(\"Polytomy/Codes/nwk/c_elegans_lineage_tree.nwk\", format=1)\n",
    "\n",
    "# ----------------------------\n",
    "# 2. Polytomy 제거 함수\n",
    "# ----------------------------\n",
    "def remove_polytomy(node):\n",
    "    # Post-order traversal\n",
    "    for child in list(node.children):\n",
    "        remove_polytomy(child)\n",
    "\n",
    "    # Polytomy 제거 (child >= 3)\n",
    "    if len(node.children) >= 3:\n",
    "        for child in list(node.children):\n",
    "            node.remove_child(child)\n",
    "\n",
    "# ----------------------------\n",
    "# 3. 트리 처리 실행\n",
    "# ----------------------------\n",
    "remove_polytomy(tree)\n",
    "\n",
    "# ----------------------------\n",
    "# 4. 최종 Newick 출력 및 파일 저장\n",
    "# ----------------------------\n",
    "output_file = \"Polytomy/Codes/nwk/c_elegans_lineage_tree_polytomy_removed.nwk\"\n",
    "tree.write(outfile=output_file)\n",
    "print(f\"Polytomy-removed tree saved to {output_file}\")"
   ]
  },
  {
   "cell_type": "code",
   "execution_count": null,
   "id": "5bdd3078",
   "metadata": {},
   "outputs": [],
   "source": []
  },
  {
   "cell_type": "markdown",
   "id": "673157c5",
   "metadata": {},
   "source": [
    "# Worm atlas"
   ]
  },
  {
   "cell_type": "code",
   "execution_count": null,
   "id": "9e65a6c0",
   "metadata": {},
   "outputs": [],
   "source": [
    "import pandas as pd\n",
    "\n",
    "cell_data = pd.read_csv(\"Polytomy/Codes/Data/Complete_cell_list.csv\")\n",
    "\n",
    "lineages = cell_data[''].tolist()"
   ]
  }
 ],
 "metadata": {
  "kernelspec": {
   "display_name": "Python 3",
   "language": "python",
   "name": "python3"
  },
  "language_info": {
   "codemirror_mode": {
    "name": "ipython",
    "version": 3
   },
   "file_extension": ".py",
   "mimetype": "text/x-python",
   "name": "python",
   "nbconvert_exporter": "python",
   "pygments_lexer": "ipython3",
   "version": "3.9.6"
  }
 },
 "nbformat": 4,
 "nbformat_minor": 5
}
