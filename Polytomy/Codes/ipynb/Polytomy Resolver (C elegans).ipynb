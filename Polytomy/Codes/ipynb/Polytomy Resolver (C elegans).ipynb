{
 "cells": [
  {
   "cell_type": "markdown",
   "id": "864d9670",
   "metadata": {},
   "source": [
    "C. elegans Lineage Data\n",
    "- Title:    A lineage-resolved molecular atlas of C. elegans embryogenesis at single-cell resolution\n",
    "- Author:   Packer et al.\n",
    "- Year:     2019\n",
    "- doi:      https://doi.org/10.1126/science.aax1971\n",
    "- GEO:      https://www.ncbi.nlm.nih.gov/geo/query/acc.cgi?acc=GSE126954\n",
    "- file:\n",
    "  - `.csv`: Supplementary file -> `cell_annotation.csv.gz` -> Column: `lineage`;\n",
    "  - ~~`.h5ad`: https://zenodo.org/records/15236812~~\n",
    "\n",
    "Worm Atlas Complete Cell List\n",
    "- url:      https://www.wormatlas.org/celllistsulston.html\n",
    "- ref:      Sulston, JE and White, JG (1988), \"Parts list\", in \"The Nematode Caenorhabditis elegans, eds WB Wood et al, Cold Spring Harbor Laboratory Press, Cold Spring Harbor, New York, USA, pp 415 - 431.\n",
    "  - Title:  The embryonic cell lineage of the nematode Caenorhabditis elegans\n",
    "  - Author: J.E. Sulston, E. Schierenberg, J.G. White, J.N. Thomson\n",
    "  - Year:   1983\n",
    "  - doi:    https://doi.org/10.1016/0012-1606(83)90201-4\n",
    "\n",
    "Method\n",
    "1. Generate Tree.\n",
    "2. a"
   ]
  },
  {
   "cell_type": "code",
   "execution_count": 6,
   "id": "f1972847",
   "metadata": {},
   "outputs": [],
   "source": [
    "import os\n",
    "os.chdir('/Users/yongjunchoi/Documents/GitHub/Research/Research')"
   ]
  },
  {
   "cell_type": "markdown",
   "id": "2dff1ce5",
   "metadata": {},
   "source": [
    "# Packer et al., (2019)"
   ]
  },
  {
   "cell_type": "markdown",
   "id": "8be00e58",
   "metadata": {},
   "source": [
    "## 0. Read `.gz` -> `.nwk` Tree"
   ]
  },
  {
   "cell_type": "code",
   "execution_count": 32,
   "id": "1581bd99",
   "metadata": {},
   "outputs": [
    {
     "name": "stdout",
     "output_type": "stream",
     "text": [
      "저장 완료: Polytomy/Codes/Data/lineages.csv\n"
     ]
    }
   ],
   "source": [
    "import pandas as pd\n",
    "import gzip\n",
    "\n",
    "file_path = \"Polytomy/Codes/Data/GSE126954_cell_annotation.csv.gz\"\n",
    "output_path = \"Polytomy/Codes/Data/lineages.csv\"\n",
    "\n",
    "# 1. 데이터 읽기\n",
    "df = pd.read_csv(file_path, compression=\"gzip\")\n",
    "\n",
    "# 2. lineage 컬럼 가져오기, 결측 제외\n",
    "lineages = df['lineage'].dropna()\n",
    "\n",
    "processed = []\n",
    "\n",
    "for lineage in lineages:\n",
    "    # ':' 뒤 제거\n",
    "    lineage = lineage.split(':')[0]\n",
    "    # '/' 기준으로 분리\n",
    "    parts = lineage.split('/')\n",
    "    processed.extend(parts)\n",
    "\n",
    "processed_unique_sorted = sorted(set(processed))\n",
    "\n",
    "# 3. 결과를 DataFrame으로 만들어 csv로 저장\n",
    "processed_df = pd.DataFrame(processed_unique_sorted, columns=['lineage'])\n",
    "processed_df.to_csv(output_path, index=False)\n",
    "\n",
    "print(f\"저장 완료: {output_path}\")"
   ]
  },
  {
   "cell_type": "markdown",
   "id": "c03dbee6",
   "metadata": {},
   "source": []
  },
  {
   "cell_type": "markdown",
   "id": "509e4d5f",
   "metadata": {},
   "source": []
  },
  {
   "cell_type": "code",
   "execution_count": null,
   "id": "070300c0",
   "metadata": {},
   "outputs": [],
   "source": [
    "import pandas as pd\n",
    "import gzip\n",
    "\n",
    "file_path = \"Polytomy/Codes/Data/GSE126954_cell_annotation.csv.gz\"\n",
    "\n",
    "# 0. pandas에서 gzip 바로 읽기\n",
    "cell_anno = pd.read_csv(file_path, compression='gzip')\n",
    "\n",
    "# 1. 데이터 읽기\n",
    "df = pd.read_csv(file_path, compression=\"gzip\")\n",
    "lineages = df['lineage'].dropna().unique()  # 결측 제외, 고유 lineage\n",
    "\n",
    "# 2. lineage -> Newick tree 변환 (대문자 덩어리, 소문자 개별 노드)\n",
    "def lineage_to_newick(lineages):\n",
    "    root = Tree(name=\"zygote\")\n",
    "    \n",
    "    for lin in lineages:\n",
    "        # '/'가 있으면 여러 경로로 분리\n",
    "        paths = lin.split('/')\n",
    "        for p in paths:\n",
    "            node = root\n",
    "            i = 0\n",
    "            while i < len(p):\n",
    "                # 대문자인 경우: 연속 대문자 덩어리 추출\n",
    "                if p[i].isupper():\n",
    "                    j = i + 1\n",
    "                    while j < len(p) and p[j].isupper():\n",
    "                        j += 1\n",
    "                    chunk = p[i:j]  # 대문자 덩어리\n",
    "                    i = j\n",
    "                    # 자식 존재 여부 확인 후 생성\n",
    "                    existing_child = next((c for c in node.children if c.name == chunk), None)\n",
    "                    if existing_child:\n",
    "                        node = existing_child\n",
    "                    else:\n",
    "                        node = node.add_child(name=chunk)\n",
    "                else:\n",
    "                    # 소문자는 글자 하나씩 노드 생성\n",
    "                    chunk = p[i]\n",
    "                    i += 1\n",
    "                    existing_child = next((c for c in node.children if c.name == chunk), None)\n",
    "                    if existing_child:\n",
    "                        node = existing_child\n",
    "                    else:\n",
    "                        node = node.add_child(name=chunk)\n",
    "    return root\n",
    "\n",
    "tree = lineage_to_newick(lineages)\n",
    "\n",
    "# 3. Newick 파일로 저장\n",
    "output_path = \"Polytomy/Codes/nwk/c_elegans_lineage_tree_resolved.nwk\"\n",
    "tree.write(format=1, outfile=output_path)\n",
    "\n",
    "print(f\"트리 생성 완료. 저장 위치: {output_path}\")"
   ]
  },
  {
   "cell_type": "code",
   "execution_count": null,
   "id": "e0f25305",
   "metadata": {},
   "outputs": [],
   "source": []
  },
  {
   "cell_type": "markdown",
   "id": "53141461",
   "metadata": {},
   "source": [
    "## 1.Read Raw data -> `.nwk` Tree"
   ]
  },
  {
   "cell_type": "code",
   "execution_count": 4,
   "id": "4b652ab8",
   "metadata": {},
   "outputs": [],
   "source": [
    "import os\n",
    "os.getcwd()\n",
    "os.chdir('/Users/yongjunchoi/Documents/GitHub/Research/Research')"
   ]
  },
  {
   "cell_type": "code",
   "execution_count": 5,
   "id": "8a98311d",
   "metadata": {},
   "outputs": [
    {
     "name": "stdout",
     "output_type": "stream",
     "text": [
      "트리 생성 완료. 저장 위치: Polytomy/Codes/nwk/c_elegans_lineage_tree.nwk\n"
     ]
    }
   ],
   "source": [
    "import pandas as pd\n",
    "from ete3 import Tree\n",
    "\n",
    "# 0. 파일 경로\n",
    "file_path = \"Polytomy/Codes/Data/GSE126954_cell_annotation.csv.gz\"\n",
    "\n",
    "# 1. 데이터 읽기\n",
    "df = pd.read_csv(file_path, compression=\"gzip\")\n",
    "lineages = df['lineage'].dropna().unique()  # 결측 제외, 고유 lineage\n",
    "\n",
    "# 2. lineage -> Newick tree 변환 (대문자 덩어리, 소문자 개별 노드)\n",
    "def lineage_to_newick(lineages):\n",
    "    root = Tree(name=\"zygote\")\n",
    "    \n",
    "    for lin in lineages:\n",
    "        # '/'가 있으면 여러 경로로 분리\n",
    "        paths = lin.split('/')\n",
    "        for p in paths:\n",
    "            node = root\n",
    "            i = 0\n",
    "            while i < len(p):\n",
    "                # 대문자인 경우: 연속 대문자 덩어리 추출\n",
    "                if p[i].isupper():\n",
    "                    j = i + 1\n",
    "                    while j < len(p) and p[j].isupper():\n",
    "                        j += 1\n",
    "                    chunk = p[i:j]  # 대문자 덩어리\n",
    "                    i = j\n",
    "                    # 자식 존재 여부 확인 후 생성\n",
    "                    existing_child = next((c for c in node.children if c.name == chunk), None)\n",
    "                    if existing_child:\n",
    "                        node = existing_child\n",
    "                    else:\n",
    "                        node = node.add_child(name=chunk)\n",
    "                else:\n",
    "                    # 소문자는 글자 하나씩 노드 생성\n",
    "                    chunk = p[i]\n",
    "                    i += 1\n",
    "                    existing_child = next((c for c in node.children if c.name == chunk), None)\n",
    "                    if existing_child:\n",
    "                        node = existing_child\n",
    "                    else:\n",
    "                        node = node.add_child(name=chunk)\n",
    "    return root\n",
    "\n",
    "tree = lineage_to_newick(lineages)\n",
    "\n",
    "# 3. Newick 파일로 저장\n",
    "output_path = \"Polytomy/Codes/nwk/c_elegans_lineage_tree.nwk\"\n",
    "tree.write(format=1, outfile=output_path)\n",
    "\n",
    "print(f\"트리 생성 완료. 저장 위치: {output_path}\")"
   ]
  },
  {
   "cell_type": "code",
   "execution_count": 6,
   "id": "dd07b0f5",
   "metadata": {},
   "outputs": [],
   "source": [
    "from ete3 import Tree, TreeStyle\n",
    "\n",
    "# 1. 저장된 Newick 파일 불러오기\n",
    "tree = Tree(\"Polytomy/Codes/nwk/c_elegans_lineage_tree.nwk\", format=1)\n",
    "\n",
    "# 2. TreeStyle 설정\n",
    "ts = TreeStyle()\n",
    "ts.show_leaf_name = True       # 리프 노드 이름 표시\n",
    "ts.show_branch_length = False  # branch length 표시 여부\n",
    "ts.show_branch_support = False # branch support 표시 여부\n",
    "ts.mode = \"r\"                  # 'c' = circular, 'r' = rectangular (default)\n",
    "ts.scale = 20                  # 노드 간 간격 조정\n",
    "\n",
    "# 3. 트리 시각화\n",
    "tree.show(tree_style=ts)"
   ]
  },
  {
   "cell_type": "markdown",
   "id": "d532ea24",
   "metadata": {},
   "source": [
    "## 1.2. `.nwk` Tree -> Polytomy\n",
    "\n",
    "1. Among leaves, select `n` leaves for polytomy. \n",
    "2. Polytomy leaves의 MRCA 확인.\n",
    "3. Polytomy leaves를 일단 제거.\n",
    "4. Polytomy leaves MRCA에 polytomy 추가"
   ]
  },
  {
   "cell_type": "markdown",
   "id": "9cf311e9",
   "metadata": {},
   "source": [
    "### 전처리: Polytomy 제거"
   ]
  },
  {
   "cell_type": "code",
   "execution_count": 18,
   "id": "3faafd9f",
   "metadata": {},
   "outputs": [
    {
     "name": "stdout",
     "output_type": "stream",
     "text": [
      "Root 아래 자식 노드들:\n",
      "- MS\n",
      "- D\n",
      "- AB\n",
      "- E\n",
      "- C\n",
      "- Z\n",
      "- 2\n"
     ]
    }
   ],
   "source": [
    "from ete3 import Tree\n",
    "\n",
    "# 트리 불러오기\n",
    "tree = Tree(\"Polytomy/Codes/nwk/c_elegans_lineage_tree.nwk\", format=1)\n",
    "\n",
    "# root 바로 아래 자식 노드 이름 출력\n",
    "print(\"Root 아래 자식 노드들:\")\n",
    "for child in tree.children:\n",
    "    print(f\"- {child.name if child.name else '(internal node)'}\")"
   ]
  },
  {
   "cell_type": "code",
   "execution_count": 7,
   "id": "8ad2cb39",
   "metadata": {},
   "outputs": [
    {
     "name": "stdout",
     "output_type": "stream",
     "text": [
      "Polytomy-removed tree saved to Polytomy/Codes/nwk/c_elegans_lineage_tree_polytomy_removed.nwk\n"
     ]
    }
   ],
   "source": [
    "from ete3 import Tree\n",
    "\n",
    "# ----------------------------\n",
    "# 1. Newick 파일 불러오기\n",
    "# ----------------------------\n",
    "tree = Tree(\"Polytomy/Codes/nwk/c_elegans_lineage_tree.nwk\", format=1)\n",
    "\n",
    "# ----------------------------\n",
    "# 2. Polytomy 제거 함수\n",
    "# ----------------------------\n",
    "def remove_polytomy(node):\n",
    "    # Post-order traversal\n",
    "    for child in list(node.children):\n",
    "        remove_polytomy(child)\n",
    "\n",
    "    # Polytomy 제거 (child >= 3)\n",
    "    if len(node.children) >= 3:\n",
    "        for child in list(node.children):\n",
    "            node.remove_child(child)\n",
    "\n",
    "# ----------------------------\n",
    "# 3. 트리 처리 실행\n",
    "# ----------------------------\n",
    "remove_polytomy(tree)\n",
    "\n",
    "# ----------------------------\n",
    "# 4. 최종 Newick 출력 및 파일 저장\n",
    "# ----------------------------\n",
    "output_file = \"Polytomy/Codes/nwk/c_elegans_lineage_tree_polytomy_removed.nwk\"\n",
    "tree.write(outfile=output_file)\n",
    "print(f\"Polytomy-removed tree saved to {output_file}\")"
   ]
  },
  {
   "cell_type": "code",
   "execution_count": null,
   "id": "5bdd3078",
   "metadata": {},
   "outputs": [],
   "source": []
  },
  {
   "cell_type": "markdown",
   "id": "673157c5",
   "metadata": {},
   "source": [
    "# Worm atlas\n",
    "- url:  https://www.wormatlas.org/celllistsulston.htm\n",
    "- Wormatlas -> Resource -> Cell Lists -> C. elegans Cell List\n",
    "- ref:  JE and White, JG (1988), \"Parts list\", in \"The Nematode Caenorhabditis elegans, eds WB Wood et al, Cold Spring Harbor Laboratory Press, Cold Spring Harbor, New York, USA, pp 415 - 431"
   ]
  },
  {
   "cell_type": "markdown",
   "id": "52798616",
   "metadata": {},
   "source": [
    "## 0. 데이터 전처리\n",
    "- `.`와 ` ` 동일시 (code)\n",
    "- `,`가 있을 경우 밑에 추가 (code)\n",
    "- `/`가 있을 경우 밑에 추가 (code)\n",
    "- `l/r`가 있을 경우 `*l*`, `*r*`로 분리 (manually; #: 1359 -> 1369)\n",
    "  - `Complete_cell_list.csv` -> `Complete_cell_list_LR.csv`\n",
    "- Cell 이 `Z`에서 안오면 제거 (code; #: 1369 -> 1264)\n",
    "- 중복 제거 (code; #: 1264 -> 1229)\n",
    "  - `Complete_cell_list_LR.csv` -> `Complete_cell_list_preprocessed.csv`"
   ]
  },
  {
   "cell_type": "code",
   "execution_count": 3,
   "id": "9e65a6c0",
   "metadata": {},
   "outputs": [],
   "source": [
    "import pandas as pd\n",
    "\n",
    "# CSV 불러오기\n",
    "complete_cell_data = pd.read_csv(\"Polytomy/Codes/Data/Complete_cell_list_LR.csv\", quotechar='\"')\n",
    "\n",
    "# '.'을 공백으로 대체\n",
    "complete_cell_data['Lineage Name'] = complete_cell_data['Lineage Name'].str.replace('.', ' ', regex=False)\n",
    "\n",
    "# ','와 '/' 기준으로 분리 후 공백 제거하고 explode\n",
    "complete_cell_data_expanded = complete_cell_data.assign(\n",
    "    **{\n",
    "        'Lineage Name': complete_cell_data['Lineage Name']\n",
    "        .apply(lambda x: [s.strip() for part in x.split(',') for s in part.split('/')])\n",
    "    }\n",
    ").explode('Lineage Name').reset_index(drop=True)\n",
    "\n",
    "# Cell 이름 집합\n",
    "cell_names = set(complete_cell_data_expanded['Cell'].dropna())\n",
    "\n",
    "# lineage_maps 생성: Cell -> list of Lineages\n",
    "from collections import defaultdict\n",
    "\n",
    "lineage_maps = defaultdict(list)\n",
    "for _, row in complete_cell_data_expanded.iterrows():\n",
    "    lineage_maps[row['Cell']].append(row['Lineage Name'])\n",
    "\n",
    "# 재귀적으로 prefix 교체 및 code 합치기\n",
    "def resolve_lineage(lineage):\n",
    "    parts = lineage.split(' ')\n",
    "    prefix = parts[0]\n",
    "    codes = ''.join(parts[1:])\n",
    "    \n",
    "    if prefix not in lineage_maps:\n",
    "        return prefix, codes\n",
    "    else:\n",
    "        # 첫 번째 Lineage만 재귀 적용\n",
    "        resolved_prefix, resolved_codes = resolve_lineage(lineage_maps[prefix][0])\n",
    "        return resolved_prefix, resolved_codes + codes\n",
    "\n",
    "# 결과 저장\n",
    "resolved_data = []\n",
    "for _, row in complete_cell_data_expanded.iterrows():\n",
    "    cell = row['Cell']\n",
    "    lineage = row['Lineage Name']\n",
    "    prefix, codes = resolve_lineage(lineage)\n",
    "    resolved_data.append({\n",
    "        'Cell': cell,\n",
    "        'Prefix': prefix,\n",
    "        'Code': codes\n",
    "    })\n",
    "\n",
    "resolved_df = pd.DataFrame(resolved_data)\n",
    "\n",
    "# Prefix가 'Z'인 행만 선택\n",
    "z_only_df = resolved_df[resolved_df['Prefix'] == 'Z'].reset_index(drop=True)\n",
    "\n",
    "# 'Cell', 'Prefix', 'Code'가 모두 같은 행 제거\n",
    "z_only_df_unique = z_only_df.drop_duplicates(subset=['Cell', 'Prefix', 'Code']).reset_index(drop=True)\n",
    "\n",
    "# Prefix와 Code 합치기\n",
    "z_only_df_unique['Lineage Name'] = z_only_df_unique['Prefix'] + z_only_df_unique['Code']\n",
    "\n",
    "# 필요한 열만 선택\n",
    "z_only_df_unique = z_only_df_unique[['Cell', 'Lineage Name']]\n",
    "\n",
    "# 중복 이름 처리\n",
    "name_count = {}\n",
    "def make_unique_name(name):\n",
    "    if name not in name_count:\n",
    "        name_count[name] = 1\n",
    "        return name\n",
    "    else:\n",
    "        name_count[name] += 1\n",
    "        return f\"{name}_{name_count[name]}\"\n",
    "\n",
    "# Cell 컬럼에 적용\n",
    "z_only_df_unique['Cell'] = z_only_df_unique['Cell'].apply(make_unique_name)\n",
    "\n",
    "# CSV로 저장\n",
    "preprocessed_output_path = \"Polytomy/Codes/Data/Complete_cell_list_preprocessed.csv\"\n",
    "z_only_df_unique.to_csv(preprocessed_output_path, index=False)"
   ]
  },
  {
   "cell_type": "markdown",
   "id": "6343b221",
   "metadata": {},
   "source": [
    "## 1. `.csv` to From-To Data"
   ]
  },
  {
   "cell_type": "code",
   "execution_count": 70,
   "id": "f5e870b1",
   "metadata": {},
   "outputs": [
    {
     "name": "stdout",
     "output_type": "stream",
     "text": [
      ".csv to edge tree : Total daughters:  1099\n",
      "0 daughters: 1099 nodes, 1 daughters: 170 nodes, 2 daughters: 1066 nodes, 3 daughters: 1 nodes, 4 daughters: 10 nodes\n",
      "\n",
      "Removing existing polytomy nodes...\n",
      "\n",
      ".csv to edge tree : Total daughters:  984\n",
      "0 daughters: 984 nodes, 1 daughters: 164 nodes, 2 daughters: 983 nodes\n"
     ]
    }
   ],
   "source": [
    "# csv to edge\n",
    "import pandas as pd\n",
    "from collections import Counter\n",
    "from Bio import Phylo\n",
    "from collections import defaultdict\n",
    "\n",
    "df = pd.read_csv(\"Polytomy/Codes/Data/Complete_cell_list_preprocessed.csv\")\n",
    "\n",
    "edges = []\n",
    "\n",
    "for idx, row in df.iterrows():\n",
    "    lineage = row['Lineage Name']\n",
    "    for i in range(1, len(lineage)):\n",
    "        parent = lineage[:i]       # 부모 코드\n",
    "        child  = lineage[:i+1]     # 자식 코드\n",
    "        edges.append({'from': parent, 'to': child})\n",
    "\n",
    "edges_df = pd.DataFrame(edges).drop_duplicates().reset_index(drop=True)\n",
    "\n",
    "edges_output_path = \"Polytomy/Codes/Data/edges_list_all.csv\"\n",
    "edges_df.to_csv(edges_output_path, index=False)\n",
    "\n",
    "\n",
    "# edge to nwk\n",
    "edges_df = pd.read_csv(\"Polytomy/Codes/Data/edges_list_all.csv\")\n",
    "\n",
    "tree_dict = defaultdict(list)\n",
    "for _, row in edges_df.iterrows():\n",
    "    tree_dict[row['from']].append(row['to'])\n",
    "\n",
    "def build_newick(node):\n",
    "    if node not in tree_dict or len(tree_dict[node]) == 0:\n",
    "        return node\n",
    "    else:\n",
    "        children_newick = [build_newick(child) for child in tree_dict[node]]\n",
    "        return \"(\" + \",\".join(children_newick) + \")\" + node\n",
    "\n",
    "root = 'Z'\n",
    "newick_str = build_newick(root) + \";\"\n",
    "\n",
    "newick_path = \"Polytomy/Codes/nwk/Polytomy_Test/tree_all_mapped.nwk\"\n",
    "with open(newick_path, \"w\") as f:\n",
    "    f.write(newick_str)\n",
    "\n",
    "# Remove polytomy in nwk\n",
    "from Bio import Phylo\n",
    "\n",
    "newick_path = \"Polytomy/Codes/nwk/Polytomy_Test/tree_all_mapped.nwk\"\n",
    "tree = Phylo.read(newick_path, \"newick\")\n",
    "\n",
    "print(\".csv to edge tree : Total daughters: \", len(tree.get_terminals()))\n",
    "print(*[f\"{k} daughters: {v} nodes\" \n",
    "        for k, v in sorted(Counter(len(c.clades) for c in tree.find_clades()).items())], \n",
    "      sep=\", \")\n",
    "\n",
    "def num_daughters(clade):\n",
    "    return len(clade.clades)\n",
    "\n",
    "def remove_nodes(clade):\n",
    "    clade.clades = [child for child in clade.clades if num_daughters(child) < 3]\n",
    "    for child in clade.clades:\n",
    "        remove_nodes(child)\n",
    "    return None\n",
    "\n",
    "print(\"\\nRemoving existing polytomy nodes...\\n\")\n",
    "remove_nodes(tree.root)\n",
    "\n",
    "output_path = \"Polytomy/Codes/nwk/Polytomy_Test/tree_pruned.nwk\"\n",
    "Phylo.write(tree, output_path, \"newick\")\n",
    "\n",
    "tree = Phylo.read(output_path, \"newick\")\n",
    "print(\".csv to edge tree : Total daughters: \", len(tree.get_terminals()))\n",
    "print(*[f\"{k} daughters: {v} nodes\" \n",
    "        for k, v in sorted(Counter(len(c.clades) for c in tree.find_clades()).items())], \n",
    "      sep=\", \")"
   ]
  },
  {
   "cell_type": "markdown",
   "id": "5a143e6c",
   "metadata": {},
   "source": [
    "## 2. Generate Artificial Polytomy"
   ]
  },
  {
   "cell_type": "markdown",
   "id": "e2094b2c",
   "metadata": {},
   "source": [
    "### Method 1: Pick n among leaves -> Remove leaves -> Add Polytomy\n",
    "- Polytomy is randomly selected."
   ]
  },
  {
   "cell_type": "code",
   "execution_count": 71,
   "id": "17ab77c1",
   "metadata": {},
   "outputs": [
    {
     "name": "stdout",
     "output_type": "stream",
     "text": [
      "Before pruning: Total daughters:  984\n",
      "0 daughters: 984 nodes, 1 daughters: 164 nodes, 2 daughters: 983 nodes\n",
      "\n",
      "Randomly selecting 16 leaves to prune...\n",
      "\n",
      "After pruning: Total daughters:  968\n",
      "0 daughters: 968 nodes, 1 daughters: 179 nodes, 2 daughters: 967 nodes\n",
      "\n",
      "Adding polytomy...\n",
      "\n",
      "After polytomizing MRCA: Total daughters:  984\n",
      "0 daughters: 984 nodes, 1 daughters: 179 nodes, 2 daughters: 966 nodes, 18 daughters: 1 nodes\n"
     ]
    }
   ],
   "source": [
    "import random\n",
    "from Bio import Phylo\n",
    "from Bio.Phylo.Newick import Clade\n",
    "from copy import deepcopy\n",
    "from collections import Counter\n",
    "\n",
    "tree_path = \"Polytomy/Codes/nwk/Polytomy_Test/tree_pruned.nwk\"\n",
    "tree = Phylo.read(tree_path, \"newick\")\n",
    "\n",
    "print(\"Before pruning: Total daughters: \", len(tree.get_terminals()))\n",
    "print(*[f\"{k} daughters: {v} nodes\" \n",
    "        for k, v in sorted(Counter(len(c.clades) for c in tree.find_clades()).items())], \n",
    "      sep=\", \")\n",
    "\n",
    "all_leaves = [leaf.name for leaf in tree.get_terminals()]\n",
    "polytomy_size = 16\n",
    "\n",
    "print(f\"\\nRandomly selecting {polytomy_size} leaves to prune...\\n\")\n",
    "\n",
    "selected_leaves = random.sample(all_leaves, polytomy_size)\n",
    "mrca = tree.common_ancestor(selected_leaves)\n",
    "allowed_leaves = [leaf for leaf in all_leaves if leaf not in selected_leaves] + [mrca.name]\n",
    "\n",
    "def prune(clade, allowed_leaves):\n",
    "    for child in list(clade.clades):\n",
    "        prune(child, allowed_leaves)\n",
    "        if child.is_terminal() and child.name not in allowed_leaves:\n",
    "            clade.clades.remove(child)\n",
    "\n",
    "prune(mrca, allowed_leaves)\n",
    "\n",
    "print(\"After pruning: Total daughters: \", len(tree.get_terminals()))\n",
    "print(*[f\"{k} daughters: {v} nodes\" \n",
    "        for k, v in sorted(Counter(len(c.clades) for c in tree.find_clades()).items())], \n",
    "      sep=\", \")\n",
    "\n",
    "print(f\"\\nAdding polytomy...\\n\")\n",
    "\n",
    "def add_polytomy(clade, new_children):\n",
    "    clade.clades.extend(new_children)\n",
    "\n",
    "add_polytomy(mrca, [Clade(name=leaf) for leaf in selected_leaves])\n",
    "\n",
    "print(\"After polytomizing MRCA: Total daughters: \", len(tree.get_terminals()))\n",
    "print(*[f\"{k} daughters: {v} nodes\" \n",
    "        for k, v in sorted(Counter(len(c.clades) for c in tree.find_clades()).items())], \n",
    "      sep=\", \")"
   ]
  },
  {
   "cell_type": "markdown",
   "id": "03c485ea",
   "metadata": {},
   "source": [
    "- 2개씩 큰게 추가됨.\n",
    "- MRCA에서 Polytomy인 트리 + Polytomy 아닌 트리가 분기되게 해야하나?\n",
    "  - 그러면 트리가 모양이 너무 바뀌지 않나?"
   ]
  },
  {
   "cell_type": "markdown",
   "id": "ffd5f4cf",
   "metadata": {},
   "source": [
    "### Method 2: Pick among n-leaved subtree -> Polytomize\n",
    "- Subtree is randomly selected."
   ]
  },
  {
   "cell_type": "code",
   "execution_count": 72,
   "id": "6fba41bb",
   "metadata": {},
   "outputs": [
    {
     "name": "stdout",
     "output_type": "stream",
     "text": [
      "Before polytomizing: Total daughters:  984\n",
      "0 daughters: 984 nodes, 1 daughters: 164 nodes, 2 daughters: 983 nodes\n",
      "\n",
      "Polytomizing one of the subtree among 141 trees...\n",
      "\n",
      "After polytomizing: Total daughters:  984\n",
      "0 daughters: 984 nodes, 1 daughters: 161 nodes, 2 daughters: 980 nodes, 4 daughters: 1 nodes\n"
     ]
    }
   ],
   "source": [
    "from Bio import Phylo\n",
    "import random\n",
    "from collections import Counter\n",
    "from Bio.Phylo.Newick import Clade\n",
    "\n",
    "tree_path = \"Polytomy/Codes/nwk/Polytomy_Test/tree_pruned.nwk\"\n",
    "tree = Phylo.read(tree_path, \"newick\")\n",
    "\n",
    "print(\"Before polytomizing: Total daughters: \", len(tree.get_terminals()))\n",
    "print(*[f\"{k} daughters: {v} nodes\" \n",
    "        for k, v in sorted(Counter(len(c.clades) for c in tree.find_clades()).items())], \n",
    "      sep=\", \")\n",
    "\n",
    "def find_nodes_with_m_leaves(clade, m):\n",
    "    nodes = []\n",
    "    def helper(node):\n",
    "        if node.is_terminal():\n",
    "            return 1\n",
    "        leaf_count = sum(helper(c) for c in node.clades)\n",
    "        if leaf_count == m:\n",
    "            nodes.append(node)\n",
    "        return leaf_count\n",
    "    helper(clade)\n",
    "    return nodes\n",
    "\n",
    "polytomy_size = 4\n",
    "nodes_with_m_leaves = find_nodes_with_m_leaves(tree.root, polytomy_size)\n",
    "\n",
    "if len(nodes_with_m_leaves) == 0:\n",
    "    print(\"\\nUnable to polytomize!\")\n",
    "else:\n",
    "    print(\"\\nPolytomizing one of the subtree among {} trees...\\n\".format(len(nodes_with_m_leaves)))\n",
    "\n",
    "    def count_children(node):\n",
    "        counts = Counter()\n",
    "        child_count = len(node.clades)\n",
    "        counts[child_count] += 1\n",
    "        \n",
    "        for child in node.clades:\n",
    "            counts.update(count_children(child))\n",
    "        return counts\n",
    "\n",
    "    child_counter = count_children(tree.root)\n",
    "\n",
    "    picked_node = random.choice(nodes_with_m_leaves)\n",
    "\n",
    "    def polytomize_node(node):\n",
    "        leaves = node.get_terminals()\n",
    "        node.clades = leaves\n",
    "\n",
    "    polytomize_node(picked_node)\n",
    "    print(\"After polytomizing: Total daughters: \", len(tree.get_terminals()))\n",
    "    print(*[f\"{k} daughters: {v} nodes\" \n",
    "        for k, v in sorted(Counter(len(c.clades) for c in tree.find_clades()).items())], \n",
    "      sep=\", \")\n",
    "    "
   ]
  },
  {
   "cell_type": "markdown",
   "id": "399b0bff",
   "metadata": {},
   "source": [
    "## 3. Randomly Generate Resolved Polytomy"
   ]
  },
  {
   "cell_type": "code",
   "execution_count": 22,
   "id": "92ed263b",
   "metadata": {},
   "outputs": [
    {
     "name": "stdout",
     "output_type": "stream",
     "text": [
      "The rpy2.ipython extension is already loaded. To reload it, use:\n",
      "  %reload_ext rpy2.ipython\n"
     ]
    }
   ],
   "source": [
    "# Tree to Canonical Tree Form\n",
    "## Load rpy2: R to Python\n",
    "%load_ext rpy2.ipython\n",
    "\n",
    "import rpy2.robjects as ro\n",
    "# print(ro.r('version'))"
   ]
  },
  {
   "cell_type": "markdown",
   "id": "c00622e8",
   "metadata": {},
   "source": [
    "Functions\n",
    "- `poweRbal`\n",
    "  - BD Model: `genAltBirthDeathTree`\n",
    "  - Beta Splitting Model: `genAldousBetaTree`\n",
    "    - Yule Model: `genAldousBetaTree`, $\\beta = 0$\n",
    "    - Uniform Model: `genAldousBetaTree`, $\\beta = -\\frac{3}{2}$\n",
    "- `ape`\n",
    "  - Kingman Coalescent Model: `rcoal`"
   ]
  },
  {
   "cell_type": "code",
   "execution_count": 23,
   "id": "a7c65bb0",
   "metadata": {},
   "outputs": [],
   "source": [
    "%%R\n",
    "library(ape)\n",
    "library(poweRbal)"
   ]
  },
  {
   "cell_type": "markdown",
   "id": "da796713",
   "metadata": {},
   "source": [
    "### Method 1: BD Model"
   ]
  },
  {
   "cell_type": "code",
   "execution_count": 24,
   "id": "a23d8ebe",
   "metadata": {},
   "outputs": [],
   "source": [
    "%%R\n",
    "library(ape)\n",
    "library(poweRbal)\n",
    "\n",
    "leaves = 10\n",
    "params <- c(1,0)\n",
    "reps <- 10\n",
    "model <- \"BD\"\n",
    "\n",
    "trees <- vector(\"list\", reps)\n",
    "for(i in 1:reps){\n",
    "    trees[[i]] <- genAltBirthDeathTree(n = size,\n",
    "                                        BIRTHRATE = params[1],\n",
    "                                        DEATHRATE = params[2],\n",
    "                                        TRIES = 1000)\n",
    "}\n",
    "\n",
    "path <- \"Polytomy/Codes/nwk/Temp_Tree/\"\n",
    "file_name <- sprintf(\"%s_b%.1f_d%.1f_l%d_r%d.nwk\", model, params[1], params[2], leaves, reps)\n",
    "full_path <- file.path(path, file_name)\n",
    "write.tree(trees, file = full_path)"
   ]
  },
  {
   "cell_type": "markdown",
   "id": "b9e0d3af",
   "metadata": {},
   "source": [
    "### Method 2: Beta Splitting Model"
   ]
  },
  {
   "cell_type": "code",
   "execution_count": 25,
   "id": "615e08da",
   "metadata": {},
   "outputs": [],
   "source": [
    "%%R\n",
    "library(ape)\n",
    "library(poweRbal)\n",
    "\n",
    "leaves = 10\n",
    "params <- c(1)\n",
    "reps <- 10\n",
    "model <- \"BT\" # Beta\n",
    "\n",
    "trees <- vector(\"list\", reps)\n",
    "for(i in 1:reps){\n",
    "    trees[[i]] <- genAldousBetaTree(n = leaves, BETA = params[1])\n",
    "}\n",
    "\n",
    "path <- \"Polytomy/Codes/nwk/Temp_Tree/\"\n",
    "file_name <- sprintf(\"%s_b%.1f_l%d_r%d.nwk\", model, params[1], leaves, reps)\n",
    "full_path <- file.path(path, file_name)\n",
    "write.tree(trees, file = full_path)"
   ]
  },
  {
   "cell_type": "markdown",
   "id": "965f1a5f",
   "metadata": {},
   "source": [
    "### Method 3: Kingman Coalescent Model\n",
    "- `R` -> `ape` -> vignette -> `Random Topology`"
   ]
  },
  {
   "cell_type": "code",
   "execution_count": 26,
   "id": "88203775",
   "metadata": {},
   "outputs": [],
   "source": [
    "%%R\n",
    "leaves = 10\n",
    "params <- \n",
    "reps <- 10\n",
    "model <- \"KC\" # Kingman Coalescent\n",
    "\n",
    "trees <- vector(\"list\", reps)\n",
    "for(i in 1:reps){\n",
    "    trees[[i]] <- rcoal(n = leaves, br = 'coalescent')\n",
    "    trees[[i]]$edge.length <- NULL # Remove edge lengths\n",
    "}\n",
    "\n",
    "path <- \"Polytomy/Codes/nwk/Temp_Tree/\"\n",
    "file_name <- sprintf(\"%s_b%.1f_l%d_r%d.nwk\", model, params[1], leaves, reps)\n",
    "full_path <- file.path(path, file_name)\n",
    "write.tree(trees, file = full_path)"
   ]
  },
  {
   "cell_type": "markdown",
   "id": "70e564c4",
   "metadata": {},
   "source": [
    "### Method 4: Yule Model (Beta : $\\beta = 0$)"
   ]
  },
  {
   "cell_type": "code",
   "execution_count": 27,
   "id": "72cdf61c",
   "metadata": {},
   "outputs": [],
   "source": [
    "%%R\n",
    "library(ape)\n",
    "library(poweRbal)\n",
    "\n",
    "leaves = 10\n",
    "params <- c(0)\n",
    "reps <- 10\n",
    "model <- \"YL\" # Yule\n",
    "\n",
    "trees <- vector(\"list\", reps)\n",
    "for(i in 1:reps){\n",
    "    trees[[i]] <- genAldousBetaTree(n = leaves, BETA = params[1])\n",
    "}\n",
    "\n",
    "path <- \"Polytomy/Codes/nwk/Temp_Tree/\"\n",
    "file_name <- sprintf(\"%s_b%.1f_l%d_r%d.nwk\", model, params[1], leaves, reps)\n",
    "full_path <- file.path(path, file_name)\n",
    "write.tree(trees, file = full_path)"
   ]
  },
  {
   "cell_type": "markdown",
   "id": "87936729",
   "metadata": {},
   "source": [
    "### Method 5: Uniform Random Binary Tree Model (Beta: $\\beta = -\\frac{3}{2}$)"
   ]
  },
  {
   "cell_type": "code",
   "execution_count": 28,
   "id": "87c38b8b",
   "metadata": {},
   "outputs": [],
   "source": [
    "%%R\n",
    "library(ape)\n",
    "library(poweRbal)\n",
    "\n",
    "leaves = 10\n",
    "params <- c(-1.5)\n",
    "reps <- 10\n",
    "model <- \"UF\" # Unifrom\n",
    "\n",
    "trees <- vector(\"list\", reps)\n",
    "for(i in 1:reps){\n",
    "    trees[[i]] <- genAldousBetaTree(n = leaves, BETA = params[1])\n",
    "}\n",
    "\n",
    "path <- \"Polytomy/Codes/nwk/Temp_Tree/\"\n",
    "file_name <- sprintf(\"%s_b%.1f_l%d_r%d.nwk\", model, params[1], leaves, reps)\n",
    "full_path <- file.path(path, file_name)\n",
    "write.tree(trees, file = full_path)"
   ]
  },
  {
   "cell_type": "markdown",
   "id": "7f157b67",
   "metadata": {},
   "source": [
    "## 4. Statistics (R, Python 병행 사용?)"
   ]
  },
  {
   "cell_type": "markdown",
   "id": "4cdec480",
   "metadata": {},
   "source": [
    "### Statistic 1: Colless' Index ($I_{C}$, $C(T)$) `colless_index`"
   ]
  },
  {
   "cell_type": "code",
   "execution_count": 35,
   "id": "31c34e6a",
   "metadata": {},
   "outputs": [],
   "source": [
    "import dendropy\n",
    "\n",
    "def colless_index(tree):\n",
    "    \"\"\"\n",
    "    Computes Colless index: sum of absolute differences in leaf counts\n",
    "    for all internal nodes.\n",
    "    \"\"\"\n",
    "    def count_leaves(node):\n",
    "        if node.is_leaf():\n",
    "            return 1\n",
    "        return sum(count_leaves(c) for c in node.child_nodes())\n",
    "\n",
    "    def colless_node(node):\n",
    "        if node.is_leaf() or len(node.child_nodes()) < 2:\n",
    "            return 0\n",
    "        left, right = node.child_nodes()[:2]  # binary assumption\n",
    "        nl = count_leaves(left)\n",
    "        nr = count_leaves(right)\n",
    "        return abs(nl - nr) + colless_node(left) + colless_node(right)\n",
    "\n",
    "    return colless_node(tree.seed_node)"
   ]
  },
  {
   "cell_type": "code",
   "execution_count": 36,
   "id": "76f67340",
   "metadata": {},
   "outputs": [
    {
     "name": "stdout",
     "output_type": "stream",
     "text": [
      "Colless Index: 11\n",
      "Colless Index: 20\n",
      "Colless Index: 14\n",
      "Colless Index: 17\n",
      "Colless Index: 8\n",
      "Colless Index: 4\n",
      "Colless Index: 18\n",
      "Colless Index: 15\n",
      "Colless Index: 8\n",
      "Colless Index: 7\n"
     ]
    }
   ],
   "source": [
    "trees = dendropy.TreeList.get(path=\"Polytomy/Codes/nwk/Temp_Tree/BT_b1.0_l10_r10.nwk\",\n",
    "                              schema=\"newick\")\n",
    "\n",
    "for tree in trees:\n",
    "    print(\"Colless Index:\", colless_index(tree))"
   ]
  },
  {
   "cell_type": "markdown",
   "id": "c3e70471",
   "metadata": {},
   "source": [
    "### Statistic 2: Sackin's Index ($I_{S}$, $S(T)$) `sackins_index`"
   ]
  },
  {
   "cell_type": "code",
   "execution_count": 38,
   "id": "78338518",
   "metadata": {},
   "outputs": [],
   "source": [
    "import dendropy\n",
    "\n",
    "def sackins_index(tree):\n",
    "    \"\"\"\n",
    "    Computes Sackin index: sum of depths of all leaf nodes\n",
    "    \"\"\"\n",
    "    def leaf_depth_sum(node, depth=0):\n",
    "        if node.is_leaf():\n",
    "            return depth\n",
    "        return sum(leaf_depth_sum(c, depth+1) for c in node.child_nodes())\n",
    "\n",
    "    return leaf_depth_sum(tree.seed_node)"
   ]
  },
  {
   "cell_type": "code",
   "execution_count": 42,
   "id": "a4a5db72",
   "metadata": {},
   "outputs": [
    {
     "name": "stdout",
     "output_type": "stream",
     "text": [
      "Sackin's Index: 37\n",
      "Sackin's Index: 42\n",
      "Sackin's Index: 40\n",
      "Sackin's Index: 41\n",
      "Sackin's Index: 36\n",
      "Sackin's Index: 34\n",
      "Sackin's Index: 42\n",
      "Sackin's Index: 41\n",
      "Sackin's Index: 36\n",
      "Sackin's Index: 35\n"
     ]
    }
   ],
   "source": [
    "trees = dendropy.TreeList.get(path=\"Polytomy/Codes/nwk/Temp_Tree/BT_b1.0_l10_r10.nwk\",\n",
    "                              schema=\"newick\")\n",
    "\n",
    "for tree in trees:\n",
    "    print(\"Sackin's Index:\", sackins_index(tree))"
   ]
  },
  {
   "cell_type": "markdown",
   "id": "759d7b3b",
   "metadata": {},
   "source": [
    "### Statistic 3: Tree Height ($T_{D}$) `tree_height`"
   ]
  },
  {
   "cell_type": "code",
   "execution_count": 44,
   "id": "2281ebdb",
   "metadata": {},
   "outputs": [],
   "source": [
    "def tree_height(tree):\n",
    "    max_depth = 0\n",
    "    def dfs(nd, depth):\n",
    "        nonlocal max_depth\n",
    "        if nd.is_leaf():\n",
    "            max_depth = max(max_depth, depth)\n",
    "        for c in nd.child_nodes():\n",
    "            dfs(c, depth+1)\n",
    "    dfs(tree.seed_node, 0)\n",
    "    return max_depth"
   ]
  },
  {
   "cell_type": "code",
   "execution_count": 45,
   "id": "65241021",
   "metadata": {},
   "outputs": [
    {
     "name": "stdout",
     "output_type": "stream",
     "text": [
      "Tree Height: 5\n",
      "Tree Height: 7\n",
      "Tree Height: 5\n",
      "Tree Height: 6\n",
      "Tree Height: 5\n",
      "Tree Height: 4\n",
      "Tree Height: 6\n",
      "Tree Height: 5\n",
      "Tree Height: 5\n",
      "Tree Height: 5\n"
     ]
    }
   ],
   "source": [
    "trees = dendropy.TreeList.get(path=\"Polytomy/Codes/nwk/Temp_Tree/BT_b1.0_l10_r10.nwk\",\n",
    "                              schema=\"newick\")\n",
    "\n",
    "for tree in trees:\n",
    "    print(\"Tree Height:\", tree_height(tree))"
   ]
  },
  {
   "cell_type": "markdown",
   "id": "b8008697",
   "metadata": {},
   "source": [
    "### Statistic 4: Root-split-ratio `root_split_ratio`"
   ]
  },
  {
   "cell_type": "code",
   "execution_count": 47,
   "id": "78f498a6",
   "metadata": {},
   "outputs": [],
   "source": [
    "import math\n",
    "\n",
    "def root_split_ratio(tree):\n",
    "    \"\"\"\n",
    "    Returns a string 'n_left:n_right' indicating the number of leaf nodes\n",
    "    in the left and right child of the root.\n",
    "    Handles:\n",
    "      - binary trees\n",
    "      - comb trees (1 child)\n",
    "      - single leaf trees (0 child)\n",
    "    \"\"\"\n",
    "    root_children = tree.seed_node.child_nodes()\n",
    "    if len(root_children) >= 2:\n",
    "        n_left = len(root_children[0].leaf_nodes())\n",
    "        n_right = len(root_children[1].leaf_nodes())\n",
    "    elif len(root_children) == 1:\n",
    "        n_left = len(root_children[0].leaf_nodes())\n",
    "        n_right = 0\n",
    "    else:\n",
    "        n_left = 0\n",
    "        n_right = 0\n",
    "\n",
    "    if n_left > n_right:\n",
    "        n_left, n_right = n_right, n_left\n",
    "\n",
    "    gcd = math.gcd(n_left, n_right)\n",
    "    left_s = n_left // gcd\n",
    "    right_s = n_right // gcd\n",
    "\n",
    "    return f\"{left_s}:{right_s}\""
   ]
  },
  {
   "cell_type": "code",
   "execution_count": 48,
   "id": "48b8e530",
   "metadata": {},
   "outputs": [
    {
     "name": "stdout",
     "output_type": "stream",
     "text": [
      "Root Split Ratio: 2:3\n",
      "Root Split Ratio: 3:7\n",
      "Root Split Ratio: 1:9\n",
      "Root Split Ratio: 1:4\n",
      "Root Split Ratio: 1:1\n",
      "Root Split Ratio: 2:3\n",
      "Root Split Ratio: 1:9\n",
      "Root Split Ratio: 1:9\n",
      "Root Split Ratio: 1:1\n",
      "Root Split Ratio: 2:3\n"
     ]
    }
   ],
   "source": [
    "trees = dendropy.TreeList.get(path=\"Polytomy/Codes/nwk/Temp_Tree/BT_b1.0_l10_r10.nwk\",\n",
    "                              schema=\"newick\")\n",
    "\n",
    "for tree in trees:\n",
    "    print(\"Root Split Ratio:\", root_split_ratio(tree))"
   ]
  },
  {
   "cell_type": "markdown",
   "id": "bc053a5f",
   "metadata": {},
   "source": [
    "### Statistic 5: (Normalized) Robinson-Foulds (RF) Distance `rf_matrix`"
   ]
  },
  {
   "cell_type": "code",
   "execution_count": 50,
   "id": "017f762a",
   "metadata": {},
   "outputs": [],
   "source": [
    "import dendropy\n",
    "from dendropy.calculate import treecompare\n",
    "import numpy as np\n",
    "import pandas as pd\n",
    "\n",
    "def rf_matrix(trees):\n",
    "    n = len(trees)\n",
    "    rf_matrix = np.zeros((n, n))\n",
    "    for i in range(n):\n",
    "        for j in range(i+1, n):\n",
    "            rf = treecompare.symmetric_difference(trees[i], trees[j])\n",
    "            rf_matrix[i,j] = rf\n",
    "            rf_matrix[j,i] = rf\n",
    "    return pd.DataFrame(rf_matrix)\n",
    "\n",
    "def n_rf_matrix(trees, rooted=True):\n",
    "    n = len(trees)\n",
    "    rf_matrix = np.zeros((n, n))\n",
    "    \n",
    "    n_leaves = len(trees[0].leaf_nodes())\n",
    "    max_rf = 2 * (n_leaves - 2 if rooted else n_leaves - 3)\n",
    "\n",
    "    for i in range(n):\n",
    "        for j in range(i+1, n):\n",
    "            raw_rf = treecompare.symmetric_difference(trees[i], trees[j])\n",
    "            norm_rf = raw_rf / max_rf\n",
    "            rf_matrix[i, j] = rf_matrix[j, i] = norm_rf\n",
    "    \n",
    "    return pd.DataFrame(rf_matrix)"
   ]
  },
  {
   "cell_type": "code",
   "execution_count": 51,
   "id": "1e346ffa",
   "metadata": {},
   "outputs": [
    {
     "name": "stdout",
     "output_type": "stream",
     "text": [
      "RF Distance Matrix:\n",
      "       0     1     2     3     4     5     6     7     8     9\n",
      "0   0.0  14.0  14.0  14.0  14.0  14.0  14.0  12.0  12.0  14.0\n",
      "1  14.0   0.0  12.0  14.0  14.0  12.0  14.0  10.0  14.0  12.0\n",
      "2  14.0  12.0   0.0  14.0  12.0  12.0  12.0  10.0  14.0  12.0\n",
      "3  14.0  14.0  14.0   0.0  14.0  14.0  14.0  14.0  14.0  14.0\n",
      "4  14.0  14.0  12.0  14.0   0.0  14.0  12.0  14.0  14.0  12.0\n",
      "5  14.0  12.0  12.0  14.0  14.0   0.0  14.0  12.0  14.0  12.0\n",
      "6  14.0  14.0  12.0  14.0  12.0  14.0   0.0  14.0  14.0  12.0\n",
      "7  12.0  10.0  10.0  14.0  14.0  12.0  14.0   0.0  14.0  12.0\n",
      "8  12.0  14.0  14.0  14.0  14.0  14.0  14.0  14.0   0.0  14.0\n",
      "9  14.0  12.0  12.0  14.0  12.0  12.0  12.0  12.0  14.0   0.0\n",
      "Normalized RF Distance Matrix:\n",
      "        0      1      2      3      4      5      6      7      8      9\n",
      "0  0.000  0.875  0.875  0.875  0.875  0.875  0.875  0.750  0.750  0.875\n",
      "1  0.875  0.000  0.750  0.875  0.875  0.750  0.875  0.625  0.875  0.750\n",
      "2  0.875  0.750  0.000  0.875  0.750  0.750  0.750  0.625  0.875  0.750\n",
      "3  0.875  0.875  0.875  0.000  0.875  0.875  0.875  0.875  0.875  0.875\n",
      "4  0.875  0.875  0.750  0.875  0.000  0.875  0.750  0.875  0.875  0.750\n",
      "5  0.875  0.750  0.750  0.875  0.875  0.000  0.875  0.750  0.875  0.750\n",
      "6  0.875  0.875  0.750  0.875  0.750  0.875  0.000  0.875  0.875  0.750\n",
      "7  0.750  0.625  0.625  0.875  0.875  0.750  0.875  0.000  0.875  0.750\n",
      "8  0.750  0.875  0.875  0.875  0.875  0.875  0.875  0.875  0.000  0.875\n",
      "9  0.875  0.750  0.750  0.875  0.750  0.750  0.750  0.750  0.875  0.000\n"
     ]
    }
   ],
   "source": [
    "trees = dendropy.TreeList.get(path=\"Polytomy/Codes/nwk/Temp_Tree/BT_b1.0_l10_r10.nwk\",\n",
    "                              schema=\"newick\")\n",
    "\n",
    "rf_df = rf_matrix(trees)\n",
    "n_rf_df = n_rf_matrix(trees)\n",
    "\n",
    "print(\"RF Distance Matrix:\\n\", rf_df)\n",
    "print(\"Normalized RF Distance Matrix:\\n\", n_rf_df)"
   ]
  },
  {
   "cell_type": "code",
   "execution_count": 54,
   "id": "3063a4de",
   "metadata": {},
   "outputs": [],
   "source": [
    "import dendropy\n",
    "\n",
    "def branch_score_distance(tree1, tree2):\n",
    "    def get_branches(tree):\n",
    "        br_dict = {}\n",
    "        for edge in tree.edges():\n",
    "            if edge.head_node.is_leaf():\n",
    "                continue\n",
    "            split = frozenset([l.taxon.label for l in edge.head_node.leaf_nodes()])\n",
    "            br_dict[split] = edge.length if edge.length else 0.0\n",
    "        return br_dict\n",
    "    b1 = get_branches(tree1)\n",
    "    b2 = get_branches(tree2)\n",
    "    all_splits = set(b1.keys()).union(set(b2.keys()))\n",
    "    return sum((b1.get(s,0)-b2.get(s,0))**2 for s in all_splits)**0.5\n",
    "\n",
    "def branch_score_matrix(trees):\n",
    "    n = len(trees)\n",
    "    bs_matrix = np.zeros((n, n))\n",
    "    for i in range(n):\n",
    "        for j in range(i+1, n):\n",
    "            bs = branch_score_distance(trees[i], trees[j])\n",
    "            bs_matrix[i,j] = bs\n",
    "            bs_matrix[j,i] = bs\n",
    "    return pd.DataFrame(bs_matrix)"
   ]
  },
  {
   "cell_type": "code",
   "execution_count": 56,
   "id": "cb070e81",
   "metadata": {},
   "outputs": [
    {
     "name": "stdout",
     "output_type": "stream",
     "text": [
      "Branch Score Distance Matrix:\n",
      "      0    1    2    3    4    5    6    7    8    9\n",
      "0  0.0  0.0  0.0  0.0  0.0  0.0  0.0  0.0  0.0  0.0\n",
      "1  0.0  0.0  0.0  0.0  0.0  0.0  0.0  0.0  0.0  0.0\n",
      "2  0.0  0.0  0.0  0.0  0.0  0.0  0.0  0.0  0.0  0.0\n",
      "3  0.0  0.0  0.0  0.0  0.0  0.0  0.0  0.0  0.0  0.0\n",
      "4  0.0  0.0  0.0  0.0  0.0  0.0  0.0  0.0  0.0  0.0\n",
      "5  0.0  0.0  0.0  0.0  0.0  0.0  0.0  0.0  0.0  0.0\n",
      "6  0.0  0.0  0.0  0.0  0.0  0.0  0.0  0.0  0.0  0.0\n",
      "7  0.0  0.0  0.0  0.0  0.0  0.0  0.0  0.0  0.0  0.0\n",
      "8  0.0  0.0  0.0  0.0  0.0  0.0  0.0  0.0  0.0  0.0\n",
      "9  0.0  0.0  0.0  0.0  0.0  0.0  0.0  0.0  0.0  0.0\n"
     ]
    }
   ],
   "source": [
    "trees = dendropy.TreeList.get(path=\"Polytomy/Codes/nwk/Temp_Tree/BT_b1.0_l10_r10.nwk\",\n",
    "                              schema=\"newick\")\n",
    "\n",
    "bs_df = branch_score_matrix(trees)\n",
    "print(\"Branch Score Distance Matrix:\\n\", bs_df)"
   ]
  },
  {
   "cell_type": "markdown",
   "id": "cbcf0a5c",
   "metadata": {},
   "source": [
    "### Statistic 6: Quartet Distance"
   ]
  },
  {
   "cell_type": "code",
   "execution_count": 1,
   "id": "0910aeeb",
   "metadata": {},
   "outputs": [
    {
     "name": "stderr",
     "output_type": "stream",
     "text": [
      "Error importing in API mode: ImportError(\"dlopen(/Users/yongjunchoi/Library/Python/3.9/lib/python/site-packages/_rinterface_cffi_api.abi3.so, 0x0002): Library not loaded: /Library/Frameworks/R.framework/Versions/4.5-arm64/Resources/lib/libRblas.dylib\\n  Referenced from: <08761B8B-0767-3CA6-9437-5468D1CD700F> /Users/yongjunchoi/Library/Python/3.9/lib/python/site-packages/_rinterface_cffi_api.abi3.so\\n  Reason: tried: '/Library/Frameworks/R.framework/Versions/4.5-arm64/Resources/lib/libRblas.dylib' (no such file), '/System/Volumes/Preboot/Cryptexes/OS/Library/Frameworks/R.framework/Versions/4.5-arm64/Resources/lib/libRblas.dylib' (no such file), '/Library/Frameworks/R.framework/Versions/4.5-arm64/Resources/lib/libRblas.dylib' (no such file)\")\n",
      "Trying to import in ABI mode.\n"
     ]
    },
    {
     "name": "stdout",
     "output_type": "stream",
     "text": [
      "               _                           \n",
      "platform       aarch64-apple-darwin20      \n",
      "arch           aarch64                     \n",
      "os             darwin20                    \n",
      "system         aarch64, darwin20           \n",
      "status                                     \n",
      "major          4                           \n",
      "minor          3.3                         \n",
      "year           2024                        \n",
      "month          02                          \n",
      "day            29                          \n",
      "svn rev        86002                       \n",
      "language       R                           \n",
      "version.string R version 4.3.3 (2024-02-29)\n",
      "nickname       Angel Food Cake             \n",
      "\n"
     ]
    }
   ],
   "source": [
    "import rpy2.robjects as ro\n",
    "print(ro.r('version'))"
   ]
  },
  {
   "cell_type": "code",
   "execution_count": 3,
   "id": "028b4ddb",
   "metadata": {},
   "outputs": [],
   "source": [
    "%load_ext rpy2.ipython"
   ]
  },
  {
   "cell_type": "markdown",
   "id": "2771bc47",
   "metadata": {},
   "source": [
    "C. elegans Lineage Data\n",
    "- Title:    A lineage-resolved molecular atlas of C. elegans embryogenesis at single-cell resolution\n",
    "- Author:   Packer et al.\n",
    "- Year:     2019\n",
    "- doi:      https://doi.org/10.1126/science.aax1971\n",
    "- GEO:      https://www.ncbi.nlm.nih.gov/geo/query/acc.cgi?acc=GSE126954\n",
    "- file:\n",
    "  - `.csv`: Supplementary file -> `cell_annotation.csv.gz` -> Column: `lineage`;\n",
    "  - ~~`.h5ad`: https://zenodo.org/records/15236812~~\n",
    "\n",
    "Worm Atlas Complete Cell List\n",
    "- url:      https://www.wormatlas.org/celllistsulston.html\n",
    "- ref:      Sulston, JE and White, JG (1988), \"Parts list\", in \"The Nematode Caenorhabditis elegans, eds WB Wood et al, Cold Spring Harbor Laboratory Press, Cold Spring Harbor, New York, USA, pp 415 - 431.\n",
    "  - Title:  The embryonic cell lineage of the nematode Caenorhabditis elegans\n",
    "  - Author: J.E. Sulston, E. Schierenberg, J.G. White, J.N. Thomson\n",
    "  - Year:   1983\n",
    "  - doi:    https://doi.org/10.1016/0012-1606(83)90201-4\n",
    "\n",
    "Method\n",
    "1. Generate Tree.\n",
    "2. a"
   ]
  },
  {
   "cell_type": "code",
   "execution_count": 10,
   "id": "bbadfb45",
   "metadata": {},
   "outputs": [],
   "source": [
    "import os\n",
    "os.chdir('/Users/yongjunchoi/Documents/GitHub/Research/Research')"
   ]
  },
  {
   "cell_type": "markdown",
   "id": "194c9d86",
   "metadata": {},
   "source": [
    "# Packer et al., (2019)"
   ]
  },
  {
   "cell_type": "markdown",
   "id": "693383c9",
   "metadata": {},
   "source": [
    "## 0. Read `.gz` -> `.nwk` Tree"
   ]
  },
  {
   "cell_type": "code",
   "execution_count": null,
   "id": "0db1063b",
   "metadata": {},
   "outputs": [
    {
     "name": "stdout",
     "output_type": "stream",
     "text": [
      "저장 완료: Polytomy/Codes/Data/lineages.csv\n"
     ]
    }
   ],
   "source": [
    "import pandas as pd\n",
    "import gzip\n",
    "\n",
    "file_path = \"Polytomy/Codes/Data/GSE126954_cell_annotation.csv.gz\"\n",
    "output_path = \"Polytomy/Codes/Data/lineages.csv\"\n",
    "\n",
    "# 1. 데이터 읽기\n",
    "df = pd.read_csv(file_path, compression=\"gzip\")\n",
    "\n",
    "# 2. lineage 컬럼 가져오기, 결측 제외\n",
    "lineages = df['lineage'].dropna()\n",
    "\n",
    "processed = []\n",
    "\n",
    "for lineage in lineages:\n",
    "    # ':' 뒤 제거\n",
    "    lineage = lineage.split(':')[0]\n",
    "    # '/' 기준으로 분리\n",
    "    parts = lineage.split('/')\n",
    "    processed.extend(parts)\n",
    "\n",
    "processed_unique_sorted = sorted(set(processed))\n",
    "\n",
    "# 3. 결과를 DataFrame으로 만들어 csv로 저장\n",
    "processed_df = pd.DataFrame(processed_unique_sorted, columns=['lineage'])\n",
    "processed_df.to_csv(output_path, index=False)\n",
    "\n",
    "print(f\"저장 완료: {output_path}\")"
   ]
  },
  {
   "cell_type": "markdown",
   "id": "14c70d08",
   "metadata": {},
   "source": []
  },
  {
   "cell_type": "markdown",
   "id": "0f9293ce",
   "metadata": {},
   "source": []
  },
  {
   "cell_type": "code",
   "execution_count": null,
   "id": "27923031",
   "metadata": {},
   "outputs": [],
   "source": [
    "import pandas as pd\n",
    "import gzip\n",
    "\n",
    "file_path = \"Polytomy/Codes/Data/GSE126954_cell_annotation.csv.gz\"\n",
    "\n",
    "# 0. pandas에서 gzip 바로 읽기\n",
    "cell_anno = pd.read_csv(file_path, compression='gzip')\n",
    "\n",
    "# 1. 데이터 읽기\n",
    "df = pd.read_csv(file_path, compression=\"gzip\")\n",
    "lineages = df['lineage'].dropna().unique()  # 결측 제외, 고유 lineage\n",
    "\n",
    "# 2. lineage -> Newick tree 변환 (대문자 덩어리, 소문자 개별 노드)\n",
    "def lineage_to_newick(lineages):\n",
    "    root = Tree(name=\"zygote\")\n",
    "    \n",
    "    for lin in lineages:\n",
    "        # '/'가 있으면 여러 경로로 분리\n",
    "        paths = lin.split('/')\n",
    "        for p in paths:\n",
    "            node = root\n",
    "            i = 0\n",
    "            while i < len(p):\n",
    "                # 대문자인 경우: 연속 대문자 덩어리 추출\n",
    "                if p[i].isupper():\n",
    "                    j = i + 1\n",
    "                    while j < len(p) and p[j].isupper():\n",
    "                        j += 1\n",
    "                    chunk = p[i:j]  # 대문자 덩어리\n",
    "                    i = j\n",
    "                    # 자식 존재 여부 확인 후 생성\n",
    "                    existing_child = next((c for c in node.children if c.name == chunk), None)\n",
    "                    if existing_child:\n",
    "                        node = existing_child\n",
    "                    else:\n",
    "                        node = node.add_child(name=chunk)\n",
    "                else:\n",
    "                    # 소문자는 글자 하나씩 노드 생성\n",
    "                    chunk = p[i]\n",
    "                    i += 1\n",
    "                    existing_child = next((c for c in node.children if c.name == chunk), None)\n",
    "                    if existing_child:\n",
    "                        node = existing_child\n",
    "                    else:\n",
    "                        node = node.add_child(name=chunk)\n",
    "    return root\n",
    "\n",
    "tree = lineage_to_newick(lineages)\n",
    "\n",
    "# 3. Newick 파일로 저장\n",
    "output_path = \"Polytomy/Codes/nwk/c_elegans_lineage_tree_resolved.nwk\"\n",
    "tree.write(format=1, outfile=output_path)\n",
    "\n",
    "print(f\"트리 생성 완료. 저장 위치: {output_path}\")"
   ]
  },
  {
   "cell_type": "code",
   "execution_count": null,
   "id": "b73fb531",
   "metadata": {},
   "outputs": [],
   "source": []
  },
  {
   "cell_type": "markdown",
   "id": "aad5bcd1",
   "metadata": {},
   "source": [
    "## 1.Read Raw data -> `.nwk` Tree"
   ]
  },
  {
   "cell_type": "code",
   "execution_count": null,
   "id": "ddcd63a4",
   "metadata": {},
   "outputs": [],
   "source": [
    "import os\n",
    "os.getcwd()\n",
    "os.chdir('/Users/yongjunchoi/Documents/GitHub/Research/Research')"
   ]
  },
  {
   "cell_type": "code",
   "execution_count": null,
   "id": "d571b966",
   "metadata": {},
   "outputs": [
    {
     "name": "stdout",
     "output_type": "stream",
     "text": [
      "트리 생성 완료. 저장 위치: Polytomy/Codes/nwk/c_elegans_lineage_tree.nwk\n"
     ]
    }
   ],
   "source": [
    "import pandas as pd\n",
    "from ete3 import Tree\n",
    "\n",
    "# 0. 파일 경로\n",
    "file_path = \"Polytomy/Codes/Data/GSE126954_cell_annotation.csv.gz\"\n",
    "\n",
    "# 1. 데이터 읽기\n",
    "df = pd.read_csv(file_path, compression=\"gzip\")\n",
    "lineages = df['lineage'].dropna().unique()  # 결측 제외, 고유 lineage\n",
    "\n",
    "# 2. lineage -> Newick tree 변환 (대문자 덩어리, 소문자 개별 노드)\n",
    "def lineage_to_newick(lineages):\n",
    "    root = Tree(name=\"zygote\")\n",
    "    \n",
    "    for lin in lineages:\n",
    "        # '/'가 있으면 여러 경로로 분리\n",
    "        paths = lin.split('/')\n",
    "        for p in paths:\n",
    "            node = root\n",
    "            i = 0\n",
    "            while i < len(p):\n",
    "                # 대문자인 경우: 연속 대문자 덩어리 추출\n",
    "                if p[i].isupper():\n",
    "                    j = i + 1\n",
    "                    while j < len(p) and p[j].isupper():\n",
    "                        j += 1\n",
    "                    chunk = p[i:j]  # 대문자 덩어리\n",
    "                    i = j\n",
    "                    # 자식 존재 여부 확인 후 생성\n",
    "                    existing_child = next((c for c in node.children if c.name == chunk), None)\n",
    "                    if existing_child:\n",
    "                        node = existing_child\n",
    "                    else:\n",
    "                        node = node.add_child(name=chunk)\n",
    "                else:\n",
    "                    # 소문자는 글자 하나씩 노드 생성\n",
    "                    chunk = p[i]\n",
    "                    i += 1\n",
    "                    existing_child = next((c for c in node.children if c.name == chunk), None)\n",
    "                    if existing_child:\n",
    "                        node = existing_child\n",
    "                    else:\n",
    "                        node = node.add_child(name=chunk)\n",
    "    return root\n",
    "\n",
    "tree = lineage_to_newick(lineages)\n",
    "\n",
    "# 3. Newick 파일로 저장\n",
    "output_path = \"Polytomy/Codes/nwk/c_elegans_lineage_tree.nwk\"\n",
    "tree.write(format=1, outfile=output_path)\n",
    "\n",
    "print(f\"트리 생성 완료. 저장 위치: {output_path}\")"
   ]
  },
  {
   "cell_type": "code",
   "execution_count": null,
   "id": "233b2d78",
   "metadata": {},
   "outputs": [],
   "source": [
    "from ete3 import Tree, TreeStyle\n",
    "\n",
    "# 1. 저장된 Newick 파일 불러오기\n",
    "tree = Tree(\"Polytomy/Codes/nwk/c_elegans_lineage_tree.nwk\", format=1)\n",
    "\n",
    "# 2. TreeStyle 설정\n",
    "ts = TreeStyle()\n",
    "ts.show_leaf_name = True       # 리프 노드 이름 표시\n",
    "ts.show_branch_length = False  # branch length 표시 여부\n",
    "ts.show_branch_support = False # branch support 표시 여부\n",
    "ts.mode = \"r\"                  # 'c' = circular, 'r' = rectangular (default)\n",
    "ts.scale = 20                  # 노드 간 간격 조정\n",
    "\n",
    "# 3. 트리 시각화\n",
    "tree.show(tree_style=ts)"
   ]
  },
  {
   "cell_type": "markdown",
   "id": "5528e748",
   "metadata": {},
   "source": [
    "## 1.2. `.nwk` Tree -> Polytomy\n",
    "\n",
    "1. Among leaves, select `n` leaves for polytomy. \n",
    "2. Polytomy leaves의 MRCA 확인.\n",
    "3. Polytomy leaves를 일단 제거.\n",
    "4. Polytomy leaves MRCA에 polytomy 추가"
   ]
  },
  {
   "cell_type": "markdown",
   "id": "0628fa8d",
   "metadata": {},
   "source": [
    "### 전처리: Polytomy 제거"
   ]
  },
  {
   "cell_type": "code",
   "execution_count": null,
   "id": "9b3e25e0",
   "metadata": {},
   "outputs": [
    {
     "name": "stdout",
     "output_type": "stream",
     "text": [
      "Root 아래 자식 노드들:\n",
      "- MS\n",
      "- D\n",
      "- AB\n",
      "- E\n",
      "- C\n",
      "- Z\n",
      "- 2\n"
     ]
    }
   ],
   "source": [
    "from ete3 import Tree\n",
    "\n",
    "# 트리 불러오기\n",
    "tree = Tree(\"Polytomy/Codes/nwk/c_elegans_lineage_tree.nwk\", format=1)\n",
    "\n",
    "# root 바로 아래 자식 노드 이름 출력\n",
    "print(\"Root 아래 자식 노드들:\")\n",
    "for child in tree.children:\n",
    "    print(f\"- {child.name if child.name else '(internal node)'}\")"
   ]
  },
  {
   "cell_type": "code",
   "execution_count": null,
   "id": "8a46636f",
   "metadata": {},
   "outputs": [
    {
     "name": "stdout",
     "output_type": "stream",
     "text": [
      "Polytomy-removed tree saved to Polytomy/Codes/nwk/c_elegans_lineage_tree_polytomy_removed.nwk\n"
     ]
    }
   ],
   "source": [
    "from ete3 import Tree\n",
    "\n",
    "# ----------------------------\n",
    "# 1. Newick 파일 불러오기\n",
    "# ----------------------------\n",
    "tree = Tree(\"Polytomy/Codes/nwk/c_elegans_lineage_tree.nwk\", format=1)\n",
    "\n",
    "# ----------------------------\n",
    "# 2. Polytomy 제거 함수\n",
    "# ----------------------------\n",
    "def remove_polytomy(node):\n",
    "    # Post-order traversal\n",
    "    for child in list(node.children):\n",
    "        remove_polytomy(child)\n",
    "\n",
    "    # Polytomy 제거 (child >= 3)\n",
    "    if len(node.children) >= 3:\n",
    "        for child in list(node.children):\n",
    "            node.remove_child(child)\n",
    "\n",
    "# ----------------------------\n",
    "# 3. 트리 처리 실행\n",
    "# ----------------------------\n",
    "remove_polytomy(tree)\n",
    "\n",
    "# ----------------------------\n",
    "# 4. 최종 Newick 출력 및 파일 저장\n",
    "# ----------------------------\n",
    "output_file = \"Polytomy/Codes/nwk/c_elegans_lineage_tree_polytomy_removed.nwk\"\n",
    "tree.write(outfile=output_file)\n",
    "print(f\"Polytomy-removed tree saved to {output_file}\")"
   ]
  },
  {
   "cell_type": "code",
   "execution_count": null,
   "id": "855d342f",
   "metadata": {},
   "outputs": [],
   "source": []
  },
  {
   "cell_type": "markdown",
   "id": "cd1dfe13",
   "metadata": {},
   "source": [
    "# Worm atlas\n",
    "- url:  https://www.wormatlas.org/celllistsulston.htm\n",
    "- Wormatlas -> Resource -> Cell Lists -> C. elegans Cell List\n",
    "- ref:  JE and White, JG (1988), \"Parts list\", in \"The Nematode Caenorhabditis elegans, eds WB Wood et al, Cold Spring Harbor Laboratory Press, Cold Spring Harbor, New York, USA, pp 415 - 431"
   ]
  },
  {
   "cell_type": "markdown",
   "id": "cc6edfc3",
   "metadata": {},
   "source": [
    "## 0. 데이터 전처리\n",
    "- `.`와 ` ` 동일시 (code)\n",
    "- `,`가 있을 경우 밑에 추가 (code)\n",
    "- `/`가 있을 경우 밑에 추가 (code)\n",
    "- `l/r`가 있을 경우 `*l*`, `*r*`로 분리 (manually; #: 1359 -> 1369)\n",
    "  - `Complete_cell_list.csv` -> `Complete_cell_list_LR.csv`\n",
    "- Cell 이 `Z`에서 안오면 제거 (code; #: 1369 -> 1264)\n",
    "- 중복 제거 (code; #: 1264 -> 1229)\n",
    "  - `Complete_cell_list_LR.csv` -> `Complete_cell_list_preprocessed.csv`"
   ]
  },
  {
   "cell_type": "code",
   "execution_count": null,
   "id": "2b86e15a",
   "metadata": {},
   "outputs": [],
   "source": [
    "import pandas as pd\n",
    "\n",
    "# CSV 불러오기\n",
    "complete_cell_data = pd.read_csv(\"Polytomy/Codes/Data/Complete_cell_list_LR.csv\", quotechar='\"')\n",
    "\n",
    "# '.'을 공백으로 대체\n",
    "complete_cell_data['Lineage Name'] = complete_cell_data['Lineage Name'].str.replace('.', ' ', regex=False)\n",
    "\n",
    "# ','와 '/' 기준으로 분리 후 공백 제거하고 explode\n",
    "complete_cell_data_expanded = complete_cell_data.assign(\n",
    "    **{\n",
    "        'Lineage Name': complete_cell_data['Lineage Name']\n",
    "        .apply(lambda x: [s.strip() for part in x.split(',') for s in part.split('/')])\n",
    "    }\n",
    ").explode('Lineage Name').reset_index(drop=True)\n",
    "\n",
    "# Cell 이름 집합\n",
    "cell_names = set(complete_cell_data_expanded['Cell'].dropna())\n",
    "\n",
    "# lineage_maps 생성: Cell -> list of Lineages\n",
    "from collections import defaultdict\n",
    "\n",
    "lineage_maps = defaultdict(list)\n",
    "for _, row in complete_cell_data_expanded.iterrows():\n",
    "    lineage_maps[row['Cell']].append(row['Lineage Name'])\n",
    "\n",
    "# 재귀적으로 prefix 교체 및 code 합치기\n",
    "def resolve_lineage(lineage):\n",
    "    parts = lineage.split(' ')\n",
    "    prefix = parts[0]\n",
    "    codes = ''.join(parts[1:])\n",
    "    \n",
    "    if prefix not in lineage_maps:\n",
    "        return prefix, codes\n",
    "    else:\n",
    "        # 첫 번째 Lineage만 재귀 적용\n",
    "        resolved_prefix, resolved_codes = resolve_lineage(lineage_maps[prefix][0])\n",
    "        return resolved_prefix, resolved_codes + codes\n",
    "\n",
    "# 결과 저장\n",
    "resolved_data = []\n",
    "for _, row in complete_cell_data_expanded.iterrows():\n",
    "    cell = row['Cell']\n",
    "    lineage = row['Lineage Name']\n",
    "    prefix, codes = resolve_lineage(lineage)\n",
    "    resolved_data.append({\n",
    "        'Cell': cell,\n",
    "        'Prefix': prefix,\n",
    "        'Code': codes\n",
    "    })\n",
    "\n",
    "resolved_df = pd.DataFrame(resolved_data)\n",
    "\n",
    "# Prefix가 'Z'인 행만 선택\n",
    "z_only_df = resolved_df[resolved_df['Prefix'] == 'Z'].reset_index(drop=True)\n",
    "\n",
    "# 'Cell', 'Prefix', 'Code'가 모두 같은 행 제거\n",
    "z_only_df_unique = z_only_df.drop_duplicates(subset=['Cell', 'Prefix', 'Code']).reset_index(drop=True)\n",
    "\n",
    "# Prefix와 Code 합치기\n",
    "z_only_df_unique['Lineage Name'] = z_only_df_unique['Prefix'] + z_only_df_unique['Code']\n",
    "\n",
    "# 필요한 열만 선택\n",
    "z_only_df_unique = z_only_df_unique[['Cell', 'Lineage Name']]\n",
    "\n",
    "# 중복 이름 처리\n",
    "name_count = {}\n",
    "def make_unique_name(name):\n",
    "    if name not in name_count:\n",
    "        name_count[name] = 1\n",
    "        return name\n",
    "    else:\n",
    "        name_count[name] += 1\n",
    "        return f\"{name}_{name_count[name]}\"\n",
    "\n",
    "# Cell 컬럼에 적용\n",
    "z_only_df_unique['Cell'] = z_only_df_unique['Cell'].apply(make_unique_name)\n",
    "\n",
    "# CSV로 저장\n",
    "preprocessed_output_path = \"Polytomy/Codes/Data/Complete_cell_list_preprocessed.csv\"\n",
    "z_only_df_unique.to_csv(preprocessed_output_path, index=False)"
   ]
  },
  {
   "cell_type": "markdown",
   "id": "bec2e254",
   "metadata": {},
   "source": [
    "## 1. `.csv` to From-To Data"
   ]
  },
  {
   "cell_type": "code",
   "execution_count": null,
   "id": "898b226d",
   "metadata": {},
   "outputs": [
    {
     "name": "stdout",
     "output_type": "stream",
     "text": [
      ".csv to edge tree : Total daughters:  1099\n",
      "0 daughters: 1099 nodes, 1 daughters: 170 nodes, 2 daughters: 1066 nodes, 3 daughters: 1 nodes, 4 daughters: 10 nodes\n",
      "\n",
      "Removing existing polytomy nodes...\n",
      "\n",
      ".csv to edge tree : Total daughters:  984\n",
      "0 daughters: 984 nodes, 1 daughters: 164 nodes, 2 daughters: 983 nodes\n"
     ]
    }
   ],
   "source": [
    "# csv to edge\n",
    "import pandas as pd\n",
    "from collections import Counter\n",
    "from Bio import Phylo\n",
    "from collections import defaultdict\n",
    "\n",
    "df = pd.read_csv(\"Polytomy/Codes/Data/Complete_cell_list_preprocessed.csv\")\n",
    "\n",
    "edges = []\n",
    "\n",
    "for idx, row in df.iterrows():\n",
    "    lineage = row['Lineage Name']\n",
    "    for i in range(1, len(lineage)):\n",
    "        parent = lineage[:i]       # 부모 코드\n",
    "        child  = lineage[:i+1]     # 자식 코드\n",
    "        edges.append({'from': parent, 'to': child})\n",
    "\n",
    "edges_df = pd.DataFrame(edges).drop_duplicates().reset_index(drop=True)\n",
    "\n",
    "edges_output_path = \"Polytomy/Codes/Data/edges_list_all.csv\"\n",
    "edges_df.to_csv(edges_output_path, index=False)\n",
    "\n",
    "\n",
    "# edge to nwk\n",
    "edges_df = pd.read_csv(\"Polytomy/Codes/Data/edges_list_all.csv\")\n",
    "\n",
    "tree_dict = defaultdict(list)\n",
    "for _, row in edges_df.iterrows():\n",
    "    tree_dict[row['from']].append(row['to'])\n",
    "\n",
    "def build_newick(node):\n",
    "    if node not in tree_dict or len(tree_dict[node]) == 0:\n",
    "        return node\n",
    "    else:\n",
    "        children_newick = [build_newick(child) for child in tree_dict[node]]\n",
    "        return \"(\" + \",\".join(children_newick) + \")\" + node\n",
    "\n",
    "root = 'Z'\n",
    "newick_str = build_newick(root) + \";\"\n",
    "\n",
    "newick_path = \"Polytomy/Codes/nwk/Polytomy_Test/tree_all_mapped.nwk\"\n",
    "with open(newick_path, \"w\") as f:\n",
    "    f.write(newick_str)\n",
    "\n",
    "# Remove polytomy in nwk\n",
    "from Bio import Phylo\n",
    "\n",
    "newick_path = \"Polytomy/Codes/nwk/Polytomy_Test/tree_all_mapped.nwk\"\n",
    "tree = Phylo.read(newick_path, \"newick\")\n",
    "\n",
    "print(\".csv to edge tree : Total daughters: \", len(tree.get_terminals()))\n",
    "print(*[f\"{k} daughters: {v} nodes\" \n",
    "        for k, v in sorted(Counter(len(c.clades) for c in tree.find_clades()).items())], \n",
    "      sep=\", \")\n",
    "\n",
    "def num_daughters(clade):\n",
    "    return len(clade.clades)\n",
    "\n",
    "def remove_nodes(clade):\n",
    "    clade.clades = [child for child in clade.clades if num_daughters(child) < 3]\n",
    "    for child in clade.clades:\n",
    "        remove_nodes(child)\n",
    "    return None\n",
    "\n",
    "print(\"\\nRemoving existing polytomy nodes...\\n\")\n",
    "remove_nodes(tree.root)\n",
    "\n",
    "output_path = \"Polytomy/Codes/nwk/Polytomy_Test/tree_pruned.nwk\"\n",
    "Phylo.write(tree, output_path, \"newick\")\n",
    "\n",
    "tree = Phylo.read(output_path, \"newick\")\n",
    "print(\".csv to edge tree : Total daughters: \", len(tree.get_terminals()))\n",
    "print(*[f\"{k} daughters: {v} nodes\" \n",
    "        for k, v in sorted(Counter(len(c.clades) for c in tree.find_clades()).items())], \n",
    "      sep=\", \")"
   ]
  },
  {
   "cell_type": "markdown",
   "id": "7ed98365",
   "metadata": {},
   "source": [
    "## 2. Generate Artificial Polytomy"
   ]
  },
  {
   "cell_type": "markdown",
   "id": "7ab5e74e",
   "metadata": {},
   "source": [
    "### Method 1: Pick n among leaves -> Remove leaves -> Add Polytomy\n",
    "- Polytomy is randomly selected."
   ]
  },
  {
   "cell_type": "code",
   "execution_count": null,
   "id": "ea496dfb",
   "metadata": {},
   "outputs": [
    {
     "name": "stdout",
     "output_type": "stream",
     "text": [
      "Before pruning: Total daughters:  984\n",
      "0 daughters: 984 nodes, 1 daughters: 164 nodes, 2 daughters: 983 nodes\n",
      "\n",
      "Randomly selecting 16 leaves to prune...\n",
      "\n",
      "After pruning: Total daughters:  968\n",
      "0 daughters: 968 nodes, 1 daughters: 179 nodes, 2 daughters: 967 nodes\n",
      "\n",
      "Adding polytomy...\n",
      "\n",
      "After polytomizing MRCA: Total daughters:  984\n",
      "0 daughters: 984 nodes, 1 daughters: 179 nodes, 2 daughters: 966 nodes, 18 daughters: 1 nodes\n"
     ]
    }
   ],
   "source": [
    "import random\n",
    "from Bio import Phylo\n",
    "from Bio.Phylo.Newick import Clade\n",
    "from copy import deepcopy\n",
    "from collections import Counter\n",
    "\n",
    "tree_path = \"Polytomy/Codes/nwk/Polytomy_Test/tree_pruned.nwk\"\n",
    "tree = Phylo.read(tree_path, \"newick\")\n",
    "\n",
    "print(\"Before pruning: Total daughters: \", len(tree.get_terminals()))\n",
    "print(*[f\"{k} daughters: {v} nodes\" \n",
    "        for k, v in sorted(Counter(len(c.clades) for c in tree.find_clades()).items())], \n",
    "      sep=\", \")\n",
    "\n",
    "all_leaves = [leaf.name for leaf in tree.get_terminals()]\n",
    "polytomy_size = 16\n",
    "\n",
    "print(f\"\\nRandomly selecting {polytomy_size} leaves to prune...\\n\")\n",
    "\n",
    "selected_leaves = random.sample(all_leaves, polytomy_size)\n",
    "mrca = tree.common_ancestor(selected_leaves)\n",
    "allowed_leaves = [leaf for leaf in all_leaves if leaf not in selected_leaves] + [mrca.name]\n",
    "\n",
    "def prune(clade, allowed_leaves):\n",
    "    for child in list(clade.clades):\n",
    "        prune(child, allowed_leaves)\n",
    "        if child.is_terminal() and child.name not in allowed_leaves:\n",
    "            clade.clades.remove(child)\n",
    "\n",
    "prune(mrca, allowed_leaves)\n",
    "\n",
    "print(\"After pruning: Total daughters: \", len(tree.get_terminals()))\n",
    "print(*[f\"{k} daughters: {v} nodes\" \n",
    "        for k, v in sorted(Counter(len(c.clades) for c in tree.find_clades()).items())], \n",
    "      sep=\", \")\n",
    "\n",
    "print(f\"\\nAdding polytomy...\\n\")\n",
    "\n",
    "def add_polytomy(clade, new_children):\n",
    "    clade.clades.extend(new_children)\n",
    "\n",
    "add_polytomy(mrca, [Clade(name=leaf) for leaf in selected_leaves])\n",
    "\n",
    "print(\"After polytomizing MRCA: Total daughters: \", len(tree.get_terminals()))\n",
    "print(*[f\"{k} daughters: {v} nodes\" \n",
    "        for k, v in sorted(Counter(len(c.clades) for c in tree.find_clades()).items())], \n",
    "      sep=\", \")"
   ]
  },
  {
   "cell_type": "markdown",
   "id": "70769ec2",
   "metadata": {},
   "source": [
    "- 2개씩 큰게 추가됨.\n",
    "- MRCA에서 Polytomy인 트리 + Polytomy 아닌 트리가 분기되게 해야하나?\n",
    "  - 그러면 트리가 모양이 너무 바뀌지 않나?"
   ]
  },
  {
   "cell_type": "markdown",
   "id": "63135c25",
   "metadata": {},
   "source": [
    "### Method 2: Pick among n-leaved subtree -> Polytomize\n",
    "- Subtree is randomly selected."
   ]
  },
  {
   "cell_type": "code",
   "execution_count": null,
   "id": "15ff4cfa",
   "metadata": {},
   "outputs": [
    {
     "name": "stdout",
     "output_type": "stream",
     "text": [
      "Before polytomizing: Total daughters:  984\n",
      "0 daughters: 984 nodes, 1 daughters: 164 nodes, 2 daughters: 983 nodes\n",
      "\n",
      "Polytomizing one of the subtree among 141 trees...\n",
      "\n",
      "After polytomizing: Total daughters:  984\n",
      "0 daughters: 984 nodes, 1 daughters: 161 nodes, 2 daughters: 980 nodes, 4 daughters: 1 nodes\n"
     ]
    }
   ],
   "source": [
    "from Bio import Phylo\n",
    "import random\n",
    "from collections import Counter\n",
    "from Bio.Phylo.Newick import Clade\n",
    "\n",
    "tree_path = \"Polytomy/Codes/nwk/Polytomy_Test/tree_pruned.nwk\"\n",
    "tree = Phylo.read(tree_path, \"newick\")\n",
    "\n",
    "print(\"Before polytomizing: Total daughters: \", len(tree.get_terminals()))\n",
    "print(*[f\"{k} daughters: {v} nodes\" \n",
    "        for k, v in sorted(Counter(len(c.clades) for c in tree.find_clades()).items())], \n",
    "      sep=\", \")\n",
    "\n",
    "def find_nodes_with_m_leaves(clade, m):\n",
    "    nodes = []\n",
    "    def helper(node):\n",
    "        if node.is_terminal():\n",
    "            return 1\n",
    "        leaf_count = sum(helper(c) for c in node.clades)\n",
    "        if leaf_count == m:\n",
    "            nodes.append(node)\n",
    "        return leaf_count\n",
    "    helper(clade)\n",
    "    return nodes\n",
    "\n",
    "polytomy_size = 4\n",
    "nodes_with_m_leaves = find_nodes_with_m_leaves(tree.root, polytomy_size)\n",
    "\n",
    "if len(nodes_with_m_leaves) == 0:\n",
    "    print(\"\\nUnable to polytomize!\")\n",
    "else:\n",
    "    print(\"\\nPolytomizing one of the subtree among {} trees...\\n\".format(len(nodes_with_m_leaves)))\n",
    "\n",
    "    def count_children(node):\n",
    "        counts = Counter()\n",
    "        child_count = len(node.clades)\n",
    "        counts[child_count] += 1\n",
    "        \n",
    "        for child in node.clades:\n",
    "            counts.update(count_children(child))\n",
    "        return counts\n",
    "\n",
    "    child_counter = count_children(tree.root)\n",
    "\n",
    "    picked_node = random.choice(nodes_with_m_leaves)\n",
    "\n",
    "    def polytomize_node(node):\n",
    "        leaves = node.get_terminals()\n",
    "        node.clades = leaves\n",
    "\n",
    "    polytomize_node(picked_node)\n",
    "    print(\"After polytomizing: Total daughters: \", len(tree.get_terminals()))\n",
    "    print(*[f\"{k} daughters: {v} nodes\" \n",
    "        for k, v in sorted(Counter(len(c.clades) for c in tree.find_clades()).items())], \n",
    "      sep=\", \")\n",
    "    "
   ]
  },
  {
   "cell_type": "markdown",
   "id": "874abd12",
   "metadata": {},
   "source": [
    "## 3. Randomly Generate Resolved Polytomy"
   ]
  },
  {
   "cell_type": "code",
   "execution_count": 81,
   "id": "e4b25e7d",
   "metadata": {},
   "outputs": [
    {
     "name": "stdout",
     "output_type": "stream",
     "text": [
      "The rpy2.ipython extension is already loaded. To reload it, use:\n",
      "  %reload_ext rpy2.ipython\n",
      "               _                           \n",
      "platform       aarch64-apple-darwin20      \n",
      "arch           aarch64                     \n",
      "os             darwin20                    \n",
      "system         aarch64, darwin20           \n",
      "status                                     \n",
      "major          4                           \n",
      "minor          3.3                         \n",
      "year           2024                        \n",
      "month          02                          \n",
      "day            29                          \n",
      "svn rev        86002                       \n",
      "language       R                           \n",
      "version.string R version 4.3.3 (2024-02-29)\n",
      "nickname       Angel Food Cake             \n",
      "\n"
     ]
    }
   ],
   "source": [
    "# Tree to Canonical Tree Form\n",
    "## Load rpy2: R to Python\n",
    "%load_ext rpy2.ipython\n",
    "\n",
    "import rpy2.robjects as ro\n",
    "print(ro.r('version'))"
   ]
  },
  {
   "cell_type": "code",
   "execution_count": null,
   "id": "041b824f",
   "metadata": {},
   "outputs": [],
   "source": [
    "%%R\n",
    "library(ape)\n",
    "library(poweRbal)"
   ]
  },
  {
   "cell_type": "markdown",
   "id": "29266f05",
   "metadata": {},
   "source": [
    "### Method 1: BD Model"
   ]
  },
  {
   "cell_type": "code",
   "execution_count": null,
   "id": "b1f34dd2",
   "metadata": {},
   "outputs": [],
   "source": [
    "%%R\n",
    "library(ape)\n",
    "library(poweRbal)\n",
    "\n",
    "leaves = 10\n",
    "params <- c(1,0)\n",
    "reps <- 10\n",
    "model <- \"BD\"\n",
    "\n",
    "trees <- vector(\"list\", reps)\n",
    "for(i in 1:reps){\n",
    "    trees[[i]] <- genAltBirthDeathTree(n = size,\n",
    "                                        BIRTHRATE = params[1],\n",
    "                                        DEATHRATE = params[2],\n",
    "                                        TRIES = 1000)\n",
    "}\n",
    "\n",
    "path <- \"Polytomy/Codes/nwk/Temp_Tree/\"\n",
    "file_name <- sprintf(\"%s_b%.1f_d%.1f_l%d_r%d.nwk\", model, params[1], params[2], leaves, reps)\n",
    "full_path <- file.path(path, file_name)\n",
    "write.tree(trees, file = full_path)"
   ]
  },
  {
   "cell_type": "markdown",
   "id": "c53c82a3",
   "metadata": {},
   "source": [
    "### Method 2: Beta Splitting Model"
   ]
  },
  {
   "cell_type": "code",
   "execution_count": null,
   "id": "73e70aba",
   "metadata": {},
   "outputs": [],
   "source": [
    "%%R\n",
    "library(ape)\n",
    "library(poweRbal)\n",
    "\n",
    "leaves = 10\n",
    "params <- c(1)\n",
    "reps <- 10\n",
    "model <- \"BT\" # Beta\n",
    "\n",
    "trees <- vector(\"list\", reps)\n",
    "for(i in 1:reps){\n",
    "    trees[[i]] <- genAldousBetaTree(n = leaves, BETA = params[1])\n",
    "}\n",
    "\n",
    "path <- \"Polytomy/Codes/nwk/Temp_Tree/\"\n",
    "file_name <- sprintf(\"%s_b%.1f_l%d_r%d.nwk\", model, params[1], leaves, reps)\n",
    "full_path <- file.path(path, file_name)\n",
    "write.tree(trees, file = full_path)"
   ]
  },
  {
   "cell_type": "markdown",
   "id": "829a4652",
   "metadata": {},
   "source": [
    "### Method 3: Kingman Coalescent Model\n",
    "- `R` -> `ape` -> vignette -> `Random Topology`"
   ]
  },
  {
   "cell_type": "code",
   "execution_count": null,
   "id": "35100cba",
   "metadata": {},
   "outputs": [],
   "source": [
    "%%R\n",
    "leaves = 10\n",
    "params <- \n",
    "reps <- 10\n",
    "model <- \"KC\" # Kingman Coalescent\n",
    "\n",
    "trees <- vector(\"list\", reps)\n",
    "for(i in 1:reps){\n",
    "    trees[[i]] <- rcoal(n = leaves, br = 'coalescent')\n",
    "    trees[[i]]$edge.length <- NULL # Remove edge lengths\n",
    "}\n",
    "\n",
    "path <- \"Polytomy/Codes/nwk/Temp_Tree/\"\n",
    "file_name <- sprintf(\"%s_b%.1f_l%d_r%d.nwk\", model, params[1], leaves, reps)\n",
    "full_path <- file.path(path, file_name)\n",
    "write.tree(trees, file = full_path)"
   ]
  },
  {
   "cell_type": "markdown",
   "id": "9340c619",
   "metadata": {},
   "source": [
    "### Method 4: Yule Model (Beta : $\\beta = 0$)"
   ]
  },
  {
   "cell_type": "code",
   "execution_count": null,
   "id": "b21808c2",
   "metadata": {},
   "outputs": [],
   "source": [
    "%%R\n",
    "library(ape)\n",
    "library(poweRbal)\n",
    "\n",
    "leaves = 10\n",
    "params <- c(0)\n",
    "reps <- 10\n",
    "model <- \"YL\" # Yule\n",
    "\n",
    "trees <- vector(\"list\", reps)\n",
    "for(i in 1:reps){\n",
    "    trees[[i]] <- genAldousBetaTree(n = leaves, BETA = params[1])\n",
    "}\n",
    "\n",
    "path <- \"Polytomy/Codes/nwk/Temp_Tree/\"\n",
    "file_name <- sprintf(\"%s_b%.1f_l%d_r%d.nwk\", model, params[1], leaves, reps)\n",
    "full_path <- file.path(path, file_name)\n",
    "write.tree(trees, file = full_path)"
   ]
  },
  {
   "cell_type": "markdown",
   "id": "7b161845",
   "metadata": {},
   "source": [
    "### Method 5: Uniform Random Binary Tree Model (Beta: $\\beta = -\\frac{3}{2}$)"
   ]
  },
  {
   "cell_type": "code",
   "execution_count": null,
   "id": "ab78611c",
   "metadata": {},
   "outputs": [],
   "source": [
    "%%R\n",
    "library(ape)\n",
    "library(poweRbal)\n",
    "\n",
    "leaves = 10\n",
    "params <- c(-1.5)\n",
    "reps <- 10\n",
    "model <- \"UF\" # Unifrom\n",
    "\n",
    "trees <- vector(\"list\", reps)\n",
    "for(i in 1:reps){\n",
    "    trees[[i]] <- genAldousBetaTree(n = leaves, BETA = params[1])\n",
    "}\n",
    "\n",
    "path <- \"Polytomy/Codes/nwk/Temp_Tree/\"\n",
    "file_name <- sprintf(\"%s_b%.1f_l%d_r%d.nwk\", model, params[1], leaves, reps)\n",
    "full_path <- file.path(path, file_name)\n",
    "write.tree(trees, file = full_path)"
   ]
  },
  {
   "cell_type": "markdown",
   "id": "ef35677c",
   "metadata": {},
   "source": [
    "## 4. Statistics (R, Python 병행 사용?)"
   ]
  },
  {
   "cell_type": "markdown",
   "id": "55dd376c",
   "metadata": {},
   "source": [
    "### Statistic 1: Colless' Index ($I_{C}$, $C(T)$) `colless_index`"
   ]
  },
  {
   "cell_type": "code",
   "execution_count": 118,
   "id": "c1bb6c17",
   "metadata": {},
   "outputs": [],
   "source": [
    "import dendropy\n",
    "\n",
    "def colless_index(tree):\n",
    "    \"\"\"\n",
    "    Computes Colless index: sum of absolute differences in leaf counts\n",
    "    for all internal nodes.\n",
    "    \"\"\"\n",
    "    def count_leaves(node):\n",
    "        if node.is_leaf():\n",
    "            return 1\n",
    "        return sum(count_leaves(c) for c in node.child_nodes())\n",
    "\n",
    "    def colless_node(node):\n",
    "        if node.is_leaf() or len(node.child_nodes()) < 2:\n",
    "            return 0\n",
    "        left, right = node.child_nodes()[:2]  # binary assumption\n",
    "        nl = count_leaves(left)\n",
    "        nr = count_leaves(right)\n",
    "        return abs(nl - nr) + colless_node(left) + colless_node(right)\n",
    "\n",
    "    return colless_node(tree.seed_node)"
   ]
  },
  {
   "cell_type": "markdown",
   "id": "94c8a31d",
   "metadata": {},
   "source": [
    "### Statistic 2: Sackin's Index ($I_{S}$, $S(T)$) `sackins_index`"
   ]
  },
  {
   "cell_type": "code",
   "execution_count": 119,
   "id": "0700d76e",
   "metadata": {},
   "outputs": [],
   "source": [
    "import dendropy\n",
    "\n",
    "def sackins_index(tree):\n",
    "    \"\"\"\n",
    "    Computes Sackin index: sum of depths of all leaf nodes\n",
    "    \"\"\"\n",
    "    def leaf_depth_sum(node, depth=0):\n",
    "        if node.is_leaf():\n",
    "            return depth\n",
    "        return sum(leaf_depth_sum(c, depth+1) for c in node.child_nodes())\n",
    "\n",
    "    return leaf_depth_sum(tree.seed_node)"
   ]
  },
  {
   "cell_type": "markdown",
   "id": "dcdfd517",
   "metadata": {},
   "source": [
    "### Statistic 3: Tree Height ($T_{D}$) `tree_height`"
   ]
  },
  {
   "cell_type": "code",
   "execution_count": 120,
   "id": "728c955f",
   "metadata": {},
   "outputs": [],
   "source": [
    "def tree_height(tree):\n",
    "    max_depth = 0\n",
    "    def dfs(nd, depth):\n",
    "        nonlocal max_depth\n",
    "        if nd.is_leaf():\n",
    "            max_depth = max(max_depth, depth)\n",
    "        for c in nd.child_nodes():\n",
    "            dfs(c, depth+1)\n",
    "    dfs(tree.seed_node, 0)\n",
    "    return max_depth"
   ]
  },
  {
   "cell_type": "markdown",
   "id": "a5db928e",
   "metadata": {},
   "source": [
    "### Statistic 4: Root-split-ratio `root_split_ratio`"
   ]
  },
  {
   "cell_type": "code",
   "execution_count": 121,
   "id": "9633ca6a",
   "metadata": {},
   "outputs": [],
   "source": [
    "import math\n",
    "\n",
    "def root_split_ratio(tree):\n",
    "    root_children = tree.seed_node.child_nodes()\n",
    "    if len(root_children) >= 2:\n",
    "        n_left = len(root_children[0].leaf_nodes())\n",
    "        n_right = len(root_children[1].leaf_nodes())\n",
    "    elif len(root_children) == 1:\n",
    "        n_left = len(root_children[0].leaf_nodes())\n",
    "        n_right = 0\n",
    "    else:\n",
    "        n_left = 0\n",
    "        n_right = 0\n",
    "\n",
    "    if n_left > n_right:\n",
    "        n_left, n_right = n_right, n_left\n",
    "\n",
    "    gcd = math.gcd(n_left, n_right)\n",
    "    left_s = n_left // gcd\n",
    "    right_s = n_right // gcd\n",
    "\n",
    "    return f\"{left_s}:{right_s}\""
   ]
  },
  {
   "cell_type": "markdown",
   "id": "316cdbba",
   "metadata": {},
   "source": [
    "### Statistic 5: (Normalized) Robinson-Foulds (RF) Distance `rf_dist`"
   ]
  },
  {
   "cell_type": "code",
   "execution_count": 79,
   "id": "c4e39218",
   "metadata": {},
   "outputs": [],
   "source": [
    "from dendropy import Tree\n",
    "from dendropy.calculate import treecompare\n",
    "import numpy as np\n",
    "\n",
    "def rf_dist(trees, normalized=False):\n",
    "    n = len(trees)\n",
    "    mat = np.zeros((n, n))\n",
    "    \n",
    "    for i in range(n):\n",
    "        for j in range(i+1, n):\n",
    "            rf = treecompare.symmetric_difference(trees[i], trees[j])\n",
    "            if normalized:\n",
    "                # Normalized RF = RF / (2 * (n_leaves - 3))\n",
    "                n_leaves = len(trees[i].leaf_nodes())\n",
    "                rf = rf / (2 * (n_leaves - 3))\n",
    "            mat[i, j] = rf\n",
    "            mat[j, i] = rf\n",
    "    return mat"
   ]
  },
  {
   "cell_type": "code",
   "execution_count": 80,
   "id": "4f36db48",
   "metadata": {},
   "outputs": [
    {
     "name": "stdout",
     "output_type": "stream",
     "text": [
      "[[ 0. 12. 14. 14. 14. 12.  6. 14. 14. 14.]\n",
      " [12.  0. 14. 14. 12. 12. 14. 12. 14. 14.]\n",
      " [14. 14.  0.  8. 14. 14. 12. 14. 14. 14.]\n",
      " [14. 14.  8.  0. 14. 14. 12. 14. 14. 14.]\n",
      " [14. 12. 14. 14.  0. 12. 14. 14. 12. 14.]\n",
      " [12. 12. 14. 14. 12.  0. 12. 14. 14. 14.]\n",
      " [ 6. 14. 12. 12. 14. 12.  0. 14. 14. 14.]\n",
      " [14. 12. 14. 14. 14. 14. 14.  0. 14. 12.]\n",
      " [14. 14. 14. 14. 12. 14. 14. 14.  0. 12.]\n",
      " [14. 14. 14. 14. 14. 14. 14. 12. 12.  0.]]\n",
      "[[0.         0.85714286 1.         1.         1.         0.85714286\n",
      "  0.42857143 1.         1.         1.        ]\n",
      " [0.85714286 0.         1.         1.         0.85714286 0.85714286\n",
      "  1.         0.85714286 1.         1.        ]\n",
      " [1.         1.         0.         0.57142857 1.         1.\n",
      "  0.85714286 1.         1.         1.        ]\n",
      " [1.         1.         0.57142857 0.         1.         1.\n",
      "  0.85714286 1.         1.         1.        ]\n",
      " [1.         0.85714286 1.         1.         0.         0.85714286\n",
      "  1.         1.         0.85714286 1.        ]\n",
      " [0.85714286 0.85714286 1.         1.         0.85714286 0.\n",
      "  0.85714286 1.         1.         1.        ]\n",
      " [0.42857143 1.         0.85714286 0.85714286 1.         0.85714286\n",
      "  0.         1.         1.         1.        ]\n",
      " [1.         0.85714286 1.         1.         1.         1.\n",
      "  1.         0.         1.         0.85714286]\n",
      " [1.         1.         1.         1.         0.85714286 1.\n",
      "  1.         1.         0.         0.85714286]\n",
      " [1.         1.         1.         1.         1.         1.\n",
      "  1.         0.85714286 0.85714286 0.        ]]\n"
     ]
    }
   ],
   "source": [
    "tree_path = \"Polytomy/Codes/nwk/Temp_Tree/BD_b1.0_d0.0_l10_r10.nwk\"\n",
    "trees = dendropy.TreeList.get(path=tree_path, schema=\"newick\")\n",
    "\n",
    "print(rf_dist(trees, normalized = False))\n",
    "print(rf_dist(trees, normalized = True))"
   ]
  },
  {
   "cell_type": "markdown",
   "id": "561b40fa",
   "metadata": {},
   "source": [
    "### Statistic 6: Quartet Distance"
   ]
  },
  {
   "cell_type": "code",
   "execution_count": null,
   "id": "b6a36c55",
   "metadata": {},
   "outputs": [],
   "source": [
    "%%R\n",
    "install.packages(\"Quartet\")\n",
    "install.packages(\"TreeTools\")\n",
    "install.packages(\"shiny\")\n",
    "install.packages(c(\"TreeTools\", \"ggplot2\", \"viridisLite\", \"cli\", \"rlang\"))"
   ]
  },
  {
   "cell_type": "code",
   "execution_count": 63,
   "id": "7ac7105d",
   "metadata": {},
   "outputs": [],
   "source": [
    "%%R  -o qd -o nqd\n",
    "\n",
    "library(ape)\n",
    "library(Quartet)\n",
    "\n",
    "tree_file <- \"Polytomy/Codes/nwk/Temp_Tree/BD_b1.0_d0.0_l10_r10.nwk\"\n",
    "tree_lines <- readLines(tree_file)\n",
    "num_trees <- length(tree_lines)\n",
    "num_leaves <- sapply(tree_lines, function(x) length(read.tree(text=x)$tip.label))\n",
    "\n",
    "qd_matrix <- AllPairsQuartetDistance(tree_file)\n",
    "max_quartets <- choose(num_leaves[1], 4)\n",
    "\n",
    "qd <- qd_matrix\n",
    "nqd <- qd / max_quartets"
   ]
  },
  {
   "cell_type": "markdown",
   "id": "a0f7a736",
   "metadata": {},
   "source": [
    "### (구현 X) Statistic 7: K-tree Score\n",
    "- $K > 4$ 일때는 오래 걸릴 수 있음. (생략)\n",
    "  - $K=2$일 때는 RF\n",
    "  - $K=4$일 때가 quartet과 유사."
   ]
  },
  {
   "cell_type": "markdown",
   "id": "41e5d143",
   "metadata": {},
   "source": [
    "### (구현 X) Statistic 8: Branch-score Distance `branch_score_distance` (Need Branch Length!!)"
   ]
  },
  {
   "cell_type": "code",
   "execution_count": null,
   "id": "41a917ed",
   "metadata": {},
   "outputs": [],
   "source": [
    "import dendropy\n",
    "\n",
    "def branch_score_distance(tree1, tree2):\n",
    "    def get_branches(tree):\n",
    "        br_dict = {}\n",
    "        for edge in tree.edges():\n",
    "            if edge.head_node.is_leaf():\n",
    "                continue\n",
    "            split = frozenset([l.taxon.label for l in edge.head_node.leaf_nodes()])\n",
    "            br_dict[split] = edge.length if edge.length else 0.0\n",
    "        return br_dict\n",
    "    b1 = get_branches(tree1)\n",
    "    b2 = get_branches(tree2)\n",
    "    all_splits = set(b1.keys()).union(set(b2.keys()))\n",
    "    return sum((b1.get(s,0)-b2.get(s,0))**2 for s in all_splits)**0.5\n",
    "\n",
    "def branch_score_matrix(trees):\n",
    "    n = len(trees)\n",
    "    bs_matrix = np.zeros((n, n))\n",
    "    for i in range(n):\n",
    "        for j in range(i+1, n):\n",
    "            bs = branch_score_distance(trees[i], trees[j])\n",
    "            bs_matrix[i,j] = bs\n",
    "            bs_matrix[j,i] = bs\n",
    "    return pd.DataFrame(bs_matrix)"
   ]
  },
  {
   "cell_type": "markdown",
   "id": "ce960e46",
   "metadata": {},
   "source": [
    "## 5. Automation"
   ]
  },
  {
   "cell_type": "code",
   "execution_count": 82,
   "id": "74e2413b",
   "metadata": {},
   "outputs": [],
   "source": [
    "import os\n",
    "os.chdir('/Users/yongjunchoi/Documents/GitHub/Research/Research')"
   ]
  },
  {
   "cell_type": "code",
   "execution_count": 183,
   "id": "10af4b36",
   "metadata": {},
   "outputs": [],
   "source": [
    "from Bio import Phylo\n",
    "import random\n",
    "from collections import Counter\n",
    "from Bio.Phylo.Newick import Clade\n",
    "import copy\n",
    "\n",
    "true_tree_path = \"Polytomy/Codes/nwk/Polytomy_Test/tree_pruned.nwk\"\n",
    "true_tree = Phylo.read(true_tree_path, \"newick\")"
   ]
  },
  {
   "cell_type": "code",
   "execution_count": 184,
   "id": "afb7076b",
   "metadata": {},
   "outputs": [],
   "source": [
    "def find_nodes_with_m_leaves(clade, m):\n",
    "    nodes = []\n",
    "    def helper(node):\n",
    "        if node.is_terminal():\n",
    "            return 1\n",
    "        leaf_count = sum(helper(c) for c in node.clades)\n",
    "        if leaf_count == m:\n",
    "            nodes.append(node)\n",
    "        return leaf_count\n",
    "    helper(clade)\n",
    "    return nodes"
   ]
  },
  {
   "cell_type": "code",
   "execution_count": 228,
   "id": "2a31c164",
   "metadata": {},
   "outputs": [],
   "source": [
    "polytomy_size = 15\n",
    "total_trial = 1\n",
    "tree_sample_size = 100"
   ]
  },
  {
   "cell_type": "code",
   "execution_count": 229,
   "id": "b0859945",
   "metadata": {},
   "outputs": [
    {
     "name": "stdout",
     "output_type": "stream",
     "text": [
      "Before polytomizing: Total daughters:  984\n",
      "0 daughters: 984 nodes, 1 daughters: 164 nodes, 2 daughters: 983 nodes\n",
      "\n",
      "Polytomizing one of the subtree among 6 trees...\n",
      "\n",
      "After polytomizing: Total daughters:  984\n",
      "0 daughters: 984 nodes, 1 daughters: 161 nodes, 2 daughters: 969 nodes, 15 daughters: 1 nodes\n"
     ]
    }
   ],
   "source": [
    "\n",
    "copy_tree = copy.deepcopy(true_tree)\n",
    "nodes_with_m_leaves = find_nodes_with_m_leaves(copy_tree.root, polytomy_size)\n",
    "\n",
    "print(\"Before polytomizing: Total daughters: \", len(copy_tree.get_terminals()))\n",
    "print(*[f\"{k} daughters: {v} nodes\" \n",
    "    for k, v in sorted(Counter(len(c.clades) for c in copy_tree.find_clades()).items())], \n",
    "    sep=\", \")\n",
    "\n",
    "if len(nodes_with_m_leaves) == 0:\n",
    "    print(\"\\nUnable to polytomize!\")\n",
    "else:\n",
    "    print(\"\\nPolytomizing one of the subtree among {} trees...\\n\".format(len(nodes_with_m_leaves)))\n",
    "\n",
    "    def count_children(node):\n",
    "        counts = Counter()\n",
    "        child_count = len(node.clades)\n",
    "        counts[child_count] += 1\n",
    "        \n",
    "        for child in node.clades:\n",
    "            counts.update(count_children(child))\n",
    "        return counts\n",
    "\n",
    "    child_counter = count_children(copy_tree.root)\n",
    "\n",
    "    picked_node = random.choice(nodes_with_m_leaves)\n",
    "\n",
    "    answer_subtree = copy.deepcopy(picked_node)\n",
    "    # 리프 노드 이름 t1, t2, ...\n",
    "    for i, leaf in enumerate(answer_subtree.get_terminals(), start=1):\n",
    "        leaf.name = f\"t{i}\"\n",
    "\n",
    "    # 내부 노드 이름 제거\n",
    "    for n in answer_subtree.get_nonterminals():\n",
    "        n.name = None\n",
    "\n",
    "    # 모든 branch_length 제거 (재귀)\n",
    "    def remove_branch_length(clade):\n",
    "        clade.branch_length = None\n",
    "        for child in clade.clades:\n",
    "            remove_branch_length(child)\n",
    "\n",
    "    remove_branch_length(answer_subtree)\n",
    "    Phylo.write(answer_subtree, \"Polytomy/Codes/nwk/TEST/Answer/polytomy_answer_tree.nwk\", \"newick\")\n",
    "\n",
    "    # Newick 문자열로 가져오기\n",
    "    from io import StringIO\n",
    "    output = StringIO()\n",
    "    Phylo.write(answer_subtree, output, \"newick\")\n",
    "    newick_str = output.getvalue()\n",
    "\n",
    "    # :0.00000 제거\n",
    "    import re\n",
    "    newick_str_no_branch = re.sub(r\":0\\.0+\",\"\", newick_str)\n",
    "\n",
    "    # 파일로 저장\n",
    "    with open(\"Polytomy/Codes/nwk/TEST/Answer/polytomy_answer_tree.nwk\",\"w\") as f:\n",
    "        f.write(newick_str_no_branch)\n",
    "\n",
    "    def polytomize_node(node):\n",
    "        leaves = node.get_terminals()\n",
    "        node.clades = leaves\n",
    "\n",
    "    polytomize_node(picked_node)\n",
    "    print(\"After polytomizing: Total daughters: \", len(copy_tree.get_terminals()))\n",
    "    print(*[f\"{k} daughters: {v} nodes\" \n",
    "        for k, v in sorted(Counter(len(c.clades) for c in copy_tree.find_clades()).items())], \n",
    "      sep=\", \")"
   ]
  },
  {
   "cell_type": "code",
   "execution_count": 230,
   "id": "02c4d873",
   "metadata": {},
   "outputs": [
    {
     "name": "stdout",
     "output_type": "stream",
     "text": [
      "Saved: BD_b1.0_d0.0_l15_r100.nwk \n",
      "Saved: BD_b2.0_d0.5_l15_r100.nwk \n",
      "Saved: BT_b0.2_l15_r100.nwk \n",
      "Saved: BT_b0.5_l15_r100.nwk \n",
      "Saved: KC_l15_r100.nwk \n",
      "Saved: YL_l15_r100.nwk \n",
      "Saved: UF_l15_r100.nwk \n"
     ]
    }
   ],
   "source": [
    "%%R -i polytomy_size -i tree_sample_size\n",
    "library(ape)\n",
    "library(poweRbal)\n",
    "\n",
    "leaves <- polytomy_size\n",
    "reps   <- tree_sample_size\n",
    "path <- \"Polytomy/Codes/nwk/TEST/Samples\"\n",
    "if (!dir.exists(path)) dir.create(path, recursive = TRUE)\n",
    "\n",
    "# 모델과 파라미터를 리스트로 정의\n",
    "models <- list(\n",
    "  list(name=\"BD\", type=\"BD\", params=data.frame(birth=c(1,2), death=c(0,0.5))),\n",
    "  list(name=\"BT\", type=\"Beta\", params=data.frame(beta=c(0.2,0.5))),\n",
    "  list(name=\"KC\", type=\"KC\", params=NULL),\n",
    "  list(name=\"YL\", type=\"Yule\", params=NULL),\n",
    "  list(name=\"UF\", type=\"Uniform\", params=NULL)\n",
    ")\n",
    "\n",
    "for (m in models) {\n",
    "  model <- m$name\n",
    "  type  <- m$type\n",
    "  params <- m$params\n",
    "  \n",
    "  if (type==\"BD\") {\n",
    "    for (i in 1:nrow(params)) {\n",
    "      b <- params$birth[i]\n",
    "      d <- params$death[i]\n",
    "      trees <- lapply(1:reps, function(j) genAltBirthDeathTree(n=leaves, BIRTHRATE=b, DEATHRATE=d, TRIES=1000))\n",
    "      file_name <- sprintf(\"%s_b%.1f_d%.1f_l%d_r%d.nwk\", model, b, d, leaves, reps)\n",
    "      write.tree(trees, file=file.path(path, file_name))\n",
    "      cat(\"Saved:\", file_name, \"\\n\")\n",
    "    }\n",
    "  } else if (type==\"Beta\") {\n",
    "    for (i in 1:nrow(params)) {\n",
    "      b <- params$beta[i]\n",
    "      trees <- lapply(1:reps, function(j) genAldousBetaTree(n=leaves, BETA=b))\n",
    "      file_name <- sprintf(\"%s_b%.1f_l%d_r%d.nwk\", model, b, leaves, reps)\n",
    "      write.tree(trees, file=file.path(path, file_name))\n",
    "      cat(\"Saved:\", file_name, \"\\n\")\n",
    "    }\n",
    "  } else if (type==\"KC\") {\n",
    "    trees <- lapply(1:reps, function(j) {\n",
    "      tr <- rcoal(n=leaves)\n",
    "      tr$edge.length <- NULL\n",
    "      tr\n",
    "    })\n",
    "    file_name <- sprintf(\"%s_l%d_r%d.nwk\", model, leaves, reps)\n",
    "    write.tree(trees, file=file.path(path, file_name))\n",
    "    cat(\"Saved:\", file_name, \"\\n\")\n",
    "    \n",
    "  } else if (type==\"Yule\") {\n",
    "    trees <- lapply(1:reps, function(j) genAldousBetaTree(n=leaves, BETA=0))\n",
    "    file_name <- sprintf(\"%s_l%d_r%d.nwk\", model, leaves, reps)\n",
    "    write.tree(trees, file=file.path(path, file_name))\n",
    "    cat(\"Saved:\", file_name, \"\\n\")\n",
    "    \n",
    "  } else if (type==\"Uniform\") {\n",
    "    trees <- lapply(1:reps, function(j) genAldousBetaTree(n=leaves, BETA=-1.5))\n",
    "    file_name <- sprintf(\"%s_l%d_r%d.nwk\", model, leaves, reps)\n",
    "    write.tree(trees, file=file.path(path, file_name))\n",
    "    cat(\"Saved:\", file_name, \"\\n\")\n",
    "  }\n",
    "}"
   ]
  },
  {
   "cell_type": "code",
   "execution_count": 231,
   "id": "ffeb1c85",
   "metadata": {},
   "outputs": [
    {
     "name": "stdout",
     "output_type": "stream",
     "text": [
      "model_1: Polytomy/Codes/nwk/TEST/Samples/BD_b1.0_d0.0_l15_r100.nwk\n",
      "model_2: Polytomy/Codes/nwk/TEST/Samples/BD_b2.0_d0.5_l15_r100.nwk\n",
      "model_3: Polytomy/Codes/nwk/TEST/Samples/BT_b0.2_l15_r100.nwk\n",
      "model_4: Polytomy/Codes/nwk/TEST/Samples/BT_b0.5_l15_r100.nwk\n",
      "model_5: Polytomy/Codes/nwk/TEST/Samples/KC_l15_r100.nwk\n",
      "model_6: Polytomy/Codes/nwk/TEST/Samples/YL_l15_r100.nwk\n",
      "model_7: Polytomy/Codes/nwk/TEST/Samples/UF_l15_r100.nwk\n"
     ]
    }
   ],
   "source": [
    "import os\n",
    "from glob import glob\n",
    "\n",
    "tree_folder = \"Polytomy/Codes/nwk/TEST/Samples\"\n",
    "prefixes = [\"BD\", \"BT\", \"KC\", \"YL\", \"UF\"]\n",
    "\n",
    "# 모델별로 파일 리스트 만들기\n",
    "all_files = sorted(glob(os.path.join(tree_folder, \"*.nwk\")))\n",
    "\n",
    "# 각 모델별로 그룹화\n",
    "model_files = []\n",
    "for p in prefixes:\n",
    "    files = sorted([f for f in all_files \n",
    "                    if os.path.basename(f).startswith(p) \n",
    "                    and f\"l{polytomy_size}\" in os.path.basename(f)])\n",
    "    model_files.extend(files)  # 순서대로 하나의 리스트에 추가\n",
    "\n",
    "# model_1, model_2, ... 변수 생성\n",
    "for i, fpath in enumerate(model_files, start=1):\n",
    "    globals()[f\"model_{i}\"] = fpath\n",
    "\n",
    "# models 리스트에 담기\n",
    "models = [globals()[f\"model_{i}\"] for i in range(1, len(model_files)+1)]\n",
    "\n",
    "# 확인\n",
    "for i, f in enumerate(models, start=1):\n",
    "    print(f\"model_{i}: {f}\")"
   ]
  },
  {
   "cell_type": "code",
   "execution_count": 232,
   "id": "a3f81191",
   "metadata": {},
   "outputs": [
    {
     "name": "stdout",
     "output_type": "stream",
     "text": [
      "     Model  Colless  Sackin  Height RootSplit\n",
      "0  model_1       36      80       7      1:14\n",
      "1  model_1       36      80       7      1:14\n",
      "2  model_1       20      66       7       7:8\n",
      "3  model_1       41      79       9      2:13\n",
      "4  model_1       30      72       7       7:8\n"
     ]
    }
   ],
   "source": [
    "import dendropy\n",
    "import pandas as pd\n",
    "\n",
    "# 모델별 파일 리스트\n",
    "# models = [model_1, model_2, ...] 이미 존재한다고 가정\n",
    "model_labels = [f\"model_{i}\" for i in range(1, len(models)+1)]\n",
    "\n",
    "# 데이터프레임 초기화\n",
    "df_stats = pd.DataFrame(columns=[\"Model\", \"Colless\", \"Sackin\", \"Height\", \"RootSplit\"])\n",
    "\n",
    "for label, fpath in zip(model_labels, models):\n",
    "    # 파일 하나에 여러 트리가 있으면 TreeList로 읽기\n",
    "    trees = dendropy.TreeList.get(path=fpath, schema=\"newick\", preserve_underscores=True)\n",
    "    for tree in trees:\n",
    "        df_stats.loc[len(df_stats)] = {\n",
    "            \"Model\": label,\n",
    "            \"Colless\": colless_index(tree),\n",
    "            \"Sackin\": sackins_index(tree),\n",
    "            \"Height\": tree_height(tree),\n",
    "            \"RootSplit\": root_split_ratio(tree)\n",
    "        }\n",
    "\n",
    "# polytomy_answer_tree.nwk 통계 계산\n",
    "answer_tree_path = \"Polytomy/Codes/nwk/TEST/Answer/polytomy_answer_tree.nwk\"\n",
    "answer_tree = dendropy.Tree.get(path=answer_tree_path, schema=\"newick\", preserve_underscores=True)\n",
    "\n",
    "answer_stats = {\n",
    "    \"Colless\": colless_index(answer_tree),\n",
    "    \"Sackin\": sackins_index(answer_tree),\n",
    "    \"Height\": tree_height(answer_tree),\n",
    "    \"RootSplit\": root_split_ratio(answer_tree)\n",
    "}\n",
    "\n",
    "# df_stats 확인\n",
    "print(df_stats.head())"
   ]
  },
  {
   "cell_type": "markdown",
   "id": "42d7d29b",
   "metadata": {},
   "source": [
    "# Root split ratio plot 할 방법 찾기"
   ]
  },
  {
   "cell_type": "code",
   "execution_count": 233,
   "id": "5421bfb4",
   "metadata": {},
   "outputs": [
    {
     "name": "stderr",
     "output_type": "stream",
     "text": [
      "No artists with labels found to put in legend.  Note that artists whose label start with an underscore are ignored when legend() is called with no argument.\n"
     ]
    },
    {
     "data": {
      "image/png": "[encoded data removed]",
      "text/plain": [
       "<Figure size 1500x500 with 3 Axes>"
      ]
     },
     "metadata": {},
     "output_type": "display_data"
    }
   ],
   "source": [
    "import matplotlib.pyplot as plt\n",
    "import seaborn as sns\n",
    "\n",
    "metrics = [\"Colless\", \"Sackin\", \"Height\"]\n",
    "\n",
    "# 모델 순서 그대로\n",
    "model_labels = [f\"model_{i}\" for i in range(1, len(models)+1)]\n",
    "\n",
    "plt.figure(figsize=(15,5))\n",
    "for i, metric in enumerate(metrics, start=1):\n",
    "    plt.subplot(1, len(metrics), i)\n",
    "    \n",
    "    sns.violinplot(\n",
    "        x=\"Model\",\n",
    "        y=metric,\n",
    "        data=df_stats,\n",
    "        inner=\"quartile\",\n",
    "        order=model_labels  # models 순서 그대로\n",
    "    )\n",
    "    \n",
    "    # answer tree 빨간 점 표시\n",
    "    plt.scatter(\n",
    "        x=range(len(model_labels)),\n",
    "        y=[answer_stats[metric]]*len(model_labels),\n",
    "        color='red',\n",
    "        zorder=10,\n",
    "        label=\"Answer Tree\" if i==1 else None\n",
    "    )\n",
    "    \n",
    "    plt.title(f\"{metric} Distribution by Model\")\n",
    "    plt.xticks(rotation=90)\n",
    "\n",
    "plt.tight_layout()\n",
    "plt.legend()\n",
    "plt.show()"
   ]
  },
  {
   "cell_type": "code",
   "execution_count": 239,
   "id": "bd9ae44d",
   "metadata": {},
   "outputs": [],
   "source": [
    "from dendropy import Tree, TreeList, TaxonNamespace\n",
    "from dendropy.calculate import treecompare\n",
    "import matplotlib.pyplot as plt\n",
    "\n",
    "# -----------------------------\n",
    "# 1. 정답 트리 로드\n",
    "# -----------------------------\n",
    "answer_tree_path = \"Polytomy/Codes/nwk/TEST/Answer/polytomy_answer_tree.nwk\"\n",
    "\n",
    "# 공통 TaxonNamespace\n",
    "taxa = TaxonNamespace()\n",
    "\n",
    "# 정답 트리 로드\n",
    "answer_tree = Tree.get(path=answer_tree_path, schema=\"newick\", taxon_namespace=taxa, preserve_underscores=True)\n",
    "for e in answer_tree.postorder_edge_iter():\n",
    "    e.length = None  # edge lengths 제거\n",
    "\n",
    "# -----------------------------\n",
    "# 2. 모델별 트리 RF 거리 계산\n",
    "# -----------------------------\n",
    "rf_distances = []\n",
    "nrf_distances = []\n",
    "\n",
    "for model_files in models:  # models 리스트, 각 요소는 파일 경로 리스트\n",
    "    if isinstance(model_files, str):\n",
    "        model_files = [model_files]\n",
    "    \n",
    "    dists = []\n",
    "    n_dists = []\n",
    "    for f in model_files:\n",
    "        # 파일 내 모든 트리 읽기\n",
    "        trees = TreeList.get(path=f, schema=\"newick\", taxon_namespace=taxa, preserve_underscores=True)\n",
    "        for t in trees:\n",
    "            # edge lengths 제거\n",
    "            for e in t.postorder_edge_iter():\n",
    "                e.length = None\n",
    "            # RF 거리 계산\n",
    "            rf = treecompare.symmetric_difference(answer_tree, t)\n",
    "            n_leaves = len(t.leaf_nodes())\n",
    "            rf_norm = rf / (2 * (n_leaves - 3))\n",
    "\n",
    "            dists.append(rf)\n",
    "            n_dists.append(rf_norm)\n",
    "    rf_distances.append(dists)\n",
    "    nrf_distances.append(n_dists)"
   ]
  },
  {
   "cell_type": "code",
   "execution_count": 245,
   "id": "e8664723",
   "metadata": {},
   "outputs": [
    {
     "name": "stdout",
     "output_type": "stream",
     "text": [
      "[1] 100\n",
      "[1] 100\n"
     ]
    }
   ],
   "source": [
    "%%R -i answer_tree_path -i models -o qds -o nqds\n",
    "\n",
    "library(ape)\n",
    "library(Quartet)\n",
    "\n",
    "# 정답 트리 읽기\n",
    "answer_tree <- read.tree(answer_tree_path)\n",
    "\n",
    "qds <- list()   # 각 파일별 Quartet Distance\n",
    "nqds <- list()  # 정규화된 QD\n",
    "\n",
    "for (i in seq_along(models)) {\n",
    "  file_path <- models[[i]]  # 파일 경로\n",
    "  tree_lines <- readLines(file_path)  # 파일 내 모든 트리 (한 줄에 하나)\n",
    "  \n",
    "  qd_vec <- numeric(length(tree_lines))\n",
    "  nqd_vec <- numeric(length(tree_lines))\n",
    "  \n",
    "  for (j in seq_along(tree_lines)) {\n",
    "    tr_text <- tree_lines[j]\n",
    "    \n",
    "    # Newick 문자열을 객체로 읽기\n",
    "    tr <- read.tree(text = tr_text)\n",
    "    num_leaves <- length(tr$tip.label)\n",
    "    \n",
    "    # Quartet distance 계산\n",
    "    # 파일 경로 대신 임시 파일 필요\n",
    "    tmp_file <- tempfile(fileext = \".nwk\")\n",
    "    writeLines(tr_text, tmp_file)\n",
    "    qd_val <- QuartetDistance(answer_tree_path, tmp_file)\n",
    "    unlink(tmp_file)\n",
    "    \n",
    "    qd_vec[j] <- qd_val\n",
    "    nqd_vec[j] <- qd_val / choose(num_leaves, 4)\n",
    "  }\n",
    "  \n",
    "  qds[[i]] <- qd_vec\n",
    "  nqds[[i]] <- nqd_vec\n",
    "}\n",
    "print(length(qds[[1]]))\n",
    "print(length(nqds[[1]]))"
   ]
  },
  {
   "cell_type": "code",
   "execution_count": 251,
   "id": "0dbd583e",
   "metadata": {},
   "outputs": [
    {
     "data": {
      "image/png": "[encoded data removed]",
      "text/plain": [
       "<Figure size 1600x1200 with 4 Axes>"
      ]
     },
     "metadata": {},
     "output_type": "display_data"
    }
   ],
   "source": [
    "import matplotlib.pyplot as plt\n",
    "import seaborn as sns\n",
    "import pandas as pd\n",
    "import warnings\n",
    "\n",
    "# 경고 숨기기\n",
    "warnings.filterwarnings(\"ignore\")\n",
    "\n",
    "# subplot 설정\n",
    "fig, axes = plt.subplots(2, 2, figsize=(16, 12))\n",
    "axes = axes.flatten()  # 1차원 배열로\n",
    "\n",
    "# 그릴 데이터와 이름\n",
    "data_metrics = [\n",
    "    (rf_distances, \"RF Distance\"),\n",
    "    (nrf_distances, \"Normalized RF Distance\"),\n",
    "    (qds, \"Quartet Distance (QD)\"),\n",
    "    (nqds, \"Normalized Quartet Distance (nQD)\")\n",
    "]\n",
    "\n",
    "for ax, (data_list, metric_name) in zip(axes, data_metrics):\n",
    "    # 모델 이름\n",
    "    model_labels = [f\"Model {i+1}\" for i in range(len(data_list))]\n",
    "    \n",
    "    # long-form 데이터프레임 생성\n",
    "    df = pd.DataFrame({\n",
    "        \"Value\": [v for model in data_list for v in model],\n",
    "        \"Model\": [model_labels[i] for i, model in enumerate(data_list) for _ in model]\n",
    "    })\n",
    "    \n",
    "    sns.violinplot(x=\"Model\", y=\"Value\", data=df, inner=\"box\", palette=\"Pastel1\", ax=ax)\n",
    "    ax.set_title(metric_name, fontsize=14)\n",
    "    ax.set_xlabel(\"Model\")\n",
    "    ax.set_ylabel(metric_name)\n",
    "\n",
    "plt.tight_layout()\n",
    "plt.show()"
   ]
  },
  {
   "cell_type": "markdown",
   "id": "00112078",
   "metadata": {},
   "source": [
    "## 6. Parameter Estimation"
   ]
  },
  {
   "cell_type": "markdown",
   "id": "6bf7b35f",
   "metadata": {},
   "source": [
    "### 6.1. Generalized Spliting Model"
   ]
  },
  {
   "cell_type": "code",
   "execution_count": 253,
   "id": "f63f3967",
   "metadata": {},
   "outputs": [],
   "source": [
    "def resolve_polytomy(clade):\n",
    "    \"\"\"Polytomy를 binary로 변환\"\"\"\n",
    "    if clade.is_terminal():\n",
    "        return\n",
    "    \n",
    "    while len(clade.clades) > 2:\n",
    "        # 두 개 자식만 남기고 나머지는 새로운 내부 노드로 묶기\n",
    "        first = clade.clades.pop(0)\n",
    "        second = clade.clades.pop(0)\n",
    "        new_internal = Clade()\n",
    "        new_internal.clades = [first, second]\n",
    "        clade.clades.insert(0, new_internal)\n",
    "    \n",
    "    # 재귀 적용\n",
    "    for child in clade.clades:\n",
    "        resolve_polytomy(child)"
   ]
  },
  {
   "cell_type": "code",
   "execution_count": 258,
   "id": "c1d30376",
   "metadata": {},
   "outputs": [
    {
     "data": {
      "image/png": "[encoded data removed]",
      "text/plain": [
       "<Figure size 800x500 with 1 Axes>"
      ]
     },
     "metadata": {},
     "output_type": "display_data"
    }
   ],
   "source": [
    "from Bio import Phylo\n",
    "import matplotlib.pyplot as plt\n",
    "import seaborn as sns\n",
    "\n",
    "# 트리 불러오기 (예시: Newick 파일)\n",
    "del_polytomy_tree = copy.deepcopy(copy_tree)\n",
    "resolve_polytomy(del_polytomy_tree.root)\n",
    "\n",
    "ratios = []\n",
    "\n",
    "def count_leaves(clade):\n",
    "    \"\"\"재귀적으로 leaf 개수 세기\"\"\"\n",
    "    if clade.is_terminal():\n",
    "        return 1\n",
    "    return sum(count_leaves(child) for child in clade.clades)\n",
    "\n",
    "# 내부 노드 순회\n",
    "for clade in tree.find_clades(order=\"postorder\"):\n",
    "    if not clade.is_terminal() and len(clade.clades) == 2:  # binary node만\n",
    "        left, right = clade.clades\n",
    "        left_leaves = count_leaves(left)\n",
    "        right_leaves = count_leaves(right)\n",
    "        m = left_leaves + right_leaves\n",
    "        x = min(left_leaves, right_leaves)\n",
    "        ratio = x / m\n",
    "        ratios.append(ratio)\n",
    "\n",
    "# -----------------------------\n",
    "# 분포 시각화\n",
    "# -----------------------------\n",
    "plt.figure(figsize=(8, 5))\n",
    "sns.histplot(ratios, bins=20, kde=True, color=\"salmon\", edgecolor=\"black\")\n",
    "plt.title(\"Distribution of child subtree ratios (x/m)\")\n",
    "plt.xlabel(\"x / m (smaller side ratio)\")\n",
    "plt.ylabel(\"Frequency\")\n",
    "plt.show()"
   ]
  },
  {
   "cell_type": "code",
   "execution_count": 264,
   "id": "65d50cf7",
   "metadata": {},
   "outputs": [
    {
     "data": {
      "text/plain": [
       "Text(0.5, 1.0, 'Weighted Distribution of Child Subtree Ratios (x/m)')"
      ]
     },
     "execution_count": 264,
     "metadata": {},
     "output_type": "execute_result"
    },
    {
     "data": {
      "image/png": "[encoded data removed]",
      "text/plain": [
       "<Figure size 800x500 with 1 Axes>"
      ]
     },
     "metadata": {},
     "output_type": "display_data"
    }
   ],
   "source": [
    "from Bio import Phylo\n",
    "import matplotlib.pyplot as plt\n",
    "import seaborn as sns\n",
    "import copy\n",
    "\n",
    "# -----------------------------\n",
    "# 트리 불러오기\n",
    "# -----------------------------\n",
    "tree = copy.deepcopy(copy_tree)  # 예시 트리, Newick 불러온 후\n",
    "resolve_polytomy(tree.root)      # polytomy 제거\n",
    "\n",
    "# -----------------------------\n",
    "# 1. Bottom-up leaf count 계산\n",
    "# -----------------------------\n",
    "def compute_leaf_counts(node):\n",
    "    \"\"\"각 노드에 leaf 개수 저장 (bottom-up)\"\"\"\n",
    "    if node.is_terminal():\n",
    "        node.num_leaves = 1\n",
    "    else:\n",
    "        node.num_leaves = sum(compute_leaf_counts(child) for child in node.clades)\n",
    "    return node.num_leaves\n",
    "\n",
    "compute_leaf_counts(tree.root)\n",
    "\n",
    "# -----------------------------\n",
    "# 2. Top-down weighted ratio 계산\n",
    "# -----------------------------\n",
    "ratios = []\n",
    "weights = []\n",
    "\n",
    "def collect_ratios(node, parent_weight=1.0):\n",
    "    \"\"\"top-down으로 weight 전달하며 ratio 수집\"\"\"\n",
    "    if node.is_terminal() or len(node.clades) != 2:\n",
    "        return\n",
    "\n",
    "    left, right = node.clades\n",
    "    left_leaves = left.num_leaves\n",
    "    right_leaves = right.num_leaves\n",
    "    m = left_leaves + right_leaves\n",
    "    x = min(left_leaves, right_leaves)\n",
    "    ratio = x / m\n",
    "\n",
    "    # 현재 노드의 weight\n",
    "    left_weight = parent_weight * (left_leaves / m)\n",
    "    right_weight = parent_weight * (right_leaves / m)\n",
    "\n",
    "    # ratio와 weight 저장\n",
    "    ratios.append(ratio)\n",
    "    weights.append(parent_weight)  # frequency 계산 시 곱할 weight\n",
    "\n",
    "    # 재귀 호출\n",
    "    collect_ratios(left, left_weight)\n",
    "    collect_ratios(right, right_weight)\n",
    "\n",
    "collect_ratios(tree.root)\n",
    "\n",
    "import numpy as np\n",
    "from scipy.stats import gaussian_kde\n",
    "\n",
    "# 리스트 → numpy 배열\n",
    "ratios_arr = np.array(ratios)\n",
    "weights_arr = np.array(weights)\n",
    "\n",
    "# -----------------------------\n",
    "# 1. Weighted histogram\n",
    "# -----------------------------\n",
    "plt.figure(figsize=(8,5))\n",
    "plt.hist(ratios_arr, bins=20, weights=weights_arr, color='skyblue', edgecolor='black', alpha=0.6)\n",
    "plt.xlabel(\"x / m (smaller side ratio)\")\n",
    "plt.ylabel(\"Weighted Frequency\")\n",
    "plt.title(\"Weighted Distribution of Child Subtree Ratios (x/m)\")"
   ]
  },
  {
   "cell_type": "code",
   "execution_count": null,
   "id": "71316ee8",
   "metadata": {},
   "outputs": [],
   "source": []
  }
 ],
 "metadata": {
  "kernelspec": {
   "display_name": "Python 3",
   "language": "python",
   "name": "python3"
  },
  "language_info": {
   "codemirror_mode": {
    "name": "ipython",
    "version": 3
   },
   "file_extension": ".py",
   "mimetype": "text/x-python",
   "name": "python",
   "nbconvert_exporter": "python",
   "pygments_lexer": "ipython3",
   "version": "3.9.6"
  }
 },
 "nbformat": 4,
 "nbformat_minor": 5
}
