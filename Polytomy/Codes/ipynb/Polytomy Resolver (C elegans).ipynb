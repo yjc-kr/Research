{
 "cells": [
  {
   "cell_type": "markdown",
   "id": "864d9670",
   "metadata": {},
   "source": [
    "C. elegans Lineage Data\n",
    "- Title:    A lineage-resolved molecular atlas of C. elegans embryogenesis at single-cell resolution\n",
    "- Author:   Packer et al.\n",
    "- Year:     2019\n",
    "- doi:      https://doi.org/10.1126/science.aax1971\n",
    "- GEO:      https://www.ncbi.nlm.nih.gov/geo/query/acc.cgi?acc=GSE126954\n",
    "- file:\n",
    "  - `.csv`: Supplementary file -> `cell_annotation.csv.gz` -> Column: `lineage`;\n",
    "  - ~~`.h5ad`: https://zenodo.org/records/15236812~~\n",
    "\n",
    "Worm Atlas Complete Cell List\n",
    "- url:      https://www.wormatlas.org/celllistsulston.html\n",
    "- ref:      Sulston, JE and White, JG (1988), \"Parts list\", in \"The Nematode Caenorhabditis elegans, eds WB Wood et al, Cold Spring Harbor Laboratory Press, Cold Spring Harbor, New York, USA, pp 415 - 431.\n",
    "  - Title:  The embryonic cell lineage of the nematode Caenorhabditis elegans\n",
    "  - Author: J.E. Sulston, E. Schierenberg, J.G. White, J.N. Thomson\n",
    "  - Year:   1983\n",
    "  - doi:    https://doi.org/10.1016/0012-1606(83)90201-4\n",
    "\n",
    "Method\n",
    "1. Generate Tree.\n",
    "2. a"
   ]
  },
  {
   "cell_type": "code",
   "execution_count": 6,
   "id": "f1972847",
   "metadata": {},
   "outputs": [],
   "source": [
    "import os\n",
    "os.chdir('/Users/yongjunchoi/Documents/GitHub/Research/Research')"
   ]
  },
  {
   "cell_type": "markdown",
   "id": "2dff1ce5",
   "metadata": {},
   "source": [
    "# Packer et al., (2019)"
   ]
  },
  {
   "cell_type": "markdown",
   "id": "8be00e58",
   "metadata": {},
   "source": [
    "## 0. Read `.gz` -> `.nwk` Tree"
   ]
  },
  {
   "cell_type": "code",
   "execution_count": 32,
   "id": "1581bd99",
   "metadata": {},
   "outputs": [
    {
     "name": "stdout",
     "output_type": "stream",
     "text": [
      "저장 완료: Polytomy/Codes/Data/lineages.csv\n"
     ]
    }
   ],
   "source": [
    "import pandas as pd\n",
    "import gzip\n",
    "\n",
    "file_path = \"Polytomy/Codes/Data/GSE126954_cell_annotation.csv.gz\"\n",
    "output_path = \"Polytomy/Codes/Data/lineages.csv\"\n",
    "\n",
    "# 1. 데이터 읽기\n",
    "df = pd.read_csv(file_path, compression=\"gzip\")\n",
    "\n",
    "# 2. lineage 컬럼 가져오기, 결측 제외\n",
    "lineages = df['lineage'].dropna()\n",
    "\n",
    "processed = []\n",
    "\n",
    "for lineage in lineages:\n",
    "    # ':' 뒤 제거\n",
    "    lineage = lineage.split(':')[0]\n",
    "    # '/' 기준으로 분리\n",
    "    parts = lineage.split('/')\n",
    "    processed.extend(parts)\n",
    "\n",
    "processed_unique_sorted = sorted(set(processed))\n",
    "\n",
    "# 3. 결과를 DataFrame으로 만들어 csv로 저장\n",
    "processed_df = pd.DataFrame(processed_unique_sorted, columns=['lineage'])\n",
    "processed_df.to_csv(output_path, index=False)\n",
    "\n",
    "print(f\"저장 완료: {output_path}\")"
   ]
  },
  {
   "cell_type": "markdown",
   "id": "c03dbee6",
   "metadata": {},
   "source": []
  },
  {
   "cell_type": "markdown",
   "id": "509e4d5f",
   "metadata": {},
   "source": []
  },
  {
   "cell_type": "code",
   "execution_count": null,
   "id": "070300c0",
   "metadata": {},
   "outputs": [],
   "source": [
    "import pandas as pd\n",
    "import gzip\n",
    "\n",
    "file_path = \"Polytomy/Codes/Data/GSE126954_cell_annotation.csv.gz\"\n",
    "\n",
    "# 0. pandas에서 gzip 바로 읽기\n",
    "cell_anno = pd.read_csv(file_path, compression='gzip')\n",
    "\n",
    "# 1. 데이터 읽기\n",
    "df = pd.read_csv(file_path, compression=\"gzip\")\n",
    "lineages = df['lineage'].dropna().unique()  # 결측 제외, 고유 lineage\n",
    "\n",
    "# 2. lineage -> Newick tree 변환 (대문자 덩어리, 소문자 개별 노드)\n",
    "def lineage_to_newick(lineages):\n",
    "    root = Tree(name=\"zygote\")\n",
    "    \n",
    "    for lin in lineages:\n",
    "        # '/'가 있으면 여러 경로로 분리\n",
    "        paths = lin.split('/')\n",
    "        for p in paths:\n",
    "            node = root\n",
    "            i = 0\n",
    "            while i < len(p):\n",
    "                # 대문자인 경우: 연속 대문자 덩어리 추출\n",
    "                if p[i].isupper():\n",
    "                    j = i + 1\n",
    "                    while j < len(p) and p[j].isupper():\n",
    "                        j += 1\n",
    "                    chunk = p[i:j]  # 대문자 덩어리\n",
    "                    i = j\n",
    "                    # 자식 존재 여부 확인 후 생성\n",
    "                    existing_child = next((c for c in node.children if c.name == chunk), None)\n",
    "                    if existing_child:\n",
    "                        node = existing_child\n",
    "                    else:\n",
    "                        node = node.add_child(name=chunk)\n",
    "                else:\n",
    "                    # 소문자는 글자 하나씩 노드 생성\n",
    "                    chunk = p[i]\n",
    "                    i += 1\n",
    "                    existing_child = next((c for c in node.children if c.name == chunk), None)\n",
    "                    if existing_child:\n",
    "                        node = existing_child\n",
    "                    else:\n",
    "                        node = node.add_child(name=chunk)\n",
    "    return root\n",
    "\n",
    "tree = lineage_to_newick(lineages)\n",
    "\n",
    "# 3. Newick 파일로 저장\n",
    "output_path = \"Polytomy/Codes/nwk/c_elegans_lineage_tree_resolved.nwk\"\n",
    "tree.write(format=1, outfile=output_path)\n",
    "\n",
    "print(f\"트리 생성 완료. 저장 위치: {output_path}\")"
   ]
  },
  {
   "cell_type": "code",
   "execution_count": null,
   "id": "e0f25305",
   "metadata": {},
   "outputs": [],
   "source": []
  },
  {
   "cell_type": "markdown",
   "id": "53141461",
   "metadata": {},
   "source": [
    "## 1.Read Raw data -> `.nwk` Tree"
   ]
  },
  {
   "cell_type": "code",
   "execution_count": 4,
   "id": "4b652ab8",
   "metadata": {},
   "outputs": [],
   "source": [
    "import os\n",
    "os.getcwd()\n",
    "os.chdir('/Users/yongjunchoi/Documents/GitHub/Research/Research')"
   ]
  },
  {
   "cell_type": "code",
   "execution_count": 5,
   "id": "8a98311d",
   "metadata": {},
   "outputs": [
    {
     "name": "stdout",
     "output_type": "stream",
     "text": [
      "트리 생성 완료. 저장 위치: Polytomy/Codes/nwk/c_elegans_lineage_tree.nwk\n"
     ]
    }
   ],
   "source": [
    "import pandas as pd\n",
    "from ete3 import Tree\n",
    "\n",
    "# 0. 파일 경로\n",
    "file_path = \"Polytomy/Codes/Data/GSE126954_cell_annotation.csv.gz\"\n",
    "\n",
    "# 1. 데이터 읽기\n",
    "df = pd.read_csv(file_path, compression=\"gzip\")\n",
    "lineages = df['lineage'].dropna().unique()  # 결측 제외, 고유 lineage\n",
    "\n",
    "# 2. lineage -> Newick tree 변환 (대문자 덩어리, 소문자 개별 노드)\n",
    "def lineage_to_newick(lineages):\n",
    "    root = Tree(name=\"zygote\")\n",
    "    \n",
    "    for lin in lineages:\n",
    "        # '/'가 있으면 여러 경로로 분리\n",
    "        paths = lin.split('/')\n",
    "        for p in paths:\n",
    "            node = root\n",
    "            i = 0\n",
    "            while i < len(p):\n",
    "                # 대문자인 경우: 연속 대문자 덩어리 추출\n",
    "                if p[i].isupper():\n",
    "                    j = i + 1\n",
    "                    while j < len(p) and p[j].isupper():\n",
    "                        j += 1\n",
    "                    chunk = p[i:j]  # 대문자 덩어리\n",
    "                    i = j\n",
    "                    # 자식 존재 여부 확인 후 생성\n",
    "                    existing_child = next((c for c in node.children if c.name == chunk), None)\n",
    "                    if existing_child:\n",
    "                        node = existing_child\n",
    "                    else:\n",
    "                        node = node.add_child(name=chunk)\n",
    "                else:\n",
    "                    # 소문자는 글자 하나씩 노드 생성\n",
    "                    chunk = p[i]\n",
    "                    i += 1\n",
    "                    existing_child = next((c for c in node.children if c.name == chunk), None)\n",
    "                    if existing_child:\n",
    "                        node = existing_child\n",
    "                    else:\n",
    "                        node = node.add_child(name=chunk)\n",
    "    return root\n",
    "\n",
    "tree = lineage_to_newick(lineages)\n",
    "\n",
    "# 3. Newick 파일로 저장\n",
    "output_path = \"Polytomy/Codes/nwk/c_elegans_lineage_tree.nwk\"\n",
    "tree.write(format=1, outfile=output_path)\n",
    "\n",
    "print(f\"트리 생성 완료. 저장 위치: {output_path}\")"
   ]
  },
  {
   "cell_type": "code",
   "execution_count": 6,
   "id": "dd07b0f5",
   "metadata": {},
   "outputs": [],
   "source": [
    "from ete3 import Tree, TreeStyle\n",
    "\n",
    "# 1. 저장된 Newick 파일 불러오기\n",
    "tree = Tree(\"Polytomy/Codes/nwk/c_elegans_lineage_tree.nwk\", format=1)\n",
    "\n",
    "# 2. TreeStyle 설정\n",
    "ts = TreeStyle()\n",
    "ts.show_leaf_name = True       # 리프 노드 이름 표시\n",
    "ts.show_branch_length = False  # branch length 표시 여부\n",
    "ts.show_branch_support = False # branch support 표시 여부\n",
    "ts.mode = \"r\"                  # 'c' = circular, 'r' = rectangular (default)\n",
    "ts.scale = 20                  # 노드 간 간격 조정\n",
    "\n",
    "# 3. 트리 시각화\n",
    "tree.show(tree_style=ts)"
   ]
  },
  {
   "cell_type": "markdown",
   "id": "d532ea24",
   "metadata": {},
   "source": [
    "## 1.2. `.nwk` Tree -> Polytomy\n",
    "\n",
    "1. Among leaves, select `n` leaves for polytomy. \n",
    "2. Polytomy leaves의 MRCA 확인.\n",
    "3. Polytomy leaves를 일단 제거.\n",
    "4. Polytomy leaves MRCA에 polytomy 추가"
   ]
  },
  {
   "cell_type": "markdown",
   "id": "9cf311e9",
   "metadata": {},
   "source": [
    "### 전처리: Polytomy 제거"
   ]
  },
  {
   "cell_type": "code",
   "execution_count": 18,
   "id": "3faafd9f",
   "metadata": {},
   "outputs": [
    {
     "name": "stdout",
     "output_type": "stream",
     "text": [
      "Root 아래 자식 노드들:\n",
      "- MS\n",
      "- D\n",
      "- AB\n",
      "- E\n",
      "- C\n",
      "- Z\n",
      "- 2\n"
     ]
    }
   ],
   "source": [
    "from ete3 import Tree\n",
    "\n",
    "# 트리 불러오기\n",
    "tree = Tree(\"Polytomy/Codes/nwk/c_elegans_lineage_tree.nwk\", format=1)\n",
    "\n",
    "# root 바로 아래 자식 노드 이름 출력\n",
    "print(\"Root 아래 자식 노드들:\")\n",
    "for child in tree.children:\n",
    "    print(f\"- {child.name if child.name else '(internal node)'}\")"
   ]
  },
  {
   "cell_type": "code",
   "execution_count": 7,
   "id": "8ad2cb39",
   "metadata": {},
   "outputs": [
    {
     "name": "stdout",
     "output_type": "stream",
     "text": [
      "Polytomy-removed tree saved to Polytomy/Codes/nwk/c_elegans_lineage_tree_polytomy_removed.nwk\n"
     ]
    }
   ],
   "source": [
    "from ete3 import Tree\n",
    "\n",
    "# ----------------------------\n",
    "# 1. Newick 파일 불러오기\n",
    "# ----------------------------\n",
    "tree = Tree(\"Polytomy/Codes/nwk/c_elegans_lineage_tree.nwk\", format=1)\n",
    "\n",
    "# ----------------------------\n",
    "# 2. Polytomy 제거 함수\n",
    "# ----------------------------\n",
    "def remove_polytomy(node):\n",
    "    # Post-order traversal\n",
    "    for child in list(node.children):\n",
    "        remove_polytomy(child)\n",
    "\n",
    "    # Polytomy 제거 (child >= 3)\n",
    "    if len(node.children) >= 3:\n",
    "        for child in list(node.children):\n",
    "            node.remove_child(child)\n",
    "\n",
    "# ----------------------------\n",
    "# 3. 트리 처리 실행\n",
    "# ----------------------------\n",
    "remove_polytomy(tree)\n",
    "\n",
    "# ----------------------------\n",
    "# 4. 최종 Newick 출력 및 파일 저장\n",
    "# ----------------------------\n",
    "output_file = \"Polytomy/Codes/nwk/c_elegans_lineage_tree_polytomy_removed.nwk\"\n",
    "tree.write(outfile=output_file)\n",
    "print(f\"Polytomy-removed tree saved to {output_file}\")"
   ]
  },
  {
   "cell_type": "code",
   "execution_count": null,
   "id": "5bdd3078",
   "metadata": {},
   "outputs": [],
   "source": []
  },
  {
   "cell_type": "markdown",
   "id": "673157c5",
   "metadata": {},
   "source": [
    "# Worm atlas\n",
    "- url:  https://www.wormatlas.org/celllistsulston.htm\n",
    "- Wormatlas -> Resource -> Cell Lists -> C. elegans Cell List\n",
    "- ref:  JE and White, JG (1988), \"Parts list\", in \"The Nematode Caenorhabditis elegans, eds WB Wood et al, Cold Spring Harbor Laboratory Press, Cold Spring Harbor, New York, USA, pp 415 - 431"
   ]
  },
  {
   "cell_type": "markdown",
   "id": "52798616",
   "metadata": {},
   "source": [
    "## 0. 데이터 전처리\n",
    "- `.`와 ` ` 동일시 (code)\n",
    "- `,`가 있을 경우 밑에 추가 (code)\n",
    "- `/`가 있을 경우 밑에 추가 (code)\n",
    "- `l/r`가 있을 경우 `*l*`, `*r*`로 분리 (manually; #: 1359 -> 1369)\n",
    "  - `Complete_cell_list.csv` -> `Complete_cell_list_LR.csv`\n",
    "- Cell 이 `Z`에서 안오면 제거 (code; #: 1369 -> 1264)\n",
    "- 중복 제거 (code; #: 1264 -> 1229)\n",
    "  - `Complete_cell_list_LR.csv` -> `Complete_cell_list_preprocessed.csv`"
   ]
  },
  {
   "cell_type": "code",
   "execution_count": 3,
   "id": "9e65a6c0",
   "metadata": {},
   "outputs": [],
   "source": [
    "import pandas as pd\n",
    "\n",
    "# CSV 불러오기\n",
    "complete_cell_data = pd.read_csv(\"Polytomy/Codes/Data/Complete_cell_list_LR.csv\", quotechar='\"')\n",
    "\n",
    "# '.'을 공백으로 대체\n",
    "complete_cell_data['Lineage Name'] = complete_cell_data['Lineage Name'].str.replace('.', ' ', regex=False)\n",
    "\n",
    "# ','와 '/' 기준으로 분리 후 공백 제거하고 explode\n",
    "complete_cell_data_expanded = complete_cell_data.assign(\n",
    "    **{\n",
    "        'Lineage Name': complete_cell_data['Lineage Name']\n",
    "        .apply(lambda x: [s.strip() for part in x.split(',') for s in part.split('/')])\n",
    "    }\n",
    ").explode('Lineage Name').reset_index(drop=True)\n",
    "\n",
    "# Cell 이름 집합\n",
    "cell_names = set(complete_cell_data_expanded['Cell'].dropna())\n",
    "\n",
    "# lineage_maps 생성: Cell -> list of Lineages\n",
    "from collections import defaultdict\n",
    "\n",
    "lineage_maps = defaultdict(list)\n",
    "for _, row in complete_cell_data_expanded.iterrows():\n",
    "    lineage_maps[row['Cell']].append(row['Lineage Name'])\n",
    "\n",
    "# 재귀적으로 prefix 교체 및 code 합치기\n",
    "def resolve_lineage(lineage):\n",
    "    parts = lineage.split(' ')\n",
    "    prefix = parts[0]\n",
    "    codes = ''.join(parts[1:])\n",
    "    \n",
    "    if prefix not in lineage_maps:\n",
    "        return prefix, codes\n",
    "    else:\n",
    "        # 첫 번째 Lineage만 재귀 적용\n",
    "        resolved_prefix, resolved_codes = resolve_lineage(lineage_maps[prefix][0])\n",
    "        return resolved_prefix, resolved_codes + codes\n",
    "\n",
    "# 결과 저장\n",
    "resolved_data = []\n",
    "for _, row in complete_cell_data_expanded.iterrows():\n",
    "    cell = row['Cell']\n",
    "    lineage = row['Lineage Name']\n",
    "    prefix, codes = resolve_lineage(lineage)\n",
    "    resolved_data.append({\n",
    "        'Cell': cell,\n",
    "        'Prefix': prefix,\n",
    "        'Code': codes\n",
    "    })\n",
    "\n",
    "resolved_df = pd.DataFrame(resolved_data)\n",
    "\n",
    "# Prefix가 'Z'인 행만 선택\n",
    "z_only_df = resolved_df[resolved_df['Prefix'] == 'Z'].reset_index(drop=True)\n",
    "\n",
    "# 'Cell', 'Prefix', 'Code'가 모두 같은 행 제거\n",
    "z_only_df_unique = z_only_df.drop_duplicates(subset=['Cell', 'Prefix', 'Code']).reset_index(drop=True)\n",
    "\n",
    "# Prefix와 Code 합치기\n",
    "z_only_df_unique['Lineage Name'] = z_only_df_unique['Prefix'] + z_only_df_unique['Code']\n",
    "\n",
    "# 필요한 열만 선택\n",
    "z_only_df_unique = z_only_df_unique[['Cell', 'Lineage Name']]\n",
    "\n",
    "# 중복 이름 처리\n",
    "name_count = {}\n",
    "def make_unique_name(name):\n",
    "    if name not in name_count:\n",
    "        name_count[name] = 1\n",
    "        return name\n",
    "    else:\n",
    "        name_count[name] += 1\n",
    "        return f\"{name}_{name_count[name]}\"\n",
    "\n",
    "# Cell 컬럼에 적용\n",
    "z_only_df_unique['Cell'] = z_only_df_unique['Cell'].apply(make_unique_name)\n",
    "\n",
    "# CSV로 저장\n",
    "preprocessed_output_path = \"Polytomy/Codes/Data/Complete_cell_list_preprocessed.csv\"\n",
    "z_only_df_unique.to_csv(preprocessed_output_path, index=False)"
   ]
  },
  {
   "cell_type": "markdown",
   "id": "6343b221",
   "metadata": {},
   "source": [
    "## 1. `.csv` to From-To Data"
   ]
  },
  {
   "cell_type": "code",
   "execution_count": 70,
   "id": "f5e870b1",
   "metadata": {},
   "outputs": [
    {
     "name": "stdout",
     "output_type": "stream",
     "text": [
      ".csv to edge tree : Total daughters:  1099\n",
      "0 daughters: 1099 nodes, 1 daughters: 170 nodes, 2 daughters: 1066 nodes, 3 daughters: 1 nodes, 4 daughters: 10 nodes\n",
      "\n",
      "Removing existing polytomy nodes...\n",
      "\n",
      ".csv to edge tree : Total daughters:  984\n",
      "0 daughters: 984 nodes, 1 daughters: 164 nodes, 2 daughters: 983 nodes\n"
     ]
    }
   ],
   "source": [
    "# csv to edge\n",
    "import pandas as pd\n",
    "from collections import Counter\n",
    "from Bio import Phylo\n",
    "from collections import defaultdict\n",
    "\n",
    "df = pd.read_csv(\"Polytomy/Codes/Data/Complete_cell_list_preprocessed.csv\")\n",
    "\n",
    "edges = []\n",
    "\n",
    "for idx, row in df.iterrows():\n",
    "    lineage = row['Lineage Name']\n",
    "    for i in range(1, len(lineage)):\n",
    "        parent = lineage[:i]       # 부모 코드\n",
    "        child  = lineage[:i+1]     # 자식 코드\n",
    "        edges.append({'from': parent, 'to': child})\n",
    "\n",
    "edges_df = pd.DataFrame(edges).drop_duplicates().reset_index(drop=True)\n",
    "\n",
    "edges_output_path = \"Polytomy/Codes/Data/edges_list_all.csv\"\n",
    "edges_df.to_csv(edges_output_path, index=False)\n",
    "\n",
    "\n",
    "# edge to nwk\n",
    "edges_df = pd.read_csv(\"Polytomy/Codes/Data/edges_list_all.csv\")\n",
    "\n",
    "tree_dict = defaultdict(list)\n",
    "for _, row in edges_df.iterrows():\n",
    "    tree_dict[row['from']].append(row['to'])\n",
    "\n",
    "def build_newick(node):\n",
    "    if node not in tree_dict or len(tree_dict[node]) == 0:\n",
    "        return node\n",
    "    else:\n",
    "        children_newick = [build_newick(child) for child in tree_dict[node]]\n",
    "        return \"(\" + \",\".join(children_newick) + \")\" + node\n",
    "\n",
    "root = 'Z'\n",
    "newick_str = build_newick(root) + \";\"\n",
    "\n",
    "newick_path = \"Polytomy/Codes/nwk/Polytomy_Test/tree_all_mapped.nwk\"\n",
    "with open(newick_path, \"w\") as f:\n",
    "    f.write(newick_str)\n",
    "\n",
    "# Remove polytomy in nwk\n",
    "from Bio import Phylo\n",
    "\n",
    "newick_path = \"Polytomy/Codes/nwk/Polytomy_Test/tree_all_mapped.nwk\"\n",
    "tree = Phylo.read(newick_path, \"newick\")\n",
    "\n",
    "print(\".csv to edge tree : Total daughters: \", len(tree.get_terminals()))\n",
    "print(*[f\"{k} daughters: {v} nodes\" \n",
    "        for k, v in sorted(Counter(len(c.clades) for c in tree.find_clades()).items())], \n",
    "      sep=\", \")\n",
    "\n",
    "def num_daughters(clade):\n",
    "    return len(clade.clades)\n",
    "\n",
    "def remove_nodes(clade):\n",
    "    clade.clades = [child for child in clade.clades if num_daughters(child) < 3]\n",
    "    for child in clade.clades:\n",
    "        remove_nodes(child)\n",
    "    return None\n",
    "\n",
    "print(\"\\nRemoving existing polytomy nodes...\\n\")\n",
    "remove_nodes(tree.root)\n",
    "\n",
    "output_path = \"Polytomy/Codes/nwk/Polytomy_Test/tree_pruned.nwk\"\n",
    "Phylo.write(tree, output_path, \"newick\")\n",
    "\n",
    "tree = Phylo.read(output_path, \"newick\")\n",
    "print(\".csv to edge tree : Total daughters: \", len(tree.get_terminals()))\n",
    "print(*[f\"{k} daughters: {v} nodes\" \n",
    "        for k, v in sorted(Counter(len(c.clades) for c in tree.find_clades()).items())], \n",
    "      sep=\", \")"
   ]
  },
  {
   "cell_type": "markdown",
   "id": "5a143e6c",
   "metadata": {},
   "source": [
    "## 2. Generate Artificial Polytomy"
   ]
  },
  {
   "cell_type": "markdown",
   "id": "e2094b2c",
   "metadata": {},
   "source": [
    "### Method 1: Pick n among leaves -> Remove leaves -> Add Polytomy\n",
    "- Polytomy is randomly selected."
   ]
  },
  {
   "cell_type": "code",
   "execution_count": 71,
   "id": "17ab77c1",
   "metadata": {},
   "outputs": [
    {
     "name": "stdout",
     "output_type": "stream",
     "text": [
      "Before pruning: Total daughters:  984\n",
      "0 daughters: 984 nodes, 1 daughters: 164 nodes, 2 daughters: 983 nodes\n",
      "\n",
      "Randomly selecting 16 leaves to prune...\n",
      "\n",
      "After pruning: Total daughters:  968\n",
      "0 daughters: 968 nodes, 1 daughters: 179 nodes, 2 daughters: 967 nodes\n",
      "\n",
      "Adding polytomy...\n",
      "\n",
      "After polytomizing MRCA: Total daughters:  984\n",
      "0 daughters: 984 nodes, 1 daughters: 179 nodes, 2 daughters: 966 nodes, 18 daughters: 1 nodes\n"
     ]
    }
   ],
   "source": [
    "import random\n",
    "from Bio import Phylo\n",
    "from Bio.Phylo.Newick import Clade\n",
    "from copy import deepcopy\n",
    "from collections import Counter\n",
    "\n",
    "tree_path = \"Polytomy/Codes/nwk/Polytomy_Test/tree_pruned.nwk\"\n",
    "tree = Phylo.read(tree_path, \"newick\")\n",
    "\n",
    "print(\"Before pruning: Total daughters: \", len(tree.get_terminals()))\n",
    "print(*[f\"{k} daughters: {v} nodes\" \n",
    "        for k, v in sorted(Counter(len(c.clades) for c in tree.find_clades()).items())], \n",
    "      sep=\", \")\n",
    "\n",
    "all_leaves = [leaf.name for leaf in tree.get_terminals()]\n",
    "polytomy_size = 16\n",
    "\n",
    "print(f\"\\nRandomly selecting {polytomy_size} leaves to prune...\\n\")\n",
    "\n",
    "selected_leaves = random.sample(all_leaves, polytomy_size)\n",
    "mrca = tree.common_ancestor(selected_leaves)\n",
    "allowed_leaves = [leaf for leaf in all_leaves if leaf not in selected_leaves] + [mrca.name]\n",
    "\n",
    "def prune(clade, allowed_leaves):\n",
    "    for child in list(clade.clades):\n",
    "        prune(child, allowed_leaves)\n",
    "        if child.is_terminal() and child.name not in allowed_leaves:\n",
    "            clade.clades.remove(child)\n",
    "\n",
    "prune(mrca, allowed_leaves)\n",
    "\n",
    "print(\"After pruning: Total daughters: \", len(tree.get_terminals()))\n",
    "print(*[f\"{k} daughters: {v} nodes\" \n",
    "        for k, v in sorted(Counter(len(c.clades) for c in tree.find_clades()).items())], \n",
    "      sep=\", \")\n",
    "\n",
    "print(f\"\\nAdding polytomy...\\n\")\n",
    "\n",
    "def add_polytomy(clade, new_children):\n",
    "    clade.clades.extend(new_children)\n",
    "\n",
    "add_polytomy(mrca, [Clade(name=leaf) for leaf in selected_leaves])\n",
    "\n",
    "print(\"After polytomizing MRCA: Total daughters: \", len(tree.get_terminals()))\n",
    "print(*[f\"{k} daughters: {v} nodes\" \n",
    "        for k, v in sorted(Counter(len(c.clades) for c in tree.find_clades()).items())], \n",
    "      sep=\", \")"
   ]
  },
  {
   "cell_type": "markdown",
   "id": "03c485ea",
   "metadata": {},
   "source": [
    "- 2개씩 큰게 추가됨.\n",
    "- MRCA에서 Polytomy인 트리 + Polytomy 아닌 트리가 분기되게 해야하나?\n",
    "  - 그러면 트리가 모양이 너무 바뀌지 않나?"
   ]
  },
  {
   "cell_type": "markdown",
   "id": "ffd5f4cf",
   "metadata": {},
   "source": [
    "### Method 2: Pick among n-leaved subtree -> Polytomize\n",
    "- Subtree is randomly selected."
   ]
  },
  {
   "cell_type": "code",
   "execution_count": 72,
   "id": "6fba41bb",
   "metadata": {},
   "outputs": [
    {
     "name": "stdout",
     "output_type": "stream",
     "text": [
      "Before polytomizing: Total daughters:  984\n",
      "0 daughters: 984 nodes, 1 daughters: 164 nodes, 2 daughters: 983 nodes\n",
      "\n",
      "Polytomizing one of the subtree among 141 trees...\n",
      "\n",
      "After polytomizing: Total daughters:  984\n",
      "0 daughters: 984 nodes, 1 daughters: 161 nodes, 2 daughters: 980 nodes, 4 daughters: 1 nodes\n"
     ]
    }
   ],
   "source": [
    "from Bio import Phylo\n",
    "import random\n",
    "from collections import Counter\n",
    "from Bio.Phylo.Newick import Clade\n",
    "\n",
    "tree_path = \"Polytomy/Codes/nwk/Polytomy_Test/tree_pruned.nwk\"\n",
    "tree = Phylo.read(tree_path, \"newick\")\n",
    "\n",
    "print(\"Before polytomizing: Total daughters: \", len(tree.get_terminals()))\n",
    "print(*[f\"{k} daughters: {v} nodes\" \n",
    "        for k, v in sorted(Counter(len(c.clades) for c in tree.find_clades()).items())], \n",
    "      sep=\", \")\n",
    "\n",
    "def find_nodes_with_m_leaves(clade, m):\n",
    "    nodes = []\n",
    "    def helper(node):\n",
    "        if node.is_terminal():\n",
    "            return 1\n",
    "        leaf_count = sum(helper(c) for c in node.clades)\n",
    "        if leaf_count == m:\n",
    "            nodes.append(node)\n",
    "        return leaf_count\n",
    "    helper(clade)\n",
    "    return nodes\n",
    "\n",
    "polytomy_size = 4\n",
    "nodes_with_m_leaves = find_nodes_with_m_leaves(tree.root, polytomy_size)\n",
    "\n",
    "if len(nodes_with_m_leaves) == 0:\n",
    "    print(\"\\nUnable to polytomize!\")\n",
    "else:\n",
    "    print(\"\\nPolytomizing one of the subtree among {} trees...\\n\".format(len(nodes_with_m_leaves)))\n",
    "\n",
    "    def count_children(node):\n",
    "        counts = Counter()\n",
    "        child_count = len(node.clades)\n",
    "        counts[child_count] += 1\n",
    "        \n",
    "        for child in node.clades:\n",
    "            counts.update(count_children(child))\n",
    "        return counts\n",
    "\n",
    "    child_counter = count_children(tree.root)\n",
    "\n",
    "    picked_node = random.choice(nodes_with_m_leaves)\n",
    "\n",
    "    def polytomize_node(node):\n",
    "        leaves = node.get_terminals()\n",
    "        node.clades = leaves\n",
    "\n",
    "    polytomize_node(picked_node)\n",
    "    print(\"After polytomizing: Total daughters: \", len(tree.get_terminals()))\n",
    "    print(*[f\"{k} daughters: {v} nodes\" \n",
    "        for k, v in sorted(Counter(len(c.clades) for c in tree.find_clades()).items())], \n",
    "      sep=\", \")\n",
    "    "
   ]
  },
  {
   "cell_type": "markdown",
   "id": "399b0bff",
   "metadata": {},
   "source": [
    "## 3. Randomly Generate Resolved Polytomy"
   ]
  },
  {
   "cell_type": "code",
   "execution_count": 22,
   "id": "92ed263b",
   "metadata": {},
   "outputs": [
    {
     "name": "stdout",
     "output_type": "stream",
     "text": [
      "The rpy2.ipython extension is already loaded. To reload it, use:\n",
      "  %reload_ext rpy2.ipython\n"
     ]
    }
   ],
   "source": [
    "# Tree to Canonical Tree Form\n",
    "## Load rpy2: R to Python\n",
    "%load_ext rpy2.ipython\n",
    "\n",
    "import rpy2.robjects as ro\n",
    "# print(ro.r('version'))"
   ]
  },
  {
   "cell_type": "markdown",
   "id": "c00622e8",
   "metadata": {},
   "source": [
    "Functions\n",
    "- `poweRbal`\n",
    "  - BD Model: `genAltBirthDeathTree`\n",
    "  - Beta Splitting Model: `genAldousBetaTree`\n",
    "    - Yule Model: `genAldousBetaTree`, $\\beta = 0$\n",
    "    - Uniform Model: `genAldousBetaTree`, $\\beta = -\\frac{3}{2}$\n",
    "- `ape`\n",
    "  - Kingman Coalescent Model: `rcoal`"
   ]
  },
  {
   "cell_type": "code",
   "execution_count": 23,
   "id": "a7c65bb0",
   "metadata": {},
   "outputs": [],
   "source": [
    "%%R\n",
    "library(ape)\n",
    "library(poweRbal)"
   ]
  },
  {
   "cell_type": "markdown",
   "id": "da796713",
   "metadata": {},
   "source": [
    "### Method 1: BD Model"
   ]
  },
  {
   "cell_type": "code",
   "execution_count": 24,
   "id": "a23d8ebe",
   "metadata": {},
   "outputs": [],
   "source": [
    "%%R\n",
    "library(ape)\n",
    "library(poweRbal)\n",
    "\n",
    "leaves = 10\n",
    "params <- c(1,0)\n",
    "reps <- 10\n",
    "model <- \"BD\"\n",
    "\n",
    "trees <- vector(\"list\", reps)\n",
    "for(i in 1:reps){\n",
    "    trees[[i]] <- genAltBirthDeathTree(n = size,\n",
    "                                        BIRTHRATE = params[1],\n",
    "                                        DEATHRATE = params[2],\n",
    "                                        TRIES = 1000)\n",
    "}\n",
    "\n",
    "path <- \"Polytomy/Codes/nwk/Temp_Tree/\"\n",
    "file_name <- sprintf(\"%s_b%.1f_d%.1f_l%d_r%d.nwk\", model, params[1], params[2], leaves, reps)\n",
    "full_path <- file.path(path, file_name)\n",
    "write.tree(trees, file = full_path)"
   ]
  },
  {
   "cell_type": "markdown",
   "id": "b9e0d3af",
   "metadata": {},
   "source": [
    "### Method 2: Beta Splitting Model"
   ]
  },
  {
   "cell_type": "code",
   "execution_count": 25,
   "id": "615e08da",
   "metadata": {},
   "outputs": [],
   "source": [
    "%%R\n",
    "library(ape)\n",
    "library(poweRbal)\n",
    "\n",
    "leaves = 10\n",
    "params <- c(1)\n",
    "reps <- 10\n",
    "model <- \"BT\" # Beta\n",
    "\n",
    "trees <- vector(\"list\", reps)\n",
    "for(i in 1:reps){\n",
    "    trees[[i]] <- genAldousBetaTree(n = leaves, BETA = params[1])\n",
    "}\n",
    "\n",
    "path <- \"Polytomy/Codes/nwk/Temp_Tree/\"\n",
    "file_name <- sprintf(\"%s_b%.1f_l%d_r%d.nwk\", model, params[1], leaves, reps)\n",
    "full_path <- file.path(path, file_name)\n",
    "write.tree(trees, file = full_path)"
   ]
  },
  {
   "cell_type": "markdown",
   "id": "965f1a5f",
   "metadata": {},
   "source": [
    "### Method 3: Kingman Coalescent Model\n",
    "- `R` -> `ape` -> vignette -> `Random Topology`"
   ]
  },
  {
   "cell_type": "code",
   "execution_count": 26,
   "id": "88203775",
   "metadata": {},
   "outputs": [],
   "source": [
    "%%R\n",
    "leaves = 10\n",
    "params <- \n",
    "reps <- 10\n",
    "model <- \"KC\" # Kingman Coalescent\n",
    "\n",
    "trees <- vector(\"list\", reps)\n",
    "for(i in 1:reps){\n",
    "    trees[[i]] <- rcoal(n = leaves, br = 'coalescent')\n",
    "    trees[[i]]$edge.length <- NULL # Remove edge lengths\n",
    "}\n",
    "\n",
    "path <- \"Polytomy/Codes/nwk/Temp_Tree/\"\n",
    "file_name <- sprintf(\"%s_b%.1f_l%d_r%d.nwk\", model, params[1], leaves, reps)\n",
    "full_path <- file.path(path, file_name)\n",
    "write.tree(trees, file = full_path)"
   ]
  },
  {
   "cell_type": "markdown",
   "id": "70e564c4",
   "metadata": {},
   "source": [
    "### Method 4: Yule Model (Beta : $\\beta = 0$)"
   ]
  },
  {
   "cell_type": "code",
   "execution_count": 27,
   "id": "72cdf61c",
   "metadata": {},
   "outputs": [],
   "source": [
    "%%R\n",
    "library(ape)\n",
    "library(poweRbal)\n",
    "\n",
    "leaves = 10\n",
    "params <- c(0)\n",
    "reps <- 10\n",
    "model <- \"YL\" # Yule\n",
    "\n",
    "trees <- vector(\"list\", reps)\n",
    "for(i in 1:reps){\n",
    "    trees[[i]] <- genAldousBetaTree(n = leaves, BETA = params[1])\n",
    "}\n",
    "\n",
    "path <- \"Polytomy/Codes/nwk/Temp_Tree/\"\n",
    "file_name <- sprintf(\"%s_b%.1f_l%d_r%d.nwk\", model, params[1], leaves, reps)\n",
    "full_path <- file.path(path, file_name)\n",
    "write.tree(trees, file = full_path)"
   ]
  },
  {
   "cell_type": "markdown",
   "id": "87936729",
   "metadata": {},
   "source": [
    "### Method 5: Uniform Random Binary Tree Model (Beta: $\\beta = -\\frac{3}{2}$)"
   ]
  },
  {
   "cell_type": "code",
   "execution_count": 28,
   "id": "87c38b8b",
   "metadata": {},
   "outputs": [],
   "source": [
    "%%R\n",
    "library(ape)\n",
    "library(poweRbal)\n",
    "\n",
    "leaves = 10\n",
    "params <- c(-1.5)\n",
    "reps <- 10\n",
    "model <- \"UF\" # Unifrom\n",
    "\n",
    "trees <- vector(\"list\", reps)\n",
    "for(i in 1:reps){\n",
    "    trees[[i]] <- genAldousBetaTree(n = leaves, BETA = params[1])\n",
    "}\n",
    "\n",
    "path <- \"Polytomy/Codes/nwk/Temp_Tree/\"\n",
    "file_name <- sprintf(\"%s_b%.1f_l%d_r%d.nwk\", model, params[1], leaves, reps)\n",
    "full_path <- file.path(path, file_name)\n",
    "write.tree(trees, file = full_path)"
   ]
  },
  {
   "cell_type": "markdown",
   "id": "7f157b67",
   "metadata": {},
   "source": [
    "## 4. Statistics (R, Python 병행 사용?)"
   ]
  },
  {
   "cell_type": "markdown",
   "id": "4cdec480",
   "metadata": {},
   "source": [
    "### Statistic 1: Colless' Index ($I_{C}$, $C(T)$) `colless_index`"
   ]
  },
  {
   "cell_type": "code",
   "execution_count": 35,
   "id": "31c34e6a",
   "metadata": {},
   "outputs": [],
   "source": [
    "import dendropy\n",
    "\n",
    "def colless_index(tree):\n",
    "    \"\"\"\n",
    "    Computes Colless index: sum of absolute differences in leaf counts\n",
    "    for all internal nodes.\n",
    "    \"\"\"\n",
    "    def count_leaves(node):\n",
    "        if node.is_leaf():\n",
    "            return 1\n",
    "        return sum(count_leaves(c) for c in node.child_nodes())\n",
    "\n",
    "    def colless_node(node):\n",
    "        if node.is_leaf() or len(node.child_nodes()) < 2:\n",
    "            return 0\n",
    "        left, right = node.child_nodes()[:2]  # binary assumption\n",
    "        nl = count_leaves(left)\n",
    "        nr = count_leaves(right)\n",
    "        return abs(nl - nr) + colless_node(left) + colless_node(right)\n",
    "\n",
    "    return colless_node(tree.seed_node)"
   ]
  },
  {
   "cell_type": "code",
   "execution_count": null,
   "id": "76f67340",
   "metadata": {},
   "outputs": [
    {
     "name": "stdout",
     "output_type": "stream",
     "text": [
      "Colless Index: 11\n",
      "Colless Index: 20\n",
      "Colless Index: 14\n",
      "Colless Index: 17\n",
      "Colless Index: 8\n",
      "Colless Index: 4\n",
      "Colless Index: 18\n",
      "Colless Index: 15\n",
      "Colless Index: 8\n",
      "Colless Index: 7\n"
     ]
    }
   ],
   "source": [
    "trees = dendropy.TreeList.get(path=\"Polytomy/Codes/nwk/Temp_Tree/BT_b1.0_l10_r10.nwk\",\n",
    "                              schema=\"newick\")\n",
    "\n",
    "for tree in trees:\n",
    "    print(\"Colless Index:\", colless_index(tree))"
   ]
  },
  {
   "cell_type": "markdown",
   "id": "c3e70471",
   "metadata": {},
   "source": [
    "### Statistic 2: Sackin's Index ($I_{S}$, $S(T)$) `sackins_index`"
   ]
  },
  {
   "cell_type": "code",
   "execution_count": 38,
   "id": "78338518",
   "metadata": {},
   "outputs": [],
   "source": [
    "import dendropy\n",
    "\n",
    "def sackins_index(tree):\n",
    "    \"\"\"\n",
    "    Computes Sackin index: sum of depths of all leaf nodes\n",
    "    \"\"\"\n",
    "    def leaf_depth_sum(node, depth=0):\n",
    "        if node.is_leaf():\n",
    "            return depth\n",
    "        return sum(leaf_depth_sum(c, depth+1) for c in node.child_nodes())\n",
    "\n",
    "    return leaf_depth_sum(tree.seed_node)"
   ]
  },
  {
   "cell_type": "code",
   "execution_count": 42,
   "id": "a4a5db72",
   "metadata": {},
   "outputs": [
    {
     "name": "stdout",
     "output_type": "stream",
     "text": [
      "Sackin's Index: 37\n",
      "Sackin's Index: 42\n",
      "Sackin's Index: 40\n",
      "Sackin's Index: 41\n",
      "Sackin's Index: 36\n",
      "Sackin's Index: 34\n",
      "Sackin's Index: 42\n",
      "Sackin's Index: 41\n",
      "Sackin's Index: 36\n",
      "Sackin's Index: 35\n"
     ]
    }
   ],
   "source": [
    "trees = dendropy.TreeList.get(path=\"Polytomy/Codes/nwk/Temp_Tree/BT_b1.0_l10_r10.nwk\",\n",
    "                              schema=\"newick\")\n",
    "\n",
    "for tree in trees:\n",
    "    print(\"Sackin's Index:\", sackins_index(tree))"
   ]
  },
  {
   "cell_type": "markdown",
   "id": "759d7b3b",
   "metadata": {},
   "source": [
    "### Statistic 3: Tree Height ($T_{D}$) `tree_height`"
   ]
  },
  {
   "cell_type": "code",
   "execution_count": 44,
   "id": "2281ebdb",
   "metadata": {},
   "outputs": [],
   "source": [
    "def tree_height(tree):\n",
    "    max_depth = 0\n",
    "    def dfs(nd, depth):\n",
    "        nonlocal max_depth\n",
    "        if nd.is_leaf():\n",
    "            max_depth = max(max_depth, depth)\n",
    "        for c in nd.child_nodes():\n",
    "            dfs(c, depth+1)\n",
    "    dfs(tree.seed_node, 0)\n",
    "    return max_depth"
   ]
  },
  {
   "cell_type": "code",
   "execution_count": 45,
   "id": "65241021",
   "metadata": {},
   "outputs": [
    {
     "name": "stdout",
     "output_type": "stream",
     "text": [
      "Tree Height: 5\n",
      "Tree Height: 7\n",
      "Tree Height: 5\n",
      "Tree Height: 6\n",
      "Tree Height: 5\n",
      "Tree Height: 4\n",
      "Tree Height: 6\n",
      "Tree Height: 5\n",
      "Tree Height: 5\n",
      "Tree Height: 5\n"
     ]
    }
   ],
   "source": [
    "trees = dendropy.TreeList.get(path=\"Polytomy/Codes/nwk/Temp_Tree/BT_b1.0_l10_r10.nwk\",\n",
    "                              schema=\"newick\")\n",
    "\n",
    "for tree in trees:\n",
    "    print(\"Tree Height:\", tree_height(tree))"
   ]
  },
  {
   "cell_type": "markdown",
   "id": "b8008697",
   "metadata": {},
   "source": [
    "### Statistic 4: Root-split-ratio `root_split_ratio`"
   ]
  },
  {
   "cell_type": "code",
   "execution_count": 47,
   "id": "78f498a6",
   "metadata": {},
   "outputs": [],
   "source": [
    "import math\n",
    "\n",
    "def root_split_ratio(tree):\n",
    "    \"\"\"\n",
    "    Returns a string 'n_left:n_right' indicating the number of leaf nodes\n",
    "    in the left and right child of the root.\n",
    "    Handles:\n",
    "      - binary trees\n",
    "      - comb trees (1 child)\n",
    "      - single leaf trees (0 child)\n",
    "    \"\"\"\n",
    "    root_children = tree.seed_node.child_nodes()\n",
    "    if len(root_children) >= 2:\n",
    "        n_left = len(root_children[0].leaf_nodes())\n",
    "        n_right = len(root_children[1].leaf_nodes())\n",
    "    elif len(root_children) == 1:\n",
    "        n_left = len(root_children[0].leaf_nodes())\n",
    "        n_right = 0\n",
    "    else:\n",
    "        n_left = 0\n",
    "        n_right = 0\n",
    "\n",
    "    if n_left > n_right:\n",
    "        n_left, n_right = n_right, n_left\n",
    "\n",
    "    gcd = math.gcd(n_left, n_right)\n",
    "    left_s = n_left // gcd\n",
    "    right_s = n_right // gcd\n",
    "\n",
    "    return f\"{left_s}:{right_s}\""
   ]
  },
  {
   "cell_type": "code",
   "execution_count": 48,
   "id": "48b8e530",
   "metadata": {},
   "outputs": [
    {
     "name": "stdout",
     "output_type": "stream",
     "text": [
      "Root Split Ratio: 2:3\n",
      "Root Split Ratio: 3:7\n",
      "Root Split Ratio: 1:9\n",
      "Root Split Ratio: 1:4\n",
      "Root Split Ratio: 1:1\n",
      "Root Split Ratio: 2:3\n",
      "Root Split Ratio: 1:9\n",
      "Root Split Ratio: 1:9\n",
      "Root Split Ratio: 1:1\n",
      "Root Split Ratio: 2:3\n"
     ]
    }
   ],
   "source": [
    "trees = dendropy.TreeList.get(path=\"Polytomy/Codes/nwk/Temp_Tree/BT_b1.0_l10_r10.nwk\",\n",
    "                              schema=\"newick\")\n",
    "\n",
    "for tree in trees:\n",
    "    print(\"Root Split Ratio:\", root_split_ratio(tree))"
   ]
  },
  {
   "cell_type": "markdown",
   "id": "bc053a5f",
   "metadata": {},
   "source": [
    "### Statistic 5: (Normalized) Robinson-Foulds (RF) Distance `rf_matrix`"
   ]
  },
  {
   "cell_type": "code",
   "execution_count": 50,
   "id": "017f762a",
   "metadata": {},
   "outputs": [],
   "source": [
    "import dendropy\n",
    "from dendropy.calculate import treecompare\n",
    "import numpy as np\n",
    "import pandas as pd\n",
    "\n",
    "def rf_matrix(trees):\n",
    "    n = len(trees)\n",
    "    rf_matrix = np.zeros((n, n))\n",
    "    for i in range(n):\n",
    "        for j in range(i+1, n):\n",
    "            rf = treecompare.symmetric_difference(trees[i], trees[j])\n",
    "            rf_matrix[i,j] = rf\n",
    "            rf_matrix[j,i] = rf\n",
    "    return pd.DataFrame(rf_matrix)\n",
    "\n",
    "def n_rf_matrix(trees, rooted=True):\n",
    "    n = len(trees)\n",
    "    rf_matrix = np.zeros((n, n))\n",
    "    \n",
    "    n_leaves = len(trees[0].leaf_nodes())\n",
    "    max_rf = 2 * (n_leaves - 2 if rooted else n_leaves - 3)\n",
    "\n",
    "    for i in range(n):\n",
    "        for j in range(i+1, n):\n",
    "            raw_rf = treecompare.symmetric_difference(trees[i], trees[j])\n",
    "            norm_rf = raw_rf / max_rf\n",
    "            rf_matrix[i, j] = rf_matrix[j, i] = norm_rf\n",
    "    \n",
    "    return pd.DataFrame(rf_matrix)"
   ]
  },
  {
   "cell_type": "code",
   "execution_count": 51,
   "id": "1e346ffa",
   "metadata": {},
   "outputs": [
    {
     "name": "stdout",
     "output_type": "stream",
     "text": [
      "RF Distance Matrix:\n",
      "       0     1     2     3     4     5     6     7     8     9\n",
      "0   0.0  14.0  14.0  14.0  14.0  14.0  14.0  12.0  12.0  14.0\n",
      "1  14.0   0.0  12.0  14.0  14.0  12.0  14.0  10.0  14.0  12.0\n",
      "2  14.0  12.0   0.0  14.0  12.0  12.0  12.0  10.0  14.0  12.0\n",
      "3  14.0  14.0  14.0   0.0  14.0  14.0  14.0  14.0  14.0  14.0\n",
      "4  14.0  14.0  12.0  14.0   0.0  14.0  12.0  14.0  14.0  12.0\n",
      "5  14.0  12.0  12.0  14.0  14.0   0.0  14.0  12.0  14.0  12.0\n",
      "6  14.0  14.0  12.0  14.0  12.0  14.0   0.0  14.0  14.0  12.0\n",
      "7  12.0  10.0  10.0  14.0  14.0  12.0  14.0   0.0  14.0  12.0\n",
      "8  12.0  14.0  14.0  14.0  14.0  14.0  14.0  14.0   0.0  14.0\n",
      "9  14.0  12.0  12.0  14.0  12.0  12.0  12.0  12.0  14.0   0.0\n",
      "Normalized RF Distance Matrix:\n",
      "        0      1      2      3      4      5      6      7      8      9\n",
      "0  0.000  0.875  0.875  0.875  0.875  0.875  0.875  0.750  0.750  0.875\n",
      "1  0.875  0.000  0.750  0.875  0.875  0.750  0.875  0.625  0.875  0.750\n",
      "2  0.875  0.750  0.000  0.875  0.750  0.750  0.750  0.625  0.875  0.750\n",
      "3  0.875  0.875  0.875  0.000  0.875  0.875  0.875  0.875  0.875  0.875\n",
      "4  0.875  0.875  0.750  0.875  0.000  0.875  0.750  0.875  0.875  0.750\n",
      "5  0.875  0.750  0.750  0.875  0.875  0.000  0.875  0.750  0.875  0.750\n",
      "6  0.875  0.875  0.750  0.875  0.750  0.875  0.000  0.875  0.875  0.750\n",
      "7  0.750  0.625  0.625  0.875  0.875  0.750  0.875  0.000  0.875  0.750\n",
      "8  0.750  0.875  0.875  0.875  0.875  0.875  0.875  0.875  0.000  0.875\n",
      "9  0.875  0.750  0.750  0.875  0.750  0.750  0.750  0.750  0.875  0.000\n"
     ]
    }
   ],
   "source": [
    "trees = dendropy.TreeList.get(path=\"Polytomy/Codes/nwk/Temp_Tree/BT_b1.0_l10_r10.nwk\",\n",
    "                              schema=\"newick\")\n",
    "\n",
    "rf_df = rf_matrix(trees)\n",
    "n_rf_df = n_rf_matrix(trees)\n",
    "\n",
    "print(\"RF Distance Matrix:\\n\", rf_df)\n",
    "print(\"Normalized RF Distance Matrix:\\n\", n_rf_df)"
   ]
  },
  {
   "cell_type": "code",
   "execution_count": 54,
   "id": "3063a4de",
   "metadata": {},
   "outputs": [],
   "source": [
    "import dendropy\n",
    "\n",
    "def branch_score_distance(tree1, tree2):\n",
    "    def get_branches(tree):\n",
    "        br_dict = {}\n",
    "        for edge in tree.edges():\n",
    "            if edge.head_node.is_leaf():\n",
    "                continue\n",
    "            split = frozenset([l.taxon.label for l in edge.head_node.leaf_nodes()])\n",
    "            br_dict[split] = edge.length if edge.length else 0.0\n",
    "        return br_dict\n",
    "    b1 = get_branches(tree1)\n",
    "    b2 = get_branches(tree2)\n",
    "    all_splits = set(b1.keys()).union(set(b2.keys()))\n",
    "    return sum((b1.get(s,0)-b2.get(s,0))**2 for s in all_splits)**0.5\n",
    "\n",
    "def branch_score_matrix(trees):\n",
    "    n = len(trees)\n",
    "    bs_matrix = np.zeros((n, n))\n",
    "    for i in range(n):\n",
    "        for j in range(i+1, n):\n",
    "            bs = branch_score_distance(trees[i], trees[j])\n",
    "            bs_matrix[i,j] = bs\n",
    "            bs_matrix[j,i] = bs\n",
    "    return pd.DataFrame(bs_matrix)"
   ]
  },
  {
   "cell_type": "code",
   "execution_count": 56,
   "id": "cb070e81",
   "metadata": {},
   "outputs": [
    {
     "name": "stdout",
     "output_type": "stream",
     "text": [
      "Branch Score Distance Matrix:\n",
      "      0    1    2    3    4    5    6    7    8    9\n",
      "0  0.0  0.0  0.0  0.0  0.0  0.0  0.0  0.0  0.0  0.0\n",
      "1  0.0  0.0  0.0  0.0  0.0  0.0  0.0  0.0  0.0  0.0\n",
      "2  0.0  0.0  0.0  0.0  0.0  0.0  0.0  0.0  0.0  0.0\n",
      "3  0.0  0.0  0.0  0.0  0.0  0.0  0.0  0.0  0.0  0.0\n",
      "4  0.0  0.0  0.0  0.0  0.0  0.0  0.0  0.0  0.0  0.0\n",
      "5  0.0  0.0  0.0  0.0  0.0  0.0  0.0  0.0  0.0  0.0\n",
      "6  0.0  0.0  0.0  0.0  0.0  0.0  0.0  0.0  0.0  0.0\n",
      "7  0.0  0.0  0.0  0.0  0.0  0.0  0.0  0.0  0.0  0.0\n",
      "8  0.0  0.0  0.0  0.0  0.0  0.0  0.0  0.0  0.0  0.0\n",
      "9  0.0  0.0  0.0  0.0  0.0  0.0  0.0  0.0  0.0  0.0\n"
     ]
    }
   ],
   "source": [
    "trees = dendropy.TreeList.get(path=\"Polytomy/Codes/nwk/Temp_Tree/BT_b1.0_l10_r10.nwk\",\n",
    "                              schema=\"newick\")\n",
    "\n",
    "bs_df = branch_score_matrix(trees)\n",
    "print(\"Branch Score Distance Matrix:\\n\", bs_df)"
   ]
  },
  {
   "cell_type": "markdown",
   "id": "cbcf0a5c",
   "metadata": {},
   "source": [
    "### Statistic 6: Quartet Distance"
   ]
  },
  {
   "cell_type": "code",
   "execution_count": 1,
   "id": "0910aeeb",
   "metadata": {},
   "outputs": [
    {
     "name": "stdout",
     "output_type": "stream",
     "text": [
      "               _                           \n",
      "platform       aarch64-apple-darwin20      \n",
      "arch           aarch64                     \n",
      "os             darwin20                    \n",
      "system         aarch64, darwin20           \n",
      "status                                     \n",
      "major          4                           \n",
      "minor          5.1                         \n",
      "year           2025                        \n",
      "month          06                          \n",
      "day            13                          \n",
      "svn rev        88306                       \n",
      "language       R                           \n",
      "version.string R version 4.5.1 (2025-06-13)\n",
      "nickname       Great Square Root           \n",
      "\n"
     ]
    }
   ],
   "source": [
    "import rpy2.robjects as ro\n",
    "print(ro.r('version'))"
   ]
  },
  {
   "cell_type": "code",
   "execution_count": null,
   "id": "afada5ed",
   "metadata": {},
   "outputs": [],
   "source": [
    "%%R\n",
    "library(Quartet)"
   ]
  },
  {
   "cell_type": "markdown",
   "id": "2771bc47",
   "metadata": {},
   "source": [
    "C. elegans Lineage Data\n",
    "- Title:    A lineage-resolved molecular atlas of C. elegans embryogenesis at single-cell resolution\n",
    "- Author:   Packer et al.\n",
    "- Year:     2019\n",
    "- doi:      https://doi.org/10.1126/science.aax1971\n",
    "- GEO:      https://www.ncbi.nlm.nih.gov/geo/query/acc.cgi?acc=GSE126954\n",
    "- file:\n",
    "  - `.csv`: Supplementary file -> `cell_annotation.csv.gz` -> Column: `lineage`;\n",
    "  - ~~`.h5ad`: https://zenodo.org/records/15236812~~\n",
    "\n",
    "Worm Atlas Complete Cell List\n",
    "- url:      https://www.wormatlas.org/celllistsulston.html\n",
    "- ref:      Sulston, JE and White, JG (1988), \"Parts list\", in \"The Nematode Caenorhabditis elegans, eds WB Wood et al, Cold Spring Harbor Laboratory Press, Cold Spring Harbor, New York, USA, pp 415 - 431.\n",
    "  - Title:  The embryonic cell lineage of the nematode Caenorhabditis elegans\n",
    "  - Author: J.E. Sulston, E. Schierenberg, J.G. White, J.N. Thomson\n",
    "  - Year:   1983\n",
    "  - doi:    https://doi.org/10.1016/0012-1606(83)90201-4\n",
    "\n",
    "Method\n",
    "1. Generate Tree.\n",
    "2. a"
   ]
  },
  {
   "cell_type": "code",
   "execution_count": null,
   "id": "bbadfb45",
   "metadata": {},
   "outputs": [],
   "source": [
    "import os\n",
    "os.chdir('/Users/yongjunchoi/Documents/GitHub/Research/Research')"
   ]
  },
  {
   "cell_type": "markdown",
   "id": "194c9d86",
   "metadata": {},
   "source": [
    "# Packer et al., (2019)"
   ]
  },
  {
   "cell_type": "markdown",
   "id": "693383c9",
   "metadata": {},
   "source": [
    "## 0. Read `.gz` -> `.nwk` Tree"
   ]
  },
  {
   "cell_type": "code",
   "execution_count": null,
   "id": "0db1063b",
   "metadata": {},
   "outputs": [
    {
     "name": "stdout",
     "output_type": "stream",
     "text": [
      "저장 완료: Polytomy/Codes/Data/lineages.csv\n"
     ]
    }
   ],
   "source": [
    "import pandas as pd\n",
    "import gzip\n",
    "\n",
    "file_path = \"Polytomy/Codes/Data/GSE126954_cell_annotation.csv.gz\"\n",
    "output_path = \"Polytomy/Codes/Data/lineages.csv\"\n",
    "\n",
    "# 1. 데이터 읽기\n",
    "df = pd.read_csv(file_path, compression=\"gzip\")\n",
    "\n",
    "# 2. lineage 컬럼 가져오기, 결측 제외\n",
    "lineages = df['lineage'].dropna()\n",
    "\n",
    "processed = []\n",
    "\n",
    "for lineage in lineages:\n",
    "    # ':' 뒤 제거\n",
    "    lineage = lineage.split(':')[0]\n",
    "    # '/' 기준으로 분리\n",
    "    parts = lineage.split('/')\n",
    "    processed.extend(parts)\n",
    "\n",
    "processed_unique_sorted = sorted(set(processed))\n",
    "\n",
    "# 3. 결과를 DataFrame으로 만들어 csv로 저장\n",
    "processed_df = pd.DataFrame(processed_unique_sorted, columns=['lineage'])\n",
    "processed_df.to_csv(output_path, index=False)\n",
    "\n",
    "print(f\"저장 완료: {output_path}\")"
   ]
  },
  {
   "cell_type": "markdown",
   "id": "14c70d08",
   "metadata": {},
   "source": []
  },
  {
   "cell_type": "markdown",
   "id": "0f9293ce",
   "metadata": {},
   "source": []
  },
  {
   "cell_type": "code",
   "execution_count": null,
   "id": "27923031",
   "metadata": {},
   "outputs": [],
   "source": [
    "import pandas as pd\n",
    "import gzip\n",
    "\n",
    "file_path = \"Polytomy/Codes/Data/GSE126954_cell_annotation.csv.gz\"\n",
    "\n",
    "# 0. pandas에서 gzip 바로 읽기\n",
    "cell_anno = pd.read_csv(file_path, compression='gzip')\n",
    "\n",
    "# 1. 데이터 읽기\n",
    "df = pd.read_csv(file_path, compression=\"gzip\")\n",
    "lineages = df['lineage'].dropna().unique()  # 결측 제외, 고유 lineage\n",
    "\n",
    "# 2. lineage -> Newick tree 변환 (대문자 덩어리, 소문자 개별 노드)\n",
    "def lineage_to_newick(lineages):\n",
    "    root = Tree(name=\"zygote\")\n",
    "    \n",
    "    for lin in lineages:\n",
    "        # '/'가 있으면 여러 경로로 분리\n",
    "        paths = lin.split('/')\n",
    "        for p in paths:\n",
    "            node = root\n",
    "            i = 0\n",
    "            while i < len(p):\n",
    "                # 대문자인 경우: 연속 대문자 덩어리 추출\n",
    "                if p[i].isupper():\n",
    "                    j = i + 1\n",
    "                    while j < len(p) and p[j].isupper():\n",
    "                        j += 1\n",
    "                    chunk = p[i:j]  # 대문자 덩어리\n",
    "                    i = j\n",
    "                    # 자식 존재 여부 확인 후 생성\n",
    "                    existing_child = next((c for c in node.children if c.name == chunk), None)\n",
    "                    if existing_child:\n",
    "                        node = existing_child\n",
    "                    else:\n",
    "                        node = node.add_child(name=chunk)\n",
    "                else:\n",
    "                    # 소문자는 글자 하나씩 노드 생성\n",
    "                    chunk = p[i]\n",
    "                    i += 1\n",
    "                    existing_child = next((c for c in node.children if c.name == chunk), None)\n",
    "                    if existing_child:\n",
    "                        node = existing_child\n",
    "                    else:\n",
    "                        node = node.add_child(name=chunk)\n",
    "    return root\n",
    "\n",
    "tree = lineage_to_newick(lineages)\n",
    "\n",
    "# 3. Newick 파일로 저장\n",
    "output_path = \"Polytomy/Codes/nwk/c_elegans_lineage_tree_resolved.nwk\"\n",
    "tree.write(format=1, outfile=output_path)\n",
    "\n",
    "print(f\"트리 생성 완료. 저장 위치: {output_path}\")"
   ]
  },
  {
   "cell_type": "code",
   "execution_count": null,
   "id": "b73fb531",
   "metadata": {},
   "outputs": [],
   "source": []
  },
  {
   "cell_type": "markdown",
   "id": "aad5bcd1",
   "metadata": {},
   "source": [
    "## 1.Read Raw data -> `.nwk` Tree"
   ]
  },
  {
   "cell_type": "code",
   "execution_count": null,
   "id": "ddcd63a4",
   "metadata": {},
   "outputs": [],
   "source": [
    "import os\n",
    "os.getcwd()\n",
    "os.chdir('/Users/yongjunchoi/Documents/GitHub/Research/Research')"
   ]
  },
  {
   "cell_type": "code",
   "execution_count": null,
   "id": "d571b966",
   "metadata": {},
   "outputs": [
    {
     "name": "stdout",
     "output_type": "stream",
     "text": [
      "트리 생성 완료. 저장 위치: Polytomy/Codes/nwk/c_elegans_lineage_tree.nwk\n"
     ]
    }
   ],
   "source": [
    "import pandas as pd\n",
    "from ete3 import Tree\n",
    "\n",
    "# 0. 파일 경로\n",
    "file_path = \"Polytomy/Codes/Data/GSE126954_cell_annotation.csv.gz\"\n",
    "\n",
    "# 1. 데이터 읽기\n",
    "df = pd.read_csv(file_path, compression=\"gzip\")\n",
    "lineages = df['lineage'].dropna().unique()  # 결측 제외, 고유 lineage\n",
    "\n",
    "# 2. lineage -> Newick tree 변환 (대문자 덩어리, 소문자 개별 노드)\n",
    "def lineage_to_newick(lineages):\n",
    "    root = Tree(name=\"zygote\")\n",
    "    \n",
    "    for lin in lineages:\n",
    "        # '/'가 있으면 여러 경로로 분리\n",
    "        paths = lin.split('/')\n",
    "        for p in paths:\n",
    "            node = root\n",
    "            i = 0\n",
    "            while i < len(p):\n",
    "                # 대문자인 경우: 연속 대문자 덩어리 추출\n",
    "                if p[i].isupper():\n",
    "                    j = i + 1\n",
    "                    while j < len(p) and p[j].isupper():\n",
    "                        j += 1\n",
    "                    chunk = p[i:j]  # 대문자 덩어리\n",
    "                    i = j\n",
    "                    # 자식 존재 여부 확인 후 생성\n",
    "                    existing_child = next((c for c in node.children if c.name == chunk), None)\n",
    "                    if existing_child:\n",
    "                        node = existing_child\n",
    "                    else:\n",
    "                        node = node.add_child(name=chunk)\n",
    "                else:\n",
    "                    # 소문자는 글자 하나씩 노드 생성\n",
    "                    chunk = p[i]\n",
    "                    i += 1\n",
    "                    existing_child = next((c for c in node.children if c.name == chunk), None)\n",
    "                    if existing_child:\n",
    "                        node = existing_child\n",
    "                    else:\n",
    "                        node = node.add_child(name=chunk)\n",
    "    return root\n",
    "\n",
    "tree = lineage_to_newick(lineages)\n",
    "\n",
    "# 3. Newick 파일로 저장\n",
    "output_path = \"Polytomy/Codes/nwk/c_elegans_lineage_tree.nwk\"\n",
    "tree.write(format=1, outfile=output_path)\n",
    "\n",
    "print(f\"트리 생성 완료. 저장 위치: {output_path}\")"
   ]
  },
  {
   "cell_type": "code",
   "execution_count": null,
   "id": "233b2d78",
   "metadata": {},
   "outputs": [],
   "source": [
    "from ete3 import Tree, TreeStyle\n",
    "\n",
    "# 1. 저장된 Newick 파일 불러오기\n",
    "tree = Tree(\"Polytomy/Codes/nwk/c_elegans_lineage_tree.nwk\", format=1)\n",
    "\n",
    "# 2. TreeStyle 설정\n",
    "ts = TreeStyle()\n",
    "ts.show_leaf_name = True       # 리프 노드 이름 표시\n",
    "ts.show_branch_length = False  # branch length 표시 여부\n",
    "ts.show_branch_support = False # branch support 표시 여부\n",
    "ts.mode = \"r\"                  # 'c' = circular, 'r' = rectangular (default)\n",
    "ts.scale = 20                  # 노드 간 간격 조정\n",
    "\n",
    "# 3. 트리 시각화\n",
    "tree.show(tree_style=ts)"
   ]
  },
  {
   "cell_type": "markdown",
   "id": "5528e748",
   "metadata": {},
   "source": [
    "## 1.2. `.nwk` Tree -> Polytomy\n",
    "\n",
    "1. Among leaves, select `n` leaves for polytomy. \n",
    "2. Polytomy leaves의 MRCA 확인.\n",
    "3. Polytomy leaves를 일단 제거.\n",
    "4. Polytomy leaves MRCA에 polytomy 추가"
   ]
  },
  {
   "cell_type": "markdown",
   "id": "0628fa8d",
   "metadata": {},
   "source": [
    "### 전처리: Polytomy 제거"
   ]
  },
  {
   "cell_type": "code",
   "execution_count": null,
   "id": "9b3e25e0",
   "metadata": {},
   "outputs": [
    {
     "name": "stdout",
     "output_type": "stream",
     "text": [
      "Root 아래 자식 노드들:\n",
      "- MS\n",
      "- D\n",
      "- AB\n",
      "- E\n",
      "- C\n",
      "- Z\n",
      "- 2\n"
     ]
    }
   ],
   "source": [
    "from ete3 import Tree\n",
    "\n",
    "# 트리 불러오기\n",
    "tree = Tree(\"Polytomy/Codes/nwk/c_elegans_lineage_tree.nwk\", format=1)\n",
    "\n",
    "# root 바로 아래 자식 노드 이름 출력\n",
    "print(\"Root 아래 자식 노드들:\")\n",
    "for child in tree.children:\n",
    "    print(f\"- {child.name if child.name else '(internal node)'}\")"
   ]
  },
  {
   "cell_type": "code",
   "execution_count": null,
   "id": "8a46636f",
   "metadata": {},
   "outputs": [
    {
     "name": "stdout",
     "output_type": "stream",
     "text": [
      "Polytomy-removed tree saved to Polytomy/Codes/nwk/c_elegans_lineage_tree_polytomy_removed.nwk\n"
     ]
    }
   ],
   "source": [
    "from ete3 import Tree\n",
    "\n",
    "# ----------------------------\n",
    "# 1. Newick 파일 불러오기\n",
    "# ----------------------------\n",
    "tree = Tree(\"Polytomy/Codes/nwk/c_elegans_lineage_tree.nwk\", format=1)\n",
    "\n",
    "# ----------------------------\n",
    "# 2. Polytomy 제거 함수\n",
    "# ----------------------------\n",
    "def remove_polytomy(node):\n",
    "    # Post-order traversal\n",
    "    for child in list(node.children):\n",
    "        remove_polytomy(child)\n",
    "\n",
    "    # Polytomy 제거 (child >= 3)\n",
    "    if len(node.children) >= 3:\n",
    "        for child in list(node.children):\n",
    "            node.remove_child(child)\n",
    "\n",
    "# ----------------------------\n",
    "# 3. 트리 처리 실행\n",
    "# ----------------------------\n",
    "remove_polytomy(tree)\n",
    "\n",
    "# ----------------------------\n",
    "# 4. 최종 Newick 출력 및 파일 저장\n",
    "# ----------------------------\n",
    "output_file = \"Polytomy/Codes/nwk/c_elegans_lineage_tree_polytomy_removed.nwk\"\n",
    "tree.write(outfile=output_file)\n",
    "print(f\"Polytomy-removed tree saved to {output_file}\")"
   ]
  },
  {
   "cell_type": "code",
   "execution_count": null,
   "id": "855d342f",
   "metadata": {},
   "outputs": [],
   "source": []
  },
  {
   "cell_type": "markdown",
   "id": "cd1dfe13",
   "metadata": {},
   "source": [
    "# Worm atlas\n",
    "- url:  https://www.wormatlas.org/celllistsulston.htm\n",
    "- Wormatlas -> Resource -> Cell Lists -> C. elegans Cell List\n",
    "- ref:  JE and White, JG (1988), \"Parts list\", in \"The Nematode Caenorhabditis elegans, eds WB Wood et al, Cold Spring Harbor Laboratory Press, Cold Spring Harbor, New York, USA, pp 415 - 431"
   ]
  },
  {
   "cell_type": "markdown",
   "id": "cc6edfc3",
   "metadata": {},
   "source": [
    "## 0. 데이터 전처리\n",
    "- `.`와 ` ` 동일시 (code)\n",
    "- `,`가 있을 경우 밑에 추가 (code)\n",
    "- `/`가 있을 경우 밑에 추가 (code)\n",
    "- `l/r`가 있을 경우 `*l*`, `*r*`로 분리 (manually; #: 1359 -> 1369)\n",
    "  - `Complete_cell_list.csv` -> `Complete_cell_list_LR.csv`\n",
    "- Cell 이 `Z`에서 안오면 제거 (code; #: 1369 -> 1264)\n",
    "- 중복 제거 (code; #: 1264 -> 1229)\n",
    "  - `Complete_cell_list_LR.csv` -> `Complete_cell_list_preprocessed.csv`"
   ]
  },
  {
   "cell_type": "code",
   "execution_count": null,
   "id": "2b86e15a",
   "metadata": {},
   "outputs": [],
   "source": [
    "import pandas as pd\n",
    "\n",
    "# CSV 불러오기\n",
    "complete_cell_data = pd.read_csv(\"Polytomy/Codes/Data/Complete_cell_list_LR.csv\", quotechar='\"')\n",
    "\n",
    "# '.'을 공백으로 대체\n",
    "complete_cell_data['Lineage Name'] = complete_cell_data['Lineage Name'].str.replace('.', ' ', regex=False)\n",
    "\n",
    "# ','와 '/' 기준으로 분리 후 공백 제거하고 explode\n",
    "complete_cell_data_expanded = complete_cell_data.assign(\n",
    "    **{\n",
    "        'Lineage Name': complete_cell_data['Lineage Name']\n",
    "        .apply(lambda x: [s.strip() for part in x.split(',') for s in part.split('/')])\n",
    "    }\n",
    ").explode('Lineage Name').reset_index(drop=True)\n",
    "\n",
    "# Cell 이름 집합\n",
    "cell_names = set(complete_cell_data_expanded['Cell'].dropna())\n",
    "\n",
    "# lineage_maps 생성: Cell -> list of Lineages\n",
    "from collections import defaultdict\n",
    "\n",
    "lineage_maps = defaultdict(list)\n",
    "for _, row in complete_cell_data_expanded.iterrows():\n",
    "    lineage_maps[row['Cell']].append(row['Lineage Name'])\n",
    "\n",
    "# 재귀적으로 prefix 교체 및 code 합치기\n",
    "def resolve_lineage(lineage):\n",
    "    parts = lineage.split(' ')\n",
    "    prefix = parts[0]\n",
    "    codes = ''.join(parts[1:])\n",
    "    \n",
    "    if prefix not in lineage_maps:\n",
    "        return prefix, codes\n",
    "    else:\n",
    "        # 첫 번째 Lineage만 재귀 적용\n",
    "        resolved_prefix, resolved_codes = resolve_lineage(lineage_maps[prefix][0])\n",
    "        return resolved_prefix, resolved_codes + codes\n",
    "\n",
    "# 결과 저장\n",
    "resolved_data = []\n",
    "for _, row in complete_cell_data_expanded.iterrows():\n",
    "    cell = row['Cell']\n",
    "    lineage = row['Lineage Name']\n",
    "    prefix, codes = resolve_lineage(lineage)\n",
    "    resolved_data.append({\n",
    "        'Cell': cell,\n",
    "        'Prefix': prefix,\n",
    "        'Code': codes\n",
    "    })\n",
    "\n",
    "resolved_df = pd.DataFrame(resolved_data)\n",
    "\n",
    "# Prefix가 'Z'인 행만 선택\n",
    "z_only_df = resolved_df[resolved_df['Prefix'] == 'Z'].reset_index(drop=True)\n",
    "\n",
    "# 'Cell', 'Prefix', 'Code'가 모두 같은 행 제거\n",
    "z_only_df_unique = z_only_df.drop_duplicates(subset=['Cell', 'Prefix', 'Code']).reset_index(drop=True)\n",
    "\n",
    "# Prefix와 Code 합치기\n",
    "z_only_df_unique['Lineage Name'] = z_only_df_unique['Prefix'] + z_only_df_unique['Code']\n",
    "\n",
    "# 필요한 열만 선택\n",
    "z_only_df_unique = z_only_df_unique[['Cell', 'Lineage Name']]\n",
    "\n",
    "# 중복 이름 처리\n",
    "name_count = {}\n",
    "def make_unique_name(name):\n",
    "    if name not in name_count:\n",
    "        name_count[name] = 1\n",
    "        return name\n",
    "    else:\n",
    "        name_count[name] += 1\n",
    "        return f\"{name}_{name_count[name]}\"\n",
    "\n",
    "# Cell 컬럼에 적용\n",
    "z_only_df_unique['Cell'] = z_only_df_unique['Cell'].apply(make_unique_name)\n",
    "\n",
    "# CSV로 저장\n",
    "preprocessed_output_path = \"Polytomy/Codes/Data/Complete_cell_list_preprocessed.csv\"\n",
    "z_only_df_unique.to_csv(preprocessed_output_path, index=False)"
   ]
  },
  {
   "cell_type": "markdown",
   "id": "bec2e254",
   "metadata": {},
   "source": [
    "## 1. `.csv` to From-To Data"
   ]
  },
  {
   "cell_type": "code",
   "execution_count": null,
   "id": "898b226d",
   "metadata": {},
   "outputs": [
    {
     "name": "stdout",
     "output_type": "stream",
     "text": [
      ".csv to edge tree : Total daughters:  1099\n",
      "0 daughters: 1099 nodes, 1 daughters: 170 nodes, 2 daughters: 1066 nodes, 3 daughters: 1 nodes, 4 daughters: 10 nodes\n",
      "\n",
      "Removing existing polytomy nodes...\n",
      "\n",
      ".csv to edge tree : Total daughters:  984\n",
      "0 daughters: 984 nodes, 1 daughters: 164 nodes, 2 daughters: 983 nodes\n"
     ]
    }
   ],
   "source": [
    "# csv to edge\n",
    "import pandas as pd\n",
    "from collections import Counter\n",
    "from Bio import Phylo\n",
    "from collections import defaultdict\n",
    "\n",
    "df = pd.read_csv(\"Polytomy/Codes/Data/Complete_cell_list_preprocessed.csv\")\n",
    "\n",
    "edges = []\n",
    "\n",
    "for idx, row in df.iterrows():\n",
    "    lineage = row['Lineage Name']\n",
    "    for i in range(1, len(lineage)):\n",
    "        parent = lineage[:i]       # 부모 코드\n",
    "        child  = lineage[:i+1]     # 자식 코드\n",
    "        edges.append({'from': parent, 'to': child})\n",
    "\n",
    "edges_df = pd.DataFrame(edges).drop_duplicates().reset_index(drop=True)\n",
    "\n",
    "edges_output_path = \"Polytomy/Codes/Data/edges_list_all.csv\"\n",
    "edges_df.to_csv(edges_output_path, index=False)\n",
    "\n",
    "\n",
    "# edge to nwk\n",
    "edges_df = pd.read_csv(\"Polytomy/Codes/Data/edges_list_all.csv\")\n",
    "\n",
    "tree_dict = defaultdict(list)\n",
    "for _, row in edges_df.iterrows():\n",
    "    tree_dict[row['from']].append(row['to'])\n",
    "\n",
    "def build_newick(node):\n",
    "    if node not in tree_dict or len(tree_dict[node]) == 0:\n",
    "        return node\n",
    "    else:\n",
    "        children_newick = [build_newick(child) for child in tree_dict[node]]\n",
    "        return \"(\" + \",\".join(children_newick) + \")\" + node\n",
    "\n",
    "root = 'Z'\n",
    "newick_str = build_newick(root) + \";\"\n",
    "\n",
    "newick_path = \"Polytomy/Codes/nwk/Polytomy_Test/tree_all_mapped.nwk\"\n",
    "with open(newick_path, \"w\") as f:\n",
    "    f.write(newick_str)\n",
    "\n",
    "# Remove polytomy in nwk\n",
    "from Bio import Phylo\n",
    "\n",
    "newick_path = \"Polytomy/Codes/nwk/Polytomy_Test/tree_all_mapped.nwk\"\n",
    "tree = Phylo.read(newick_path, \"newick\")\n",
    "\n",
    "print(\".csv to edge tree : Total daughters: \", len(tree.get_terminals()))\n",
    "print(*[f\"{k} daughters: {v} nodes\" \n",
    "        for k, v in sorted(Counter(len(c.clades) for c in tree.find_clades()).items())], \n",
    "      sep=\", \")\n",
    "\n",
    "def num_daughters(clade):\n",
    "    return len(clade.clades)\n",
    "\n",
    "def remove_nodes(clade):\n",
    "    clade.clades = [child for child in clade.clades if num_daughters(child) < 3]\n",
    "    for child in clade.clades:\n",
    "        remove_nodes(child)\n",
    "    return None\n",
    "\n",
    "print(\"\\nRemoving existing polytomy nodes...\\n\")\n",
    "remove_nodes(tree.root)\n",
    "\n",
    "output_path = \"Polytomy/Codes/nwk/Polytomy_Test/tree_pruned.nwk\"\n",
    "Phylo.write(tree, output_path, \"newick\")\n",
    "\n",
    "tree = Phylo.read(output_path, \"newick\")\n",
    "print(\".csv to edge tree : Total daughters: \", len(tree.get_terminals()))\n",
    "print(*[f\"{k} daughters: {v} nodes\" \n",
    "        for k, v in sorted(Counter(len(c.clades) for c in tree.find_clades()).items())], \n",
    "      sep=\", \")"
   ]
  },
  {
   "cell_type": "markdown",
   "id": "7ed98365",
   "metadata": {},
   "source": [
    "## 2. Generate Artificial Polytomy"
   ]
  },
  {
   "cell_type": "markdown",
   "id": "7ab5e74e",
   "metadata": {},
   "source": [
    "### Method 1: Pick n among leaves -> Remove leaves -> Add Polytomy\n",
    "- Polytomy is randomly selected."
   ]
  },
  {
   "cell_type": "code",
   "execution_count": null,
   "id": "ea496dfb",
   "metadata": {},
   "outputs": [
    {
     "name": "stdout",
     "output_type": "stream",
     "text": [
      "Before pruning: Total daughters:  984\n",
      "0 daughters: 984 nodes, 1 daughters: 164 nodes, 2 daughters: 983 nodes\n",
      "\n",
      "Randomly selecting 16 leaves to prune...\n",
      "\n",
      "After pruning: Total daughters:  968\n",
      "0 daughters: 968 nodes, 1 daughters: 179 nodes, 2 daughters: 967 nodes\n",
      "\n",
      "Adding polytomy...\n",
      "\n",
      "After polytomizing MRCA: Total daughters:  984\n",
      "0 daughters: 984 nodes, 1 daughters: 179 nodes, 2 daughters: 966 nodes, 18 daughters: 1 nodes\n"
     ]
    }
   ],
   "source": [
    "import random\n",
    "from Bio import Phylo\n",
    "from Bio.Phylo.Newick import Clade\n",
    "from copy import deepcopy\n",
    "from collections import Counter\n",
    "\n",
    "tree_path = \"Polytomy/Codes/nwk/Polytomy_Test/tree_pruned.nwk\"\n",
    "tree = Phylo.read(tree_path, \"newick\")\n",
    "\n",
    "print(\"Before pruning: Total daughters: \", len(tree.get_terminals()))\n",
    "print(*[f\"{k} daughters: {v} nodes\" \n",
    "        for k, v in sorted(Counter(len(c.clades) for c in tree.find_clades()).items())], \n",
    "      sep=\", \")\n",
    "\n",
    "all_leaves = [leaf.name for leaf in tree.get_terminals()]\n",
    "polytomy_size = 16\n",
    "\n",
    "print(f\"\\nRandomly selecting {polytomy_size} leaves to prune...\\n\")\n",
    "\n",
    "selected_leaves = random.sample(all_leaves, polytomy_size)\n",
    "mrca = tree.common_ancestor(selected_leaves)\n",
    "allowed_leaves = [leaf for leaf in all_leaves if leaf not in selected_leaves] + [mrca.name]\n",
    "\n",
    "def prune(clade, allowed_leaves):\n",
    "    for child in list(clade.clades):\n",
    "        prune(child, allowed_leaves)\n",
    "        if child.is_terminal() and child.name not in allowed_leaves:\n",
    "            clade.clades.remove(child)\n",
    "\n",
    "prune(mrca, allowed_leaves)\n",
    "\n",
    "print(\"After pruning: Total daughters: \", len(tree.get_terminals()))\n",
    "print(*[f\"{k} daughters: {v} nodes\" \n",
    "        for k, v in sorted(Counter(len(c.clades) for c in tree.find_clades()).items())], \n",
    "      sep=\", \")\n",
    "\n",
    "print(f\"\\nAdding polytomy...\\n\")\n",
    "\n",
    "def add_polytomy(clade, new_children):\n",
    "    clade.clades.extend(new_children)\n",
    "\n",
    "add_polytomy(mrca, [Clade(name=leaf) for leaf in selected_leaves])\n",
    "\n",
    "print(\"After polytomizing MRCA: Total daughters: \", len(tree.get_terminals()))\n",
    "print(*[f\"{k} daughters: {v} nodes\" \n",
    "        for k, v in sorted(Counter(len(c.clades) for c in tree.find_clades()).items())], \n",
    "      sep=\", \")"
   ]
  },
  {
   "cell_type": "markdown",
   "id": "70769ec2",
   "metadata": {},
   "source": [
    "- 2개씩 큰게 추가됨.\n",
    "- MRCA에서 Polytomy인 트리 + Polytomy 아닌 트리가 분기되게 해야하나?\n",
    "  - 그러면 트리가 모양이 너무 바뀌지 않나?"
   ]
  },
  {
   "cell_type": "markdown",
   "id": "63135c25",
   "metadata": {},
   "source": [
    "### Method 2: Pick among n-leaved subtree -> Polytomize\n",
    "- Subtree is randomly selected."
   ]
  },
  {
   "cell_type": "code",
   "execution_count": null,
   "id": "15ff4cfa",
   "metadata": {},
   "outputs": [
    {
     "name": "stdout",
     "output_type": "stream",
     "text": [
      "Before polytomizing: Total daughters:  984\n",
      "0 daughters: 984 nodes, 1 daughters: 164 nodes, 2 daughters: 983 nodes\n",
      "\n",
      "Polytomizing one of the subtree among 141 trees...\n",
      "\n",
      "After polytomizing: Total daughters:  984\n",
      "0 daughters: 984 nodes, 1 daughters: 161 nodes, 2 daughters: 980 nodes, 4 daughters: 1 nodes\n"
     ]
    }
   ],
   "source": [
    "from Bio import Phylo\n",
    "import random\n",
    "from collections import Counter\n",
    "from Bio.Phylo.Newick import Clade\n",
    "\n",
    "tree_path = \"Polytomy/Codes/nwk/Polytomy_Test/tree_pruned.nwk\"\n",
    "tree = Phylo.read(tree_path, \"newick\")\n",
    "\n",
    "print(\"Before polytomizing: Total daughters: \", len(tree.get_terminals()))\n",
    "print(*[f\"{k} daughters: {v} nodes\" \n",
    "        for k, v in sorted(Counter(len(c.clades) for c in tree.find_clades()).items())], \n",
    "      sep=\", \")\n",
    "\n",
    "def find_nodes_with_m_leaves(clade, m):\n",
    "    nodes = []\n",
    "    def helper(node):\n",
    "        if node.is_terminal():\n",
    "            return 1\n",
    "        leaf_count = sum(helper(c) for c in node.clades)\n",
    "        if leaf_count == m:\n",
    "            nodes.append(node)\n",
    "        return leaf_count\n",
    "    helper(clade)\n",
    "    return nodes\n",
    "\n",
    "polytomy_size = 4\n",
    "nodes_with_m_leaves = find_nodes_with_m_leaves(tree.root, polytomy_size)\n",
    "\n",
    "if len(nodes_with_m_leaves) == 0:\n",
    "    print(\"\\nUnable to polytomize!\")\n",
    "else:\n",
    "    print(\"\\nPolytomizing one of the subtree among {} trees...\\n\".format(len(nodes_with_m_leaves)))\n",
    "\n",
    "    def count_children(node):\n",
    "        counts = Counter()\n",
    "        child_count = len(node.clades)\n",
    "        counts[child_count] += 1\n",
    "        \n",
    "        for child in node.clades:\n",
    "            counts.update(count_children(child))\n",
    "        return counts\n",
    "\n",
    "    child_counter = count_children(tree.root)\n",
    "\n",
    "    picked_node = random.choice(nodes_with_m_leaves)\n",
    "\n",
    "    def polytomize_node(node):\n",
    "        leaves = node.get_terminals()\n",
    "        node.clades = leaves\n",
    "\n",
    "    polytomize_node(picked_node)\n",
    "    print(\"After polytomizing: Total daughters: \", len(tree.get_terminals()))\n",
    "    print(*[f\"{k} daughters: {v} nodes\" \n",
    "        for k, v in sorted(Counter(len(c.clades) for c in tree.find_clades()).items())], \n",
    "      sep=\", \")\n",
    "    "
   ]
  },
  {
   "cell_type": "markdown",
   "id": "874abd12",
   "metadata": {},
   "source": [
    "## 3. Randomly Generate Resolved Polytomy"
   ]
  },
  {
   "cell_type": "code",
   "execution_count": null,
   "id": "e4b25e7d",
   "metadata": {},
   "outputs": [
    {
     "name": "stdout",
     "output_type": "stream",
     "text": [
      "The rpy2.ipython extension is already loaded. To reload it, use:\n",
      "  %reload_ext rpy2.ipython\n"
     ]
    }
   ],
   "source": [
    "# Tree to Canonical Tree Form\n",
    "## Load rpy2: R to Python\n",
    "%load_ext rpy2.ipython\n",
    "\n",
    "import rpy2.robjects as ro\n",
    "# print(ro.r('version'))"
   ]
  },
  {
   "cell_type": "code",
   "execution_count": null,
   "id": "041b824f",
   "metadata": {},
   "outputs": [],
   "source": [
    "%%R\n",
    "library(ape)\n",
    "library(poweRbal)"
   ]
  },
  {
   "cell_type": "markdown",
   "id": "29266f05",
   "metadata": {},
   "source": [
    "### Method 1: BD Model"
   ]
  },
  {
   "cell_type": "code",
   "execution_count": null,
   "id": "b1f34dd2",
   "metadata": {},
   "outputs": [],
   "source": [
    "%%R\n",
    "library(ape)\n",
    "library(poweRbal)\n",
    "\n",
    "leaves = 10\n",
    "params <- c(1,0)\n",
    "reps <- 10\n",
    "model <- \"BD\"\n",
    "\n",
    "trees <- vector(\"list\", reps)\n",
    "for(i in 1:reps){\n",
    "    trees[[i]] <- genAltBirthDeathTree(n = size,\n",
    "                                        BIRTHRATE = params[1],\n",
    "                                        DEATHRATE = params[2],\n",
    "                                        TRIES = 1000)\n",
    "}\n",
    "\n",
    "path <- \"Polytomy/Codes/nwk/Temp_Tree/\"\n",
    "file_name <- sprintf(\"%s_b%.1f_d%.1f_l%d_r%d.nwk\", model, params[1], params[2], leaves, reps)\n",
    "full_path <- file.path(path, file_name)\n",
    "write.tree(trees, file = full_path)"
   ]
  },
  {
   "cell_type": "markdown",
   "id": "c53c82a3",
   "metadata": {},
   "source": [
    "### Method 2: Beta Splitting Model"
   ]
  },
  {
   "cell_type": "code",
   "execution_count": null,
   "id": "73e70aba",
   "metadata": {},
   "outputs": [],
   "source": [
    "%%R\n",
    "library(ape)\n",
    "library(poweRbal)\n",
    "\n",
    "leaves = 10\n",
    "params <- c(1)\n",
    "reps <- 10\n",
    "model <- \"BT\" # Beta\n",
    "\n",
    "trees <- vector(\"list\", reps)\n",
    "for(i in 1:reps){\n",
    "    trees[[i]] <- genAldousBetaTree(n = leaves, BETA = params[1])\n",
    "}\n",
    "\n",
    "path <- \"Polytomy/Codes/nwk/Temp_Tree/\"\n",
    "file_name <- sprintf(\"%s_b%.1f_l%d_r%d.nwk\", model, params[1], leaves, reps)\n",
    "full_path <- file.path(path, file_name)\n",
    "write.tree(trees, file = full_path)"
   ]
  },
  {
   "cell_type": "markdown",
   "id": "829a4652",
   "metadata": {},
   "source": [
    "### Method 3: Kingman Coalescent Model\n",
    "- `R` -> `ape` -> vignette -> `Random Topology`"
   ]
  },
  {
   "cell_type": "code",
   "execution_count": null,
   "id": "35100cba",
   "metadata": {},
   "outputs": [],
   "source": [
    "%%R\n",
    "leaves = 10\n",
    "params <- \n",
    "reps <- 10\n",
    "model <- \"KC\" # Kingman Coalescent\n",
    "\n",
    "trees <- vector(\"list\", reps)\n",
    "for(i in 1:reps){\n",
    "    trees[[i]] <- rcoal(n = leaves, br = 'coalescent')\n",
    "    trees[[i]]$edge.length <- NULL # Remove edge lengths\n",
    "}\n",
    "\n",
    "path <- \"Polytomy/Codes/nwk/Temp_Tree/\"\n",
    "file_name <- sprintf(\"%s_b%.1f_l%d_r%d.nwk\", model, params[1], leaves, reps)\n",
    "full_path <- file.path(path, file_name)\n",
    "write.tree(trees, file = full_path)"
   ]
  },
  {
   "cell_type": "markdown",
   "id": "9340c619",
   "metadata": {},
   "source": [
    "### Method 4: Yule Model (Beta : $\\beta = 0$)"
   ]
  },
  {
   "cell_type": "code",
   "execution_count": null,
   "id": "b21808c2",
   "metadata": {},
   "outputs": [],
   "source": [
    "%%R\n",
    "library(ape)\n",
    "library(poweRbal)\n",
    "\n",
    "leaves = 10\n",
    "params <- c(0)\n",
    "reps <- 10\n",
    "model <- \"YL\" # Yule\n",
    "\n",
    "trees <- vector(\"list\", reps)\n",
    "for(i in 1:reps){\n",
    "    trees[[i]] <- genAldousBetaTree(n = leaves, BETA = params[1])\n",
    "}\n",
    "\n",
    "path <- \"Polytomy/Codes/nwk/Temp_Tree/\"\n",
    "file_name <- sprintf(\"%s_b%.1f_l%d_r%d.nwk\", model, params[1], leaves, reps)\n",
    "full_path <- file.path(path, file_name)\n",
    "write.tree(trees, file = full_path)"
   ]
  },
  {
   "cell_type": "markdown",
   "id": "7b161845",
   "metadata": {},
   "source": [
    "### Method 5: Uniform Random Binary Tree Model (Beta: $\\beta = -\\frac{3}{2}$)"
   ]
  },
  {
   "cell_type": "code",
   "execution_count": null,
   "id": "ab78611c",
   "metadata": {},
   "outputs": [],
   "source": [
    "%%R\n",
    "library(ape)\n",
    "library(poweRbal)\n",
    "\n",
    "leaves = 10\n",
    "params <- c(-1.5)\n",
    "reps <- 10\n",
    "model <- \"UF\" # Unifrom\n",
    "\n",
    "trees <- vector(\"list\", reps)\n",
    "for(i in 1:reps){\n",
    "    trees[[i]] <- genAldousBetaTree(n = leaves, BETA = params[1])\n",
    "}\n",
    "\n",
    "path <- \"Polytomy/Codes/nwk/Temp_Tree/\"\n",
    "file_name <- sprintf(\"%s_b%.1f_l%d_r%d.nwk\", model, params[1], leaves, reps)\n",
    "full_path <- file.path(path, file_name)\n",
    "write.tree(trees, file = full_path)"
   ]
  },
  {
   "cell_type": "markdown",
   "id": "ef35677c",
   "metadata": {},
   "source": [
    "## 4. Statistics (R, Python 병행 사용?)"
   ]
  },
  {
   "cell_type": "markdown",
   "id": "55dd376c",
   "metadata": {},
   "source": [
    "### Statistic 1: Colless' Index ($I_{C}$, $C(T)$) `colless_index`"
   ]
  },
  {
   "cell_type": "code",
   "execution_count": null,
   "id": "c1bb6c17",
   "metadata": {},
   "outputs": [],
   "source": [
    "import dendropy\n",
    "\n",
    "def colless_index(tree):\n",
    "    \"\"\"\n",
    "    Computes Colless index: sum of absolute differences in leaf counts\n",
    "    for all internal nodes.\n",
    "    \"\"\"\n",
    "    def count_leaves(node):\n",
    "        if node.is_leaf():\n",
    "            return 1\n",
    "        return sum(count_leaves(c) for c in node.child_nodes())\n",
    "\n",
    "    def colless_node(node):\n",
    "        if node.is_leaf() or len(node.child_nodes()) < 2:\n",
    "            return 0\n",
    "        left, right = node.child_nodes()[:2]  # binary assumption\n",
    "        nl = count_leaves(left)\n",
    "        nr = count_leaves(right)\n",
    "        return abs(nl - nr) + colless_node(left) + colless_node(right)\n",
    "\n",
    "    return colless_node(tree.seed_node)"
   ]
  },
  {
   "cell_type": "markdown",
   "id": "94c8a31d",
   "metadata": {},
   "source": [
    "### Statistic 2: Sackin's Index ($I_{S}$, $S(T)$) `sackins_index`"
   ]
  },
  {
   "cell_type": "code",
   "execution_count": null,
   "id": "0700d76e",
   "metadata": {},
   "outputs": [],
   "source": [
    "import dendropy\n",
    "\n",
    "def sackins_index(tree):\n",
    "    \"\"\"\n",
    "    Computes Sackin index: sum of depths of all leaf nodes\n",
    "    \"\"\"\n",
    "    def leaf_depth_sum(node, depth=0):\n",
    "        if node.is_leaf():\n",
    "            return depth\n",
    "        return sum(leaf_depth_sum(c, depth+1) for c in node.child_nodes())\n",
    "\n",
    "    return leaf_depth_sum(tree.seed_node)"
   ]
  },
  {
   "cell_type": "markdown",
   "id": "dcdfd517",
   "metadata": {},
   "source": [
    "### Statistic 3: Tree Height ($T_{D}$) `tree_height`"
   ]
  },
  {
   "cell_type": "code",
   "execution_count": null,
   "id": "728c955f",
   "metadata": {},
   "outputs": [],
   "source": [
    "def tree_height(tree):\n",
    "    max_depth = 0\n",
    "    def dfs(nd, depth):\n",
    "        nonlocal max_depth\n",
    "        if nd.is_leaf():\n",
    "            max_depth = max(max_depth, depth)\n",
    "        for c in nd.child_nodes():\n",
    "            dfs(c, depth+1)\n",
    "    dfs(tree.seed_node, 0)\n",
    "    return max_depth"
   ]
  },
  {
   "cell_type": "markdown",
   "id": "a5db928e",
   "metadata": {},
   "source": [
    "### Statistic 4: Root-split-ratio `root_split_ratio`"
   ]
  },
  {
   "cell_type": "code",
   "execution_count": null,
   "id": "9633ca6a",
   "metadata": {},
   "outputs": [],
   "source": [
    "import math\n",
    "\n",
    "def root_split_ratio(tree):\n",
    "    \"\"\"\n",
    "    Returns a string 'n_left:n_right' indicating the number of leaf nodes\n",
    "    in the left and right child of the root.\n",
    "    Handles:\n",
    "      - binary trees\n",
    "      - comb trees (1 child)\n",
    "      - single leaf trees (0 child)\n",
    "    \"\"\"\n",
    "    root_children = tree.seed_node.child_nodes()\n",
    "    if len(root_children) >= 2:\n",
    "        n_left = len(root_children[0].leaf_nodes())\n",
    "        n_right = len(root_children[1].leaf_nodes())\n",
    "    elif len(root_children) == 1:\n",
    "        n_left = len(root_children[0].leaf_nodes())\n",
    "        n_right = 0\n",
    "    else:\n",
    "        n_left = 0\n",
    "        n_right = 0\n",
    "\n",
    "    if n_left > n_right:\n",
    "        n_left, n_right = n_right, n_left\n",
    "\n",
    "    gcd = math.gcd(n_left, n_right)\n",
    "    left_s = n_left // gcd\n",
    "    right_s = n_right // gcd\n",
    "\n",
    "    return f\"{left_s}:{right_s}\""
   ]
  },
  {
   "cell_type": "markdown",
   "id": "316cdbba",
   "metadata": {},
   "source": [
    "### Statistic 5: (Normalized) Robinson-Foulds (RF) Distance `rf_matrix`"
   ]
  },
  {
   "cell_type": "code",
   "execution_count": null,
   "id": "4e0a448d",
   "metadata": {},
   "outputs": [],
   "source": [
    "import dendropy\n",
    "from dendropy.calculate import treecompare\n",
    "import numpy as np\n",
    "import pandas as pd\n",
    "\n",
    "def rf_matrix(trees):\n",
    "    n = len(trees)\n",
    "    rf_matrix = np.zeros((n, n))\n",
    "    for i in range(n):\n",
    "        for j in range(i+1, n):\n",
    "            rf = treecompare.symmetric_difference(trees[i], trees[j])\n",
    "            rf_matrix[i,j] = rf\n",
    "            rf_matrix[j,i] = rf\n",
    "    return pd.DataFrame(rf_matrix)\n",
    "\n",
    "def n_rf_matrix(trees, rooted=True):\n",
    "    n = len(trees)\n",
    "    rf_matrix = np.zeros((n, n))\n",
    "    \n",
    "    n_leaves = len(trees[0].leaf_nodes())\n",
    "    max_rf = 2 * (n_leaves - 2 if rooted else n_leaves - 3)\n",
    "\n",
    "    for i in range(n):\n",
    "        for j in range(i+1, n):\n",
    "            raw_rf = treecompare.symmetric_difference(trees[i], trees[j])\n",
    "            norm_rf = raw_rf / max_rf\n",
    "            rf_matrix[i, j] = rf_matrix[j, i] = norm_rf\n",
    "    \n",
    "    return pd.DataFrame(rf_matrix)"
   ]
  },
  {
   "cell_type": "markdown",
   "id": "0799db98",
   "metadata": {},
   "source": [
    "### *Statistic 8: Branch-score Distance `branch_score_distance` (Need Branch Length!!)"
   ]
  },
  {
   "cell_type": "code",
   "execution_count": null,
   "id": "c4e39218",
   "metadata": {},
   "outputs": [],
   "source": [
    "import dendropy\n",
    "\n",
    "def branch_score_distance(tree1, tree2):\n",
    "    def get_branches(tree):\n",
    "        br_dict = {}\n",
    "        for edge in tree.edges():\n",
    "            if edge.head_node.is_leaf():\n",
    "                continue\n",
    "            split = frozenset([l.taxon.label for l in edge.head_node.leaf_nodes()])\n",
    "            br_dict[split] = edge.length if edge.length else 0.0\n",
    "        return br_dict\n",
    "    b1 = get_branches(tree1)\n",
    "    b2 = get_branches(tree2)\n",
    "    all_splits = set(b1.keys()).union(set(b2.keys()))\n",
    "    return sum((b1.get(s,0)-b2.get(s,0))**2 for s in all_splits)**0.5\n",
    "\n",
    "def branch_score_matrix(trees):\n",
    "    n = len(trees)\n",
    "    bs_matrix = np.zeros((n, n))\n",
    "    for i in range(n):\n",
    "        for j in range(i+1, n):\n",
    "            bs = branch_score_distance(trees[i], trees[j])\n",
    "            bs_matrix[i,j] = bs\n",
    "            bs_matrix[j,i] = bs\n",
    "    return pd.DataFrame(bs_matrix)"
   ]
  },
  {
   "cell_type": "markdown",
   "id": "561b40fa",
   "metadata": {},
   "source": [
    "### Statistic 6: Quartet Distance"
   ]
  },
  {
   "cell_type": "code",
   "execution_count": null,
   "id": "41799f17",
   "metadata": {},
   "outputs": [
    {
     "name": "stdout",
     "output_type": "stream",
     "text": [
      "필요한 패키지를 로딩중입니다: TreeTools\n",
      "Error: package or namespace load failed for ‘TreeTools’ in dyn.load(file, DLLpath = DLLpath, ...):\n",
      " 공유된 객체 '/Library/Frameworks/R.framework/Versions/4.5-arm64/Resources/library/bitops/libs/bitops.so'를 로드 할 수 없습니다:\n",
      "  dlopen(/Library/Frameworks/R.framework/Versions/4.5-arm64/Resources/library/bitops/libs/bitops.so, 0x0006): Library not loaded: /Library/Frameworks/R.framework/Versions/4.3-arm64/Resources/lib/libR.dylib\n",
      "  Referenced from: <41E11DA8-03F7-3076-A197-7D5C5BB066CE> /Library/Frameworks/R.framework/Versions/4.5-arm64/Resources/library/bitops/libs/bitops.so\n",
      "  Reason: tried: '/Library/Frameworks/R.framework/Versions/4.3-arm64/Resources/lib/libR.dylib' (no such file), '/System/Volumes/Preboot/Cryptexes/OS/Library/Frameworks/R.framework/Versions/4.3-arm64/Resources/lib/libR.dylib' (no such file), '/Library/Frameworks/R.framework/Versions/4.3-arm64/Resources/lib/libR.dylib' (no such file), '/usr/local/lib/libR.dylib' (no such file), '/usr/lib/libR.dylib' (no such file, not in dyld cache)\n",
      "에러: 패키지 ‘TreeTools’는 로드되어질 수 없습니다\n"
     ]
    },
    {
     "ename": "RInterpreterError",
     "evalue": "Failed to parse and evaluate line '# Python으로 exportlibrary(ape)\\nlibrary(Quartet)\\n\\n# 트리 읽기\\ntrees <- read.tree(\"Temp_Tree/BD_b1.0_d0.0_l10_r10.nwk\")  # Newick 파일\\n\\nn <- length(trees)\\nquartet_matrix <- matrix(0, n, n)\\n\\n# 모든 트리 쌍에 대해 Quartet distance 계산\\nfor(i in 1:(n-1)){\\n  for(j in (i+1):n){\\n    qd <- QuartetDistance(trees[[i]], trees[[j]])\\n    quartet_matrix[i,j] <- qd\\n    quartet_matrix[j,i] <- qd\\n  }\\n}\\n\\nprint(quartet_matrix)\\n'.\nR error message: '에러: 패키지 ‘TreeTools’는 로드되어질 수 없습니다'\nR stdout:\n필요한 패키지를 로딩중입니다: TreeTools\nError: package or namespace load failed for ‘TreeTools’ in dyn.load(file, DLLpath = DLLpath, ...):\n 공유된 객체 '/Library/Frameworks/R.framework/Versions/4.5-arm64/Resources/library/bitops/libs/bitops.so'를 로드 할 수 없습니다:\n  dlopen(/Library/Frameworks/R.framework/Versions/4.5-arm64/Resources/library/bitops/libs/bitops.so, 0x0006): Library not loaded: /Library/Frameworks/R.framework/Versions/4.3-arm64/Resources/lib/libR.dylib\n  Referenced from: <41E11DA8-03F7-3076-A197-7D5C5BB066CE> /Library/Frameworks/R.framework/Versions/4.5-arm64/Resources/library/bitops/libs/bitops.so\n  Reason: tried: '/Library/Frameworks/R.framework/Versions/4.3-arm64/Resources/lib/libR.dylib' (no such file), '/System/Volumes/Preboot/Cryptexes/OS/Library/Frameworks/R.framework/Versions/4.3-arm64/Resources/lib/libR.dylib' (no such file), '/Library/Frameworks/R.framework/Versions/4.3-arm64/Resources/lib/libR.dylib' (no such file), '/usr/local/lib/libR.dylib' (no such file), '/usr/lib/libR.dylib' (no such file, not in dyld cache)\n에러: 패키지 ‘TreeTools’는 로드되어질 수 없습니다",
     "output_type": "error",
     "traceback": [
      "\u001b[0;31m---------------------------------------------------------------------------\u001b[0m\n",
      "\u001b[0;31mRRuntimeError\u001b[0m                             Traceback (most recent call last)\n",
      "File \u001b[0;32m~/Library/Python/3.9/lib/python/site-packages/rpy2/ipython/rmagic.py:768\u001b[0m, in \u001b[0;36mRMagics.eval\u001b[0;34m(self, code)\u001b[0m\n",
      "\u001b[1;32m    767\u001b[0m     r_expr \u001b[38;5;241m=\u001b[39m ri\u001b[38;5;241m.\u001b[39mparse(code)\n",
      "\u001b[0;32m--> 768\u001b[0m     value, visible \u001b[38;5;241m=\u001b[39m \u001b[43mri\u001b[49m\u001b[38;5;241;43m.\u001b[39;49m\u001b[43mevalr_expr_with_visible\u001b[49m\u001b[43m(\u001b[49m\n",
      "\u001b[1;32m    769\u001b[0m \u001b[43m        \u001b[49m\u001b[43mr_expr\u001b[49m\n",
      "\u001b[1;32m    770\u001b[0m \u001b[43m    \u001b[49m\u001b[43m)\u001b[49m\n",
      "\u001b[1;32m    771\u001b[0m \u001b[38;5;28;01mexcept\u001b[39;00m (ri\u001b[38;5;241m.\u001b[39membedded\u001b[38;5;241m.\u001b[39mRRuntimeError, \u001b[38;5;167;01mValueError\u001b[39;00m) \u001b[38;5;28;01mas\u001b[39;00m exception:\n",
      "\u001b[1;32m    772\u001b[0m     \u001b[38;5;66;03m# Otherwise next return seems to have copy of error.\u001b[39;00m\n",
      "\n",
      "File \u001b[0;32m~/Library/Python/3.9/lib/python/site-packages/rpy2/rinterface/__init__.py:205\u001b[0m, in \u001b[0;36mevalr_expr_with_visible\u001b[0;34m(expr, envir)\u001b[0m\n",
      "\u001b[1;32m    204\u001b[0m \u001b[38;5;28;01mif\u001b[39;00m error_occured[\u001b[38;5;241m0\u001b[39m]:\n",
      "\u001b[0;32m--> 205\u001b[0m     \u001b[38;5;28;01mraise\u001b[39;00m embedded\u001b[38;5;241m.\u001b[39mRRuntimeError(_rinterface\u001b[38;5;241m.\u001b[39m_geterrmessage())\n",
      "\u001b[1;32m    206\u001b[0m res \u001b[38;5;241m=\u001b[39m conversion\u001b[38;5;241m.\u001b[39m_cdata_to_rinterface(r_res)\n",
      "\n",
      "\u001b[0;31mRRuntimeError\u001b[0m: 에러: 패키지 ‘TreeTools’는 로드되어질 수 없습니다\n",
      "\n",
      "\n",
      "During handling of the above exception, another exception occurred:\n",
      "\n",
      "\u001b[0;31mRInterpreterError\u001b[0m                         Traceback (most recent call last)\n",
      "Cell \u001b[0;32mIn[67], line 1\u001b[0m\n",
      "\u001b[0;32m----> 1\u001b[0m \u001b[43mget_ipython\u001b[49m\u001b[43m(\u001b[49m\u001b[43m)\u001b[49m\u001b[38;5;241;43m.\u001b[39;49m\u001b[43mrun_cell_magic\u001b[49m\u001b[43m(\u001b[49m\u001b[38;5;124;43m'\u001b[39;49m\u001b[38;5;124;43mR\u001b[39;49m\u001b[38;5;124;43m'\u001b[39;49m\u001b[43m,\u001b[49m\u001b[43m \u001b[49m\u001b[38;5;124;43m'\u001b[39;49m\u001b[38;5;124;43m-o quartet_matrix  # Python으로 export\u001b[39;49m\u001b[38;5;124;43m'\u001b[39;49m\u001b[43m,\u001b[49m\u001b[43m \u001b[49m\u001b[38;5;124;43m'\u001b[39;49m\u001b[38;5;124;43mlibrary(ape)\u001b[39;49m\u001b[38;5;130;43;01m\\n\u001b[39;49;00m\u001b[38;5;124;43mlibrary(Quartet)\u001b[39;49m\u001b[38;5;130;43;01m\\n\u001b[39;49;00m\u001b[38;5;130;43;01m\\n\u001b[39;49;00m\u001b[38;5;124;43m# 트리 읽기\u001b[39;49m\u001b[38;5;130;43;01m\\n\u001b[39;49;00m\u001b[38;5;124;43mtrees <- read.tree(\u001b[39;49m\u001b[38;5;124;43m\"\u001b[39;49m\u001b[38;5;124;43mTemp_Tree/BD_b1.0_d0.0_l10_r10.nwk\u001b[39;49m\u001b[38;5;124;43m\"\u001b[39;49m\u001b[38;5;124;43m)  # Newick 파일\u001b[39;49m\u001b[38;5;130;43;01m\\n\u001b[39;49;00m\u001b[38;5;130;43;01m\\n\u001b[39;49;00m\u001b[38;5;124;43mn <- length(trees)\u001b[39;49m\u001b[38;5;130;43;01m\\n\u001b[39;49;00m\u001b[38;5;124;43mquartet_matrix <- matrix(0, n, n)\u001b[39;49m\u001b[38;5;130;43;01m\\n\u001b[39;49;00m\u001b[38;5;130;43;01m\\n\u001b[39;49;00m\u001b[38;5;124;43m# 모든 트리 쌍에 대해 Quartet distance 계산\u001b[39;49m\u001b[38;5;130;43;01m\\n\u001b[39;49;00m\u001b[38;5;124;43mfor(i in 1:(n-1))\u001b[39;49m\u001b[38;5;124;43m{\u001b[39;49m\u001b[38;5;130;43;01m\\n\u001b[39;49;00m\u001b[38;5;124;43m  for(j in (i+1):n)\u001b[39;49m\u001b[38;5;124;43m{\u001b[39;49m\u001b[38;5;130;43;01m\\n\u001b[39;49;00m\u001b[38;5;124;43m    qd <- QuartetDistance(trees[[i]], trees[[j]])\u001b[39;49m\u001b[38;5;130;43;01m\\n\u001b[39;49;00m\u001b[38;5;124;43m    quartet_matrix[i,j] <- qd\u001b[39;49m\u001b[38;5;130;43;01m\\n\u001b[39;49;00m\u001b[38;5;124;43m    quartet_matrix[j,i] <- qd\u001b[39;49m\u001b[38;5;130;43;01m\\n\u001b[39;49;00m\u001b[38;5;124;43m  }\u001b[39;49m\u001b[38;5;130;43;01m\\n\u001b[39;49;00m\u001b[38;5;124;43m}\u001b[39;49m\u001b[38;5;130;43;01m\\n\u001b[39;49;00m\u001b[38;5;130;43;01m\\n\u001b[39;49;00m\u001b[38;5;124;43mprint(quartet_matrix)\u001b[39;49m\u001b[38;5;130;43;01m\\n\u001b[39;49;00m\u001b[38;5;124;43m'\u001b[39;49m\u001b[43m)\u001b[49m\n",
      "\n",
      "File \u001b[0;32m~/Library/Python/3.9/lib/python/site-packages/IPython/core/interactiveshell.py:2493\u001b[0m, in \u001b[0;36mInteractiveShell.run_cell_magic\u001b[0;34m(self, magic_name, line, cell)\u001b[0m\n",
      "\u001b[1;32m   2491\u001b[0m \u001b[38;5;28;01mwith\u001b[39;00m \u001b[38;5;28mself\u001b[39m\u001b[38;5;241m.\u001b[39mbuiltin_trap:\n",
      "\u001b[1;32m   2492\u001b[0m     args \u001b[38;5;241m=\u001b[39m (magic_arg_s, cell)\n",
      "\u001b[0;32m-> 2493\u001b[0m     result \u001b[38;5;241m=\u001b[39m \u001b[43mfn\u001b[49m\u001b[43m(\u001b[49m\u001b[38;5;241;43m*\u001b[39;49m\u001b[43margs\u001b[49m\u001b[43m,\u001b[49m\u001b[43m \u001b[49m\u001b[38;5;241;43m*\u001b[39;49m\u001b[38;5;241;43m*\u001b[39;49m\u001b[43mkwargs\u001b[49m\u001b[43m)\u001b[49m\n",
      "\u001b[1;32m   2495\u001b[0m \u001b[38;5;66;03m# The code below prevents the output from being displayed\u001b[39;00m\n",
      "\u001b[1;32m   2496\u001b[0m \u001b[38;5;66;03m# when using magics with decorator @output_can_be_silenced\u001b[39;00m\n",
      "\u001b[1;32m   2497\u001b[0m \u001b[38;5;66;03m# when the last Python token in the expression is a ';'.\u001b[39;00m\n",
      "\u001b[1;32m   2498\u001b[0m \u001b[38;5;28;01mif\u001b[39;00m \u001b[38;5;28mgetattr\u001b[39m(fn, magic\u001b[38;5;241m.\u001b[39mMAGIC_OUTPUT_CAN_BE_SILENCED, \u001b[38;5;28;01mFalse\u001b[39;00m):\n",
      "\n",
      "File \u001b[0;32m~/Library/Python/3.9/lib/python/site-packages/rpy2/ipython/rmagic.py:1318\u001b[0m, in \u001b[0;36mRMagics.R\u001b[0;34m(self, line, cell, local_ns)\u001b[0m\n",
      "\u001b[1;32m   1316\u001b[0m     \u001b[38;5;28;01mif\u001b[39;00m \u001b[38;5;129;01mnot\u001b[39;00m e\u001b[38;5;241m.\u001b[39mstdout\u001b[38;5;241m.\u001b[39mendswith(e\u001b[38;5;241m.\u001b[39merr):\n",
      "\u001b[1;32m   1317\u001b[0m         \u001b[38;5;28mprint\u001b[39m(e\u001b[38;5;241m.\u001b[39merr)\n",
      "\u001b[0;32m-> 1318\u001b[0m     \u001b[38;5;28;01mraise\u001b[39;00m e\n",
      "\u001b[1;32m   1319\u001b[0m \u001b[38;5;28;01mfinally\u001b[39;00m:\n",
      "\u001b[1;32m   1320\u001b[0m     \u001b[38;5;28;01mif\u001b[39;00m \u001b[38;5;28misinstance\u001b[39m(\u001b[38;5;28mself\u001b[39m\u001b[38;5;241m.\u001b[39mgraphics_device, FileDevice):\n",
      "\n",
      "File \u001b[0;32m~/Library/Python/3.9/lib/python/site-packages/rpy2/ipython/rmagic.py:1283\u001b[0m, in \u001b[0;36mRMagics.R\u001b[0;34m(self, line, cell, local_ns)\u001b[0m\n",
      "\u001b[1;32m   1281\u001b[0m         return_output \u001b[38;5;241m=\u001b[39m \u001b[38;5;28;01mFalse\u001b[39;00m\n",
      "\u001b[1;32m   1282\u001b[0m \u001b[38;5;28;01melse\u001b[39;00m:\n",
      "\u001b[0;32m-> 1283\u001b[0m     text_result, result, visible \u001b[38;5;241m=\u001b[39m \u001b[38;5;28;43mself\u001b[39;49m\u001b[38;5;241;43m.\u001b[39;49m\u001b[43meval\u001b[49m\u001b[43m(\u001b[49m\u001b[43mcode\u001b[49m\u001b[43m)\u001b[49m\n",
      "\u001b[1;32m   1284\u001b[0m     text_output \u001b[38;5;241m+\u001b[39m\u001b[38;5;241m=\u001b[39m text_result\n",
      "\u001b[1;32m   1285\u001b[0m     \u001b[38;5;28;01mif\u001b[39;00m visible:\n",
      "\n",
      "File \u001b[0;32m~/Library/Python/3.9/lib/python/site-packages/rpy2/ipython/rmagic.py:774\u001b[0m, in \u001b[0;36mRMagics.eval\u001b[0;34m(self, code)\u001b[0m\n",
      "\u001b[1;32m    771\u001b[0m \u001b[38;5;28;01mexcept\u001b[39;00m (ri\u001b[38;5;241m.\u001b[39membedded\u001b[38;5;241m.\u001b[39mRRuntimeError, \u001b[38;5;167;01mValueError\u001b[39;00m) \u001b[38;5;28;01mas\u001b[39;00m exception:\n",
      "\u001b[1;32m    772\u001b[0m     \u001b[38;5;66;03m# Otherwise next return seems to have copy of error.\u001b[39;00m\n",
      "\u001b[1;32m    773\u001b[0m     warning_or_other_msg \u001b[38;5;241m=\u001b[39m \u001b[38;5;28mself\u001b[39m\u001b[38;5;241m.\u001b[39mflush()\n",
      "\u001b[0;32m--> 774\u001b[0m     \u001b[38;5;28;01mraise\u001b[39;00m RInterpreterError(code, \u001b[38;5;28mstr\u001b[39m(exception),\n",
      "\u001b[1;32m    775\u001b[0m                             warning_or_other_msg)\n",
      "\u001b[1;32m    776\u001b[0m \u001b[38;5;28;01mfinally\u001b[39;00m:\n",
      "\u001b[1;32m    777\u001b[0m     ro\u001b[38;5;241m.\u001b[39m_print_deferred_warnings()\n",
      "\n",
      "\u001b[0;31mRInterpreterError\u001b[0m: Failed to parse and evaluate line '# Python으로 exportlibrary(ape)\\nlibrary(Quartet)\\n\\n# 트리 읽기\\ntrees <- read.tree(\"Temp_Tree/BD_b1.0_d0.0_l10_r10.nwk\")  # Newick 파일\\n\\nn <- length(trees)\\nquartet_matrix <- matrix(0, n, n)\\n\\n# 모든 트리 쌍에 대해 Quartet distance 계산\\nfor(i in 1:(n-1)){\\n  for(j in (i+1):n){\\n    qd <- QuartetDistance(trees[[i]], trees[[j]])\\n    quartet_matrix[i,j] <- qd\\n    quartet_matrix[j,i] <- qd\\n  }\\n}\\n\\nprint(quartet_matrix)\\n'.\n",
      "R error message: '에러: 패키지 ‘TreeTools’는 로드되어질 수 없습니다'\n",
      "R stdout:\n",
      "필요한 패키지를 로딩중입니다: TreeTools\n",
      "Error: package or namespace load failed for ‘TreeTools’ in dyn.load(file, DLLpath = DLLpath, ...):\n",
      " 공유된 객체 '/Library/Frameworks/R.framework/Versions/4.5-arm64/Resources/library/bitops/libs/bitops.so'를 로드 할 수 없습니다:\n",
      "  dlopen(/Library/Frameworks/R.framework/Versions/4.5-arm64/Resources/library/bitops/libs/bitops.so, 0x0006): Library not loaded: /Library/Frameworks/R.framework/Versions/4.3-arm64/Resources/lib/libR.dylib\n",
      "  Referenced from: <41E11DA8-03F7-3076-A197-7D5C5BB066CE> /Library/Frameworks/R.framework/Versions/4.5-arm64/Resources/library/bitops/libs/bitops.so\n",
      "  Reason: tried: '/Library/Frameworks/R.framework/Versions/4.3-arm64/Resources/lib/libR.dylib' (no such file), '/System/Volumes/Preboot/Cryptexes/OS/Library/Frameworks/R.framework/Versions/4.3-arm64/Resources/lib/libR.dylib' (no such file), '/Library/Frameworks/R.framework/Versions/4.3-arm64/Resources/lib/libR.dylib' (no such file), '/usr/local/lib/libR.dylib' (no such file), '/usr/lib/libR.dylib' (no such file, not in dyld cache)\n",
      "에러: 패키지 ‘TreeTools’는 로드되어질 수 없습니다"
     ]
    }
   ],
   "source": [
    "%%R -o quartet_matrix  # Python으로 export\n",
    "library(ape)\n",
    "library(Quartet)\n",
    "\n",
    "# 트리 읽기\n",
    "trees <- read.tree(\"Temp_Tree/BD_b1.0_d0.0_l10_r10.nwk\")  # Newick 파일\n",
    "\n",
    "n <- length(trees)\n",
    "quartet_matrix <- matrix(0, n, n)\n",
    "\n",
    "# 모든 트리 쌍에 대해 Quartet distance 계산\n",
    "for(i in 1:(n-1)){\n",
    "  for(j in (i+1):n){\n",
    "    qd <- QuartetDistance(trees[[i]], trees[[j]])\n",
    "    quartet_matrix[i,j] <- qd\n",
    "    quartet_matrix[j,i] <- qd\n",
    "  }\n",
    "}\n",
    "\n",
    "print(quartet_matrix)"
   ]
  },
  {
   "cell_type": "markdown",
   "id": "a0f7a736",
   "metadata": {},
   "source": [
    "### Statistic 7: K-tree Score\n",
    "- $K > 4$ 일때는 오래 걸릴 수 있음.\n",
    "  - $K=2$일 때는 RF\n",
    "  - $K=4$일 때가 quartet과 유사."
   ]
  },
  {
   "cell_type": "code",
   "execution_count": null,
   "id": "02170ddc",
   "metadata": {},
   "outputs": [],
   "source": [
    "from itertools import combinations\n",
    "\n",
    "def k_tree_score(tree1, tree2, k):\n",
    "    leaves = [l.taxon.label for l in tree1.leaf_nodes()]\n",
    "    score = 0\n",
    "    for subset in combinations(leaves, k):\n",
    "        # tree1에서 subset subtree topology 추출\n",
    "        sub1 = get_subtree_topology(tree1, subset)\n",
    "        sub2 = get_subtree_topology(tree2, subset)\n",
    "        if sub1 != sub2:\n",
    "            score += 1\n",
    "    return score\n",
    "\n",
    "## R `treespace`\n",
    "library(treespace)\n",
    "\n",
    "# 예시: trees list\n",
    "trees <- list(tree1, tree2)\n",
    "\n",
    "# k-tree score 계산 (k = 4)\n",
    "k_score_val <- k_score(trees, k = 4)\n",
    "print(k_score_val)"
   ]
  },
  {
   "cell_type": "markdown",
   "id": "26a3cc8c",
   "metadata": {},
   "source": [
    "## 5. Analyze"
   ]
  },
  {
   "cell_type": "markdown",
   "id": "c68d992b",
   "metadata": {},
   "source": []
  },
  {
   "cell_type": "code",
   "execution_count": 67,
   "id": "8eef60c3",
   "metadata": {},
   "outputs": [
    {
     "name": "stdout",
     "output_type": "stream",
     "text": [
      "필요한 패키지를 로딩중입니다: TreeTools\n",
      "Error: package or namespace load failed for ‘TreeTools’ in dyn.load(file, DLLpath = DLLpath, ...):\n",
      " 공유된 객체 '/Library/Frameworks/R.framework/Versions/4.5-arm64/Resources/library/bitops/libs/bitops.so'를 로드 할 수 없습니다:\n",
      "  dlopen(/Library/Frameworks/R.framework/Versions/4.5-arm64/Resources/library/bitops/libs/bitops.so, 0x0006): Library not loaded: /Library/Frameworks/R.framework/Versions/4.3-arm64/Resources/lib/libR.dylib\n",
      "  Referenced from: <41E11DA8-03F7-3076-A197-7D5C5BB066CE> /Library/Frameworks/R.framework/Versions/4.5-arm64/Resources/library/bitops/libs/bitops.so\n",
      "  Reason: tried: '/Library/Frameworks/R.framework/Versions/4.3-arm64/Resources/lib/libR.dylib' (no such file), '/System/Volumes/Preboot/Cryptexes/OS/Library/Frameworks/R.framework/Versions/4.3-arm64/Resources/lib/libR.dylib' (no such file), '/Library/Frameworks/R.framework/Versions/4.3-arm64/Resources/lib/libR.dylib' (no such file), '/usr/local/lib/libR.dylib' (no such file), '/usr/lib/libR.dylib' (no such file, not in dyld cache)\n",
      "에러: 패키지 ‘TreeTools’는 로드되어질 수 없습니다\n"
     ]
    },
    {
     "ename": "RInterpreterError",
     "evalue": "Failed to parse and evaluate line '# Python으로 exportlibrary(ape)\\nlibrary(Quartet)\\n\\n# 트리 읽기\\ntrees <- read.tree(\"Temp_Tree/BD_b1.0_d0.0_l10_r10.nwk\")  # Newick 파일\\n\\nn <- length(trees)\\nquartet_matrix <- matrix(0, n, n)\\n\\n# 모든 트리 쌍에 대해 Quartet distance 계산\\nfor(i in 1:(n-1)){\\n  for(j in (i+1):n){\\n    qd <- QuartetDistance(trees[[i]], trees[[j]])\\n    quartet_matrix[i,j] <- qd\\n    quartet_matrix[j,i] <- qd\\n  }\\n}\\n\\nprint(quartet_matrix)\\n'.\nR error message: '에러: 패키지 ‘TreeTools’는 로드되어질 수 없습니다'\nR stdout:\n필요한 패키지를 로딩중입니다: TreeTools\nError: package or namespace load failed for ‘TreeTools’ in dyn.load(file, DLLpath = DLLpath, ...):\n 공유된 객체 '/Library/Frameworks/R.framework/Versions/4.5-arm64/Resources/library/bitops/libs/bitops.so'를 로드 할 수 없습니다:\n  dlopen(/Library/Frameworks/R.framework/Versions/4.5-arm64/Resources/library/bitops/libs/bitops.so, 0x0006): Library not loaded: /Library/Frameworks/R.framework/Versions/4.3-arm64/Resources/lib/libR.dylib\n  Referenced from: <41E11DA8-03F7-3076-A197-7D5C5BB066CE> /Library/Frameworks/R.framework/Versions/4.5-arm64/Resources/library/bitops/libs/bitops.so\n  Reason: tried: '/Library/Frameworks/R.framework/Versions/4.3-arm64/Resources/lib/libR.dylib' (no such file), '/System/Volumes/Preboot/Cryptexes/OS/Library/Frameworks/R.framework/Versions/4.3-arm64/Resources/lib/libR.dylib' (no such file), '/Library/Frameworks/R.framework/Versions/4.3-arm64/Resources/lib/libR.dylib' (no such file), '/usr/local/lib/libR.dylib' (no such file), '/usr/lib/libR.dylib' (no such file, not in dyld cache)\n에러: 패키지 ‘TreeTools’는 로드되어질 수 없습니다",
     "output_type": "error",
     "traceback": [
      "\u001b[0;31m---------------------------------------------------------------------------\u001b[0m",
      "\u001b[0;31mRRuntimeError\u001b[0m                             Traceback (most recent call last)",
      "File \u001b[0;32m~/Library/Python/3.9/lib/python/site-packages/rpy2/ipython/rmagic.py:768\u001b[0m, in \u001b[0;36mRMagics.eval\u001b[0;34m(self, code)\u001b[0m\n\u001b[1;32m    767\u001b[0m     r_expr \u001b[38;5;241m=\u001b[39m ri\u001b[38;5;241m.\u001b[39mparse(code)\n\u001b[0;32m--> 768\u001b[0m     value, visible \u001b[38;5;241m=\u001b[39m \u001b[43mri\u001b[49m\u001b[38;5;241;43m.\u001b[39;49m\u001b[43mevalr_expr_with_visible\u001b[49m\u001b[43m(\u001b[49m\n\u001b[1;32m    769\u001b[0m \u001b[43m        \u001b[49m\u001b[43mr_expr\u001b[49m\n\u001b[1;32m    770\u001b[0m \u001b[43m    \u001b[49m\u001b[43m)\u001b[49m\n\u001b[1;32m    771\u001b[0m \u001b[38;5;28;01mexcept\u001b[39;00m (ri\u001b[38;5;241m.\u001b[39membedded\u001b[38;5;241m.\u001b[39mRRuntimeError, \u001b[38;5;167;01mValueError\u001b[39;00m) \u001b[38;5;28;01mas\u001b[39;00m exception:\n\u001b[1;32m    772\u001b[0m     \u001b[38;5;66;03m# Otherwise next return seems to have copy of error.\u001b[39;00m\n",
      "File \u001b[0;32m~/Library/Python/3.9/lib/python/site-packages/rpy2/rinterface/__init__.py:205\u001b[0m, in \u001b[0;36mevalr_expr_with_visible\u001b[0;34m(expr, envir)\u001b[0m\n\u001b[1;32m    204\u001b[0m \u001b[38;5;28;01mif\u001b[39;00m error_occured[\u001b[38;5;241m0\u001b[39m]:\n\u001b[0;32m--> 205\u001b[0m     \u001b[38;5;28;01mraise\u001b[39;00m embedded\u001b[38;5;241m.\u001b[39mRRuntimeError(_rinterface\u001b[38;5;241m.\u001b[39m_geterrmessage())\n\u001b[1;32m    206\u001b[0m res \u001b[38;5;241m=\u001b[39m conversion\u001b[38;5;241m.\u001b[39m_cdata_to_rinterface(r_res)\n",
      "\u001b[0;31mRRuntimeError\u001b[0m: 에러: 패키지 ‘TreeTools’는 로드되어질 수 없습니다\n",
      "\nDuring handling of the above exception, another exception occurred:\n",
      "\u001b[0;31mRInterpreterError\u001b[0m                         Traceback (most recent call last)",
      "Cell \u001b[0;32mIn[67], line 1\u001b[0m\n\u001b[0;32m----> 1\u001b[0m \u001b[43mget_ipython\u001b[49m\u001b[43m(\u001b[49m\u001b[43m)\u001b[49m\u001b[38;5;241;43m.\u001b[39;49m\u001b[43mrun_cell_magic\u001b[49m\u001b[43m(\u001b[49m\u001b[38;5;124;43m'\u001b[39;49m\u001b[38;5;124;43mR\u001b[39;49m\u001b[38;5;124;43m'\u001b[39;49m\u001b[43m,\u001b[49m\u001b[43m \u001b[49m\u001b[38;5;124;43m'\u001b[39;49m\u001b[38;5;124;43m-o quartet_matrix  # Python으로 export\u001b[39;49m\u001b[38;5;124;43m'\u001b[39;49m\u001b[43m,\u001b[49m\u001b[43m \u001b[49m\u001b[38;5;124;43m'\u001b[39;49m\u001b[38;5;124;43mlibrary(ape)\u001b[39;49m\u001b[38;5;130;43;01m\\n\u001b[39;49;00m\u001b[38;5;124;43mlibrary(Quartet)\u001b[39;49m\u001b[38;5;130;43;01m\\n\u001b[39;49;00m\u001b[38;5;130;43;01m\\n\u001b[39;49;00m\u001b[38;5;124;43m# 트리 읽기\u001b[39;49m\u001b[38;5;130;43;01m\\n\u001b[39;49;00m\u001b[38;5;124;43mtrees <- read.tree(\u001b[39;49m\u001b[38;5;124;43m\"\u001b[39;49m\u001b[38;5;124;43mTemp_Tree/BD_b1.0_d0.0_l10_r10.nwk\u001b[39;49m\u001b[38;5;124;43m\"\u001b[39;49m\u001b[38;5;124;43m)  # Newick 파일\u001b[39;49m\u001b[38;5;130;43;01m\\n\u001b[39;49;00m\u001b[38;5;130;43;01m\\n\u001b[39;49;00m\u001b[38;5;124;43mn <- length(trees)\u001b[39;49m\u001b[38;5;130;43;01m\\n\u001b[39;49;00m\u001b[38;5;124;43mquartet_matrix <- matrix(0, n, n)\u001b[39;49m\u001b[38;5;130;43;01m\\n\u001b[39;49;00m\u001b[38;5;130;43;01m\\n\u001b[39;49;00m\u001b[38;5;124;43m# 모든 트리 쌍에 대해 Quartet distance 계산\u001b[39;49m\u001b[38;5;130;43;01m\\n\u001b[39;49;00m\u001b[38;5;124;43mfor(i in 1:(n-1))\u001b[39;49m\u001b[38;5;124;43m{\u001b[39;49m\u001b[38;5;130;43;01m\\n\u001b[39;49;00m\u001b[38;5;124;43m  for(j in (i+1):n)\u001b[39;49m\u001b[38;5;124;43m{\u001b[39;49m\u001b[38;5;130;43;01m\\n\u001b[39;49;00m\u001b[38;5;124;43m    qd <- QuartetDistance(trees[[i]], trees[[j]])\u001b[39;49m\u001b[38;5;130;43;01m\\n\u001b[39;49;00m\u001b[38;5;124;43m    quartet_matrix[i,j] <- qd\u001b[39;49m\u001b[38;5;130;43;01m\\n\u001b[39;49;00m\u001b[38;5;124;43m    quartet_matrix[j,i] <- qd\u001b[39;49m\u001b[38;5;130;43;01m\\n\u001b[39;49;00m\u001b[38;5;124;43m  }\u001b[39;49m\u001b[38;5;130;43;01m\\n\u001b[39;49;00m\u001b[38;5;124;43m}\u001b[39;49m\u001b[38;5;130;43;01m\\n\u001b[39;49;00m\u001b[38;5;130;43;01m\\n\u001b[39;49;00m\u001b[38;5;124;43mprint(quartet_matrix)\u001b[39;49m\u001b[38;5;130;43;01m\\n\u001b[39;49;00m\u001b[38;5;124;43m'\u001b[39;49m\u001b[43m)\u001b[49m\n",
      "File \u001b[0;32m~/Library/Python/3.9/lib/python/site-packages/IPython/core/interactiveshell.py:2493\u001b[0m, in \u001b[0;36mInteractiveShell.run_cell_magic\u001b[0;34m(self, magic_name, line, cell)\u001b[0m\n\u001b[1;32m   2491\u001b[0m \u001b[38;5;28;01mwith\u001b[39;00m \u001b[38;5;28mself\u001b[39m\u001b[38;5;241m.\u001b[39mbuiltin_trap:\n\u001b[1;32m   2492\u001b[0m     args \u001b[38;5;241m=\u001b[39m (magic_arg_s, cell)\n\u001b[0;32m-> 2493\u001b[0m     result \u001b[38;5;241m=\u001b[39m \u001b[43mfn\u001b[49m\u001b[43m(\u001b[49m\u001b[38;5;241;43m*\u001b[39;49m\u001b[43margs\u001b[49m\u001b[43m,\u001b[49m\u001b[43m \u001b[49m\u001b[38;5;241;43m*\u001b[39;49m\u001b[38;5;241;43m*\u001b[39;49m\u001b[43mkwargs\u001b[49m\u001b[43m)\u001b[49m\n\u001b[1;32m   2495\u001b[0m \u001b[38;5;66;03m# The code below prevents the output from being displayed\u001b[39;00m\n\u001b[1;32m   2496\u001b[0m \u001b[38;5;66;03m# when using magics with decorator @output_can_be_silenced\u001b[39;00m\n\u001b[1;32m   2497\u001b[0m \u001b[38;5;66;03m# when the last Python token in the expression is a ';'.\u001b[39;00m\n\u001b[1;32m   2498\u001b[0m \u001b[38;5;28;01mif\u001b[39;00m \u001b[38;5;28mgetattr\u001b[39m(fn, magic\u001b[38;5;241m.\u001b[39mMAGIC_OUTPUT_CAN_BE_SILENCED, \u001b[38;5;28;01mFalse\u001b[39;00m):\n",
      "File \u001b[0;32m~/Library/Python/3.9/lib/python/site-packages/rpy2/ipython/rmagic.py:1318\u001b[0m, in \u001b[0;36mRMagics.R\u001b[0;34m(self, line, cell, local_ns)\u001b[0m\n\u001b[1;32m   1316\u001b[0m     \u001b[38;5;28;01mif\u001b[39;00m \u001b[38;5;129;01mnot\u001b[39;00m e\u001b[38;5;241m.\u001b[39mstdout\u001b[38;5;241m.\u001b[39mendswith(e\u001b[38;5;241m.\u001b[39merr):\n\u001b[1;32m   1317\u001b[0m         \u001b[38;5;28mprint\u001b[39m(e\u001b[38;5;241m.\u001b[39merr)\n\u001b[0;32m-> 1318\u001b[0m     \u001b[38;5;28;01mraise\u001b[39;00m e\n\u001b[1;32m   1319\u001b[0m \u001b[38;5;28;01mfinally\u001b[39;00m:\n\u001b[1;32m   1320\u001b[0m     \u001b[38;5;28;01mif\u001b[39;00m \u001b[38;5;28misinstance\u001b[39m(\u001b[38;5;28mself\u001b[39m\u001b[38;5;241m.\u001b[39mgraphics_device, FileDevice):\n",
      "File \u001b[0;32m~/Library/Python/3.9/lib/python/site-packages/rpy2/ipython/rmagic.py:1283\u001b[0m, in \u001b[0;36mRMagics.R\u001b[0;34m(self, line, cell, local_ns)\u001b[0m\n\u001b[1;32m   1281\u001b[0m         return_output \u001b[38;5;241m=\u001b[39m \u001b[38;5;28;01mFalse\u001b[39;00m\n\u001b[1;32m   1282\u001b[0m \u001b[38;5;28;01melse\u001b[39;00m:\n\u001b[0;32m-> 1283\u001b[0m     text_result, result, visible \u001b[38;5;241m=\u001b[39m \u001b[38;5;28;43mself\u001b[39;49m\u001b[38;5;241;43m.\u001b[39;49m\u001b[43meval\u001b[49m\u001b[43m(\u001b[49m\u001b[43mcode\u001b[49m\u001b[43m)\u001b[49m\n\u001b[1;32m   1284\u001b[0m     text_output \u001b[38;5;241m+\u001b[39m\u001b[38;5;241m=\u001b[39m text_result\n\u001b[1;32m   1285\u001b[0m     \u001b[38;5;28;01mif\u001b[39;00m visible:\n",
      "File \u001b[0;32m~/Library/Python/3.9/lib/python/site-packages/rpy2/ipython/rmagic.py:774\u001b[0m, in \u001b[0;36mRMagics.eval\u001b[0;34m(self, code)\u001b[0m\n\u001b[1;32m    771\u001b[0m \u001b[38;5;28;01mexcept\u001b[39;00m (ri\u001b[38;5;241m.\u001b[39membedded\u001b[38;5;241m.\u001b[39mRRuntimeError, \u001b[38;5;167;01mValueError\u001b[39;00m) \u001b[38;5;28;01mas\u001b[39;00m exception:\n\u001b[1;32m    772\u001b[0m     \u001b[38;5;66;03m# Otherwise next return seems to have copy of error.\u001b[39;00m\n\u001b[1;32m    773\u001b[0m     warning_or_other_msg \u001b[38;5;241m=\u001b[39m \u001b[38;5;28mself\u001b[39m\u001b[38;5;241m.\u001b[39mflush()\n\u001b[0;32m--> 774\u001b[0m     \u001b[38;5;28;01mraise\u001b[39;00m RInterpreterError(code, \u001b[38;5;28mstr\u001b[39m(exception),\n\u001b[1;32m    775\u001b[0m                             warning_or_other_msg)\n\u001b[1;32m    776\u001b[0m \u001b[38;5;28;01mfinally\u001b[39;00m:\n\u001b[1;32m    777\u001b[0m     ro\u001b[38;5;241m.\u001b[39m_print_deferred_warnings()\n",
      "\u001b[0;31mRInterpreterError\u001b[0m: Failed to parse and evaluate line '# Python으로 exportlibrary(ape)\\nlibrary(Quartet)\\n\\n# 트리 읽기\\ntrees <- read.tree(\"Temp_Tree/BD_b1.0_d0.0_l10_r10.nwk\")  # Newick 파일\\n\\nn <- length(trees)\\nquartet_matrix <- matrix(0, n, n)\\n\\n# 모든 트리 쌍에 대해 Quartet distance 계산\\nfor(i in 1:(n-1)){\\n  for(j in (i+1):n){\\n    qd <- QuartetDistance(trees[[i]], trees[[j]])\\n    quartet_matrix[i,j] <- qd\\n    quartet_matrix[j,i] <- qd\\n  }\\n}\\n\\nprint(quartet_matrix)\\n'.\nR error message: '에러: 패키지 ‘TreeTools’는 로드되어질 수 없습니다'\nR stdout:\n필요한 패키지를 로딩중입니다: TreeTools\nError: package or namespace load failed for ‘TreeTools’ in dyn.load(file, DLLpath = DLLpath, ...):\n 공유된 객체 '/Library/Frameworks/R.framework/Versions/4.5-arm64/Resources/library/bitops/libs/bitops.so'를 로드 할 수 없습니다:\n  dlopen(/Library/Frameworks/R.framework/Versions/4.5-arm64/Resources/library/bitops/libs/bitops.so, 0x0006): Library not loaded: /Library/Frameworks/R.framework/Versions/4.3-arm64/Resources/lib/libR.dylib\n  Referenced from: <41E11DA8-03F7-3076-A197-7D5C5BB066CE> /Library/Frameworks/R.framework/Versions/4.5-arm64/Resources/library/bitops/libs/bitops.so\n  Reason: tried: '/Library/Frameworks/R.framework/Versions/4.3-arm64/Resources/lib/libR.dylib' (no such file), '/System/Volumes/Preboot/Cryptexes/OS/Library/Frameworks/R.framework/Versions/4.3-arm64/Resources/lib/libR.dylib' (no such file), '/Library/Frameworks/R.framework/Versions/4.3-arm64/Resources/lib/libR.dylib' (no such file), '/usr/local/lib/libR.dylib' (no such file), '/usr/lib/libR.dylib' (no such file, not in dyld cache)\n에러: 패키지 ‘TreeTools’는 로드되어질 수 없습니다"
     ]
    }
   ],
   "source": [
    "%%R -o quartet_matrix  # Python으로 export\n",
    "library(ape)\n",
    "library(Quartet)\n",
    "\n",
    "# 트리 읽기\n",
    "trees <- read.tree(\"Temp_Tree/BD_b1.0_d0.0_l10_r10.nwk\")  # Newick 파일\n",
    "\n",
    "n <- length(trees)\n",
    "quartet_matrix <- matrix(0, n, n)\n",
    "\n",
    "# 모든 트리 쌍에 대해 Quartet distance 계산\n",
    "for(i in 1:(n-1)){\n",
    "  for(j in (i+1):n){\n",
    "    qd <- QuartetDistance(trees[[i]], trees[[j]])\n",
    "    quartet_matrix[i,j] <- qd\n",
    "    quartet_matrix[j,i] <- qd\n",
    "  }\n",
    "}\n",
    "\n",
    "print(quartet_matrix)"
   ]
  },
  {
   "cell_type": "code",
   "execution_count": null,
   "id": "b79ffdb1",
   "metadata": {},
   "outputs": [],
   "source": [
    "import pandas as pd\n",
    "\n",
    "quartet_df = pd.DataFrame(quartet_matrix)\n",
    "print(quartet_df)"
   ]
  },
  {
   "cell_type": "markdown",
   "id": "c37664cd",
   "metadata": {},
   "source": [
    "### Statistic 7: K-tree Score\n",
    "- $K > 4$ 일때는 오래 걸릴 수 있음.\n",
    "  - $K=2$일 때는 RF\n",
    "  - $K=4$일 때가 quartet과 유사."
   ]
  },
  {
   "cell_type": "code",
   "execution_count": null,
   "id": "8005c0f1",
   "metadata": {},
   "outputs": [],
   "source": [
    "from itertools import combinations\n",
    "\n",
    "def k_tree_score(tree1, tree2, k):\n",
    "    leaves = [l.taxon.label for l in tree1.leaf_nodes()]\n",
    "    score = 0\n",
    "    for subset in combinations(leaves, k):\n",
    "        # tree1에서 subset subtree topology 추출\n",
    "        sub1 = get_subtree_topology(tree1, subset)\n",
    "        sub2 = get_subtree_topology(tree2, subset)\n",
    "        if sub1 != sub2:\n",
    "            score += 1\n",
    "    return score\n",
    "\n",
    "## R `treespace`\n",
    "library(treespace)\n",
    "\n",
    "# 예시: trees list\n",
    "trees <- list(tree1, tree2)\n",
    "\n",
    "# k-tree score 계산 (k = 4)\n",
    "k_score_val <- k_score(trees, k = 4)\n",
    "print(k_score_val)"
   ]
  },
  {
   "cell_type": "markdown",
   "id": "41e5d143",
   "metadata": {},
   "source": [
    "### *Statistic 8: Branch-score Distance `branch_score_distance` (Need Branch Length!!)"
   ]
  },
  {
   "cell_type": "markdown",
   "id": "90513835",
   "metadata": {},
   "source": [
    "## 5. Analyze"
   ]
  },
  {
   "cell_type": "markdown",
   "id": "1bc2eec0",
   "metadata": {},
   "source": []
  }
 ],
 "metadata": {
  "kernelspec": {
   "display_name": "Python 3",
   "language": "python",
   "name": "python3"
  },
  "language_info": {
   "codemirror_mode": {
    "name": "ipython",
    "version": 3
   },
   "file_extension": ".py",
   "mimetype": "text/x-python",
   "name": "python",
   "nbconvert_exporter": "python",
   "pygments_lexer": "ipython3",
   "version": "3.9.6"
  }
 },
 "nbformat": 4,
 "nbformat_minor": 5
}
