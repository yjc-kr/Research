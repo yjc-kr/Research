{
 "cells": [
  {
   "cell_type": "markdown",
   "id": "5c054a1d",
   "metadata": {},
   "source": [
    "# Related Papers in Jiwon Oh\n",
    "\n",
    "논문에서 데이터 제시하고 있는지, 참고할 논문 있는지 적어두기"
   ]
  },
  {
   "cell_type": "markdown",
   "id": "5ec1360f",
   "metadata": {},
   "source": [
    "## Keywords\n",
    "- Zygotic composition\n",
    "- Embryonic lineage tracing\n",
    "- Cell lineage tracing\n",
    "- Embryogenesis\n",
    "- Asymmetry"
   ]
  },
  {
   "cell_type": "markdown",
   "id": "89a70bf1",
   "metadata": {},
   "source": [
    "## Papers (By Jiwon Oh)\n",
    "- (2025) The somatic mosaicism across human tissue network\n",
    "- (2024) Whole-genome sequences reveal zygotic composition in chimeric twins\n",
    "- (2024) Mitochondrial DNA mosaicism in normal human somatic cells\n",
    "- (2023) Grave-to-cradle: human embryonic lineage tracing from the postmortem body\n",
    "- (2022) Porcine single cell culture methodology for cell lineage tracing by somatic mutation to understand early pig embryogenesis\n",
    "- (2021) Bayesian log-normal deconvolution for enhanced in silico microdissection of bulk gene expression data\n",
    "- (2021) Clonal dynamics in early human embryogenesis inferred from somatic mutation\n",
    "- (2021) Cellular lineage tracing by somatic variations for understanding human early embryogenesis"
   ]
  },
  {
   "cell_type": "markdown",
   "id": "270c52f6",
   "metadata": {},
   "source": [
    "## Papers (By Year, Descending)\n",
    "- (2024) Proteome asymmetry in mouse and human embryos before fate specification\n",
    "- (2024) The first two blastomeres contribute unequally to the human embryo\n",
    "- (2023) Cross-species comparison of mouse and human preimplantation development with an emphasis on lineage specification\n",
    "- (2022) Asymmetric Contribution of Blastomere Lineages of First Division of the Zygote to Entire Human Body Using Post-Zygotic Variants\n",
    "- (2022) Lineage tracing in human tissues\n",
    "- (2022) Single-cell analysis of embryoids reveals lineage diversification roadmaps of early human development\n",
    "- (2021) Early developmental asymmetries in cell lineage trees in living individuals\n",
    "- (2021) Lineage tracing of human development through somatic mutations\n",
    "- (2020) Lineage tracing meets single-cell omics: opportunities and challenges\n",
    "- (2020) Cell Lineage Tracing and Cellular Diversity in Humans\n",
    "- (2020) Comparative analysis of cell lineage differentiation during hepatogenesis in humans and mice at the single-cell transcriptome level\n",
    "- (2019) Tracing the first hematopoietic stem cell generation in human embryo by single-cell RNA sequencing\n",
    "- (2019) DNA barcodes evolve for high-resolution cell lineage tracing\n",
    "- (2019) Molecular recording of mammalian embryogenesis\n",
    "- (2018) Genetic Control of Early Cell Lineages in the Mammalian Embryo\n",
    "- (2018) Tracing the origin of heterogeneity and symmetry breaking in the early mammalian embryo\n",
    "- (2016) Single-Cell Lineage Tracing Reveals that Oriented Cell Division Contributes to Trabecular Morphogenesis and Regional Specification\n",
    "- (2016) Chapter Ten - Concepts of Cell Lineage in Mammalian Embryos\n",
    "- (2016) Cell chirality: its origin and roles in left–right asymmetric development\n",
    "- (2013) Unravelling stem cell dynamics by lineage tracing\n",
    "- (2011) Lineage Tracing Evidence for Transdifferentiation of Acinar to Duct Cells and Plasticity of Human Pancreas\n",
    "- (2011) Genetic lineage tracing, a powerful tool to investigate the embryonic organogenesis and adult organ maintenance of the pancreas\n",
    "- (2009) Blastocyst lineage formation, early embryonic asymmetries and axis patterning in the mouse\n",
    "- (2009) Chiral blastomere arrangement dictates zygotic left–right asymmetry pathway in snails\n",
    "- (2006) Stem cells and lineage development in the mammalian blastocyst\n",
    "- (2005) Cleavage pattern and emerging asymmetry of the mouse embryo\n",
    "- (2005) Embryogenesis of chimeras, twins and anterior midline asymmetries\n",
    "- (2004) Lineage development and polar asymmetries in the peri-implantation mouse blastocyst\n",
    "- (2004) The Embryonic Origins of Left-Right Asymmetry\n",
    "- (2003) Lineage allocation and asymmetries in the early mouse embryo\n",
    "- (2003) Analysis of cell lineage in two- and four-cell mouse embryos\n",
    "- (1999) Axis Development and Early Asymmetry in Mammals"
   ]
  },
  {
   "cell_type": "markdown",
   "id": "051e0789",
   "metadata": {},
   "source": [
    "## Quartet based method (ASTRAL)\n",
    "- (2023) Quartets enable statistically consistent estimation of cell lineage trees under an unbiased error and missingness model"
   ]
  },
  {
   "cell_type": "markdown",
   "id": "b3db5aef",
   "metadata": {},
   "source": [
    "## C. elegans Full Tree\n",
    "- (1983) The Embryonic Cell Lineage of the Nematode Caenorhabditis elegans"
   ]
  },
  {
   "cell_type": "markdown",
   "id": "67c8f1b4",
   "metadata": {},
   "source": []
  },
  {
   "cell_type": "code",
   "execution_count": 8,
   "id": "9ec62711",
   "metadata": {},
   "outputs": [
    {
     "name": "stdout",
     "output_type": "stream",
     "text": [
      "총 시퀀스 수: 7\n",
      "I\n",
      "GCCTAAGCCTAAGCCTAAGCCTAAGCCTAAGCCTAAGCCTAAGCCTAAGC\n",
      "II\n",
      "CCTAAGCCTAAGCCTAAGCCTAAGCCTAAGCCTAAGCCTAAGCCTAAGCC\n",
      "III\n",
      "CCTAAGCCTAAGCCTAAGCCTAAGCCTAAGCCTAAGCCTAAGCCTAAGCC\n"
     ]
    }
   ],
   "source": [
    "from Bio import SeqIO\n",
    "import gzip\n",
    "\n",
    "file_path = \"Polytomy/Codes/Data/c_elegans.PRJNA13758.WS297.genomic.fa.gz\"\n",
    "\n",
    "with gzip.open(file_path, \"rt\") as handle:\n",
    "    records = list(SeqIO.parse(handle, \"fasta\"))\n",
    "\n",
    "print(f\"총 시퀀스 수: {len(records)}\")\n",
    "\n",
    "# 첫 3개 시퀀스 확인\n",
    "for rec in records[:3]:\n",
    "    print(rec.id)\n",
    "    print(rec.seq[:50])  # 처음 50bp만"
   ]
  },
  {
   "cell_type": "markdown",
   "id": "6e9474fc",
   "metadata": {},
   "source": [
    "# C. elegans Lineage data: A lineage-resolved molecular atlas of C. elegans embryogenesis at single-cell resolution\n",
    "\n",
    "https://www.ncbi.nlm.nih.gov/geo/query/acc.cgi?acc=GSE126954\n",
    "\n",
    "Supplementary file -> \"GSE126954_cell_annotation.csv.gz\""
   ]
  },
  {
   "cell_type": "code",
   "execution_count": null,
   "id": "e08671f6",
   "metadata": {},
   "outputs": [
    {
     "name": "stdout",
     "output_type": "stream",
     "text": [
      "dict_keys(['title', 'geo_accession', 'status', 'submission_date', 'last_update_date', 'type', 'channel_count', 'source_name_ch1', 'organism_ch1', 'taxid_ch1', 'characteristics_ch1', 'growth_protocol_ch1', 'molecule_ch1', 'extract_protocol_ch1', 'description', 'data_processing', 'platform_id', 'contact_name', 'contact_laboratory', 'contact_department', 'contact_institute', 'contact_address', 'contact_city', 'contact_state', 'contact_zip/postal_code', 'contact_country', 'instrument_model', 'library_selection', 'library_source', 'library_strategy', 'relation', 'supplementary_file_1', 'series_id', 'data_row_count'])\n"
     ]
    }
   ],
   "source": [
    "import pandas as pd\n",
    "import gzip\n",
    "\n",
    "file_path = \"GSE126954_cell_annotation.csv.gz\"\n",
    "\n",
    "# 1. pandas에서 gzip 바로 읽기\n",
    "cell_anno = pd.read_csv(file_path, compression='gzip')\n",
    "\n",
    "# 2. 첫 5행 확인\n",
    "print(cell_anno.head())"
   ]
  },
  {
   "cell_type": "code",
   "execution_count": 24,
   "id": "63289494",
   "metadata": {},
   "outputs": [
    {
     "name": "stdout",
     "output_type": "stream",
     "text": [
      "                 Unnamed: 0                      cell  n.umi   time.point  \\\n",
      "0  AAACCTGAGACAATAC-300.1.1  AAACCTGAGACAATAC-300.1.1   1630  300_minutes   \n",
      "1  AAACCTGAGGGCTCTC-300.1.1  AAACCTGAGGGCTCTC-300.1.1   2319  300_minutes   \n",
      "2  AAACCTGAGTGCGTGA-300.1.1  AAACCTGAGTGCGTGA-300.1.1   3719  300_minutes   \n",
      "3  AAACCTGAGTTGAGTA-300.1.1  AAACCTGAGTTGAGTA-300.1.1   4251  300_minutes   \n",
      "4  AAACCTGCAAGACGTG-300.1.1  AAACCTGCAAGACGTG-300.1.1   1003  300_minutes   \n",
      "\n",
      "                   batch  Size_Factor               cell.type    cell.subtype  \\\n",
      "0  Waterston_300_minutes     1.023195        Body_wall_muscle  BWM_head_row_1   \n",
      "1  Waterston_300_minutes     1.458210                     NaN             NaN   \n",
      "2  Waterston_300_minutes     2.338283                     NaN             NaN   \n",
      "3  Waterston_300_minutes     2.659051        Body_wall_muscle    BWM_anterior   \n",
      "4  Waterston_300_minutes     0.629610  Ciliated_amphid_neuron             AFD   \n",
      "\n",
      "   plot.cell.type  raw.embryo.time  embryo.time embryo.time.bin  \\\n",
      "0  BWM_head_row_1              360        380.0         330-390   \n",
      "1             NaN              260        220.0         210-270   \n",
      "2             NaN              270        230.0         210-270   \n",
      "3    BWM_anterior              260        280.0         270-330   \n",
      "4             AFD              350        350.0         330-390   \n",
      "\n",
      "  raw.embryo.time.bin                  lineage  \\\n",
      "0             330-390                 MSxpappp   \n",
      "1             210-270                 MSxapaap   \n",
      "2             270-330                      NaN   \n",
      "3             210-270                     Dxap   \n",
      "4             330-390  ABalpppapav/ABpraaaapav   \n",
      "\n",
      "   passed_initial_QC_or_later_whitelisted  \n",
      "0                                    True  \n",
      "1                                    True  \n",
      "2                                    True  \n",
      "3                                    True  \n",
      "4                                    True  \n"
     ]
    }
   ],
   "source": [
    "import pandas as pd\n",
    "import gzip\n",
    "\n",
    "file_path = \"Polytomy/Codes/Data/GSE126954_cell_annotation.csv.gz\"\n",
    "\n",
    "# 1. pandas에서 gzip 바로 읽기\n",
    "cell_anno = pd.read_csv(file_path, compression='gzip')\n",
    "\n",
    "# 2. 첫 5행 확인\n",
    "print(cell_anno.head())"
   ]
  },
  {
   "cell_type": "code",
   "execution_count": 29,
   "id": "c545ad3b",
   "metadata": {},
   "outputs": [],
   "source": [
    "import pandas as pd\n",
    "from ete3 import Tree\n",
    "\n",
    "# 0. 파일 경로\n",
    "file_path = \"Polytomy/Codes/Data/GSE126954_cell_annotation.csv.gz\"\n",
    "\n",
    "# 1. 데이터 읽기\n",
    "df = pd.read_csv(file_path, compression=\"gzip\")\n",
    "lineages = df['lineage'].dropna().unique()  # 결측 제외, 고유 lineage\n",
    "\n",
    "# 2. Newick 문자열로 변환\n",
    "# 여기서는 단순화: '/' 구분이 있으면 split, 없으면 그대로\n",
    "# 각 lineage를 루트에서 리프까지 path로 생각\n",
    "def lineage_to_newick(lineages):\n",
    "    root = Tree()\n",
    "    root.name = \"zygote\"\n",
    "    \n",
    "    for lin in lineages:\n",
    "        path = lin.split('/')  # 여러 경로가 있는 경우\n",
    "        for p in path:\n",
    "            node = root\n",
    "            for cell in p:\n",
    "                # 이미 존재하는 자식인지 확인\n",
    "                if cell not in [c.name for c in node.children]:\n",
    "                    child = node.add_child(name=cell)\n",
    "                    node = child\n",
    "                else:\n",
    "                    node = [c for c in node.children if c.name == cell][0]\n",
    "    return root\n",
    "\n",
    "tree = lineage_to_newick(lineages)\n",
    "\n",
    "# 3. 트리 확인\n",
    "# print(tree.get_ascii(show_internal=True))\n",
    "\n",
    "# 4. 트리 저장\n",
    "output_path = \"Polytomy/Codes/nwk/c_elegans_lineage_tree.nwk\"\n",
    "tree.write(format=1, outfile=output_path)"
   ]
  },
  {
   "cell_type": "code",
   "execution_count": 33,
   "id": "f8e3dbf1",
   "metadata": {},
   "outputs": [
    {
     "name": "stdout",
     "output_type": "stream",
     "text": [
      "   Height  Colless  Sackin  Polytomy_count  \\\n",
      "0      19       33    3044              21   \n",
      "\n",
      "                                    Polytomy_degrees  \n",
      "0  [7, 3, 3, 3, 3, 3, 3, 3, 3, 3, 3, 3, 3, 3, 3, ...  \n"
     ]
    }
   ],
   "source": [
    "import dendropy\n",
    "import pandas as pd\n",
    "\n",
    "# -----------------------------\n",
    "# Tree 불러오기 (중복 leaf 이름 허용)\n",
    "file_path = \"Polytomy/Codes/nwk/c_elegans_lineage_tree.nwk\"\n",
    "tree = dendropy.Tree.get(\n",
    "    path=file_path,\n",
    "    schema=\"newick\",\n",
    "    rooting=\"force-rooted\",\n",
    "    suppress_internal_node_taxa=True,\n",
    "    suppress_leaf_node_taxa=True\n",
    ")\n",
    "\n",
    "# -----------------------------\n",
    "# Tree Height (edge 기준)\n",
    "def height_in_edges(tree):\n",
    "    max_depth = 0\n",
    "    def dfs(node, depth):\n",
    "        nonlocal max_depth\n",
    "        if node.is_leaf():\n",
    "            max_depth = max(max_depth, depth)\n",
    "        for c in node.child_nodes():\n",
    "            dfs(c, depth + 1)\n",
    "    dfs(tree.seed_node, 0)\n",
    "    return max_depth\n",
    "\n",
    "# -----------------------------\n",
    "# Colless Index\n",
    "def colless_index(tree):\n",
    "    def count_leaves(node):\n",
    "        if node.is_leaf():\n",
    "            return 1\n",
    "        return sum(count_leaves(c) for c in node.child_nodes())\n",
    "\n",
    "    def colless_node(node):\n",
    "        if node.is_leaf() or len(node.child_nodes()) < 2:\n",
    "            return 0\n",
    "        children = node.child_nodes()\n",
    "        nl = count_leaves(children[0])\n",
    "        nr = count_leaves(children[1])\n",
    "        return abs(nl - nr) + colless_node(children[0]) + colless_node(children[1])\n",
    "\n",
    "    return colless_node(tree.seed_node)\n",
    "\n",
    "# -----------------------------\n",
    "# Sackin Index\n",
    "def sackin_index(tree):\n",
    "    def leaf_depth_sum(node, depth=0):\n",
    "        if node.is_leaf():\n",
    "            return depth\n",
    "        return sum(leaf_depth_sum(c, depth + 1) for c in node.child_nodes())\n",
    "    return leaf_depth_sum(tree.seed_node)\n",
    "\n",
    "# -----------------------------\n",
    "# Polytomy Info\n",
    "def polytomy_info(tree):\n",
    "    poly_count = 0\n",
    "    degrees = []\n",
    "    for node in tree.preorder_node_iter():\n",
    "        deg = len(node.child_nodes())\n",
    "        if deg > 2:\n",
    "            poly_count += 1\n",
    "            degrees.append(deg)\n",
    "    return poly_count, degrees\n",
    "\n",
    "# -----------------------------\n",
    "# 통계 계산\n",
    "height = height_in_edges(tree)\n",
    "colless = colless_index(tree)\n",
    "sackin = sackin_index(tree)\n",
    "poly_count, degrees = polytomy_info(tree)\n",
    "\n",
    "# -----------------------------\n",
    "# DataFrame 정리\n",
    "tree_stats = pd.DataFrame({\n",
    "    \"Height\": [height],\n",
    "    \"Colless\": [colless],\n",
    "    \"Sackin\": [sackin],\n",
    "    \"Polytomy_count\": [poly_count],\n",
    "    \"Polytomy_degrees\": [str(degrees)]\n",
    "})\n",
    "\n",
    "# -----------------------------\n",
    "# 결과 출력\n",
    "print(tree_stats)"
   ]
  },
  {
   "cell_type": "code",
   "execution_count": 35,
   "id": "2ccdfd4c",
   "metadata": {},
   "outputs": [
    {
     "name": "stdout",
     "output_type": "stream",
     "text": [
      "[7, 3, 3, 3, 3, 3, 3, 3, 3, 3, 3, 3, 3, 3, 3, 3, 3, 3, 3, 3, 3]\n"
     ]
    }
   ],
   "source": [
    "for poly_deg in tree_stats[\"Polytomy_degrees\"]:\n",
    "    print(poly_deg)"
   ]
  },
  {
   "cell_type": "code",
   "execution_count": null,
   "id": "89a545ff",
   "metadata": {},
   "outputs": [],
   "source": []
  }
 ],
 "metadata": {
  "kernelspec": {
   "display_name": "Python 3",
   "language": "python",
   "name": "python3"
  },
  "language_info": {
   "codemirror_mode": {
    "name": "ipython",
    "version": 3
   },
   "file_extension": ".py",
   "mimetype": "text/x-python",
   "name": "python",
   "nbconvert_exporter": "python",
   "pygments_lexer": "ipython3",
   "version": "3.9.6"
  }
 },
 "nbformat": 4,
 "nbformat_minor": 5
}
