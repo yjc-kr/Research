{
 "cells": [
  {
   "cell_type": "markdown",
   "id": "5c054a1d",
   "metadata": {},
   "source": [
    "# Related Papers in Jiwon Oh\n",
    "\n",
    "## Keywords\n",
    "- Zygotic composition\n",
    "- Embryonic lineage tracing\n",
    "- Cell lineage tracing\n",
    "- Embryogenesis\n",
    "- Asymmetry\n",
    "\n",
    "## Papers (By Jiwon Oh)\n",
    "- (2025) The somatic mosaicism across human tissue network\n",
    "- (2024) Whole-genome sequences reveal zygotic composition in chimeric twins\n",
    "- (2024) Mitochondrial DNA mosaicism in normal human somatic cells\n",
    "- (2023) Grave-to-cradle: human embryonic lineage tracing from the postmortem body\n",
    "- (2022) Porcine single cell culture methodology for cell lineage tracing by somatic mutation to understand early pig embryogenesis\n",
    "- (2021) Bayesian log-normal deconvolution for enhanced in silico microdissection of bulk gene expression data\n",
    "- (2021) Clonal dynamics in early human embryogenesis inferred from somatic mutation\n",
    "- (2021) Cellular lineage tracing by somatic variations for understanding human early embryogenesis\n",
    "\n",
    "## Papers (By Year, Descending)\n",
    "- (2024) Proteome asymmetry in mouse and human embryos before fate specification\n",
    "- (2024) The first two blastomeres contribute unequally to the human embryo\n",
    "- (2023) Cross-species comparison of mouse and human preimplantation development with an emphasis on lineage specification\n",
    "- (2022) Asymmetric Contribution of Blastomere Lineages of First Division of the Zygote to Entire Human Body Using Post-Zygotic Variants\n",
    "- (2022) Lineage tracing in human tissues\n",
    "- (2022) Single-cell analysis of embryoids reveals lineage diversification roadmaps of early human development\n",
    "- (2021) Early developmental asymmetries in cell lineage trees in living individuals\n",
    "- (2021) Lineage tracing of human development through somatic mutations\n",
    "- (2020) Lineage tracing meets single-cell omics: opportunities and challenges\n",
    "- (2020) Cell Lineage Tracing and Cellular Diversity in Humans\n",
    "- (2020) Comparative analysis of cell lineage differentiation during hepatogenesis in humans and mice at the single-cell transcriptome level\n",
    "- (2019) Tracing the first hematopoietic stem cell generation in human embryo by single-cell RNA sequencing\n",
    "- (2019) DNA barcodes evolve for high-resolution cell lineage tracing\n",
    "- (2019) Molecular recording of mammalian embryogenesis\n",
    "- (2018) Genetic Control of Early Cell Lineages in the Mammalian Embryo\n",
    "- (2018) Tracing the origin of heterogeneity and symmetry breaking in the early mammalian embryo\n",
    "- (2016) Single-Cell Lineage Tracing Reveals that Oriented Cell Division Contributes to Trabecular Morphogenesis and Regional Specification\n",
    "- (2016) Chapter Ten - Concepts of Cell Lineage in Mammalian Embryos\n",
    "- (2016) Cell chirality: its origin and roles in left–right asymmetric development\n",
    "- (2013) Unravelling stem cell dynamics by lineage tracing\n",
    "- (2011) Lineage Tracing Evidence for Transdifferentiation of Acinar to Duct Cells and Plasticity of Human Pancreas\n",
    "- (2011) Genetic lineage tracing, a powerful tool to investigate the embryonic organogenesis and adult organ maintenance of the pancreas\n",
    "- (2009) Blastocyst lineage formation, early embryonic asymmetries and axis patterning in the mouse\n",
    "- (2009) Chiral blastomere arrangement dictates zygotic left–right asymmetry pathway in snails\n",
    "- (2006) Stem cells and lineage development in the mammalian blastocyst\n",
    "- (2005) Cleavage pattern and emerging asymmetry of the mouse embryo\n",
    "- (2005) Embryogenesis of chimeras, twins and anterior midline asymmetries\n",
    "- (2004) Lineage development and polar asymmetries in the peri-implantation mouse blastocyst\n",
    "- (2004) The Embryonic Origins of Left-Right Asymmetry\n",
    "- (2003) Lineage allocation and asymmetries in the early mouse embryo\n",
    "- (2003) Analysis of cell lineage in two- and four-cell mouse embryos\n",
    "- (1999) Axis Development and Early Asymmetry in Mammals\n",
    "\n"
   ]
  },
  {
   "cell_type": "markdown",
   "id": "5ec1360f",
   "metadata": {},
   "source": []
  }
 ],
 "metadata": {
  "language_info": {
   "name": "python"
  }
 },
 "nbformat": 4,
 "nbformat_minor": 5
}
